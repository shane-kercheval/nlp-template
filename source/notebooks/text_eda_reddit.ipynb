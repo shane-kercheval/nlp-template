{
 "cells": [
  {
   "cell_type": "markdown",
   "id": "564aa887",
   "metadata": {
    "pycharm": {
     "name": "#%% md\n"
    }
   },
   "source": [
    "# Citation\n",
    "\n",
    "Much of the code and examples are copied/modified from \n",
    "\n",
    "> Blueprints for Text Analytics Using Python by Jens Albrecht, Sidharth Ramachandran, and Christian Winkler (O'Reilly, 2021), 978-1-492-07408-3.\n",
    ">\n",
    "\n",
    "- https://github.com/blueprints-for-text-analytics-python/blueprints-text\n",
    "- https://github.com/blueprints-for-text-analytics-python/blueprints-text/blob/master/ch01/First_Insights.ipynb"
   ]
  },
  {
   "cell_type": "markdown",
   "id": "2a967948",
   "metadata": {},
   "source": [
    "---"
   ]
  },
  {
   "cell_type": "markdown",
   "id": "35ae0c59",
   "metadata": {},
   "source": [
    "# Setup"
   ]
  },
  {
   "cell_type": "code",
   "execution_count": null,
   "id": "76f028ce",
   "metadata": {},
   "outputs": [],
   "source": [
    "cd ../.."
   ]
  },
  {
   "cell_type": "code",
   "execution_count": null,
   "id": "66085eae",
   "metadata": {},
   "outputs": [],
   "source": [
    "%run \"source/config/notebook_settings.py\""
   ]
  },
  {
   "cell_type": "code",
   "execution_count": null,
   "id": "f360077d",
   "metadata": {},
   "outputs": [],
   "source": [
    "pd.set_option('display.max_colwidth', None)"
   ]
  },
  {
   "cell_type": "code",
   "execution_count": null,
   "id": "3492686a",
   "metadata": {},
   "outputs": [],
   "source": [
    "from source.library.utilities import Timer, get_logger\n",
    "from source.library.text_analysis import count_tokens, tf_idf, get_context_from_keyword, count_keywords, count_keywords_by, impurity"
   ]
  },
  {
   "cell_type": "code",
   "execution_count": null,
   "id": "624dedbc",
   "metadata": {},
   "outputs": [],
   "source": [
    "with Timer(\"Loading Data\"):\n",
    "    path = 'artifacts/data/processed/reddit.pkl'\n",
    "    df = pd.read_pickle(path)"
   ]
  },
  {
   "cell_type": "markdown",
   "id": "71e4bfed",
   "metadata": {},
   "source": [
    "---"
   ]
  },
  {
   "cell_type": "markdown",
   "id": "f055efe1",
   "metadata": {},
   "source": [
    "# Exploratory Data Analysis\n",
    "\n",
    "This section provides a basic exploration of the text and dataset."
   ]
  },
  {
   "cell_type": "markdown",
   "id": "08db1a7f",
   "metadata": {},
   "source": [
    "## Dataset Summary"
   ]
  },
  {
   "cell_type": "code",
   "execution_count": null,
   "id": "b5f87d13",
   "metadata": {},
   "outputs": [],
   "source": [
    "df.head(1)"
   ]
  },
  {
   "cell_type": "markdown",
   "id": "b2326193",
   "metadata": {},
   "source": [
    "### Numeric Summary"
   ]
  },
  {
   "cell_type": "code",
   "execution_count": null,
   "id": "ebea0c53",
   "metadata": {
    "pycharm": {
     "name": "#%%\n"
    }
   },
   "outputs": [],
   "source": [
    "hlp.pandas.numeric_summary(df)"
   ]
  },
  {
   "cell_type": "markdown",
   "id": "ffb76281",
   "metadata": {},
   "source": [
    "### Non-Numeric"
   ]
  },
  {
   "cell_type": "code",
   "execution_count": null,
   "id": "81c892b0",
   "metadata": {
    "pycharm": {
     "name": "#%%\n"
    },
    "scrolled": false
   },
   "outputs": [],
   "source": [
    "hlp.pandas.non_numeric_summary(df)"
   ]
  },
  {
   "cell_type": "markdown",
   "id": "a6c9fe64",
   "metadata": {},
   "source": [
    "---"
   ]
  },
  {
   "cell_type": "markdown",
   "id": "28f4d730",
   "metadata": {},
   "source": [
    "### Examples"
   ]
  },
  {
   "cell_type": "code",
   "execution_count": null,
   "id": "5111e645",
   "metadata": {},
   "outputs": [],
   "source": [
    "df['post'].iloc[0][0:1000]"
   ]
  },
  {
   "cell_type": "code",
   "execution_count": null,
   "id": "2ddccfc2",
   "metadata": {},
   "outputs": [],
   "source": [
    "'|'.join(df['partial_lemmas'].iloc[0])[0:1000]"
   ]
  },
  {
   "cell_type": "code",
   "execution_count": null,
   "id": "f3781bb0",
   "metadata": {},
   "outputs": [],
   "source": [
    "'|'.join(df['bi_grams'].iloc[0])[0:1000]"
   ]
  },
  {
   "cell_type": "code",
   "execution_count": null,
   "id": "eeef9826",
   "metadata": {},
   "outputs": [],
   "source": [
    "'|'.join(df['noun_phrases'].iloc[0])[0:1000]"
   ]
  },
  {
   "cell_type": "markdown",
   "id": "3042cf6f",
   "metadata": {},
   "source": [
    "## Explore Non-Text Columns"
   ]
  },
  {
   "cell_type": "markdown",
   "id": "4771d0e7",
   "metadata": {},
   "source": [
    "#### Impurity"
   ]
  },
  {
   "cell_type": "code",
   "execution_count": null,
   "id": "7383ad3b",
   "metadata": {},
   "outputs": [],
   "source": [
    "ax = df['impurity'].plot(kind='box', vert=False, figsize=(10, 1))\n",
    "ax.set_title(\"Distribution of Post Impurity\")\n",
    "ax.set_xlabel(\"Impurity\")\n",
    "ax.set_yticklabels([])\n",
    "ax;"
   ]
  },
  {
   "cell_type": "code",
   "execution_count": null,
   "id": "df1a35b2",
   "metadata": {},
   "outputs": [],
   "source": [
    "df[['impurity', 'post', 'post_clean']].sort_values('impurity', ascending=False).head()"
   ]
  },
  {
   "cell_type": "code",
   "execution_count": null,
   "id": "8acb7661",
   "metadata": {},
   "outputs": [],
   "source": [
    "df['language'].value_counts(ascending=False)"
   ]
  },
  {
   "cell_type": "code",
   "execution_count": null,
   "id": "30ad0b49",
   "metadata": {},
   "outputs": [],
   "source": [
    "df['subreddit'].value_counts(ascending=False)"
   ]
  },
  {
   "cell_type": "markdown",
   "id": "bfea5123",
   "metadata": {},
   "source": [
    "Explore idiosyncrasies of various columns, e.g. same speaker represented multiple ways."
   ]
  },
  {
   "cell_type": "markdown",
   "id": "39806fcc",
   "metadata": {},
   "source": [
    "---"
   ]
  },
  {
   "cell_type": "markdown",
   "id": "59ddcf01",
   "metadata": {},
   "source": [
    "## Explore Text Column|"
   ]
  },
  {
   "cell_type": "markdown",
   "id": "ad589f46",
   "metadata": {},
   "source": [
    "### Top Words Used"
   ]
  },
  {
   "cell_type": "code",
   "execution_count": null,
   "id": "98cc2235",
   "metadata": {},
   "outputs": [],
   "source": [
    "remove_tokens = {'_number_', 'car'}\n",
    "count_tokens(df['partial_lemmas'], remove_tokens=remove_tokens).head(10)"
   ]
  },
  {
   "cell_type": "markdown",
   "id": "79304967",
   "metadata": {},
   "source": [
    "---"
   ]
  },
  {
   "cell_type": "markdown",
   "id": "470c14d1",
   "metadata": {},
   "source": [
    "### Distribution of Text Length"
   ]
  },
  {
   "cell_type": "code",
   "execution_count": null,
   "id": "0951cab8",
   "metadata": {},
   "outputs": [],
   "source": [
    "ax = df['post_length'].plot(kind='box', vert=False, figsize=(10, 1))\n",
    "ax.set_title(\"Distribution of Post Length\")\n",
    "ax.set_xlabel(\"# of Characters\")\n",
    "ax.set_yticklabels([])\n",
    "ax;"
   ]
  },
  {
   "cell_type": "code",
   "execution_count": null,
   "id": "fbdf39cd",
   "metadata": {},
   "outputs": [],
   "source": [
    "ax = df['post_length'].plot(kind='hist', bins=60, figsize=(10, 2));\n",
    "ax.set_title(\"Distribution of Post Length\")\n",
    "ax.set_xlabel(\"# of Characters\")\n",
    "ax;"
   ]
  },
  {
   "cell_type": "code",
   "execution_count": null,
   "id": "174ccd0c",
   "metadata": {},
   "outputs": [],
   "source": [
    "import seaborn as sns\n",
    "sns.displot(df['post_length'], bins=60, kde=True, height=3, aspect=3);"
   ]
  },
  {
   "cell_type": "code",
   "execution_count": null,
   "id": "01f92ecf",
   "metadata": {},
   "outputs": [],
   "source": [
    "where = df['subreddit'].isin([\n",
    "    'Lexus', \n",
    "    'mercedes_benz',\n",
    "    'Audi',\n",
    "    'Volvo',\n",
    "    'BMW',\n",
    "])\n",
    "g = sns.catplot(data=df[where], x=\"subreddit\", y=\"post_length\", kind='box')\n",
    "g.fig.set_size_inches(6, 3)\n",
    "g.fig.set_dpi(100)\n",
    "g = sns.catplot(data=df[where], x=\"subreddit\", y=\"post_length\", kind='violin')\n",
    "g.fig.set_size_inches(6, 3)\n",
    "g.fig.set_dpi(100)"
   ]
  },
  {
   "cell_type": "markdown",
   "id": "115e8fee",
   "metadata": {},
   "source": [
    "### Word Frequency"
   ]
  },
  {
   "cell_type": "code",
   "execution_count": null,
   "id": "9da159b0",
   "metadata": {},
   "outputs": [],
   "source": [
    "counts_df = count_tokens(df['partial_lemmas'], remove_tokens=remove_tokens)"
   ]
  },
  {
   "cell_type": "code",
   "execution_count": null,
   "id": "ff9c2fc8",
   "metadata": {},
   "outputs": [],
   "source": [
    "def plot_wordcloud(frequency_dict):\n",
    "    wc = wordcloud.WordCloud(background_color='white',\n",
    "        #colormap='RdYlGn',\n",
    "        colormap='tab20b',\n",
    "        width=round(hlp.plot.STANDARD_WIDTH*100),\n",
    "        height=round(hlp.plot.STANDARD_HEIGHT*100),\n",
    "        max_words = 200, max_font_size=150,\n",
    "        random_state=42\n",
    "    )\n",
    "    wc.generate_from_frequencies(frequency_dict)\n",
    "\n",
    "    fig, ax = plt.subplots(figsize=(hlp.plot.STANDARD_WIDTH, hlp.plot.STANDARD_HEIGHT))\n",
    "    ax.imshow(wc, interpolation='bilinear')\n",
    "    #plt.title(\"XXX\")\n",
    "    plt.axis('off')"
   ]
  },
  {
   "cell_type": "code",
   "execution_count": null,
   "id": "8f9d6d2f",
   "metadata": {},
   "outputs": [],
   "source": [
    "plot_wordcloud(counts_df.to_dict()['frequency']);"
   ]
  },
  {
   "cell_type": "markdown",
   "id": "d94f32c1",
   "metadata": {},
   "source": [
    "### TF-IDF"
   ]
  },
  {
   "cell_type": "code",
   "execution_count": null,
   "id": "cb36ef18",
   "metadata": {},
   "outputs": [],
   "source": [
    "tf_idf_lemmas = tf_idf(\n",
    "    df=df,\n",
    "    tokens_column='partial_lemmas',\n",
    "    segment_columns = None,\n",
    "    min_frequency_corpus=20,\n",
    "    min_frequency_document=20,\n",
    "    remove_tokens=remove_tokens,\n",
    ")\n",
    "tf_idf_lemmas.head()"
   ]
  },
  {
   "cell_type": "code",
   "execution_count": null,
   "id": "95e71aef",
   "metadata": {},
   "outputs": [],
   "source": [
    "remove_tokens_bi_grams = {'_number_ year', '_number_ _number_', 'hey guy'}\n",
    "tf_idf_bi_grams = tf_idf(\n",
    "    df=df,\n",
    "    tokens_column='bi_grams',\n",
    "    segment_columns = None,\n",
    "    min_frequency_corpus=20,\n",
    "    min_frequency_document=20,\n",
    "    remove_tokens=remove_tokens_bi_grams,\n",
    ")\n",
    "tf_idf_bi_grams.head()"
   ]
  },
  {
   "cell_type": "code",
   "execution_count": null,
   "id": "7a9ffd17",
   "metadata": {},
   "outputs": [],
   "source": [
    "tf_idf_nouns = tf_idf(\n",
    "    df=df,\n",
    "    tokens_column='nouns',\n",
    "    segment_columns = None,\n",
    "    min_frequency_corpus=20,\n",
    "    min_frequency_document=20,\n",
    "    remove_tokens=remove_tokens,\n",
    ")\n",
    "tf_idf_nouns.head()"
   ]
  },
  {
   "cell_type": "code",
   "execution_count": null,
   "id": "20834d7e",
   "metadata": {},
   "outputs": [],
   "source": [
    "tf_idf_noun_phrases = tf_idf(\n",
    "    df=df,\n",
    "    tokens_column='noun_phrases',\n",
    "    segment_columns = None,\n",
    "    min_frequency_corpus=20,\n",
    "    min_frequency_document=20,\n",
    "    remove_tokens=remove_tokens_bi_grams,\n",
    ")\n",
    "tf_idf_noun_phrases.head()"
   ]
  },
  {
   "cell_type": "markdown",
   "id": "2b4d9bdc",
   "metadata": {},
   "source": [
    "---"
   ]
  },
  {
   "cell_type": "code",
   "execution_count": null,
   "id": "828e7896",
   "metadata": {},
   "outputs": [],
   "source": [
    "ax = tf_idf_lemmas.head(30)[['tf-idf']].plot(kind='barh', width=0.99)\n",
    "ax.set_title(\"TF-IDF of Uni-Grams\")\n",
    "ax.set_xlabel(\"TF-IDF\")\n",
    "ax.invert_yaxis();"
   ]
  },
  {
   "cell_type": "code",
   "execution_count": null,
   "id": "4bd014d2",
   "metadata": {},
   "outputs": [],
   "source": [
    "ax = tf_idf_bi_grams.head(30)[['tf-idf']].plot(kind='barh', width=0.99)\n",
    "ax.set_title(\"TF-IDF of Bi-Grams\")\n",
    "ax.set_xlabel(\"TF-IDF\")\n",
    "ax.invert_yaxis();"
   ]
  },
  {
   "cell_type": "code",
   "execution_count": null,
   "id": "e59042a2",
   "metadata": {},
   "outputs": [],
   "source": [
    "ax = tf_idf_nouns.head(30)[['tf-idf']].plot(kind='barh', width=0.99)\n",
    "ax.set_title(\"TF-IDF of Bi-Grams\")\n",
    "ax.set_xlabel(\"TF-IDF\")\n",
    "ax.invert_yaxis();"
   ]
  },
  {
   "cell_type": "code",
   "execution_count": null,
   "id": "d4c468ba",
   "metadata": {},
   "outputs": [],
   "source": [
    "ax = tf_idf_noun_phrases.head(30)[['tf-idf']].plot(kind='barh', width=0.99)\n",
    "ax.set_title(\"TF-IDF of Bi-Grams\")\n",
    "ax.set_xlabel(\"TF-IDF\")\n",
    "ax.invert_yaxis();"
   ]
  },
  {
   "cell_type": "code",
   "execution_count": null,
   "id": "de9a5a92",
   "metadata": {},
   "outputs": [],
   "source": [
    "plot_wordcloud(tf_idf_lemmas.to_dict()['tf-idf']);"
   ]
  },
  {
   "cell_type": "code",
   "execution_count": null,
   "id": "beca2c86",
   "metadata": {},
   "outputs": [],
   "source": [
    "plot_wordcloud(tf_idf_bi_grams.to_dict()['tf-idf']);"
   ]
  },
  {
   "cell_type": "markdown",
   "id": "1b1f7aa0",
   "metadata": {},
   "source": [
    "#### By Subreddit"
   ]
  },
  {
   "cell_type": "code",
   "execution_count": null,
   "id": "346d5432",
   "metadata": {},
   "outputs": [],
   "source": [
    "remove_tokens_subreddit = set(df.subreddit.str.lower().unique())\n",
    "remove_tokens_subreddit"
   ]
  },
  {
   "cell_type": "code",
   "execution_count": null,
   "id": "7d6e0ed0",
   "metadata": {},
   "outputs": [],
   "source": [
    "tf_idf_lemmas_per_sub = tf_idf(\n",
    "    df=df,\n",
    "    tokens_column='partial_lemmas',\n",
    "    segment_columns = 'subreddit',\n",
    "    min_frequency_corpus=10,\n",
    "    min_frequency_document=10,\n",
    "    remove_tokens=remove_tokens | remove_tokens_subreddit \n",
    ")\n",
    "tf_idf_lemmas_per_sub.head(5)"
   ]
  },
  {
   "cell_type": "code",
   "execution_count": null,
   "id": "557ac16c",
   "metadata": {},
   "outputs": [],
   "source": [
    "tf_idf_bigrams_per_sub = tf_idf(\n",
    "    df=df,\n",
    "    tokens_column='bi_grams',\n",
    "    segment_columns = 'subreddit',\n",
    "    min_frequency_corpus=10,\n",
    "    min_frequency_document=10,\n",
    "    remove_tokens=remove_tokens_bi_grams\n",
    ")\n",
    "tf_idf_bigrams_per_sub.head(5)"
   ]
  },
  {
   "cell_type": "code",
   "execution_count": null,
   "id": "26da767d",
   "metadata": {},
   "outputs": [],
   "source": [
    "tf_idf_nouns_per_sub = tf_idf(\n",
    "    df=df,\n",
    "    tokens_column='nouns',\n",
    "    segment_columns = 'subreddit',\n",
    "    min_frequency_corpus=10,\n",
    "    min_frequency_document=10,\n",
    "    remove_tokens=remove_tokens | remove_tokens_subreddit\n",
    ")\n",
    "tf_idf_nouns_per_sub.head(5)"
   ]
  },
  {
   "cell_type": "code",
   "execution_count": null,
   "id": "c6b94f85",
   "metadata": {},
   "outputs": [],
   "source": [
    "tf_idf_nounphrases_per_sub = tf_idf(\n",
    "    df=df,\n",
    "    tokens_column='noun_phrases',\n",
    "    segment_columns = 'subreddit',\n",
    "    min_frequency_corpus=10,\n",
    "    min_frequency_document=10,\n",
    "    remove_tokens=remove_tokens_bi_grams\n",
    ")\n",
    "tf_idf_nounphrases_per_sub.head(5)"
   ]
  },
  {
   "cell_type": "markdown",
   "id": "114afa3c",
   "metadata": {},
   "source": [
    "---"
   ]
  },
  {
   "cell_type": "code",
   "execution_count": null,
   "id": "8e292a77",
   "metadata": {},
   "outputs": [],
   "source": [
    "tokens_to_show = tf_idf_lemmas_per_sub.query(\"subreddit in ['Lexus', 'Volvo']\").reset_index()\n",
    "tokens_to_show.head()"
   ]
  },
  {
   "cell_type": "code",
   "execution_count": null,
   "id": "b8753e81",
   "metadata": {},
   "outputs": [],
   "source": [
    "px.bar(\n",
    "    tokens_to_show.groupby(['subreddit']).head(20).sort_values('tf-idf', ascending=True),\n",
    "    x='tf-idf',\n",
    "    y='token',\n",
    "    color='subreddit',\n",
    "    barmode='group',\n",
    "    title=\"Top 20 Lemmas for Volvo & Lexus\"\n",
    ")"
   ]
  },
  {
   "cell_type": "code",
   "execution_count": null,
   "id": "5811eab0",
   "metadata": {},
   "outputs": [],
   "source": [
    "tokens_to_show = tf_idf_bigrams_per_sub.query(\"subreddit in ['Lexus', 'Volvo']\").reset_index()\n",
    "tokens_to_show.head()"
   ]
  },
  {
   "cell_type": "code",
   "execution_count": null,
   "id": "b8be0b36",
   "metadata": {},
   "outputs": [],
   "source": [
    "px.bar(\n",
    "    tokens_to_show.groupby(['subreddit']).head(20).sort_values('tf-idf', ascending=True),\n",
    "    x='tf-idf',\n",
    "    y='token',\n",
    "    color='subreddit',\n",
    "    barmode='group',\n",
    "    title=\"Top 20 Bi-Grams for Volvo & Lexus\"\n",
    ")"
   ]
  },
  {
   "cell_type": "markdown",
   "id": "9bfc4ad6",
   "metadata": {},
   "source": [
    "---"
   ]
  },
  {
   "cell_type": "code",
   "execution_count": null,
   "id": "e60876c8",
   "metadata": {},
   "outputs": [],
   "source": [
    "get_context_from_keyword(df.query(\"subreddit == 'Lexus'\")['post'], keyword='think')"
   ]
  },
  {
   "cell_type": "code",
   "execution_count": null,
   "id": "456ba44e",
   "metadata": {},
   "outputs": [],
   "source": [
    "get_context_from_keyword(df.query(\"subreddit == 'Volvo'\")['post'], keyword='think')"
   ]
  },
  {
   "cell_type": "markdown",
   "id": "abe1f314",
   "metadata": {},
   "source": [
    "##### Lexus"
   ]
  },
  {
   "cell_type": "code",
   "execution_count": null,
   "id": "dd5fcb40",
   "metadata": {},
   "outputs": [],
   "source": [
    "tokens_to_show = tf_idf_lemmas_per_sub.query(\"subreddit == 'Lexus'\").reset_index()\n",
    "#tokens_to_show = tokens_to_show[~tokens_to_show.token.isin(stop_words)]\n",
    "tokens_to_show = tokens_to_show[['token', 'tf-idf']].set_index('token')\n",
    "tokens_to_show = tokens_to_show.to_dict()['tf-idf']\n",
    "plot_wordcloud(tokens_to_show);"
   ]
  },
  {
   "cell_type": "markdown",
   "id": "a407ad5f",
   "metadata": {},
   "source": [
    "##### Volvo"
   ]
  },
  {
   "cell_type": "code",
   "execution_count": null,
   "id": "71d83cb7",
   "metadata": {},
   "outputs": [],
   "source": [
    "tokens_to_show = tf_idf_lemmas_per_sub.query(\"subreddit == 'Volvo'\").reset_index()\n",
    "#tokens_to_show = tokens_to_show[~tokens_to_show.token.isin(stop_words)]\n",
    "tokens_to_show = tokens_to_show[['token', 'tf-idf']].set_index('token')\n",
    "tokens_to_show = tokens_to_show.to_dict()['tf-idf']\n",
    "plot_wordcloud(tokens_to_show);"
   ]
  },
  {
   "cell_type": "markdown",
   "id": "d375ea2f",
   "metadata": {},
   "source": [
    "### Keywords in Context"
   ]
  },
  {
   "cell_type": "code",
   "execution_count": null,
   "id": "f7455ee7",
   "metadata": {},
   "outputs": [],
   "source": [
    "contexts = get_context_from_keyword(\n",
    "    documents=df['post'],\n",
    "    window_width=50,\n",
    "    keyword='replac',\n",
    "    num_samples = 20,\n",
    "    random_seed=42\n",
    ")\n",
    "for x in contexts:\n",
    "    print(x)"
   ]
  },
  {
   "cell_type": "markdown",
   "id": "ca164c4e",
   "metadata": {},
   "source": [
    "---"
   ]
  }
 ],
 "metadata": {
  "kernelspec": {
   "display_name": "Python 3 (ipykernel)",
   "language": "python",
   "name": "python3"
  },
  "language_info": {
   "codemirror_mode": {
    "name": "ipython",
    "version": 3
   },
   "file_extension": ".py",
   "mimetype": "text/x-python",
   "name": "python",
   "nbconvert_exporter": "python",
   "pygments_lexer": "ipython3",
   "version": "3.9.10"
  },
  "toc": {
   "base_numbering": 1,
   "nav_menu": {},
   "number_sections": false,
   "sideBar": true,
   "skip_h1_title": false,
   "title_cell": "Table of Contents",
   "title_sidebar": "Contents",
   "toc_cell": false,
   "toc_position": {
    "height": "calc(100% - 180px)",
    "left": "10px",
    "top": "150px",
    "width": "235px"
   },
   "toc_section_display": true,
   "toc_window_display": true
  }
 },
 "nbformat": 4,
 "nbformat_minor": 5
}
