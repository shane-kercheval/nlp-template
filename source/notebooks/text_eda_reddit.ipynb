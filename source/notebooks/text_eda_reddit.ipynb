{
 "cells": [
  {
   "cell_type": "markdown",
   "id": "564aa887",
   "metadata": {
    "pycharm": {
     "name": "#%% md\n"
    }
   },
   "source": [
    "# Citation\n",
    "\n",
    "Much of the code and examples are copied/modified from \n",
    "\n",
    "> Blueprints for Text Analytics Using Python by Jens Albrecht, Sidharth Ramachandran, and Christian Winkler (O'Reilly, 2021), 978-1-492-07408-3.\n",
    ">\n",
    "\n",
    "- https://github.com/blueprints-for-text-analytics-python/blueprints-text\n",
    "- https://github.com/blueprints-for-text-analytics-python/blueprints-text/blob/master/ch01/First_Insights.ipynb"
   ]
  },
  {
   "cell_type": "markdown",
   "id": "2a967948",
   "metadata": {},
   "source": [
    "---"
   ]
  },
  {
   "cell_type": "markdown",
   "id": "35ae0c59",
   "metadata": {},
   "source": [
    "# Setup"
   ]
  },
  {
   "cell_type": "code",
   "execution_count": 1,
   "id": "76f028ce",
   "metadata": {},
   "outputs": [
    {
     "name": "stdout",
     "output_type": "stream",
     "text": [
      "/Users/shanekercheval/repos/nlp-template\n"
     ]
    }
   ],
   "source": [
    "cd ../.."
   ]
  },
  {
   "cell_type": "code",
   "execution_count": 2,
   "id": "66085eae",
   "metadata": {},
   "outputs": [],
   "source": [
    "%run \"source/config/notebook_settings.py\""
   ]
  },
  {
   "cell_type": "code",
   "execution_count": 3,
   "id": "3492686a",
   "metadata": {},
   "outputs": [],
   "source": [
    "from source.library.utilities import Timer, get_logger\n",
    "from source.library.text_analysis import count_tokens, tf_idf, get_context_from_keyword, count_keywords, count_keywords_by, impurity"
   ]
  },
  {
   "cell_type": "code",
   "execution_count": 4,
   "id": "624dedbc",
   "metadata": {},
   "outputs": [
    {
     "name": "stdout",
     "output_type": "stream",
     "text": [
      "Started: Loading Data\n",
      "Finished (0.10 seconds)\n"
     ]
    }
   ],
   "source": [
    "with Timer(\"Loading Data\"):\n",
    "    path = 'artifacts/data/processed/reddit.pkl'\n",
    "    df = pd.read_pickle(path)"
   ]
  },
  {
   "cell_type": "markdown",
   "id": "71e4bfed",
   "metadata": {},
   "source": [
    "---"
   ]
  },
  {
   "cell_type": "markdown",
   "id": "f055efe1",
   "metadata": {},
   "source": [
    "# Exploratory Data Analysis\n",
    "\n",
    "This section provides a basic exploration of the text and dataset."
   ]
  },
  {
   "cell_type": "markdown",
   "id": "08db1a7f",
   "metadata": {},
   "source": [
    "## Dataset Summary"
   ]
  },
  {
   "cell_type": "code",
   "execution_count": 5,
   "id": "ebea0c53",
   "metadata": {
    "pycharm": {
     "name": "#%%\n"
    }
   },
   "outputs": [],
   "source": [
    "hlp.pandas.numeric_summary(df)"
   ]
  },
  {
   "cell_type": "code",
   "execution_count": 6,
   "id": "81c892b0",
   "metadata": {
    "pycharm": {
     "name": "#%%\n"
    },
    "scrolled": false
   },
   "outputs": [
    {
     "data": {
      "text/html": [
       "<style type=\"text/css\">\n",
       "#T_7d902_row0_col2, #T_7d902_row1_col2, #T_7d902_row2_col2, #T_7d902_row3_col2, #T_7d902_row4_col2, #T_7d902_row5_col2, #T_7d902_row6_col2, #T_7d902_row7_col2, #T_7d902_row8_col2, #T_7d902_row9_col2, #T_7d902_row10_col2, #T_7d902_row11_col2, #T_7d902_row12_col5 {\n",
       "  width: 10em;\n",
       "}\n",
       "#T_7d902_row0_col5, #T_7d902_row3_col5, #T_7d902_row4_col5, #T_7d902_row5_col5, #T_7d902_row6_col5, #T_7d902_row7_col5, #T_7d902_row8_col5 {\n",
       "  width: 10em;\n",
       "  background: linear-gradient(90deg, #B4B7B9 100.0%, transparent 100.0%);\n",
       "}\n",
       "#T_7d902_row1_col5 {\n",
       "  width: 10em;\n",
       "  background: linear-gradient(90deg, #B4B7B9 0.4%, transparent 0.4%);\n",
       "}\n",
       "#T_7d902_row2_col5 {\n",
       "  width: 10em;\n",
       "  background: linear-gradient(90deg, #B4B7B9 99.9%, transparent 99.9%);\n",
       "}\n",
       "#T_7d902_row9_col5 {\n",
       "  width: 10em;\n",
       "  background: linear-gradient(90deg, #B4B7B9 99.8%, transparent 99.8%);\n",
       "}\n",
       "#T_7d902_row10_col5 {\n",
       "  width: 10em;\n",
       "  background: linear-gradient(90deg, #B4B7B9 99.7%, transparent 99.7%);\n",
       "}\n",
       "#T_7d902_row11_col5 {\n",
       "  width: 10em;\n",
       "  background: linear-gradient(90deg, #B4B7B9 87.6%, transparent 87.6%);\n",
       "}\n",
       "#T_7d902_row12_col1 {\n",
       "  background-color: #EBB13E;\n",
       "}\n",
       "#T_7d902_row12_col2 {\n",
       "  width: 10em;\n",
       "  background: linear-gradient(90deg, #CF3721 0.1%, transparent 0.1%);\n",
       "}\n",
       "</style>\n",
       "<table id=\"T_7d902\">\n",
       "  <thead>\n",
       "    <tr>\n",
       "      <th class=\"blank level0\" >&nbsp;</th>\n",
       "      <th id=\"T_7d902_level0_col0\" class=\"col_heading level0 col0\" ># of Non-Nulls</th>\n",
       "      <th id=\"T_7d902_level0_col1\" class=\"col_heading level0 col1\" ># of Nulls</th>\n",
       "      <th id=\"T_7d902_level0_col2\" class=\"col_heading level0 col2\" >% Nulls</th>\n",
       "      <th id=\"T_7d902_level0_col3\" class=\"col_heading level0 col3\" >Most Freq. Value</th>\n",
       "      <th id=\"T_7d902_level0_col4\" class=\"col_heading level0 col4\" ># of Unique</th>\n",
       "      <th id=\"T_7d902_level0_col5\" class=\"col_heading level0 col5\" >% Unique</th>\n",
       "    </tr>\n",
       "  </thead>\n",
       "  <tbody>\n",
       "    <tr>\n",
       "      <th id=\"T_7d902_level0_row0\" class=\"row_heading level0 row0\" >id</th>\n",
       "      <td id=\"T_7d902_row0_col0\" class=\"data row0 col0\" >5,000</td>\n",
       "      <td id=\"T_7d902_row0_col1\" class=\"data row0 col1\" >0</td>\n",
       "      <td id=\"T_7d902_row0_col2\" class=\"data row0 col2\" >0.0%</td>\n",
       "      <td id=\"T_7d902_row0_col3\" class=\"data row0 col3\" >74qv99</td>\n",
       "      <td id=\"T_7d902_row0_col4\" class=\"data row0 col4\" >5,000</td>\n",
       "      <td id=\"T_7d902_row0_col5\" class=\"data row0 col5\" >100.0%</td>\n",
       "    </tr>\n",
       "    <tr>\n",
       "      <th id=\"T_7d902_level0_row1\" class=\"row_heading level0 row1\" >subreddit</th>\n",
       "      <td id=\"T_7d902_row1_col0\" class=\"data row1 col0\" >5,000</td>\n",
       "      <td id=\"T_7d902_row1_col1\" class=\"data row1 col1\" >0</td>\n",
       "      <td id=\"T_7d902_row1_col2\" class=\"data row1 col2\" >0.0%</td>\n",
       "      <td id=\"T_7d902_row1_col3\" class=\"data row1 col3\" >Lexus</td>\n",
       "      <td id=\"T_7d902_row1_col4\" class=\"data row1 col4\" >20</td>\n",
       "      <td id=\"T_7d902_row1_col5\" class=\"data row1 col5\" >0.4%</td>\n",
       "    </tr>\n",
       "    <tr>\n",
       "      <th id=\"T_7d902_level0_row2\" class=\"row_heading level0 row2\" >title</th>\n",
       "      <td id=\"T_7d902_row2_col0\" class=\"data row2 col0\" >5,000</td>\n",
       "      <td id=\"T_7d902_row2_col1\" class=\"data row2 col1\" >0</td>\n",
       "      <td id=\"T_7d902_row2_col2\" class=\"data row2 col2\" >0.0%</td>\n",
       "      <td id=\"T_7d902_row2_col3\" class=\"data row2 col3\" >Need some advice</td>\n",
       "      <td id=\"T_7d902_row2_col4\" class=\"data row2 col4\" >4,995</td>\n",
       "      <td id=\"T_7d902_row2_col5\" class=\"data row2 col5\" >99.9%</td>\n",
       "    </tr>\n",
       "    <tr>\n",
       "      <th id=\"T_7d902_level0_row3\" class=\"row_heading level0 row3\" >post</th>\n",
       "      <td id=\"T_7d902_row3_col0\" class=\"data row3 col0\" >5,000</td>\n",
       "      <td id=\"T_7d902_row3_col1\" class=\"data row3 col1\" >0</td>\n",
       "      <td id=\"T_7d902_row3_col2\" class=\"data row3 col2\" >0.0%</td>\n",
       "      <td id=\"T_7d902_row3_col3\" class=\"data row3 col3\" >Hello, &lt;lb&gt;&lt;lb&gt;I have my J32A3[...]</td>\n",
       "      <td id=\"T_7d902_row3_col4\" class=\"data row3 col4\" >5,000</td>\n",
       "      <td id=\"T_7d902_row3_col5\" class=\"data row3 col5\" >100.0%</td>\n",
       "    </tr>\n",
       "    <tr>\n",
       "      <th id=\"T_7d902_level0_row4\" class=\"row_heading level0 row4\" >post_clean</th>\n",
       "      <td id=\"T_7d902_row4_col0\" class=\"data row4 col0\" >5,000</td>\n",
       "      <td id=\"T_7d902_row4_col1\" class=\"data row4 col1\" >0</td>\n",
       "      <td id=\"T_7d902_row4_col2\" class=\"data row4 col2\" >0.0%</td>\n",
       "      <td id=\"T_7d902_row4_col3\" class=\"data row4 col3\" >Hello, I have my J32A3 egine o[...]</td>\n",
       "      <td id=\"T_7d902_row4_col4\" class=\"data row4 col4\" >5,000</td>\n",
       "      <td id=\"T_7d902_row4_col5\" class=\"data row4 col5\" >100.0%</td>\n",
       "    </tr>\n",
       "    <tr>\n",
       "      <th id=\"T_7d902_level0_row5\" class=\"row_heading level0 row5\" >lemmas</th>\n",
       "      <td id=\"T_7d902_row5_col0\" class=\"data row5 col0\" >5,000</td>\n",
       "      <td id=\"T_7d902_row5_col1\" class=\"data row5 col1\" >0</td>\n",
       "      <td id=\"T_7d902_row5_col2\" class=\"data row5 col2\" >0.0%</td>\n",
       "      <td id=\"T_7d902_row5_col3\" class=\"data row5 col3\" >[&#x27;hello&#x27;, &#x27;j32a3&#x27;, &#x27;egine&#x27;, &#x27;o[...]</td>\n",
       "      <td id=\"T_7d902_row5_col4\" class=\"data row5 col4\" >5,000</td>\n",
       "      <td id=\"T_7d902_row5_col5\" class=\"data row5 col5\" >100.0%</td>\n",
       "    </tr>\n",
       "    <tr>\n",
       "      <th id=\"T_7d902_level0_row6\" class=\"row_heading level0 row6\" >bi_grams</th>\n",
       "      <td id=\"T_7d902_row6_col0\" class=\"data row6 col0\" >5,000</td>\n",
       "      <td id=\"T_7d902_row6_col1\" class=\"data row6 col1\" >0</td>\n",
       "      <td id=\"T_7d902_row6_col2\" class=\"data row6 col2\" >0.0%</td>\n",
       "      <td id=\"T_7d902_row6_col3\" class=\"data row6 col3\" >[&#x27;j32a3 egine&#x27;, &#x27;egine open&#x27;, [...]</td>\n",
       "      <td id=\"T_7d902_row6_col4\" class=\"data row6 col4\" >5,000</td>\n",
       "      <td id=\"T_7d902_row6_col5\" class=\"data row6 col5\" >100.0%</td>\n",
       "    </tr>\n",
       "    <tr>\n",
       "      <th id=\"T_7d902_level0_row7\" class=\"row_heading level0 row7\" >adjs_verbs</th>\n",
       "      <td id=\"T_7d902_row7_col0\" class=\"data row7 col0\" >5,000</td>\n",
       "      <td id=\"T_7d902_row7_col1\" class=\"data row7 col1\" >0</td>\n",
       "      <td id=\"T_7d902_row7_col2\" class=\"data row7 col2\" >0.0%</td>\n",
       "      <td id=\"T_7d902_row7_col3\" class=\"data row7 col3\" >[&#x27;open&#x27;, &#x27;ready&#x27;, &#x27;new&#x27;, &#x27;like[...]</td>\n",
       "      <td id=\"T_7d902_row7_col4\" class=\"data row7 col4\" >5,000</td>\n",
       "      <td id=\"T_7d902_row7_col5\" class=\"data row7 col5\" >100.0%</td>\n",
       "    </tr>\n",
       "    <tr>\n",
       "      <th id=\"T_7d902_level0_row8\" class=\"row_heading level0 row8\" >nouns</th>\n",
       "      <td id=\"T_7d902_row8_col0\" class=\"data row8 col0\" >5,000</td>\n",
       "      <td id=\"T_7d902_row8_col1\" class=\"data row8 col1\" >0</td>\n",
       "      <td id=\"T_7d902_row8_col2\" class=\"data row8 col2\" >0.0%</td>\n",
       "      <td id=\"T_7d902_row8_col3\" class=\"data row8 col3\" >[&#x27;j32a3&#x27;, &#x27;egine&#x27;, &#x27;ring&#x27;, &#x27;j3[...]</td>\n",
       "      <td id=\"T_7d902_row8_col4\" class=\"data row8 col4\" >5,000</td>\n",
       "      <td id=\"T_7d902_row8_col5\" class=\"data row8 col5\" >100.0%</td>\n",
       "    </tr>\n",
       "    <tr>\n",
       "      <th id=\"T_7d902_level0_row9\" class=\"row_heading level0 row9\" >noun_phrases</th>\n",
       "      <td id=\"T_7d902_row9_col0\" class=\"data row9 col0\" >5,000</td>\n",
       "      <td id=\"T_7d902_row9_col1\" class=\"data row9 col1\" >0</td>\n",
       "      <td id=\"T_7d902_row9_col2\" class=\"data row9 col2\" >0.0%</td>\n",
       "      <td id=\"T_7d902_row9_col3\" class=\"data row9 col3\" >[]</td>\n",
       "      <td id=\"T_7d902_row9_col4\" class=\"data row9 col4\" >4,992</td>\n",
       "      <td id=\"T_7d902_row9_col5\" class=\"data row9 col5\" >99.8%</td>\n",
       "    </tr>\n",
       "    <tr>\n",
       "      <th id=\"T_7d902_level0_row10\" class=\"row_heading level0 row10\" >adj_noun_phrases</th>\n",
       "      <td id=\"T_7d902_row10_col0\" class=\"data row10 col0\" >5,000</td>\n",
       "      <td id=\"T_7d902_row10_col1\" class=\"data row10 col1\" >0</td>\n",
       "      <td id=\"T_7d902_row10_col2\" class=\"data row10 col2\" >0.0%</td>\n",
       "      <td id=\"T_7d902_row10_col3\" class=\"data row10 col3\" >[]</td>\n",
       "      <td id=\"T_7d902_row10_col4\" class=\"data row10 col4\" >4,985</td>\n",
       "      <td id=\"T_7d902_row10_col5\" class=\"data row10 col5\" >99.7%</td>\n",
       "    </tr>\n",
       "    <tr>\n",
       "      <th id=\"T_7d902_level0_row11\" class=\"row_heading level0 row11\" >entities</th>\n",
       "      <td id=\"T_7d902_row11_col0\" class=\"data row11 col0\" >5,000</td>\n",
       "      <td id=\"T_7d902_row11_col1\" class=\"data row11 col1\" >0</td>\n",
       "      <td id=\"T_7d902_row11_col2\" class=\"data row11 col2\" >0.0%</td>\n",
       "      <td id=\"T_7d902_row11_col3\" class=\"data row11 col3\" >[]</td>\n",
       "      <td id=\"T_7d902_row11_col4\" class=\"data row11 col4\" >4,382</td>\n",
       "      <td id=\"T_7d902_row11_col5\" class=\"data row11 col5\" >87.6%</td>\n",
       "    </tr>\n",
       "    <tr>\n",
       "      <th id=\"T_7d902_level0_row12\" class=\"row_heading level0 row12\" >language</th>\n",
       "      <td id=\"T_7d902_row12_col0\" class=\"data row12 col0\" >4,996</td>\n",
       "      <td id=\"T_7d902_row12_col1\" class=\"data row12 col1\" >4</td>\n",
       "      <td id=\"T_7d902_row12_col2\" class=\"data row12 col2\" >0.1%</td>\n",
       "      <td id=\"T_7d902_row12_col3\" class=\"data row12 col3\" >English</td>\n",
       "      <td id=\"T_7d902_row12_col4\" class=\"data row12 col4\" >1</td>\n",
       "      <td id=\"T_7d902_row12_col5\" class=\"data row12 col5\" >0.0%</td>\n",
       "    </tr>\n",
       "  </tbody>\n",
       "</table>\n"
      ],
      "text/plain": [
       "<pandas.io.formats.style.Styler at 0x169335bb0>"
      ]
     },
     "execution_count": 6,
     "metadata": {},
     "output_type": "execute_result"
    }
   ],
   "source": [
    "hlp.pandas.non_numeric_summary(df)"
   ]
  },
  {
   "cell_type": "code",
   "execution_count": 7,
   "id": "81042f16",
   "metadata": {},
   "outputs": [
    {
     "data": {
      "text/plain": [
       "Lexus                 266\n",
       "Hyundai               263\n",
       "Trucks                262\n",
       "Honda                 261\n",
       "MPSelectMiniOwners    260\n",
       "mercedes_benz         259\n",
       "mazda3                257\n",
       "Harley                255\n",
       "volt                  252\n",
       "Volkswagen            252\n",
       "Audi                  252\n",
       "teslamotors           250\n",
       "Volvo                 249\n",
       "Mustang               248\n",
       "BMW                   239\n",
       "saab                  239\n",
       "4Runner               238\n",
       "Porsche               236\n",
       "subaru                233\n",
       "Wrangler              229\n",
       "Name: subreddit, dtype: int64"
      ]
     },
     "execution_count": 7,
     "metadata": {},
     "output_type": "execute_result"
    }
   ],
   "source": [
    "df['subreddit'].value_counts(ascending=False)"
   ]
  },
  {
   "cell_type": "code",
   "execution_count": 8,
   "id": "b8b6c1a6",
   "metadata": {},
   "outputs": [
    {
     "data": {
      "text/html": [
       "<div>\n",
       "<style scoped>\n",
       "    .dataframe tbody tr th:only-of-type {\n",
       "        vertical-align: middle;\n",
       "    }\n",
       "\n",
       "    .dataframe tbody tr th {\n",
       "        vertical-align: top;\n",
       "    }\n",
       "\n",
       "    .dataframe thead th {\n",
       "        text-align: right;\n",
       "    }\n",
       "</style>\n",
       "<table border=\"1\" class=\"dataframe tex2jax_ignore\">\n",
       "  <thead>\n",
       "    <tr style=\"text-align: right;\">\n",
       "      <th></th>\n",
       "      <th>id</th>\n",
       "      <th>subreddit</th>\n",
       "      <th>title</th>\n",
       "      <th>post</th>\n",
       "      <th>post_clean</th>\n",
       "      <th>lemmas</th>\n",
       "      <th>bi_grams</th>\n",
       "      <th>adjs_verbs</th>\n",
       "      <th>nouns</th>\n",
       "      <th>noun_phrases</th>\n",
       "      <th>adj_noun_phrases</th>\n",
       "      <th>entities</th>\n",
       "      <th>language</th>\n",
       "    </tr>\n",
       "  </thead>\n",
       "  <tbody>\n",
       "    <tr>\n",
       "      <th>10650</th>\n",
       "      <td>74qv99</td>\n",
       "      <td>Honda</td>\n",
       "      <td>J32A3 Block with J35Z2 Crank and Rods?</td>\n",
       "      <td>Hello, &lt;lb&gt;&lt;lb&gt;I have my J32A3 egine open, ready to put new rings and all. I would like to know if I can swap the J35Z2 crank and rods from an Accord Sedan v6 3.5. I would like to keep my pistons,...</td>\n",
       "      <td>Hello, I have my J32A3 egine open, ready to put new rings and all. I would like to know if I can swap the J35Z2 crank and rods from an Accord Sedan v6 _NUMBER_ . I would like to keep my pistons, j...</td>\n",
       "      <td>[hello, j32a3, egine, open, ready, new, ring, like, know, swap, j35z2, crank, rod, accord, sedan, v6, _number_, like, piston, change, rod, crank, little, displacement, doable, option, need, know, ...</td>\n",
       "      <td>[j32a3 egine, egine open, new ring, j35z2 crank, accord sedan, sedan v6, v6 _number_, doable option, acura tl, tl 3, 3 g, g _number_, _number_ manual, manual transmission, classic j35a3]</td>\n",
       "      <td>[open, ready, new, like, know, swap, like, change, little, displacement, doable, need, know, like, know, possible, possible, let, classic]</td>\n",
       "      <td>[j32a3, egine, ring, j35z2, crank, rod, accord, sedan, v6, _number_, piston, rod, crank, option, acura, tl, g, _number_, manual, transmission, difference, j35z2, j35a3, thank, advance]</td>\n",
       "      <td>[egine open, new ring, doable option]</td>\n",
       "      <td>[egine open, new ring, doable option]</td>\n",
       "      <td>[accord (PRODUCT), first (ORDINAL), acura (NORP), 3 (CARDINAL), manual transmission (PERSON)]</td>\n",
       "      <td>English</td>\n",
       "    </tr>\n",
       "    <tr>\n",
       "      <th>2041</th>\n",
       "      <td>63r8iz</td>\n",
       "      <td>subaru</td>\n",
       "      <td>Loose wires under passenger seat? (2013 STi)</td>\n",
       "      <td>[img] http://i.imgur.com/BHHkD97.jpg [/img] &lt;lb&gt;&lt;lb&gt;Just picked up my car yesterday and while vacuuming it out after driving around alot, I saw these.&lt;lb&gt;&lt;lb&gt;Labelled 1 thru 4, what are they for? ...</td>\n",
       "      <td>img _URL_ /img Just picked up my car yesterday and while vacuuming it out after driving around alot, I saw these. Labelled _NUMBER_ thru _NUMBER_ , what are they for? Also found a cut wire after l...</td>\n",
       "      <td>[img, _url_, pick, car, yesterday, vacuum, drive, alot, see, label, _number_, _number_, find, cut, wire, lift, spare, tire, storage, area, vacuum, black, wire, thick, insulation, thank, ahead, tim...</td>\n",
       "      <td>[img _url_, _url_ /img, car yesterday, label _number_, cut wire, spare tire, tire storage, storage area, black wire, thick insulation]</td>\n",
       "      <td>[img, pick, vacuum, drive, see, label, find, cut, lift, spare, vacuum, black, thick, thank]</td>\n",
       "      <td>[_url_, car, yesterday, alot, _number_, _number_, wire, tire, storage, area, wire, insulation, time, zack]</td>\n",
       "      <td>[car yesterday, cut wire, spare tire, spare tire storage, tire storage, spare tire storage area, tire storage area, storage area, black wire, thick insulation]</td>\n",
       "      <td>[car yesterday, cut wire, spare tire, spare tire storage, tire storage, spare tire storage area, tire storage area, storage area, black wire, thick insulation]</td>\n",
       "      <td>[yesterday (DATE), zack (PERSON)]</td>\n",
       "      <td>English</td>\n",
       "    </tr>\n",
       "  </tbody>\n",
       "</table>\n",
       "</div>"
      ],
      "text/plain": [
       "           id subreddit                                         title  \\\n",
       "10650  74qv99     Honda        J32A3 Block with J35Z2 Crank and Rods?   \n",
       "2041   63r8iz    subaru  Loose wires under passenger seat? (2013 STi)   \n",
       "\n",
       "                                                                                                                                                                                                          post  \\\n",
       "10650  Hello, <lb><lb>I have my J32A3 egine open, ready to put new rings and all. I would like to know if I can swap the J35Z2 crank and rods from an Accord Sedan v6 3.5. I would like to keep my pistons,...   \n",
       "2041   [img] http://i.imgur.com/BHHkD97.jpg [/img] <lb><lb>Just picked up my car yesterday and while vacuuming it out after driving around alot, I saw these.<lb><lb>Labelled 1 thru 4, what are they for? ...   \n",
       "\n",
       "                                                                                                                                                                                                    post_clean  \\\n",
       "10650  Hello, I have my J32A3 egine open, ready to put new rings and all. I would like to know if I can swap the J35Z2 crank and rods from an Accord Sedan v6 _NUMBER_ . I would like to keep my pistons, j...   \n",
       "2041   img _URL_ /img Just picked up my car yesterday and while vacuuming it out after driving around alot, I saw these. Labelled _NUMBER_ thru _NUMBER_ , what are they for? Also found a cut wire after l...   \n",
       "\n",
       "                                                                                                                                                                                                        lemmas  \\\n",
       "10650  [hello, j32a3, egine, open, ready, new, ring, like, know, swap, j35z2, crank, rod, accord, sedan, v6, _number_, like, piston, change, rod, crank, little, displacement, doable, option, need, know, ...   \n",
       "2041   [img, _url_, pick, car, yesterday, vacuum, drive, alot, see, label, _number_, _number_, find, cut, wire, lift, spare, tire, storage, area, vacuum, black, wire, thick, insulation, thank, ahead, tim...   \n",
       "\n",
       "                                                                                                                                                                                         bi_grams  \\\n",
       "10650  [j32a3 egine, egine open, new ring, j35z2 crank, accord sedan, sedan v6, v6 _number_, doable option, acura tl, tl 3, 3 g, g _number_, _number_ manual, manual transmission, classic j35a3]   \n",
       "2041                                                       [img _url_, _url_ /img, car yesterday, label _number_, cut wire, spare tire, tire storage, storage area, black wire, thick insulation]   \n",
       "\n",
       "                                                                                                                                       adjs_verbs  \\\n",
       "10650  [open, ready, new, like, know, swap, like, change, little, displacement, doable, need, know, like, know, possible, possible, let, classic]   \n",
       "2041                                                  [img, pick, vacuum, drive, see, label, find, cut, lift, spare, vacuum, black, thick, thank]   \n",
       "\n",
       "                                                                                                                                                                                          nouns  \\\n",
       "10650  [j32a3, egine, ring, j35z2, crank, rod, accord, sedan, v6, _number_, piston, rod, crank, option, acura, tl, g, _number_, manual, transmission, difference, j35z2, j35a3, thank, advance]   \n",
       "2041                                                                                 [_url_, car, yesterday, alot, _number_, _number_, wire, tire, storage, area, wire, insulation, time, zack]   \n",
       "\n",
       "                                                                                                                                                          noun_phrases  \\\n",
       "10650                                                                                                                            [egine open, new ring, doable option]   \n",
       "2041   [car yesterday, cut wire, spare tire, spare tire storage, tire storage, spare tire storage area, tire storage area, storage area, black wire, thick insulation]   \n",
       "\n",
       "                                                                                                                                                      adj_noun_phrases  \\\n",
       "10650                                                                                                                            [egine open, new ring, doable option]   \n",
       "2041   [car yesterday, cut wire, spare tire, spare tire storage, tire storage, spare tire storage area, tire storage area, storage area, black wire, thick insulation]   \n",
       "\n",
       "                                                                                            entities  \\\n",
       "10650  [accord (PRODUCT), first (ORDINAL), acura (NORP), 3 (CARDINAL), manual transmission (PERSON)]   \n",
       "2041                                                               [yesterday (DATE), zack (PERSON)]   \n",
       "\n",
       "      language  \n",
       "10650  English  \n",
       "2041   English  "
      ]
     },
     "execution_count": 8,
     "metadata": {},
     "output_type": "execute_result"
    }
   ],
   "source": [
    "df.head(2)"
   ]
  },
  {
   "cell_type": "markdown",
   "id": "a6c9fe64",
   "metadata": {},
   "source": [
    "---"
   ]
  },
  {
   "cell_type": "markdown",
   "id": "33cbb56c",
   "metadata": {},
   "source": [
    "### Impurity"
   ]
  },
  {
   "cell_type": "code",
   "execution_count": 26,
   "id": "17d698f2",
   "metadata": {},
   "outputs": [
    {
     "data": {
      "text/plain": [
       "0.0023444160272804776"
      ]
     },
     "execution_count": 26,
     "metadata": {},
     "output_type": "execute_result"
    }
   ],
   "source": [
    "df['text'].apply(impurity).max()"
   ]
  },
  {
   "cell_type": "markdown",
   "id": "28f4d730",
   "metadata": {},
   "source": [
    "### Examples"
   ]
  },
  {
   "cell_type": "code",
   "execution_count": 8,
   "id": "5111e645",
   "metadata": {},
   "outputs": [
    {
     "data": {
      "text/plain": [
       "'33: May I first convey to our President the congratulations of the Albanian delegation on his election to the Presidency of the twenty-fifth session of the General Assembly?\\n34.\\tIn taking up the work on the agenda of the twenty- fifth session of the General Assembly, which is being held on the eve of the twenty-fifth anniversary of the coming into force of the Charter of the United Nations, the peace-loving Member States would have wished to be in a position to present on this occasion some picture of positive and satisfactory activity on the part of the United Nations. The Albanian delegation, for its part, would have taken great pleasure in drawing up such a balance sheet of activities covering a quarter of a century, which is certainly no short period in the life of an international organization. Unfortunately, this is not the situation. Created on the day after victory had been achieved over the Powers of the Rome BerlinTokyo Axis and conceived in the spirit of the principles which'"
      ]
     },
     "execution_count": 8,
     "metadata": {},
     "output_type": "execute_result"
    }
   ],
   "source": [
    "df['text'].iloc[0][0:1000]"
   ]
  },
  {
   "cell_type": "code",
   "execution_count": 9,
   "id": "2ddccfc2",
   "metadata": {},
   "outputs": [
    {
     "data": {
      "text/plain": [
       "'may|first|convey|president|congratulations|albanian|delegation|election|presidency|twenty-fifth|session|general|assembly|taking|work|agenda|twenty-|fifth|session|general|assembly|held|eve|twenty-fifth|anniversary|coming|force|charter|united|nations|peace-loving|member|states|would|wished|position|present|occasion|picture|positive|satisfactory|activity|part|united|nations|albanian|delegation|part|would|taken|great|pleasure|drawing|balance|sheet|activities|covering|quarter|century|certainly|short|period|life|international|organization|unfortunately|situation|created|day|victory|achieved|powers|rome|berlintokyo|axis|conceived|spirit|principles|predominated|war|antifascist|coalition|organization|awakened|whole|progressive|humanity|hope|would|serve|important|factor|creating|better|international|conditions|order|favor|cause|freedom|peace|world|security|activities|number|events|occurred|world|arena|period|disappointed|hopes|peoples|united|nations|far|contributed|required|fundamental|provision'"
      ]
     },
     "execution_count": 9,
     "metadata": {},
     "output_type": "execute_result"
    }
   ],
   "source": [
    "'|'.join(df['tokens'].iloc[0])[0:1000]"
   ]
  },
  {
   "cell_type": "code",
   "execution_count": 10,
   "id": "f3781bb0",
   "metadata": {},
   "outputs": [
    {
     "data": {
      "text/plain": [
       "'first convey|albanian delegation|twenty-fifth session|general assembly|twenty- fifth|fifth session|general assembly|twenty-fifth anniversary|united nations|peace-loving member|member states|states would|satisfactory activity|united nations|albanian delegation|part would|taken great|great pleasure|balance sheet|activities covering|short period|international organization|organization unfortunately|situation created|rome berlintokyo|berlintokyo axis|antifascist coalition|organization awakened|progressive humanity|would serve|important factor|creating better|better international|international conditions|freedom peace|world security|world arena|period disappointed|united nations|nations far|fundamental provisions|international peace|liberation struggle|imperialist powers|united states|america foremost|foremost among|path diametrically|diametrically opposed|instrument favoring|pillage oppression|peace-loving peoples|united nations|committing aggression|many parts|frequently helped|direction '"
      ]
     },
     "execution_count": 10,
     "metadata": {},
     "output_type": "execute_result"
    }
   ],
   "source": [
    "'|'.join(df['bi_grams'].iloc[0])[0:1000]"
   ]
  },
  {
   "cell_type": "markdown",
   "id": "3042cf6f",
   "metadata": {},
   "source": [
    "## Explore Non-Text Columns"
   ]
  },
  {
   "cell_type": "markdown",
   "id": "bfea5123",
   "metadata": {},
   "source": [
    "Explore idiosyncrasies of various columns, e.g. same speaker represented multiple ways."
   ]
  },
  {
   "cell_type": "code",
   "execution_count": 11,
   "id": "1a5cd8ba",
   "metadata": {},
   "outputs": [
    {
     "data": {
      "text/plain": [
       "George W. Bush        4\n",
       "Mr. George W. Bush    2\n",
       "Bush                  1\n",
       "George Bush           1\n",
       "Mr. George W Bush     1\n",
       "Name: speaker, dtype: int64"
      ]
     },
     "execution_count": 11,
     "metadata": {},
     "output_type": "execute_result"
    }
   ],
   "source": [
    "df[df['speaker'].str.contains('Bush')]['speaker'].value_counts()"
   ]
  },
  {
   "cell_type": "markdown",
   "id": "39806fcc",
   "metadata": {},
   "source": [
    "---"
   ]
  },
  {
   "cell_type": "markdown",
   "id": "59ddcf01",
   "metadata": {},
   "source": [
    "## Explore Text Column|"
   ]
  },
  {
   "cell_type": "markdown",
   "id": "ad589f46",
   "metadata": {},
   "source": [
    "### Top Words Used"
   ]
  },
  {
   "cell_type": "code",
   "execution_count": 12,
   "id": "98cc2235",
   "metadata": {},
   "outputs": [
    {
     "data": {
      "text/html": [
       "<div>\n",
       "<style scoped>\n",
       "    .dataframe tbody tr th:only-of-type {\n",
       "        vertical-align: middle;\n",
       "    }\n",
       "\n",
       "    .dataframe tbody tr th {\n",
       "        vertical-align: top;\n",
       "    }\n",
       "\n",
       "    .dataframe thead th {\n",
       "        text-align: right;\n",
       "    }\n",
       "</style>\n",
       "<table border=\"1\" class=\"dataframe tex2jax_ignore\">\n",
       "  <thead>\n",
       "    <tr style=\"text-align: right;\">\n",
       "      <th></th>\n",
       "      <th>frequency</th>\n",
       "    </tr>\n",
       "    <tr>\n",
       "      <th>token</th>\n",
       "      <th></th>\n",
       "    </tr>\n",
       "  </thead>\n",
       "  <tbody>\n",
       "    <tr>\n",
       "      <th>nations</th>\n",
       "      <td>124508</td>\n",
       "    </tr>\n",
       "    <tr>\n",
       "      <th>united</th>\n",
       "      <td>120763</td>\n",
       "    </tr>\n",
       "    <tr>\n",
       "      <th>international</th>\n",
       "      <td>117223</td>\n",
       "    </tr>\n",
       "    <tr>\n",
       "      <th>world</th>\n",
       "      <td>89421</td>\n",
       "    </tr>\n",
       "    <tr>\n",
       "      <th>countries</th>\n",
       "      <td>85734</td>\n",
       "    </tr>\n",
       "    <tr>\n",
       "      <th>peace</th>\n",
       "      <td>72625</td>\n",
       "    </tr>\n",
       "    <tr>\n",
       "      <th>development</th>\n",
       "      <td>62632</td>\n",
       "    </tr>\n",
       "    <tr>\n",
       "      <th>states</th>\n",
       "      <td>59713</td>\n",
       "    </tr>\n",
       "    <tr>\n",
       "      <th>people</th>\n",
       "      <td>59338</td>\n",
       "    </tr>\n",
       "    <tr>\n",
       "      <th>security</th>\n",
       "      <td>58425</td>\n",
       "    </tr>\n",
       "    <tr>\n",
       "      <th>economic</th>\n",
       "      <td>53833</td>\n",
       "    </tr>\n",
       "    <tr>\n",
       "      <th>must</th>\n",
       "      <td>51880</td>\n",
       "    </tr>\n",
       "    <tr>\n",
       "      <th>also</th>\n",
       "      <td>47403</td>\n",
       "    </tr>\n",
       "    <tr>\n",
       "      <th>new</th>\n",
       "      <td>44453</td>\n",
       "    </tr>\n",
       "    <tr>\n",
       "      <th>country</th>\n",
       "      <td>40878</td>\n",
       "    </tr>\n",
       "    <tr>\n",
       "      <th>assembly</th>\n",
       "      <td>40413</td>\n",
       "    </tr>\n",
       "    <tr>\n",
       "      <th>community</th>\n",
       "      <td>38294</td>\n",
       "    </tr>\n",
       "    <tr>\n",
       "      <th>government</th>\n",
       "      <td>37430</td>\n",
       "    </tr>\n",
       "    <tr>\n",
       "      <th>general</th>\n",
       "      <td>37138</td>\n",
       "    </tr>\n",
       "    <tr>\n",
       "      <th>organization</th>\n",
       "      <td>36434</td>\n",
       "    </tr>\n",
       "  </tbody>\n",
       "</table>\n",
       "</div>"
      ],
      "text/plain": [
       "               frequency\n",
       "token                   \n",
       "nations           124508\n",
       "united            120763\n",
       "international     117223\n",
       "world              89421\n",
       "countries          85734\n",
       "peace              72625\n",
       "development        62632\n",
       "states             59713\n",
       "people             59338\n",
       "security           58425\n",
       "economic           53833\n",
       "must               51880\n",
       "also               47403\n",
       "new                44453\n",
       "country            40878\n",
       "assembly           40413\n",
       "community          38294\n",
       "government         37430\n",
       "general            37138\n",
       "organization       36434"
      ]
     },
     "execution_count": 12,
     "metadata": {},
     "output_type": "execute_result"
    }
   ],
   "source": [
    "count_tokens(df['tokens']).head(20)"
   ]
  },
  {
   "cell_type": "markdown",
   "id": "79304967",
   "metadata": {},
   "source": [
    "---"
   ]
  },
  {
   "cell_type": "markdown",
   "id": "470c14d1",
   "metadata": {},
   "source": [
    "### Distribution of Text Length"
   ]
  },
  {
   "cell_type": "code",
   "execution_count": 13,
   "id": "0951cab8",
   "metadata": {},
   "outputs": [
    {
     "data": {
      "image/png": "[encoded data removed]",
      "text/plain": [
       "<Figure size 1000x100 with 1 Axes>"
      ]
     },
     "metadata": {},
     "output_type": "display_data"
    }
   ],
   "source": [
    "ax = df['text_length'].plot(kind='box', vert=False, figsize=(10, 1))\n",
    "ax.set_title(\"Distribution of Text Length\")\n",
    "ax.set_xlabel(\"# of Characters\")\n",
    "ax.set_yticklabels([])\n",
    "ax;"
   ]
  },
  {
   "cell_type": "code",
   "execution_count": 14,
   "id": "fbdf39cd",
   "metadata": {},
   "outputs": [
    {
     "data": {
      "image/png": "[encoded data removed]",
      "text/plain": [
       "<Figure size 1000x200 with 1 Axes>"
      ]
     },
     "metadata": {},
     "output_type": "display_data"
    }
   ],
   "source": [
    "ax = df['text_length'].plot(kind='hist', bins=60, figsize=(10, 2));\n",
    "ax.set_title(\"Distribution of Text Length\")\n",
    "ax.set_xlabel(\"# of Characters\")\n",
    "ax;"
   ]
  },
  {
   "cell_type": "code",
   "execution_count": 15,
   "id": "174ccd0c",
   "metadata": {},
   "outputs": [
    {
     "data": {
      "image/png": "[encoded data removed]",
      "text/plain": [
       "<Figure size 900x300 with 1 Axes>"
      ]
     },
     "metadata": {},
     "output_type": "display_data"
    }
   ],
   "source": [
    "import seaborn as sns\n",
    "sns.displot(df['text_length'], bins=60, kde=True, height=3, aspect=3);"
   ]
  },
  {
   "cell_type": "code",
   "execution_count": 16,
   "id": "01f92ecf",
   "metadata": {},
   "outputs": [
    {
     "data": {
      "image/png": "[encoded data removed]",
      "text/plain": [
       "<Figure size 600x300 with 1 Axes>"
      ]
     },
     "metadata": {},
     "output_type": "display_data"
    },
    {
     "data": {
      "image/png": "[encoded data removed]",
      "text/plain": [
       "<Figure size 600x300 with 1 Axes>"
      ]
     },
     "metadata": {},
     "output_type": "display_data"
    }
   ],
   "source": [
    "where = df['country'].isin(['USA', 'FRA', 'GBR', 'CHN', 'RUS'])\n",
    "g = sns.catplot(data=df[where], x=\"country\", y=\"text_length\", kind='box')\n",
    "g.fig.set_size_inches(6, 3)\n",
    "g.fig.set_dpi(100)\n",
    "g = sns.catplot(data=df[where], x=\"country\", y=\"text_length\", kind='violin')\n",
    "g.fig.set_size_inches(6, 3)\n",
    "g.fig.set_dpi(100)"
   ]
  },
  {
   "cell_type": "code",
   "execution_count": 17,
   "id": "a2060791",
   "metadata": {},
   "outputs": [
    {
     "data": {
      "image/png": "[encoded data removed]",
      "text/plain": [
       "<Figure size 800x494.427 with 1 Axes>"
      ]
     },
     "metadata": {},
     "output_type": "display_data"
    }
   ],
   "source": [
    "assert not df[['year', 'country']].duplicated().any()\n",
    "df.groupby('year').size().plot(title=\"Number of Countries\");"
   ]
  },
  {
   "cell_type": "code",
   "execution_count": 18,
   "id": "063a74b8",
   "metadata": {},
   "outputs": [
    {
     "data": {
      "image/png": "[encoded data removed]",
      "text/plain": [
       "<Figure size 800x494.427 with 1 Axes>"
      ]
     },
     "metadata": {},
     "output_type": "display_data"
    }
   ],
   "source": [
    "df.groupby('year').agg({'text_length': 'mean'}) \\\n",
    "  .plot(title=\"Avg. Speech Length\", ylim=(0,30000));"
   ]
  },
  {
   "cell_type": "markdown",
   "id": "115e8fee",
   "metadata": {},
   "source": [
    "### Word Frequency"
   ]
  },
  {
   "cell_type": "code",
   "execution_count": null,
   "id": "9da159b0",
   "metadata": {},
   "outputs": [],
   "source": [
    "counts_df = count_tokens(df['tokens'])"
   ]
  },
  {
   "cell_type": "code",
   "execution_count": null,
   "id": "15d4b96e",
   "metadata": {},
   "outputs": [],
   "source": [
    "counts_df.head()"
   ]
  },
  {
   "cell_type": "code",
   "execution_count": null,
   "id": "ff9c2fc8",
   "metadata": {},
   "outputs": [],
   "source": [
    "def plot_wordcloud(frequency_dict):\n",
    "    wc = wordcloud.WordCloud(background_color='white',\n",
    "        #colormap='RdYlGn',\n",
    "        colormap='tab20b',\n",
    "        width=round(hlp.plot.STANDARD_WIDTH*100),\n",
    "        height=round(hlp.plot.STANDARD_HEIGHT*100),\n",
    "        max_words = 200, max_font_size=150,\n",
    "        random_state=42\n",
    "    )\n",
    "    wc.generate_from_frequencies(frequency_dict)\n",
    "\n",
    "    fig, ax = plt.subplots(figsize=(hlp.plot.STANDARD_WIDTH, hlp.plot.STANDARD_HEIGHT))\n",
    "    ax.imshow(wc, interpolation='bilinear')\n",
    "    #plt.title(\"XXX\")\n",
    "    plt.axis('off')"
   ]
  },
  {
   "cell_type": "code",
   "execution_count": null,
   "id": "8f9d6d2f",
   "metadata": {},
   "outputs": [],
   "source": [
    "plot_wordcloud(counts_df.to_dict()['frequency']);"
   ]
  },
  {
   "cell_type": "markdown",
   "id": "d94f32c1",
   "metadata": {},
   "source": [
    "### TF-IDF"
   ]
  },
  {
   "cell_type": "code",
   "execution_count": null,
   "id": "cb36ef18",
   "metadata": {},
   "outputs": [],
   "source": [
    "tf_idf_df = tf_idf(\n",
    "    df=df,\n",
    "    tokens_column='tokens',\n",
    "    segment_columns = None,\n",
    "    min_frequency_corpus=20,\n",
    "    min_frequency_document=20,\n",
    ")"
   ]
  },
  {
   "cell_type": "code",
   "execution_count": null,
   "id": "9f6a1169",
   "metadata": {},
   "outputs": [],
   "source": [
    "ax = tf_idf_df.sort_values(by='frequency', ascending=False).head(30)[['frequency']].plot(kind='barh', width=0.99)\n",
    "ax.set_title(\"Frequency of Uni-Grams\")\n",
    "ax.set_xlabel(\"Frequency\")\n",
    "ax.invert_yaxis();"
   ]
  },
  {
   "cell_type": "code",
   "execution_count": null,
   "id": "828e7896",
   "metadata": {},
   "outputs": [],
   "source": [
    "ax = tf_idf_df.head(30)[['tf-idf']].plot(kind='barh', width=0.99)\n",
    "ax.set_title(\"TF-IDF of Uni-Grams\")\n",
    "ax.set_xlabel(\"TF-IDF\")\n",
    "ax.invert_yaxis();"
   ]
  },
  {
   "cell_type": "code",
   "execution_count": null,
   "id": "de9a5a92",
   "metadata": {},
   "outputs": [],
   "source": [
    "plot_wordcloud(tf_idf_df.to_dict()['tf-idf']);"
   ]
  },
  {
   "cell_type": "markdown",
   "id": "1b1f7aa0",
   "metadata": {},
   "source": [
    "#### Per Year - 1970"
   ]
  },
  {
   "cell_type": "code",
   "execution_count": null,
   "id": "7d6e0ed0",
   "metadata": {},
   "outputs": [],
   "source": [
    "tf_idf_per_year = tf_idf(\n",
    "    df=df,\n",
    "    tokens_column='tokens',\n",
    "    segment_columns = 'year',\n",
    "    min_frequency_corpus=10,\n",
    "    min_frequency_document=10,\n",
    ")"
   ]
  },
  {
   "cell_type": "code",
   "execution_count": null,
   "id": "71939566",
   "metadata": {},
   "outputs": [],
   "source": [
    "stop_words = ['twenty-fifth', 'twenty-five', 'twenty', 'fifth']\n",
    "tokens_to_show = tf_idf_per_year.query('year == 1970').reset_index()\n",
    "tokens_to_show = tokens_to_show[~tokens_to_show.token.isin(stop_words)]"
   ]
  },
  {
   "cell_type": "code",
   "execution_count": null,
   "id": "4861110b",
   "metadata": {},
   "outputs": [],
   "source": [
    "ax = tokens_to_show.head(30).set_index('token')[['tf-idf']].plot(kind='barh', width=0.99)\n",
    "ax.set_title(\"TF-IDF of Uni-Grams - 1970\")\n",
    "ax.set_xlabel(\"TF-IDF\")\n",
    "ax.invert_yaxis();"
   ]
  },
  {
   "cell_type": "code",
   "execution_count": null,
   "id": "4b9b4f3d",
   "metadata": {},
   "outputs": [],
   "source": [
    "tokens_to_show = tokens_to_show[['token', 'tf-idf']].set_index('token')\n",
    "tokens_to_show = tokens_to_show.to_dict()['tf-idf']"
   ]
  },
  {
   "cell_type": "code",
   "execution_count": null,
   "id": "171517f6",
   "metadata": {},
   "outputs": [],
   "source": [
    "plot_wordcloud(tokens_to_show);"
   ]
  },
  {
   "cell_type": "markdown",
   "id": "b228631b",
   "metadata": {},
   "source": [
    "#### Per Year - 2015"
   ]
  },
  {
   "cell_type": "code",
   "execution_count": null,
   "id": "42eb6a37",
   "metadata": {},
   "outputs": [],
   "source": [
    "stop_words = ['seventieth']\n",
    "tokens_to_show = tf_idf_per_year.query('year == 2015').reset_index()\n",
    "tokens_to_show = tokens_to_show[~tokens_to_show.token.isin(stop_words)]"
   ]
  },
  {
   "cell_type": "code",
   "execution_count": null,
   "id": "53929f22",
   "metadata": {},
   "outputs": [],
   "source": [
    "ax = tokens_to_show.head(30).set_index('token')[['tf-idf']].plot(kind='barh', width=0.99)\n",
    "ax.set_title(\"TF-IDF of Uni-Grams - 2015\")\n",
    "ax.set_xlabel(\"TF-IDF\")\n",
    "ax.invert_yaxis();"
   ]
  },
  {
   "cell_type": "code",
   "execution_count": null,
   "id": "9443f923",
   "metadata": {},
   "outputs": [],
   "source": [
    "tokens_to_show = tokens_to_show[['token', 'tf-idf']].set_index('token')\n",
    "tokens_to_show = tokens_to_show.to_dict()['tf-idf']"
   ]
  },
  {
   "cell_type": "code",
   "execution_count": null,
   "id": "a767c4f3",
   "metadata": {},
   "outputs": [],
   "source": [
    "plot_wordcloud(tokens_to_show);"
   ]
  },
  {
   "cell_type": "markdown",
   "id": "d375ea2f",
   "metadata": {},
   "source": [
    "### Keywords in Context"
   ]
  },
  {
   "cell_type": "code",
   "execution_count": null,
   "id": "f7455ee7",
   "metadata": {},
   "outputs": [],
   "source": [
    "contexts = get_context_from_keyword(\n",
    "    documents=df[df['year'] == 2015]['text'],\n",
    "    window_width=50,\n",
    "    keyword='sdgs', random_seed=42\n",
    ")\n",
    "for x in contexts:\n",
    "    print(x)"
   ]
  },
  {
   "cell_type": "code",
   "execution_count": null,
   "id": "5f08a73c",
   "metadata": {},
   "outputs": [],
   "source": [
    "contexts = get_context_from_keyword(\n",
    "    documents=df[df['year'] == 2015]['text'],\n",
    "    window_width=50,\n",
    "    keyword='sids', random_seed=42\n",
    ")\n",
    "for x in contexts:\n",
    "    print(x)"
   ]
  },
  {
   "cell_type": "code",
   "execution_count": null,
   "id": "25b72862",
   "metadata": {},
   "outputs": [],
   "source": [
    "contexts = get_context_from_keyword(\n",
    "    documents=df[df['year'] == 2015]['text'],\n",
    "    window_width=50,\n",
    "    keyword='pv', random_seed=42\n",
    ")\n",
    "for x in contexts:\n",
    "    print(x)"
   ]
  },
  {
   "cell_type": "markdown",
   "id": "ca164c4e",
   "metadata": {},
   "source": [
    "---"
   ]
  },
  {
   "cell_type": "markdown",
   "id": "324e4ede",
   "metadata": {},
   "source": [
    "## Bi-Grams"
   ]
  },
  {
   "cell_type": "code",
   "execution_count": null,
   "id": "57f906af",
   "metadata": {},
   "outputs": [],
   "source": [
    "tf_idf_df = tf_idf(\n",
    "    df=df,\n",
    "    tokens_column='bi_grams',\n",
    "    segment_columns = None,\n",
    "    min_frequency_corpus=20,\n",
    "    min_frequency_document=20,\n",
    ")"
   ]
  },
  {
   "cell_type": "code",
   "execution_count": null,
   "id": "48101516",
   "metadata": {},
   "outputs": [],
   "source": [
    "ax = tf_idf_df.sort_values(by='frequency', ascending=False).head(30)[['frequency']].plot(kind='barh', width=0.99)\n",
    "ax.set_title(\"Frequency of Bi-Grams\")\n",
    "ax.set_xlabel(\"Frequency\")\n",
    "ax.invert_yaxis();"
   ]
  },
  {
   "cell_type": "code",
   "execution_count": null,
   "id": "ad7669c6",
   "metadata": {},
   "outputs": [],
   "source": [
    "ax = tf_idf_df.head(30)[['tf-idf']].plot(kind='barh', width=0.99)\n",
    "ax.set_title(\"TF-IDF of Bi-Grams\")\n",
    "ax.set_xlabel(\"TF-IDF\")\n",
    "ax.invert_yaxis();"
   ]
  },
  {
   "cell_type": "markdown",
   "id": "ef389b2a",
   "metadata": {},
   "source": [
    "#### By Year"
   ]
  },
  {
   "cell_type": "code",
   "execution_count": null,
   "id": "8622e207",
   "metadata": {},
   "outputs": [],
   "source": [
    "tf_idf_per_year = tf_idf(\n",
    "    df=df,\n",
    "    tokens_column='bi_grams',\n",
    "    segment_columns = 'year',\n",
    "    min_frequency_corpus=3,\n",
    "    min_frequency_document=3,\n",
    ")"
   ]
  },
  {
   "cell_type": "code",
   "execution_count": null,
   "id": "8b4f3a62",
   "metadata": {},
   "outputs": [],
   "source": [
    "stop_words = ['twenty-fifth anniversary', 'twenty-five years', 'twenty years', 'twenty fifth']\n",
    "tokens_to_show = tf_idf_per_year.query('year == 1970').reset_index()\n",
    "tokens_to_show = tokens_to_show[~tokens_to_show.token.isin(stop_words)]\n",
    "tokens_to_show = tokens_to_show[['token', 'tf-idf']].set_index('token')\n",
    "tokens_to_show = tokens_to_show.to_dict()['tf-idf']\n",
    "plot_wordcloud(tokens_to_show);"
   ]
  },
  {
   "cell_type": "code",
   "execution_count": null,
   "id": "0f903870",
   "metadata": {},
   "outputs": [],
   "source": [
    "stop_words = ['seventieth anniversary']\n",
    "tokens_to_show = tf_idf_per_year.query('year == 2015').reset_index()\n",
    "tokens_to_show = tokens_to_show[~tokens_to_show.token.isin(stop_words)]\n",
    "tokens_to_show = tokens_to_show[['token', 'tf-idf']].set_index('token')\n",
    "tokens_to_show = tokens_to_show.to_dict()['tf-idf']\n",
    "plot_wordcloud(tokens_to_show);"
   ]
  },
  {
   "cell_type": "code",
   "execution_count": null,
   "id": "77f45ed1",
   "metadata": {},
   "outputs": [],
   "source": [
    "stop_words = ['seventieth anniversary']\n",
    "#tokens_to_show = tf_idf_per_year.query('year == 2015').reset_index()\n",
    "tokens_to_show = tf_idf_per_year.reset_index()\n",
    "tokens_to_show = tokens_to_show[~tokens_to_show.token.isin(stop_words)]\n",
    "\n",
    "# filter for \"climate\"\n",
    "tokens_to_show = tokens_to_show[tokens_to_show['token'].str.contains('climate')]\n",
    "tokens_to_show"
   ]
  },
  {
   "cell_type": "code",
   "execution_count": null,
   "id": "a62befba",
   "metadata": {},
   "outputs": [],
   "source": [
    "tokens_to_show = tokens_to_show[['token', 'tf-idf']].set_index('token')\n",
    "tokens_to_show = tokens_to_show.to_dict()['tf-idf']\n",
    "plot_wordcloud(tokens_to_show);"
   ]
  },
  {
   "cell_type": "markdown",
   "id": "bf74886f",
   "metadata": {},
   "source": [
    "---"
   ]
  },
  {
   "cell_type": "markdown",
   "id": "1a0ae5d6",
   "metadata": {},
   "source": [
    "# Count Keywords Over Time"
   ]
  },
  {
   "cell_type": "code",
   "execution_count": null,
   "id": "8fabec15",
   "metadata": {},
   "outputs": [],
   "source": [
    "keyword_count_over_time = count_keywords_by(\n",
    "    df=df,\n",
    "    by='year',\n",
    "    tokens='tokens',\n",
    "    keywords = ['nuclear', 'terrorism', 'climate', 'freedom'],\n",
    ")\n",
    "keyword_count_over_time.head()"
   ]
  },
  {
   "cell_type": "code",
   "execution_count": null,
   "id": "e8bf1f7e",
   "metadata": {},
   "outputs": [],
   "source": [
    "ax = keyword_count_over_time.plot(kind='line')\n",
    "ax.set_title(\"Keyword count over time\")\n",
    "ax.set_ylabel(\"# of Occurrences\")"
   ]
  },
  {
   "cell_type": "code",
   "execution_count": null,
   "id": "cd42a6c6",
   "metadata": {},
   "outputs": [],
   "source": [
    "keyword_count_over_time = count_keywords_by(\n",
    "    df=df,\n",
    "    by='year',\n",
    "    tokens='bi_grams',\n",
    "    keywords = ['climate change', 'human rights', 'middle east'],\n",
    ")\n",
    "keyword_count_over_time.head()"
   ]
  },
  {
   "cell_type": "code",
   "execution_count": null,
   "id": "a6a1813c",
   "metadata": {},
   "outputs": [],
   "source": [
    "ax = keyword_count_over_time.plot(kind='line')\n",
    "ax.set_title(\"Keyword count over time\")\n",
    "ax.set_ylabel(\"# of Occurrences\")"
   ]
  },
  {
   "cell_type": "code",
   "execution_count": null,
   "id": "51ccb1ac",
   "metadata": {},
   "outputs": [],
   "source": [
    "contexts = get_context_from_keyword(\n",
    "    documents=df[df['year'] <= 1980]['text'],\n",
    "    window_width=50,\n",
    "    keyword='human rights', random_seed=42\n",
    ")\n",
    "for x in contexts:\n",
    "    print(x)"
   ]
  },
  {
   "cell_type": "markdown",
   "id": "6351d6f6",
   "metadata": {},
   "source": [
    "---"
   ]
  },
  {
   "cell_type": "code",
   "execution_count": null,
   "id": "a5e3e0b1",
   "metadata": {},
   "outputs": [],
   "source": [
    "keywords = ['terrorism', 'terrorist', 'nuclear', 'war', 'oil',\n",
    "            'syria', 'syrian', 'refugees', 'migration', 'peacekeeping', \n",
    "            'humanitarian', 'climate', 'change', 'sustainable', 'sdgs']  \n",
    "\n",
    "freq_df = count_keywords_by(df, by='year', tokens='tokens', keywords=keywords)\n",
    "freq_df.head()"
   ]
  },
  {
   "cell_type": "code",
   "execution_count": null,
   "id": "991b320b",
   "metadata": {},
   "outputs": [],
   "source": [
    "df.groupby('year')['num_tokens'].sum().head()"
   ]
  },
  {
   "cell_type": "code",
   "execution_count": null,
   "id": "65ac1952",
   "metadata": {},
   "outputs": [],
   "source": [
    "# compute relative frequencies based on total number of tokens per year\n",
    "freq_df = freq_df.div(df.groupby('year')['num_tokens'].sum(), axis=0)\n",
    "# apply square root as sublinear filter for better contrast\n",
    "freq_df = freq_df.apply(np.sqrt)\n",
    "freq_df.head()"
   ]
  },
  {
   "cell_type": "code",
   "execution_count": null,
   "id": "578acab2",
   "metadata": {},
   "outputs": [],
   "source": [
    "plt.figure(figsize=(10, 3))\n",
    "sns.set(font_scale=1)\n",
    "sns.heatmap(data=freq_df.T, \n",
    "            xticklabels=True, yticklabels=True, cbar=False, cmap=\"Reds\")\n",
    "sns.set(font_scale=1);"
   ]
  },
  {
   "cell_type": "markdown",
   "id": "14a040ff",
   "metadata": {},
   "source": [
    "---"
   ]
  }
 ],
 "metadata": {
  "kernelspec": {
   "display_name": "Python 3 (ipykernel)",
   "language": "python",
   "name": "python3"
  },
  "language_info": {
   "codemirror_mode": {
    "name": "ipython",
    "version": 3
   },
   "file_extension": ".py",
   "mimetype": "text/x-python",
   "name": "python",
   "nbconvert_exporter": "python",
   "pygments_lexer": "ipython3",
   "version": "3.9.10"
  },
  "toc": {
   "base_numbering": 1,
   "nav_menu": {},
   "number_sections": false,
   "sideBar": true,
   "skip_h1_title": false,
   "title_cell": "Table of Contents",
   "title_sidebar": "Contents",
   "toc_cell": false,
   "toc_position": {
    "height": "calc(100% - 180px)",
    "left": "10px",
    "top": "150px",
    "width": "235px"
   },
   "toc_section_display": true,
   "toc_window_display": true
  }
 },
 "nbformat": 4,
 "nbformat_minor": 5
}
