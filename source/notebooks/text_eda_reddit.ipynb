{
 "cells": [
  {
   "cell_type": "markdown",
   "id": "564aa887",
   "metadata": {
    "pycharm": {
     "name": "#%% md\n"
    }
   },
   "source": [
    "# Citation\n",
    "\n",
    "Much of the code and examples are copied/modified from \n",
    "\n",
    "> Blueprints for Text Analytics Using Python by Jens Albrecht, Sidharth Ramachandran, and Christian Winkler (O'Reilly, 2021), 978-1-492-07408-3.\n",
    ">\n",
    "\n",
    "- https://github.com/blueprints-for-text-analytics-python/blueprints-text\n",
    "- https://github.com/blueprints-for-text-analytics-python/blueprints-text/blob/master/ch01/First_Insights.ipynb"
   ]
  },
  {
   "cell_type": "markdown",
   "id": "2a967948",
   "metadata": {},
   "source": [
    "---"
   ]
  },
  {
   "cell_type": "markdown",
   "id": "35ae0c59",
   "metadata": {},
   "source": [
    "# Setup"
   ]
  },
  {
   "cell_type": "code",
   "execution_count": 2,
   "id": "66085eae",
   "metadata": {},
   "outputs": [],
   "source": [
    "%run \"/code/source/config/notebook_settings.py\""
   ]
  },
  {
   "cell_type": "code",
   "execution_count": 3,
   "id": "f360077d",
   "metadata": {},
   "outputs": [],
   "source": [
    "pd.set_option('display.max_colwidth', None)"
   ]
  },
  {
   "cell_type": "code",
   "execution_count": 4,
   "id": "3492686a",
   "metadata": {},
   "outputs": [],
   "source": [
    "from source.library.text_analysis import count_tokens, tf_idf, get_context_from_keyword, \\\n",
    "    count_keywords, count_keywords_by, impurity"
   ]
  },
  {
   "cell_type": "code",
   "execution_count": 5,
   "id": "624dedbc",
   "metadata": {},
   "outputs": [
    {
     "name": "stderr",
     "output_type": "stream",
     "text": [
      "2023-02-25 18:23:20 - INFO     | Timer Started: Loading Data\n",
      "2023-02-25 18:23:20 - INFO     | Timer Finished: (0.18 seconds)\n"
     ]
    }
   ],
   "source": [
    "with Timer(\"Loading Data\"):\n",
    "    path = 'artifacts/data/processed/reddit.pkl'\n",
    "    df = pd.read_pickle(path)"
   ]
  },
  {
   "cell_type": "markdown",
   "id": "71e4bfed",
   "metadata": {},
   "source": [
    "---"
   ]
  },
  {
   "cell_type": "markdown",
   "id": "f055efe1",
   "metadata": {},
   "source": [
    "# Exploratory Data Analysis\n",
    "\n",
    "This section provides a basic exploration of the text and dataset."
   ]
  },
  {
   "cell_type": "markdown",
   "id": "08db1a7f",
   "metadata": {},
   "source": [
    "## Dataset Summary"
   ]
  },
  {
   "cell_type": "code",
   "execution_count": 6,
   "id": "b5f87d13",
   "metadata": {},
   "outputs": [
    {
     "data": {
      "text/html": [
       "<div>\n",
       "<style scoped>\n",
       "    .dataframe tbody tr th:only-of-type {\n",
       "        vertical-align: middle;\n",
       "    }\n",
       "\n",
       "    .dataframe tbody tr th {\n",
       "        vertical-align: top;\n",
       "    }\n",
       "\n",
       "    .dataframe thead th {\n",
       "        text-align: right;\n",
       "    }\n",
       "</style>\n",
       "<table border=\"1\" class=\"dataframe tex2jax_ignore\">\n",
       "  <thead>\n",
       "    <tr style=\"text-align: right;\">\n",
       "      <th></th>\n",
       "      <th>id</th>\n",
       "      <th>subreddit</th>\n",
       "      <th>title</th>\n",
       "      <th>post</th>\n",
       "      <th>impurity</th>\n",
       "      <th>post_clean</th>\n",
       "      <th>all_lemmas</th>\n",
       "      <th>partial_lemmas</th>\n",
       "      <th>bi_grams</th>\n",
       "      <th>adjs_verbs</th>\n",
       "      <th>nouns</th>\n",
       "      <th>noun_phrases</th>\n",
       "      <th>entities</th>\n",
       "      <th>post_length</th>\n",
       "      <th>num_tokens</th>\n",
       "      <th>language</th>\n",
       "    </tr>\n",
       "  </thead>\n",
       "  <tbody>\n",
       "    <tr>\n",
       "      <th>0</th>\n",
       "      <td>74qv99</td>\n",
       "      <td>Honda</td>\n",
       "      <td>J32A3 Block with J35Z2 Crank and Rods?</td>\n",
       "      <td>Hello, &lt;lb&gt;&lt;lb&gt;I have my J32A3 egine open, ready to put new rings and all. I would like to know if I can swap the J35Z2 crank and rods from an Accord Sedan v6 3.5. I would like to keep my pistons, just change the rods and crank to have a little more displacement. This is a doable option? there is something I need to know first? This is for my Acura TL 3G 2004 Manual Transmission. I really would like to know if it's possible and if possible what differences are between then J35Z2 and let's say the classic J35A3.&lt;lb&gt;&lt;lb&gt;Thanks in advance.</td>\n",
       "      <td>0.01</td>\n",
       "      <td>Hello, I have my J32A3 egine open, ready to put new rings and all. I would like to know if I can swap the J35Z2 crank and rods from an Accord Sedan v6 _NUMBER_ . I would like to keep my pistons, just change the rods and crank to have a little more displacement. This is a doable option? there is something I need to know first? This is for my Acura TL 3G _NUMBER_ Manual Transmission. I really would like to know if it's possible and if possible what differences are between then J35Z2 and let's say the classic J35A3. Thanks in advance.</td>\n",
       "      <td>[hello, i, have, my, j32a3, egine, open, ready, to, put, new, ring, and, all, i, would, like, to, know, if, i, can, swap, the, j35z2, crank, and, rod, from, an, accord, sedan, v6, _number_, i, would, like, to, keep, my, piston, just, change, the, rod, and, crank, to, have, a, little, more, displacement, this, be, a, doable, option, there, be, something, i, need, to, know, first, this, be, for, my, acura, tl, 3, g, _number_, manual, transmission, i, really, would, like, to, know, if, it, be, possible, and, if, possible, what, difference, be, between, then, j35z2, and, let, us, say, ...]</td>\n",
       "      <td>[hello, j32a3, egine, open, ready, new, ring, like, know, swap, j35z2, crank, rod, accord, sedan, v6, _number_, like, piston, change, rod, crank, little, displacement, doable, option, need, know, acura, tl, 3, g, _number_, manual, transmission, like, know, possible, possible, difference, j35z2, let, classic, j35a3, thank, advance]</td>\n",
       "      <td>[j32a3 egine, egine open, new ring, j35z2 crank, accord sedan, sedan v6, v6 _number_, doable option, acura tl, tl 3, 3 g, g _number_, _number_ manual, manual transmission, classic j35a3]</td>\n",
       "      <td>[open, ready, new, like, know, swap, like, change, little, doable, need, know, like, know, possible, possible, let, classic]</td>\n",
       "      <td>[j32a3, egine, ring, j35z2, crank, rod, accord, sedan, v6, _number_, piston, rod, crank, displacement, option, acura, tl, g, _number_, manual, transmission, difference, j35z2, j35a3, thank, advance]</td>\n",
       "      <td>[egine open, new ring, j35z2 crank, doable option, classic j35a3]</td>\n",
       "      <td>[accord sedan (PRODUCT), first (ORDINAL), acura (ORG), 3 (CARDINAL), g _number_ manual transmission (ORG)]</td>\n",
       "      <td>542</td>\n",
       "      <td>46</td>\n",
       "      <td>English</td>\n",
       "    </tr>\n",
       "  </tbody>\n",
       "</table>\n",
       "</div>"
      ],
      "text/plain": [
       "       id subreddit                                   title  \\\n",
       "0  74qv99     Honda  J32A3 Block with J35Z2 Crank and Rods?   \n",
       "\n",
       "                                                                                                                                                                                                                                                                                                                                                                                                                                                                                                                                                             post  \\\n",
       "0  Hello, <lb><lb>I have my J32A3 egine open, ready to put new rings and all. I would like to know if I can swap the J35Z2 crank and rods from an Accord Sedan v6 3.5. I would like to keep my pistons, just change the rods and crank to have a little more displacement. This is a doable option? there is something I need to know first? This is for my Acura TL 3G 2004 Manual Transmission. I really would like to know if it's possible and if possible what differences are between then J35Z2 and let's say the classic J35A3.<lb><lb>Thanks in advance.   \n",
       "\n",
       "   impurity  \\\n",
       "0      0.01   \n",
       "\n",
       "                                                                                                                                                                                                                                                                                                                                                                                                                                                                                                                                                  post_clean  \\\n",
       "0  Hello, I have my J32A3 egine open, ready to put new rings and all. I would like to know if I can swap the J35Z2 crank and rods from an Accord Sedan v6 _NUMBER_ . I would like to keep my pistons, just change the rods and crank to have a little more displacement. This is a doable option? there is something I need to know first? This is for my Acura TL 3G _NUMBER_ Manual Transmission. I really would like to know if it's possible and if possible what differences are between then J35Z2 and let's say the classic J35A3. Thanks in advance.   \n",
       "\n",
       "                                                                                                                                                                                                                                                                                                                                                                                                                                                                                                                                                                                                         all_lemmas  \\\n",
       "0  [hello, i, have, my, j32a3, egine, open, ready, to, put, new, ring, and, all, i, would, like, to, know, if, i, can, swap, the, j35z2, crank, and, rod, from, an, accord, sedan, v6, _number_, i, would, like, to, keep, my, piston, just, change, the, rod, and, crank, to, have, a, little, more, displacement, this, be, a, doable, option, there, be, something, i, need, to, know, first, this, be, for, my, acura, tl, 3, g, _number_, manual, transmission, i, really, would, like, to, know, if, it, be, possible, and, if, possible, what, difference, be, between, then, j35z2, and, let, us, say, ...]   \n",
       "\n",
       "                                                                                                                                                                                                                                                                                                                                 partial_lemmas  \\\n",
       "0  [hello, j32a3, egine, open, ready, new, ring, like, know, swap, j35z2, crank, rod, accord, sedan, v6, _number_, like, piston, change, rod, crank, little, displacement, doable, option, need, know, acura, tl, 3, g, _number_, manual, transmission, like, know, possible, possible, difference, j35z2, let, classic, j35a3, thank, advance]   \n",
       "\n",
       "                                                                                                                                                                                     bi_grams  \\\n",
       "0  [j32a3 egine, egine open, new ring, j35z2 crank, accord sedan, sedan v6, v6 _number_, doable option, acura tl, tl 3, 3 g, g _number_, _number_ manual, manual transmission, classic j35a3]   \n",
       "\n",
       "                                                                                                                     adjs_verbs  \\\n",
       "0  [open, ready, new, like, know, swap, like, change, little, doable, need, know, like, know, possible, possible, let, classic]   \n",
       "\n",
       "                                                                                                                                                                                                    nouns  \\\n",
       "0  [j32a3, egine, ring, j35z2, crank, rod, accord, sedan, v6, _number_, piston, rod, crank, displacement, option, acura, tl, g, _number_, manual, transmission, difference, j35z2, j35a3, thank, advance]   \n",
       "\n",
       "                                                        noun_phrases  \\\n",
       "0  [egine open, new ring, j35z2 crank, doable option, classic j35a3]   \n",
       "\n",
       "                                                                                                     entities  \\\n",
       "0  [accord sedan (PRODUCT), first (ORDINAL), acura (ORG), 3 (CARDINAL), g _number_ manual transmission (ORG)]   \n",
       "\n",
       "   post_length  num_tokens language  \n",
       "0          542          46  English  "
      ]
     },
     "execution_count": 6,
     "metadata": {},
     "output_type": "execute_result"
    }
   ],
   "source": [
    "df.head(1)"
   ]
  },
  {
   "cell_type": "markdown",
   "id": "b2326193",
   "metadata": {},
   "source": [
    "### Numeric Summary"
   ]
  },
  {
   "cell_type": "code",
   "execution_count": 8,
   "id": "ebea0c53",
   "metadata": {
    "pycharm": {
     "name": "#%%\n"
    }
   },
   "outputs": [
    {
     "data": {
      "text/html": [
       "<style type=\"text/css\">\n",
       "#T_d46ce_row0_col2, #T_d46ce_row1_col2, #T_d46ce_row1_col4, #T_d46ce_row2_col2, #T_d46ce_row2_col4 {\n",
       "  width: 10em;\n",
       "}\n",
       "#T_d46ce_row0_col3 {\n",
       "  background-color: #EBB13E;\n",
       "}\n",
       "#T_d46ce_row0_col4 {\n",
       "  width: 10em;\n",
       "  background: linear-gradient(90deg, #B4B7B9 20.0%, transparent 20.0%);\n",
       "}\n",
       "#T_d46ce_row0_col7 {\n",
       "  width: 10em;\n",
       "  background: linear-gradient(90deg, #B4B7B9 97.0%, transparent 97.0%);\n",
       "}\n",
       "#T_d46ce_row0_col8 {\n",
       "  width: 10em;\n",
       "  background: linear-gradient(90deg, transparent 50.0%, #B4B7B9 50.0%, #B4B7B9 96.8%, transparent 96.8%);\n",
       "}\n",
       "#T_d46ce_row1_col7, #T_d46ce_row2_col7 {\n",
       "  width: 10em;\n",
       "  background: linear-gradient(90deg, #B4B7B9 67.0%, transparent 67.0%);\n",
       "}\n",
       "#T_d46ce_row1_col8, #T_d46ce_row2_col8 {\n",
       "  width: 10em;\n",
       "  background: linear-gradient(90deg, transparent 50.0%, #B4B7B9 50.0%, #B4B7B9 100.0%, transparent 100.0%);\n",
       "}\n",
       "</style>\n",
       "<table id=\"T_d46ce\">\n",
       "  <thead>\n",
       "    <tr>\n",
       "      <th class=\"blank level0\" >&nbsp;</th>\n",
       "      <th id=\"T_d46ce_level0_col0\" class=\"col_heading level0 col0\" ># of Non-Nulls</th>\n",
       "      <th id=\"T_d46ce_level0_col1\" class=\"col_heading level0 col1\" ># of Nulls</th>\n",
       "      <th id=\"T_d46ce_level0_col2\" class=\"col_heading level0 col2\" >% Nulls</th>\n",
       "      <th id=\"T_d46ce_level0_col3\" class=\"col_heading level0 col3\" ># of Zeros</th>\n",
       "      <th id=\"T_d46ce_level0_col4\" class=\"col_heading level0 col4\" >% Zeros</th>\n",
       "      <th id=\"T_d46ce_level0_col5\" class=\"col_heading level0 col5\" >Mean</th>\n",
       "      <th id=\"T_d46ce_level0_col6\" class=\"col_heading level0 col6\" >St Dev.</th>\n",
       "      <th id=\"T_d46ce_level0_col7\" class=\"col_heading level0 col7\" >Coef of Var</th>\n",
       "      <th id=\"T_d46ce_level0_col8\" class=\"col_heading level0 col8\" >Skewness</th>\n",
       "      <th id=\"T_d46ce_level0_col9\" class=\"col_heading level0 col9\" >Kurtosis</th>\n",
       "      <th id=\"T_d46ce_level0_col10\" class=\"col_heading level0 col10\" >Min</th>\n",
       "      <th id=\"T_d46ce_level0_col11\" class=\"col_heading level0 col11\" >10%</th>\n",
       "      <th id=\"T_d46ce_level0_col12\" class=\"col_heading level0 col12\" >25%</th>\n",
       "      <th id=\"T_d46ce_level0_col13\" class=\"col_heading level0 col13\" >50%</th>\n",
       "      <th id=\"T_d46ce_level0_col14\" class=\"col_heading level0 col14\" >75%</th>\n",
       "      <th id=\"T_d46ce_level0_col15\" class=\"col_heading level0 col15\" >90%</th>\n",
       "      <th id=\"T_d46ce_level0_col16\" class=\"col_heading level0 col16\" >Max</th>\n",
       "    </tr>\n",
       "  </thead>\n",
       "  <tbody>\n",
       "    <tr>\n",
       "      <th id=\"T_d46ce_level0_row0\" class=\"row_heading level0 row0\" >impurity</th>\n",
       "      <td id=\"T_d46ce_row0_col0\" class=\"data row0 col0\" >5,000</td>\n",
       "      <td id=\"T_d46ce_row0_col1\" class=\"data row0 col1\" >0</td>\n",
       "      <td id=\"T_d46ce_row0_col2\" class=\"data row0 col2\" >0.0%</td>\n",
       "      <td id=\"T_d46ce_row0_col3\" class=\"data row0 col3\" >1,023</td>\n",
       "      <td id=\"T_d46ce_row0_col4\" class=\"data row0 col4\" >20.0%</td>\n",
       "      <td id=\"T_d46ce_row0_col5\" class=\"data row0 col5\" >0.0</td>\n",
       "      <td id=\"T_d46ce_row0_col6\" class=\"data row0 col6\" >0.0</td>\n",
       "      <td id=\"T_d46ce_row0_col7\" class=\"data row0 col7\" >1.0</td>\n",
       "      <td id=\"T_d46ce_row0_col8\" class=\"data row0 col8\" >1.9</td>\n",
       "      <td id=\"T_d46ce_row0_col9\" class=\"data row0 col9\" >7.8</td>\n",
       "      <td id=\"T_d46ce_row0_col10\" class=\"data row0 col10\" >0.0</td>\n",
       "      <td id=\"T_d46ce_row0_col11\" class=\"data row0 col11\" >0.0</td>\n",
       "      <td id=\"T_d46ce_row0_col12\" class=\"data row0 col12\" >0.0</td>\n",
       "      <td id=\"T_d46ce_row0_col13\" class=\"data row0 col13\" >0.0</td>\n",
       "      <td id=\"T_d46ce_row0_col14\" class=\"data row0 col14\" >0.0</td>\n",
       "      <td id=\"T_d46ce_row0_col15\" class=\"data row0 col15\" >0.0</td>\n",
       "      <td id=\"T_d46ce_row0_col16\" class=\"data row0 col16\" >0.2</td>\n",
       "    </tr>\n",
       "    <tr>\n",
       "      <th id=\"T_d46ce_level0_row1\" class=\"row_heading level0 row1\" >post_length</th>\n",
       "      <td id=\"T_d46ce_row1_col0\" class=\"data row1 col0\" >5,000</td>\n",
       "      <td id=\"T_d46ce_row1_col1\" class=\"data row1 col1\" >0</td>\n",
       "      <td id=\"T_d46ce_row1_col2\" class=\"data row1 col2\" >0.0%</td>\n",
       "      <td id=\"T_d46ce_row1_col3\" class=\"data row1 col3\" >0</td>\n",
       "      <td id=\"T_d46ce_row1_col4\" class=\"data row1 col4\" >0.0%</td>\n",
       "      <td id=\"T_d46ce_row1_col5\" class=\"data row1 col5\" >679.1</td>\n",
       "      <td id=\"T_d46ce_row1_col6\" class=\"data row1 col6\" >452.5</td>\n",
       "      <td id=\"T_d46ce_row1_col7\" class=\"data row1 col7\" >0.7</td>\n",
       "      <td id=\"T_d46ce_row1_col8\" class=\"data row1 col8\" >2.5</td>\n",
       "      <td id=\"T_d46ce_row1_col9\" class=\"data row1 col9\" >9.2</td>\n",
       "      <td id=\"T_d46ce_row1_col10\" class=\"data row1 col10\" >256.0</td>\n",
       "      <td id=\"T_d46ce_row1_col11\" class=\"data row1 col11\" >307.0</td>\n",
       "      <td id=\"T_d46ce_row1_col12\" class=\"data row1 col12\" >381.0</td>\n",
       "      <td id=\"T_d46ce_row1_col13\" class=\"data row1 col13\" >538.0</td>\n",
       "      <td id=\"T_d46ce_row1_col14\" class=\"data row1 col14\" >812.2</td>\n",
       "      <td id=\"T_d46ce_row1_col15\" class=\"data row1 col15\" >1,217.1</td>\n",
       "      <td id=\"T_d46ce_row1_col16\" class=\"data row1 col16\" >4,174.0</td>\n",
       "    </tr>\n",
       "    <tr>\n",
       "      <th id=\"T_d46ce_level0_row2\" class=\"row_heading level0 row2\" >num_tokens</th>\n",
       "      <td id=\"T_d46ce_row2_col0\" class=\"data row2 col0\" >5,000</td>\n",
       "      <td id=\"T_d46ce_row2_col1\" class=\"data row2 col1\" >0</td>\n",
       "      <td id=\"T_d46ce_row2_col2\" class=\"data row2 col2\" >0.0%</td>\n",
       "      <td id=\"T_d46ce_row2_col3\" class=\"data row2 col3\" >0</td>\n",
       "      <td id=\"T_d46ce_row2_col4\" class=\"data row2 col4\" >0.0%</td>\n",
       "      <td id=\"T_d46ce_row2_col5\" class=\"data row2 col5\" >54.2</td>\n",
       "      <td id=\"T_d46ce_row2_col6\" class=\"data row2 col6\" >36.3</td>\n",
       "      <td id=\"T_d46ce_row2_col7\" class=\"data row2 col7\" >0.7</td>\n",
       "      <td id=\"T_d46ce_row2_col8\" class=\"data row2 col8\" >2.6</td>\n",
       "      <td id=\"T_d46ce_row2_col9\" class=\"data row2 col9\" >9.9</td>\n",
       "      <td id=\"T_d46ce_row2_col10\" class=\"data row2 col10\" >15.0</td>\n",
       "      <td id=\"T_d46ce_row2_col11\" class=\"data row2 col11\" >25.0</td>\n",
       "      <td id=\"T_d46ce_row2_col12\" class=\"data row2 col12\" >31.0</td>\n",
       "      <td id=\"T_d46ce_row2_col13\" class=\"data row2 col13\" >43.0</td>\n",
       "      <td id=\"T_d46ce_row2_col14\" class=\"data row2 col14\" >65.0</td>\n",
       "      <td id=\"T_d46ce_row2_col15\" class=\"data row2 col15\" >96.0</td>\n",
       "      <td id=\"T_d46ce_row2_col16\" class=\"data row2 col16\" >378.0</td>\n",
       "    </tr>\n",
       "  </tbody>\n",
       "</table>\n"
      ],
      "text/plain": [
       "<pandas.io.formats.style.Styler at 0xffff38431120>"
      ]
     },
     "execution_count": 8,
     "metadata": {},
     "output_type": "execute_result"
    }
   ],
   "source": [
    "hlp.pandas.numeric_summary(df)"
   ]
  },
  {
   "cell_type": "markdown",
   "id": "ffb76281",
   "metadata": {},
   "source": [
    "### Non-Numeric"
   ]
  },
  {
   "cell_type": "code",
   "execution_count": null,
   "id": "81c892b0",
   "metadata": {
    "pycharm": {
     "name": "#%%\n"
    },
    "scrolled": false
   },
   "outputs": [],
   "source": [
    "hlp.pandas.non_numeric_summary(df)"
   ]
  },
  {
   "cell_type": "markdown",
   "id": "a6c9fe64",
   "metadata": {},
   "source": [
    "---"
   ]
  },
  {
   "cell_type": "markdown",
   "id": "28f4d730",
   "metadata": {},
   "source": [
    "### Examples"
   ]
  },
  {
   "cell_type": "code",
   "execution_count": null,
   "id": "5111e645",
   "metadata": {},
   "outputs": [],
   "source": [
    "df['post'].iloc[0][0:1000]"
   ]
  },
  {
   "cell_type": "code",
   "execution_count": null,
   "id": "2ddccfc2",
   "metadata": {},
   "outputs": [],
   "source": [
    "'|'.join(df['partial_lemmas'].iloc[0])[0:1000]"
   ]
  },
  {
   "cell_type": "code",
   "execution_count": null,
   "id": "f3781bb0",
   "metadata": {},
   "outputs": [],
   "source": [
    "'|'.join(df['bi_grams'].iloc[0])[0:1000]"
   ]
  },
  {
   "cell_type": "code",
   "execution_count": null,
   "id": "eeef9826",
   "metadata": {},
   "outputs": [],
   "source": [
    "'|'.join(df['noun_phrases'].iloc[0])[0:1000]"
   ]
  },
  {
   "cell_type": "markdown",
   "id": "3042cf6f",
   "metadata": {},
   "source": [
    "## Explore Non-Text Columns"
   ]
  },
  {
   "cell_type": "markdown",
   "id": "4771d0e7",
   "metadata": {},
   "source": [
    "#### Impurity"
   ]
  },
  {
   "cell_type": "code",
   "execution_count": null,
   "id": "7383ad3b",
   "metadata": {},
   "outputs": [],
   "source": [
    "ax = df['impurity'].plot(kind='box', vert=False, figsize=(10, 1))\n",
    "ax.set_title(\"Distribution of Post Impurity\")\n",
    "ax.set_xlabel(\"Impurity\")\n",
    "ax.set_yticklabels([])\n",
    "ax;"
   ]
  },
  {
   "cell_type": "code",
   "execution_count": null,
   "id": "df1a35b2",
   "metadata": {},
   "outputs": [],
   "source": [
    "df[['impurity', 'post', 'post_clean']].sort_values('impurity', ascending=False).head()"
   ]
  },
  {
   "cell_type": "code",
   "execution_count": null,
   "id": "8acb7661",
   "metadata": {},
   "outputs": [],
   "source": [
    "df['language'].value_counts(ascending=False)"
   ]
  },
  {
   "cell_type": "code",
   "execution_count": null,
   "id": "30ad0b49",
   "metadata": {},
   "outputs": [],
   "source": [
    "df['subreddit'].value_counts(ascending=False)"
   ]
  },
  {
   "cell_type": "markdown",
   "id": "bfea5123",
   "metadata": {},
   "source": [
    "Explore idiosyncrasies of various columns, e.g. same speaker represented multiple ways."
   ]
  },
  {
   "cell_type": "markdown",
   "id": "39806fcc",
   "metadata": {},
   "source": [
    "---"
   ]
  },
  {
   "cell_type": "markdown",
   "id": "59ddcf01",
   "metadata": {},
   "source": [
    "## Explore Text Column|"
   ]
  },
  {
   "cell_type": "markdown",
   "id": "ad589f46",
   "metadata": {},
   "source": [
    "### Top Words Used"
   ]
  },
  {
   "cell_type": "code",
   "execution_count": null,
   "id": "98cc2235",
   "metadata": {},
   "outputs": [],
   "source": [
    "remove_tokens = {'_number_', 'car'}\n",
    "count_tokens(df['partial_lemmas'], remove_tokens=remove_tokens).head(10)"
   ]
  },
  {
   "cell_type": "markdown",
   "id": "79304967",
   "metadata": {},
   "source": [
    "---"
   ]
  },
  {
   "cell_type": "markdown",
   "id": "470c14d1",
   "metadata": {},
   "source": [
    "### Distribution of Text Length"
   ]
  },
  {
   "cell_type": "code",
   "execution_count": null,
   "id": "0951cab8",
   "metadata": {},
   "outputs": [],
   "source": [
    "ax = df['post_length'].plot(kind='box', vert=False, figsize=(10, 1))\n",
    "ax.set_title(\"Distribution of Post Length\")\n",
    "ax.set_xlabel(\"# of Characters\")\n",
    "ax.set_yticklabels([])\n",
    "ax;"
   ]
  },
  {
   "cell_type": "code",
   "execution_count": null,
   "id": "fbdf39cd",
   "metadata": {},
   "outputs": [],
   "source": [
    "ax = df['post_length'].plot(kind='hist', bins=60, figsize=(10, 2));\n",
    "ax.set_title(\"Distribution of Post Length\")\n",
    "ax.set_xlabel(\"# of Characters\")\n",
    "ax;"
   ]
  },
  {
   "cell_type": "code",
   "execution_count": null,
   "id": "174ccd0c",
   "metadata": {},
   "outputs": [],
   "source": [
    "import seaborn as sns\n",
    "sns.displot(df['post_length'], bins=60, kde=True, height=3, aspect=3);"
   ]
  },
  {
   "cell_type": "code",
   "execution_count": null,
   "id": "01f92ecf",
   "metadata": {},
   "outputs": [],
   "source": [
    "where = df['subreddit'].isin([\n",
    "    'Lexus', \n",
    "    'mercedes_benz',\n",
    "    'Audi',\n",
    "    'Volvo',\n",
    "    'BMW',\n",
    "])\n",
    "g = sns.catplot(data=df[where], x=\"subreddit\", y=\"post_length\", kind='box')\n",
    "g.fig.set_size_inches(6, 3)\n",
    "g.fig.set_dpi(100)\n",
    "g = sns.catplot(data=df[where], x=\"subreddit\", y=\"post_length\", kind='violin')\n",
    "g.fig.set_size_inches(6, 3)\n",
    "g.fig.set_dpi(100)"
   ]
  },
  {
   "cell_type": "markdown",
   "id": "115e8fee",
   "metadata": {},
   "source": [
    "### Word Frequency"
   ]
  },
  {
   "cell_type": "code",
   "execution_count": null,
   "id": "9da159b0",
   "metadata": {},
   "outputs": [],
   "source": [
    "counts_df = count_tokens(df['partial_lemmas'], remove_tokens=remove_tokens)"
   ]
  },
  {
   "cell_type": "code",
   "execution_count": null,
   "id": "ff9c2fc8",
   "metadata": {},
   "outputs": [],
   "source": [
    "def plot_wordcloud(frequency_dict):\n",
    "    wc = wordcloud.WordCloud(background_color='white',\n",
    "        #colormap='RdYlGn',\n",
    "        colormap='tab20b',\n",
    "        width=round(hlpp.STANDARD_WIDTH*100),\n",
    "        height=round(hlpp.STANDARD_HEIGHT*100),\n",
    "        max_words = 200, max_font_size=150,\n",
    "        random_state=42\n",
    "    )\n",
    "    wc.generate_from_frequencies(frequency_dict)\n",
    "\n",
    "    fig, ax = plt.subplots(figsize=(hlpp.STANDARD_WIDTH, hlpp.STANDARD_HEIGHT))\n",
    "    ax.imshow(wc, interpolation='bilinear')\n",
    "    #plt.title(\"XXX\")\n",
    "    plt.axis('off')"
   ]
  },
  {
   "cell_type": "code",
   "execution_count": null,
   "id": "8f9d6d2f",
   "metadata": {},
   "outputs": [],
   "source": [
    "plot_wordcloud(counts_df.to_dict()['frequency']);"
   ]
  },
  {
   "cell_type": "markdown",
   "id": "d94f32c1",
   "metadata": {},
   "source": [
    "### TF-IDF"
   ]
  },
  {
   "cell_type": "code",
   "execution_count": null,
   "id": "cb36ef18",
   "metadata": {},
   "outputs": [],
   "source": [
    "tf_idf_lemmas = tf_idf(\n",
    "    df=df,\n",
    "    tokens_column='partial_lemmas',\n",
    "    segment_columns = None,\n",
    "    min_frequency_corpus=20,\n",
    "    min_frequency_document=20,\n",
    "    remove_tokens=remove_tokens,\n",
    ")\n",
    "tf_idf_lemmas.head()"
   ]
  },
  {
   "cell_type": "code",
   "execution_count": null,
   "id": "95e71aef",
   "metadata": {},
   "outputs": [],
   "source": [
    "remove_tokens_bi_grams = {'_number_ year', '_number_ _number_', 'hey guy'}\n",
    "tf_idf_bi_grams = tf_idf(\n",
    "    df=df,\n",
    "    tokens_column='bi_grams',\n",
    "    segment_columns = None,\n",
    "    min_frequency_corpus=20,\n",
    "    min_frequency_document=20,\n",
    "    remove_tokens=remove_tokens_bi_grams,\n",
    ")\n",
    "tf_idf_bi_grams.head()"
   ]
  },
  {
   "cell_type": "code",
   "execution_count": null,
   "id": "7a9ffd17",
   "metadata": {},
   "outputs": [],
   "source": [
    "tf_idf_nouns = tf_idf(\n",
    "    df=df,\n",
    "    tokens_column='nouns',\n",
    "    segment_columns = None,\n",
    "    min_frequency_corpus=20,\n",
    "    min_frequency_document=20,\n",
    "    remove_tokens=remove_tokens,\n",
    ")\n",
    "tf_idf_nouns.head()"
   ]
  },
  {
   "cell_type": "code",
   "execution_count": null,
   "id": "20834d7e",
   "metadata": {},
   "outputs": [],
   "source": [
    "tf_idf_noun_phrases = tf_idf(\n",
    "    df=df,\n",
    "    tokens_column='noun_phrases',\n",
    "    segment_columns = None,\n",
    "    min_frequency_corpus=20,\n",
    "    min_frequency_document=20,\n",
    "    remove_tokens=remove_tokens_bi_grams,\n",
    ")\n",
    "tf_idf_noun_phrases.head()"
   ]
  },
  {
   "cell_type": "markdown",
   "id": "2b4d9bdc",
   "metadata": {},
   "source": [
    "---"
   ]
  },
  {
   "cell_type": "code",
   "execution_count": null,
   "id": "828e7896",
   "metadata": {},
   "outputs": [],
   "source": [
    "ax = tf_idf_lemmas.head(30)[['tf-idf']].plot(kind='barh', width=0.99)\n",
    "ax.set_title(\"TF-IDF of Uni-Grams\")\n",
    "ax.set_xlabel(\"TF-IDF\")\n",
    "ax.invert_yaxis();"
   ]
  },
  {
   "cell_type": "code",
   "execution_count": null,
   "id": "4bd014d2",
   "metadata": {},
   "outputs": [],
   "source": [
    "ax = tf_idf_bi_grams.head(30)[['tf-idf']].plot(kind='barh', width=0.99)\n",
    "ax.set_title(\"TF-IDF of Bi-Grams\")\n",
    "ax.set_xlabel(\"TF-IDF\")\n",
    "ax.invert_yaxis();"
   ]
  },
  {
   "cell_type": "code",
   "execution_count": null,
   "id": "e59042a2",
   "metadata": {},
   "outputs": [],
   "source": [
    "ax = tf_idf_nouns.head(30)[['tf-idf']].plot(kind='barh', width=0.99)\n",
    "ax.set_title(\"TF-IDF of Bi-Grams\")\n",
    "ax.set_xlabel(\"TF-IDF\")\n",
    "ax.invert_yaxis();"
   ]
  },
  {
   "cell_type": "code",
   "execution_count": null,
   "id": "d4c468ba",
   "metadata": {},
   "outputs": [],
   "source": [
    "ax = tf_idf_noun_phrases.head(30)[['tf-idf']].plot(kind='barh', width=0.99)\n",
    "ax.set_title(\"TF-IDF of Bi-Grams\")\n",
    "ax.set_xlabel(\"TF-IDF\")\n",
    "ax.invert_yaxis();"
   ]
  },
  {
   "cell_type": "code",
   "execution_count": null,
   "id": "de9a5a92",
   "metadata": {},
   "outputs": [],
   "source": [
    "plot_wordcloud(tf_idf_lemmas.to_dict()['tf-idf']);"
   ]
  },
  {
   "cell_type": "code",
   "execution_count": null,
   "id": "beca2c86",
   "metadata": {},
   "outputs": [],
   "source": [
    "plot_wordcloud(tf_idf_bi_grams.to_dict()['tf-idf']);"
   ]
  },
  {
   "cell_type": "markdown",
   "id": "1b1f7aa0",
   "metadata": {},
   "source": [
    "#### By Subreddit"
   ]
  },
  {
   "cell_type": "code",
   "execution_count": null,
   "id": "346d5432",
   "metadata": {},
   "outputs": [],
   "source": [
    "remove_tokens_subreddit = set(df.subreddit.str.lower().unique())\n",
    "remove_tokens_subreddit"
   ]
  },
  {
   "cell_type": "code",
   "execution_count": null,
   "id": "7d6e0ed0",
   "metadata": {},
   "outputs": [],
   "source": [
    "tf_idf_lemmas_per_sub = tf_idf(\n",
    "    df=df,\n",
    "    tokens_column='partial_lemmas',\n",
    "    segment_columns = 'subreddit',\n",
    "    min_frequency_corpus=10,\n",
    "    min_frequency_document=10,\n",
    "    remove_tokens=remove_tokens | remove_tokens_subreddit \n",
    ")\n",
    "tf_idf_lemmas_per_sub.head(5)"
   ]
  },
  {
   "cell_type": "code",
   "execution_count": null,
   "id": "557ac16c",
   "metadata": {},
   "outputs": [],
   "source": [
    "tf_idf_bigrams_per_sub = tf_idf(\n",
    "    df=df,\n",
    "    tokens_column='bi_grams',\n",
    "    segment_columns = 'subreddit',\n",
    "    min_frequency_corpus=10,\n",
    "    min_frequency_document=10,\n",
    "    remove_tokens=remove_tokens_bi_grams\n",
    ")\n",
    "tf_idf_bigrams_per_sub.head(5)"
   ]
  },
  {
   "cell_type": "code",
   "execution_count": null,
   "id": "26da767d",
   "metadata": {},
   "outputs": [],
   "source": [
    "tf_idf_nouns_per_sub = tf_idf(\n",
    "    df=df,\n",
    "    tokens_column='nouns',\n",
    "    segment_columns = 'subreddit',\n",
    "    min_frequency_corpus=10,\n",
    "    min_frequency_document=10,\n",
    "    remove_tokens=remove_tokens | remove_tokens_subreddit\n",
    ")\n",
    "tf_idf_nouns_per_sub.head(5)"
   ]
  },
  {
   "cell_type": "code",
   "execution_count": null,
   "id": "c6b94f85",
   "metadata": {},
   "outputs": [],
   "source": [
    "tf_idf_nounphrases_per_sub = tf_idf(\n",
    "    df=df,\n",
    "    tokens_column='noun_phrases',\n",
    "    segment_columns = 'subreddit',\n",
    "    min_frequency_corpus=10,\n",
    "    min_frequency_document=10,\n",
    "    remove_tokens=remove_tokens_bi_grams\n",
    ")\n",
    "tf_idf_nounphrases_per_sub.head(5)"
   ]
  },
  {
   "cell_type": "markdown",
   "id": "114afa3c",
   "metadata": {},
   "source": [
    "---"
   ]
  },
  {
   "cell_type": "code",
   "execution_count": null,
   "id": "8e292a77",
   "metadata": {},
   "outputs": [],
   "source": [
    "tokens_to_show = tf_idf_lemmas_per_sub.query(\"subreddit in ['Lexus', 'Volvo']\").reset_index()\n",
    "tokens_to_show.head()"
   ]
  },
  {
   "cell_type": "code",
   "execution_count": null,
   "id": "b8753e81",
   "metadata": {},
   "outputs": [],
   "source": [
    "px.bar(\n",
    "    tokens_to_show.groupby(['subreddit']).head(20).sort_values('tf-idf', ascending=True),\n",
    "    x='tf-idf',\n",
    "    y='token',\n",
    "    color='subreddit',\n",
    "    barmode='group',\n",
    "    title=\"Top 20 Lemmas for Volvo & Lexus\"\n",
    ")"
   ]
  },
  {
   "cell_type": "code",
   "execution_count": null,
   "id": "5811eab0",
   "metadata": {},
   "outputs": [],
   "source": [
    "tokens_to_show = tf_idf_bigrams_per_sub.query(\"subreddit in ['Lexus', 'Volvo']\").reset_index()\n",
    "tokens_to_show.head()"
   ]
  },
  {
   "cell_type": "code",
   "execution_count": null,
   "id": "b8be0b36",
   "metadata": {},
   "outputs": [],
   "source": [
    "px.bar(\n",
    "    tokens_to_show.groupby(['subreddit']).head(20).sort_values('tf-idf', ascending=True),\n",
    "    x='tf-idf',\n",
    "    y='token',\n",
    "    color='subreddit',\n",
    "    barmode='group',\n",
    "    title=\"Top 20 Bi-Grams for Volvo & Lexus\"\n",
    ")"
   ]
  },
  {
   "cell_type": "markdown",
   "id": "9bfc4ad6",
   "metadata": {},
   "source": [
    "---"
   ]
  },
  {
   "cell_type": "code",
   "execution_count": null,
   "id": "e60876c8",
   "metadata": {},
   "outputs": [],
   "source": [
    "get_context_from_keyword(df.query(\"subreddit == 'Lexus'\")['post'], keyword='think')"
   ]
  },
  {
   "cell_type": "code",
   "execution_count": null,
   "id": "456ba44e",
   "metadata": {},
   "outputs": [],
   "source": [
    "get_context_from_keyword(df.query(\"subreddit == 'Volvo'\")['post'], keyword='think')"
   ]
  },
  {
   "cell_type": "markdown",
   "id": "abe1f314",
   "metadata": {},
   "source": [
    "##### Lexus"
   ]
  },
  {
   "cell_type": "code",
   "execution_count": null,
   "id": "dd5fcb40",
   "metadata": {},
   "outputs": [],
   "source": [
    "tokens_to_show = tf_idf_lemmas_per_sub.query(\"subreddit == 'Lexus'\").reset_index()\n",
    "#tokens_to_show = tokens_to_show[~tokens_to_show.token.isin(stop_words)]\n",
    "tokens_to_show = tokens_to_show[['token', 'tf-idf']].set_index('token')\n",
    "tokens_to_show = tokens_to_show.to_dict()['tf-idf']\n",
    "plot_wordcloud(tokens_to_show);"
   ]
  },
  {
   "cell_type": "markdown",
   "id": "a407ad5f",
   "metadata": {},
   "source": [
    "##### Volvo"
   ]
  },
  {
   "cell_type": "code",
   "execution_count": null,
   "id": "71d83cb7",
   "metadata": {},
   "outputs": [],
   "source": [
    "tokens_to_show = tf_idf_lemmas_per_sub.query(\"subreddit == 'Volvo'\").reset_index()\n",
    "#tokens_to_show = tokens_to_show[~tokens_to_show.token.isin(stop_words)]\n",
    "tokens_to_show = tokens_to_show[['token', 'tf-idf']].set_index('token')\n",
    "tokens_to_show = tokens_to_show.to_dict()['tf-idf']\n",
    "plot_wordcloud(tokens_to_show);"
   ]
  },
  {
   "cell_type": "markdown",
   "id": "d375ea2f",
   "metadata": {},
   "source": [
    "### Keywords in Context"
   ]
  },
  {
   "cell_type": "code",
   "execution_count": null,
   "id": "f7455ee7",
   "metadata": {},
   "outputs": [],
   "source": [
    "contexts = get_context_from_keyword(\n",
    "    documents=df['post'],\n",
    "    window_width=50,\n",
    "    keyword='replac',\n",
    "    num_samples = 20,\n",
    "    random_seed=42\n",
    ")\n",
    "for x in contexts:\n",
    "    print(x)"
   ]
  },
  {
   "cell_type": "markdown",
   "id": "ca164c4e",
   "metadata": {},
   "source": [
    "---"
   ]
  }
 ],
 "metadata": {
  "kernelspec": {
   "display_name": "Python 3",
   "language": "python",
   "name": "python3"
  },
  "language_info": {
   "codemirror_mode": {
    "name": "ipython",
    "version": 3
   },
   "file_extension": ".py",
   "mimetype": "text/x-python",
   "name": "python",
   "nbconvert_exporter": "python",
   "pygments_lexer": "ipython3",
   "version": "3.10.10"
  },
  "toc": {
   "base_numbering": 1,
   "nav_menu": {},
   "number_sections": false,
   "sideBar": true,
   "skip_h1_title": false,
   "title_cell": "Table of Contents",
   "title_sidebar": "Contents",
   "toc_cell": false,
   "toc_position": {
    "height": "calc(100% - 180px)",
    "left": "10px",
    "top": "150px",
    "width": "235px"
   },
   "toc_section_display": true,
   "toc_window_display": true
  },
  "vscode": {
   "interpreter": {
    "hash": "949777d72b0d2535278d3dc13498b2535136f6dfe0678499012e853ee9abcab1"
   }
  }
 },
 "nbformat": 4,
 "nbformat_minor": 5
}
