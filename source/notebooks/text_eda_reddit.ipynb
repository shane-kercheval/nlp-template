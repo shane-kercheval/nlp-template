{
 "cells": [
  {
   "cell_type": "markdown",
   "id": "564aa887",
   "metadata": {
    "pycharm": {
     "name": "#%% md\n"
    }
   },
   "source": [
    "# Citation\n",
    "\n",
    "Much of the code and examples are copied/modified from \n",
    "\n",
    "> Blueprints for Text Analytics Using Python by Jens Albrecht, Sidharth Ramachandran, and Christian Winkler (O'Reilly, 2021), 978-1-492-07408-3.\n",
    ">\n",
    "\n",
    "- https://github.com/blueprints-for-text-analytics-python/blueprints-text\n",
    "- https://github.com/blueprints-for-text-analytics-python/blueprints-text/blob/master/ch01/First_Insights.ipynb"
   ]
  },
  {
   "cell_type": "markdown",
   "id": "2a967948",
   "metadata": {},
   "source": [
    "---"
   ]
  },
  {
   "cell_type": "markdown",
   "id": "35ae0c59",
   "metadata": {},
   "source": [
    "# Setup"
   ]
  },
  {
   "cell_type": "code",
   "execution_count": 52,
   "id": "66085eae",
   "metadata": {},
   "outputs": [],
   "source": [
    "%run \"/code/source/config/notebook_settings.py\""
   ]
  },
  {
   "cell_type": "code",
   "execution_count": 41,
   "id": "f360077d",
   "metadata": {},
   "outputs": [],
   "source": [
    "pd.set_option('display.max_colwidth', None)"
   ]
  },
  {
   "cell_type": "code",
   "execution_count": 42,
   "id": "3492686a",
   "metadata": {},
   "outputs": [],
   "source": [
    "from itertools import islice\n",
    "import pandas as pd\n",
    "from helpsk.logging import Timer\n",
    "from helpsk.pandas import non_numeric_summary, numeric_summary\n",
    "from source.library.text_analysis import count_tokens, tf_idf, get_context_from_keyword, \\\n",
    "    count_keywords, count_keywords_by, impurity\n",
    "from source.library.datasets import DATA\n",
    "\n",
    "pd.set_option('display.max_colwidth', None)"
   ]
  },
  {
   "cell_type": "code",
   "execution_count": 19,
   "id": "624dedbc",
   "metadata": {},
   "outputs": [
    {
     "name": "stderr",
     "output_type": "stream",
     "text": [
      "2023-03-20 03:15:31 - INFO     | Timer Started: Loading Data\n",
      "2023-03-20 03:15:31 - INFO     | Loading data `reddit` from `/code/artifacts/data/raw/reddit.pkl`\n",
      "2023-03-20 03:15:31 - INFO     | Loading data `reddit_corpus` from `/code/artifacts/data/processed/reddit_corpus.pkl`\n",
      "2023-03-20 03:15:46 - INFO     | Timer Finished: (14.91 seconds)\n"
     ]
    }
   ],
   "source": [
    "with Timer(\"Loading Data\"):\n",
    "    reddit = DATA.reddit.load()\n",
    "    reddit_corpus = DATA.reddit_corpus.load()"
   ]
  },
  {
   "cell_type": "markdown",
   "id": "71e4bfed",
   "metadata": {},
   "source": [
    "---"
   ]
  },
  {
   "cell_type": "markdown",
   "id": "f055efe1",
   "metadata": {},
   "source": [
    "# Exploratory Data Analysis\n",
    "\n",
    "This section provides a basic exploration of the text and dataset."
   ]
  },
  {
   "cell_type": "markdown",
   "id": "08db1a7f",
   "metadata": {},
   "source": [
    "## Dataset Summary"
   ]
  },
  {
   "cell_type": "code",
   "execution_count": 14,
   "id": "b5f87d13",
   "metadata": {},
   "outputs": [
    {
     "data": {
      "text/html": [
       "<div>\n",
       "<style scoped>\n",
       "    .dataframe tbody tr th:only-of-type {\n",
       "        vertical-align: middle;\n",
       "    }\n",
       "\n",
       "    .dataframe tbody tr th {\n",
       "        vertical-align: top;\n",
       "    }\n",
       "\n",
       "    .dataframe thead th {\n",
       "        text-align: right;\n",
       "    }\n",
       "</style>\n",
       "<table border=\"1\" class=\"dataframe tex2jax_ignore\">\n",
       "  <thead>\n",
       "    <tr style=\"text-align: right;\">\n",
       "      <th></th>\n",
       "      <th>id</th>\n",
       "      <th>subreddit</th>\n",
       "      <th>title</th>\n",
       "      <th>post</th>\n",
       "    </tr>\n",
       "  </thead>\n",
       "  <tbody>\n",
       "    <tr>\n",
       "      <th>0</th>\n",
       "      <td>8f73s7</td>\n",
       "      <td>Harley</td>\n",
       "      <td>No Club Colors</td>\n",
       "      <td>Funny story. I went to college in Las Vegas. This was before I knew anything about motorcycling whatsoever. Me and some college buddies would always go out on the strip to the dance clubs. We always ended up at a bar called Hogs &amp;amp; Heifers. It's worth noting the females working there can outdrink ANYONE. Anyway, there was a sign on the front door that read 'No Club Colors'. So we lose our ties and blazers before heading there. Also we assumed bright colors like red, yellow, green etc were not allowed. So we would always bring an xtra t-shirt and pair of jeans. This went on for years! Looking back now on how naive we were, it's just hilarious. I was never able to walk out of that bar....had to crawl out! So much booze. &lt;lb&gt;&lt;lb&gt;Cheers. Ride safe, boys!</td>\n",
       "    </tr>\n",
       "  </tbody>\n",
       "</table>\n",
       "</div>"
      ],
      "text/plain": [
       "       id subreddit           title  \\\n",
       "0  8f73s7    Harley  No Club Colors   \n",
       "\n",
       "                                                                                                                                                                                                                                                                                                                                                                                                                                                                                                                                                                                                                                                                                                                                                                                           post  \n",
       "0  Funny story. I went to college in Las Vegas. This was before I knew anything about motorcycling whatsoever. Me and some college buddies would always go out on the strip to the dance clubs. We always ended up at a bar called Hogs &amp; Heifers. It's worth noting the females working there can outdrink ANYONE. Anyway, there was a sign on the front door that read 'No Club Colors'. So we lose our ties and blazers before heading there. Also we assumed bright colors like red, yellow, green etc were not allowed. So we would always bring an xtra t-shirt and pair of jeans. This went on for years! Looking back now on how naive we were, it's just hilarious. I was never able to walk out of that bar....had to crawl out! So much booze. <lb><lb>Cheers. Ride safe, boys!   "
      ]
     },
     "execution_count": 14,
     "metadata": {},
     "output_type": "execute_result"
    }
   ],
   "source": [
    "reddit.head(1)"
   ]
  },
  {
   "cell_type": "markdown",
   "id": "b2326193",
   "metadata": {},
   "source": [
    "### Numeric Summary"
   ]
  },
  {
   "cell_type": "code",
   "execution_count": 17,
   "id": "ebea0c53",
   "metadata": {
    "pycharm": {
     "name": "#%%\n"
    }
   },
   "outputs": [],
   "source": [
    "numeric_summary(reddit)"
   ]
  },
  {
   "cell_type": "markdown",
   "id": "ffb76281",
   "metadata": {},
   "source": [
    "### Non-Numeric"
   ]
  },
  {
   "cell_type": "code",
   "execution_count": 18,
   "id": "81c892b0",
   "metadata": {
    "pycharm": {
     "name": "#%%\n"
    },
    "scrolled": false
   },
   "outputs": [
    {
     "data": {
      "text/html": [
       "<style type=\"text/css\">\n",
       "#T_ccbdd_row0_col2, #T_ccbdd_row1_col2, #T_ccbdd_row2_col2, #T_ccbdd_row3_col2 {\n",
       "  width: 10em;\n",
       "}\n",
       "#T_ccbdd_row0_col5, #T_ccbdd_row3_col5 {\n",
       "  width: 10em;\n",
       "  background: linear-gradient(90deg, #B4B7B9 100.0%, transparent 100.0%);\n",
       "}\n",
       "#T_ccbdd_row1_col5 {\n",
       "  width: 10em;\n",
       "  background: linear-gradient(90deg, #B4B7B9 0.1%, transparent 0.1%);\n",
       "}\n",
       "#T_ccbdd_row2_col5 {\n",
       "  width: 10em;\n",
       "  background: linear-gradient(90deg, #B4B7B9 99.8%, transparent 99.8%);\n",
       "}\n",
       "</style>\n",
       "<table id=\"T_ccbdd\">\n",
       "  <thead>\n",
       "    <tr>\n",
       "      <th class=\"blank level0\" >&nbsp;</th>\n",
       "      <th id=\"T_ccbdd_level0_col0\" class=\"col_heading level0 col0\" ># of Non-Nulls</th>\n",
       "      <th id=\"T_ccbdd_level0_col1\" class=\"col_heading level0 col1\" ># of Nulls</th>\n",
       "      <th id=\"T_ccbdd_level0_col2\" class=\"col_heading level0 col2\" >% Nulls</th>\n",
       "      <th id=\"T_ccbdd_level0_col3\" class=\"col_heading level0 col3\" >Most Freq. Value</th>\n",
       "      <th id=\"T_ccbdd_level0_col4\" class=\"col_heading level0 col4\" ># of Unique</th>\n",
       "      <th id=\"T_ccbdd_level0_col5\" class=\"col_heading level0 col5\" >% Unique</th>\n",
       "    </tr>\n",
       "  </thead>\n",
       "  <tbody>\n",
       "    <tr>\n",
       "      <th id=\"T_ccbdd_level0_row0\" class=\"row_heading level0 row0\" >id</th>\n",
       "      <td id=\"T_ccbdd_row0_col0\" class=\"data row0 col0\" >20,000</td>\n",
       "      <td id=\"T_ccbdd_row0_col1\" class=\"data row0 col1\" >0</td>\n",
       "      <td id=\"T_ccbdd_row0_col2\" class=\"data row0 col2\" >0.0%</td>\n",
       "      <td id=\"T_ccbdd_row0_col3\" class=\"data row0 col3\" >8f73s7</td>\n",
       "      <td id=\"T_ccbdd_row0_col4\" class=\"data row0 col4\" >20,000</td>\n",
       "      <td id=\"T_ccbdd_row0_col5\" class=\"data row0 col5\" >100.0%</td>\n",
       "    </tr>\n",
       "    <tr>\n",
       "      <th id=\"T_ccbdd_level0_row1\" class=\"row_heading level0 row1\" >subreddit</th>\n",
       "      <td id=\"T_ccbdd_row1_col0\" class=\"data row1 col0\" >20,000</td>\n",
       "      <td id=\"T_ccbdd_row1_col1\" class=\"data row1 col1\" >0</td>\n",
       "      <td id=\"T_ccbdd_row1_col2\" class=\"data row1 col2\" >0.0%</td>\n",
       "      <td id=\"T_ccbdd_row1_col3\" class=\"data row1 col3\" >Harley</td>\n",
       "      <td id=\"T_ccbdd_row1_col4\" class=\"data row1 col4\" >20</td>\n",
       "      <td id=\"T_ccbdd_row1_col5\" class=\"data row1 col5\" >0.1%</td>\n",
       "    </tr>\n",
       "    <tr>\n",
       "      <th id=\"T_ccbdd_level0_row2\" class=\"row_heading level0 row2\" >title</th>\n",
       "      <td id=\"T_ccbdd_row2_col0\" class=\"data row2 col0\" >20,000</td>\n",
       "      <td id=\"T_ccbdd_row2_col1\" class=\"data row2 col1\" >0</td>\n",
       "      <td id=\"T_ccbdd_row2_col2\" class=\"data row2 col2\" >0.0%</td>\n",
       "      <td id=\"T_ccbdd_row2_col3\" class=\"data row2 col3\" >Need some advice</td>\n",
       "      <td id=\"T_ccbdd_row2_col4\" class=\"data row2 col4\" >19,957</td>\n",
       "      <td id=\"T_ccbdd_row2_col5\" class=\"data row2 col5\" >99.8%</td>\n",
       "    </tr>\n",
       "    <tr>\n",
       "      <th id=\"T_ccbdd_level0_row3\" class=\"row_heading level0 row3\" >post</th>\n",
       "      <td id=\"T_ccbdd_row3_col0\" class=\"data row3 col0\" >20,000</td>\n",
       "      <td id=\"T_ccbdd_row3_col1\" class=\"data row3 col1\" >0</td>\n",
       "      <td id=\"T_ccbdd_row3_col2\" class=\"data row3 col2\" >0.0%</td>\n",
       "      <td id=\"T_ccbdd_row3_col3\" class=\"data row3 col3\" >Funny story. I went to college[...]</td>\n",
       "      <td id=\"T_ccbdd_row3_col4\" class=\"data row3 col4\" >20,000</td>\n",
       "      <td id=\"T_ccbdd_row3_col5\" class=\"data row3 col5\" >100.0%</td>\n",
       "    </tr>\n",
       "  </tbody>\n",
       "</table>\n"
      ],
      "text/plain": [
       "<pandas.io.formats.style.Styler at 0xffff380a2da0>"
      ]
     },
     "execution_count": 18,
     "metadata": {},
     "output_type": "execute_result"
    }
   ],
   "source": [
    "non_numeric_summary(reddit)"
   ]
  },
  {
   "cell_type": "markdown",
   "id": "a6c9fe64",
   "metadata": {},
   "source": [
    "---"
   ]
  },
  {
   "cell_type": "markdown",
   "id": "28f4d730",
   "metadata": {},
   "source": [
    "### Examples"
   ]
  },
  {
   "cell_type": "code",
   "execution_count": 33,
   "id": "5111e645",
   "metadata": {},
   "outputs": [
    {
     "data": {
      "text/plain": [
       "[\"Funny story. I went to college in Las Vegas. This was before I knew anything about motorcycling whatsoever. Me and some college buddies would always go out on the strip to the dance clubs. We always ended up at a bar called Hogs &amp; Heifers. It's worth noting the females working there can outdrink\",\n",
       " \"I am trying to determine which is faster, and I've seen the dealership video with the two racing(Roush won 2/3). But I was wondering if it was just because of the bigass supercharger in the Roush. <lb><lb><lb>Also I can't find the same specs on any two websites, what are some trustworthy sources for\",\n",
       " \"Hello! <lb><lb>Trying to find some information on replacing a 2001 Golf Wagon starter (gas).... mine's gone out and going to the dealership is quite out of the range right now. Nor is it in the biggest of rushes. <lb><lb>I live in Japan, and I'm wondering if anyone had any international shipping web\",\n",
       " \"https://www.cars.com/articles/how-often-should-i-change-engine-coolant-1420680853669/<lb><lb>I have a IS 250 AWD from 2006. About 73K miles on it. I've never touched the engine radiator coolant and can't find anything on when to change this in the book. It just says 'long life 100k Toyota coolant.' \",\n",
       " \"Hi, new to this subreddit.  I'm considering buying a Gen1 Volt, but I can't find any straight answers as to what kind of mpg it gets after the battery is completely dead (say I take a 300 mile trip).  What kind of highway mpg does the Gen1 volt get after the battery is depleted? \",\n",
       " \"Lately my car has been a magnet for for dings and other mishaps while parked in my reserved spot and have been parking elsewhere which is unfortunately under a tree. I've noticed after a night of rain when I leave the next day water runs down the back window when I accelerate. Opening the back glass\",\n",
       " 'Hi everyone, <lb><lb>Just came back from a Honda dealership after an oil change and was notified that since my car has over 100k miles now, the timing belt should be replaced. After reading the manual, I agree, but their quoted price for replacing the timing belt (including water pump, tensioner, an',\n",
       " \"I have a stock 2010 FXD that has a rate I can't locate. I can only hear in first and second gear and at idle. I believe it may still be happening in other gears but it's hard to tell with the noise from the wind.<lb><lb>I thought it was the starter drive gear (bendix) so I changed that out and it's \",\n",
       " \"So I'm on a bike trip with my father and we stop to get some food. We park our bikes in a metered spot and are gone about an hour. When we got back to our bikes, i noticed something on the exhaust under the right saddlebag. <lb><lb>Some asshole put a wad of gum on the top of the tailpipe almost out \",\n",
       " \"The state budget passed in April 2016 includes provision for up to $2000 in tax rebate for new electric, plug in and fuel cell vehicles. I didn't see it posted here but here's the link to NRDC press release:<lb><lb>https://www.nrdc.org/experts/luke-tonachel/new-york-state-enacts-electric-vehicle-con\",\n",
       " 'I planning on buying a slightly used Audi A4 2017 model from the dealership that is around 6k miles. Other than Carfax what else should I look for? And is it reliable going down the road, say 5-6 years? (It does still have the original warranty since its not that old)<lb><lb>Also, Its around 32.9k. ',\n",
       " \"Hi r/MB,<lb>In the market for a new car, and have always wanted a Mercedes. Seeing just a few 2016 C300's left in my local dealer's inventory. Wondering if they're still a good buy, or if I should pay up for the 2017? Body style doesn't look much different at first glance, but not too sure about the\",\n",
       " \"I'm currently looking for an engine for my 97 Honda Prelude Type SH and wanted to get some insights on what engine to get? <lb><lb>My current engine's block is shot and I've had two mechanics basically do a poor job of trying to changes the head gasket and resurface the block by hand. Luckily found \",\n",
       " 'Goal is to mount a 7\" tablet, dashcam, and a ham radio on my dashboard. What I really want is a TJ version of this: [http://www.vectoroffroad.com/jke-dock-2007-2010-p-28.html!](http://www.vectoroffroad.com/jke-dock-2007-2010-p-28.html), but I\\'m not having much luck finding one. I\\'ll probably end up ',\n",
       " 'Less than a month of ownership of my 2014 JKU Anvil with a custom 3\" Fabtech lift and 35s and added today:<lb><lb>- Heavy duty Synergy Track Bar Bracket<lb>- Bilstein 5100\\'s<lb>- Truck-Lite LED Headlight Kit <lb>- Procal calibration module for tire size<lb><lb>Next up is a roof rack system. Still re',\n",
       " \"I recently bought the new Pavement Ends Sun Cap Plus by Best Top and it's a complete nightmare so this post doubles as a PSA as well. No matter how tight you strap it down it doesn't stretch the top firmly. Also, the wind bounces the back section so much that a corner will fall off the roll bar in t\",\n",
       " \"I want to run an auxiliary jack for my cell phone without changing the stock head unit out. It can definitely be done as my friend has it in his Chrysler Sebring that has the same radio, but the original owner of his car did it and he hasn't taken the dash apart enough to find out. From my research \",\n",
       " 'Hello!<lb>My boyfriend was accepted to a really difficult grad school and I wanted to surprise him with a roadtrip to the beach! However, the nearest beach from where we live is 14 hours and we are broke college students, so taking my car is our only option (his overheats and has all kinds of issues',\n",
       " \"I'm considering a 997 C4 or C4s to replace my WRX STi.  i live at 9200 feet with a lot of snow and this will be a year round car, so snow tires in the winter.  I'm wondering if the hp difference between the C4 and the C4s is significant enough for me to rule out a deal on a C4 living at this altitud\",\n",
       " \"I have a fully loaded 88 F350 XLT Lariat ex cab long bed.<lb><lb>She's a bit older, but I put in a new engine, trans, paint and she has a great int.  She looks close to new.<lb><lb>I want to put her back on the road, but the California DMV weight fees are HUUUGE.<lb><lb>I have a Gemtop that is OEM f\"]"
      ]
     },
     "execution_count": 33,
     "metadata": {},
     "output_type": "execute_result"
    }
   ],
   "source": [
    "[x[0:300] for x in reddit['post'].iloc[0:20]]"
   ]
  },
  {
   "cell_type": "code",
   "execution_count": 27,
   "id": "1509dc98",
   "metadata": {},
   "outputs": [
    {
     "data": {
      "text/plain": [
       "['funny|story|college|las|vegas|know|motorcycle|whatsoever|college|buddy|strip|dance|club|end|bar|hogs|heifers|worth|note|female|work|outdrink|sign|door|read|club|color|lose|tie|blazer|head|assume|bright|color|like|red|yellow|green|etc|allow|bring|xtra|t|shirt|pair|jean|year|look|naive|hilarious|able|walk|bar|crawl|booze|cheer|ride|safe|boy',\n",
       " 'try|determine|fast|dealership|video|racing(roush|win|wonder|bigass|supercharger|roush|find|spec|website|trustworthy|source|kind|thing',\n",
       " 'hello|try|find|information|replace|golf|wagon|starter|gas|dealership|range|right|big|rush|live|japan|wonder|international|shipping|website|recommend|direction|replace|manual|oh|specific|mention|japanese|tia',\n",
       " '_url_|awd|73|k|mile|touch|engine|radiator|coolant|find|change|book|long|life|100k|toyota|coolant|flushed|change|year|wait|100k',\n",
       " 'hi|new|subreddit|consider|buy|gen1|volt|find|straight|answer|kind|mpg|battery|completely|dead|mile|trip|kind|highway|mpg|gen1|volt|battery|deplete',\n",
       " 'lately|car|magnet|ding|mishap|park|reserve|spot|park|unfortunately|tree|notice|night|rain|leave|day|water|run|down|window|accelerate|open|glass|drive|usually|mean|water|run|down|find|pool|know|drain|hatch|clog|normal',\n",
       " 'hi|come|honda|dealership|oil|change|notify|car|100k|mile|timing|belt|replace|read|manual|agree|quote|price|replace|timing|belt|include|water|pump|tensioner|coolant|service|google|suggest|maybe|local|mechanic|regularly|near|house|tomorrow|honda|dealership|reasonable|distance|price|quote|compare|want|ask|opinion|recommend|stick|dealer|timing|belt|local|shop|ok|local|shop|good|review|great|work|past|usually|like|stick|dealer|big|replacement|know|car|repair|edit|accord|v6|mile',\n",
       " 'stock|fxd|rate|locate|hear|second|gear|idle|believe|happen|gear|hard|tell|noise|wind|think|starter|drive|gear|bendix|change|happen|outer|primary|cover|close|mechanic|friend|look|inside|look|perfect|talk|couple|othe|wrench|tell|compensator|gear|rub|transmission|insight|appreciate',\n",
       " 'bike|trip|father|stop|food|park|bike|meter|spot|hour|bike|notice|exhaust|right|saddlebag|asshole|wad|gum|tailpipe|sight|lucky|spare|rag|water|able|clean|piss|rest|day|bike|happen|run|bike|pipe|hot|gum',\n",
       " 'state|budget|pass|april|include|provision|tax|rebate|new|electric|plug|fuel|cell|vehicle|post|link|nrdc|press|release|_url_|note|available|car|cost|$|saving|model|s.~~|great|news|bring|down|cost|model|ny|federal|state|incentive|p.s|propose|bill|nys|senate|currently|ev|incentive|reduce|sale|taxis|registration|fee|nys|resident|contact|congressman|senator|indicate|support|support|_url_|search|currently|propose|bill|select|aye|nay|right|web|page|edit|/u|thegangler|point|cap|restriction|bill|pass|rebate|available|model|s|owner|initially|read|version|b|bill|assume|provision|carry|final|version',\n",
       " 'plan|buy|slightly|audi|a4|model|dealership|6k|mile|carfax|look|reliable|down|road|year|original|warranty|old|.9k|negotiate',\n",
       " 'hi|r|mb|market|new|car|want|mercedes|c300|left|local|dealer|inventory|wonder|good|buy|pay|body|style|look|different|glance|sure|detail|ref|c300|4matic|p02|premium|package|46k|down|53k|originally|thought|insight|appreciate',\n",
       " 'currently|look|engine|honda|prelude|type|sh|want|insight|engine|current|engine|block|shoot|mechanic|basically|poor|job|try|change|head|gasket|resurface|block|hand|luckily|find|swap|look|engine|live|socal|friend|refer|hmotors|sell|pretty|prelude|engine|verse|engine|look|info|possible|purchase|engine|know|read|type|sh|different|block|want|avoid|buy|wrong|engine|add|complicated|matter|help|info|advice|appreciate',\n",
       " 'goal|mount|tablet|dashcam|ham|radio|dashboard|want|tj|version|_url_|luck|find|probably|end|_url_|ham|radio|leave|want|tablet|dashcam|suggestion',\n",
       " 'month|ownership|jku|anvil|custom|fabtech|lift|35|add|today|heavy|duty|synergy|track|bar|bracket|bilstein|truck|lite|led|headlight|kit|procal|calibration|module|tire|size|roof|rack|system|research|lean|gobi|stealth|look|max|flexibility|roll|current|soft|bestop|treetop|nx|roof|tent|understand|jeep',\n",
       " 'recently|buy|new|pavement|ends|sun|cap|plus|best|complete|nightmare|post|double|psa|no|matter|tight|strap|down|stretch|firmly|wind|bounce|section|corner|fall|roll|bar|turn|release|tension|strap|unhooked|tailgate|bunch|scuff|nick|soundbar|high|speed|whip|experience|couple|mile|highway|times|repeat|matter|tight|pull|straps|stretch|firmly|terribly|design|moment|strap|rigorously|tie|knot|seat|belt|anchor|wind|find|way|bounce|damn|thing|tonneau|cover|wind|screen|combo|work|pretty|door|tonneau|blow|like|balloon|taking|wind|problem|week|half|want|simple|bimini|stay|reach|speed|55|mph',\n",
       " 'want|run|auxiliary|jack|cell|phone|change|stock|head|unit|definitely|friend|chrysler|sebring|radio|original|owner|car|dash|apart|find|research|run|aux|port|cd|changer|come|high|end|mopar|era|find|instruction|knowledge|willing|share|deal|potentially|stupid|question|way|awesome|knowledge|information|greatly|appreciate|tl;dr|need|info|instal|aux|stock|jeep|wrangler|tj|head|unit',\n",
       " 'hello|boyfriend|accept|difficult|grad|school|want|surprise|roadtrip|beach|near|beach|live|hour|break|college|student|car|option|overheat|kind|issue|oil|change|regularly|car|mile|tune|december|mechanic|run|great|replace|battery|plug|issue|find|nervous|drive|vehicle|straight|hour|old|issue|car|drive|year|fail|way|know|subarus|run|forever|second|owner|tire|replace|year|ago|think|risk|try|trip|old|car|risky',\n",
       " 'consider|c4|c4s|replace|wrx|sti|live|foot|lot|snow|year|round|car|snow|tire|winter|wonder|hp|difference|c4|c4s|significant|rule|deal|c4|live|altitude|afford|turbo|look|mainly|c4',\n",
       " 'fully|load|f350|xlt|lariat|ex|cab|long|bed|bit|old|new|engine|tran|paint|great|int|look|close|new|want|road|california|dmv|weight|fee|huuuge|gemtop|oem|highboy|think|bed|cover|trick|pass|weight|fee|understanding|law|haul|haul|reg|car|camper|require|time|inspection|question|solid|bed|cover|job|camper|eye|dmv|weight|fee|%|reg|fee|haul|rent|borrow|hauler|need|sure|state|different|look|california|law|truck|weight|fee|bed|cover']"
      ]
     },
     "execution_count": 27,
     "metadata": {},
     "output_type": "execute_result"
    }
   ],
   "source": [
    "['|'.join(x) for x in islice(reddit_corpus.lemmas(), 20)]"
   ]
  },
  {
   "cell_type": "code",
   "execution_count": 35,
   "id": "2ddccfc2",
   "metadata": {},
   "outputs": [
    {
     "data": {
      "text/plain": [
       "['funny-story|las-vegas|motorcycle-whatsoever|college-buddy|dance-club|hogs-heifers|worth-note|female-work|club-color|assume-bright|bright-color|color-like|like-red|red-yellow|yellow-green|green-etc|xtra-t|t-shirt|ride-safe|safe-boy',\n",
       " 'dealership-video|racing(roush-win|bigass-supercharger|trustworthy-source',\n",
       " 'golf-wagon|wagon-starter|starter-gas|range-right|international-shipping|shipping-website',\n",
       " '73-k|k-mile|engine-radiator|radiator-coolant|long-life|life-100k|100k-toyota|toyota-coolant',\n",
       " 'hi-new|consider-buy|gen1-volt|straight-answer|completely-dead|mile-trip|highway-mpg|gen1-volt',\n",
       " 'reserve-spot|day-water|water-run|run-down|drive-usually|usually-mean|mean-water|water-run|run-down',\n",
       " 'honda-dealership|oil-change|100k-mile|timing-belt|quote-price|timing-belt|belt-include|include-water|water-pump|pump-tensioner|coolant-service|google-suggest|local-mechanic|house-tomorrow|honda-dealership|reasonable-distance|price-quote|recommend-stick|timing-belt|local-shop|local-shop|good-review|great-work|usually-like|big-replacement|car-repair|edit-accord|accord-v6',\n",
       " 'second-gear|starter-drive|drive-gear|gear-bendix|outer-primary|primary-cover|close-mechanic|mechanic-friend|look-perfect|couple-othe|othe-wrench|gear-rub',\n",
       " 'bike-trip|meter-spot|right-saddlebag|spare-rag|water-able',\n",
       " 'state-budget|budget-pass|include-provision|tax-rebate|new-electric|electric-plug|fuel-cell|cell-vehicle|nrdc-press|press-release|release-_url_|model-s.~~|great-news|bring-down|state-incentive|propose-bill|nys-senate|senate-currently|ev-incentive|reduce-sale|sale-taxis|registration-fee|nys-resident|resident-contact|congressman-senator|_url_-search|currently-propose|propose-bill|select-aye|web-page|/u-thegangler|thegangler-point|cap-restriction|model-s|s-owner|initially-read|read-version|version-b|provision-carry|final-version',\n",
       " 'audi-a4|6k-mile|original-warranty',\n",
       " 'hi-r|r-mb|new-car|local-dealer|good-buy|body-style|c300-4matic|p02-premium|premium-package|46k-down|53k-originally|thought-insight',\n",
       " 'currently-look|honda-prelude|prelude-type|type-sh|current-engine|mechanic-basically|poor-job|head-gasket|luckily-find|sell-pretty|prelude-engine|type-sh|different-block|avoid-buy|wrong-engine|complicated-matter|help-info',\n",
       " 'tablet-dashcam|ham-radio|tj-version|luck-find|probably-end|ham-radio',\n",
       " 'jku-anvil|custom-fabtech|fabtech-lift|add-today|today-heavy|heavy-duty|duty-synergy|synergy-track|track-bar|bar-bracket|bracket-bilstein|truck-lite|lite-led|led-headlight|headlight-kit|kit-procal|procal-calibration|calibration-module|tire-size|roof-rack|rack-system|research-lean|gobi-stealth|max-flexibility|current-soft|bestop-treetop|treetop-nx|roof-tent',\n",
       " 'recently-buy|new-pavement|pavement-ends|ends-sun|sun-cap|cap-plus|complete-nightmare|post-double|no-matter|wind-bounce|roll-bar|turn-release|high-speed|speed-whip|couple-mile|stretch-firmly|terribly-design|strap-rigorously|rigorously-tie|seat-belt|belt-anchor|damn-thing|tonneau-cover|wind-screen|screen-combo|work-pretty|tonneau-blow|simple-bimini|55-mph',\n",
       " 'auxiliary-jack|cell-phone|stock-head|head-unit|chrysler-sebring|original-owner|dash-apart|cd-changer|high-end|end-mopar|find-instruction|potentially-stupid|stupid-question|greatly-appreciate|tl;dr-need|need-info|instal-aux|stock-jeep|jeep-wrangler|wrangler-tj|tj-head|head-unit',\n",
       " 'difficult-grad|grad-school|near-beach|break-college|college-student|oil-change|change-regularly|run-great|straight-hour|know-subarus|run-forever|second-owner|year-ago|old-car',\n",
       " 'wrx-sti|year-round|round-car|snow-tire|hp-difference|c4-live|look-mainly',\n",
       " 'fully-load|f350-xlt|xlt-lariat|lariat-ex|ex-cab|cab-long|long-bed|bit-old|new-engine|engine-tran|tran-paint|great-int|look-close|california-dmv|dmv-weight|weight-fee|bed-cover|weight-fee|reg-car|solid-bed|bed-cover|weight-fee|reg-fee|rent-borrow|california-law|truck-weight|weight-fee|bed-cover']"
      ]
     },
     "execution_count": 35,
     "metadata": {},
     "output_type": "execute_result"
    }
   ],
   "source": [
    "['|'.join(x) for x in islice(reddit_corpus.n_grams(2), 20)]"
   ]
  },
  {
   "cell_type": "code",
   "execution_count": 36,
   "id": "b2a28b7b",
   "metadata": {},
   "outputs": [
    {
     "data": {
      "text/plain": [
       "['funny-story|college-buddy|dance-club|worth-note|female-work|assume-bright|bright-color|red-yellow|yellow-green|safe-boy',\n",
       " 'dealership-video|racing(roush-win|bigass-supercharger|trustworthy-source',\n",
       " 'starter-gas|international-shipping|shipping-website',\n",
       " 'k-mile|engine-radiator|radiator-coolant|long-life',\n",
       " 'consider-buy|straight-answer|mile-trip|highway-mpg|gen1-volt',\n",
       " 'reserve-spot|day-water|water-run|mean-water|water-run',\n",
       " 'oil-change|timing-belt|quote-price|timing-belt|belt-include|include-water|water-pump|pump-tensioner|coolant-service|google-suggest|local-mechanic|house-tomorrow|reasonable-distance|price-quote|recommend-stick|timing-belt|local-shop|local-shop|good-review|great-work|big-replacement|car-repair',\n",
       " 'second-gear|starter-drive|drive-gear|gear-bendix|outer-primary|primary-cover|close-mechanic|mechanic-friend|look-perfect|couple-othe|othe-wrench|gear-rub',\n",
       " 'bike-trip|meter-spot|right-saddlebag|spare-rag|water-able',\n",
       " 'state-budget|budget-pass|include-provision|tax-rebate|new-electric|electric-plug|fuel-cell|cell-vehicle|press-release|release-_url_|great-news|state-incentive|propose-bill|reduce-sale|sale-taxis|registration-fee|resident-contact|congressman-senator|propose-bill|web-page|thegangler-point|cap-restriction|read-version|provision-carry|final-version',\n",
       " 'original-warranty',\n",
       " 'r-mb|new-car|local-dealer|good-buy|body-style|premium-package|thought-insight',\n",
       " 'current-engine|poor-job|head-gasket|different-block|avoid-buy|wrong-engine|complicated-matter|help-info',\n",
       " 'tablet-dashcam|ham-radio|luck-find|ham-radio',\n",
       " 'add-today|today-heavy|heavy-duty|procal-calibration|calibration-module|tire-size|roof-rack|rack-system|research-lean|max-flexibility|current-soft|roof-tent',\n",
       " 'complete-nightmare|post-double|wind-bounce|roll-bar|turn-release|high-speed|speed-whip|couple-mile|seat-belt|belt-anchor|damn-thing|tonneau-cover|wind-screen|screen-combo|tonneau-blow|simple-bimini',\n",
       " 'auxiliary-jack|cell-phone|stock-head|head-unit|original-owner|high-end|end-mopar|find-instruction|stupid-question|tl;dr-need|need-info|instal-aux|stock-jeep|head-unit',\n",
       " 'difficult-grad|grad-school|near-beach|break-college|college-student|oil-change|run-great|straight-hour|know-subarus|second-owner|old-car',\n",
       " 'year-round|round-car|snow-tire',\n",
       " 'cab-long|long-bed|bit-old|new-engine|engine-tran|tran-paint|great-int|look-close|weight-fee|bed-cover|weight-fee|reg-car|solid-bed|bed-cover|weight-fee|reg-fee|rent-borrow|truck-weight|weight-fee|bed-cover']"
      ]
     },
     "execution_count": 36,
     "metadata": {},
     "output_type": "execute_result"
    }
   ],
   "source": [
    "['|'.join(x) for x in islice(reddit_corpus.noun_phrases(), 20)]"
   ]
  },
  {
   "cell_type": "markdown",
   "id": "3042cf6f",
   "metadata": {},
   "source": [
    "## Explore Non-Text Columns"
   ]
  },
  {
   "cell_type": "markdown",
   "id": "4771d0e7",
   "metadata": {},
   "source": [
    "#### Impurity"
   ]
  },
  {
   "cell_type": "code",
   "execution_count": 53,
   "id": "0d01e94d",
   "metadata": {},
   "outputs": [
    {
     "data": {
      "text/html": [
       "<div>\n",
       "<style scoped>\n",
       "    .dataframe tbody tr th:only-of-type {\n",
       "        vertical-align: middle;\n",
       "    }\n",
       "\n",
       "    .dataframe tbody tr th {\n",
       "        vertical-align: top;\n",
       "    }\n",
       "\n",
       "    .dataframe thead th {\n",
       "        text-align: right;\n",
       "    }\n",
       "</style>\n",
       "<table border=\"1\" class=\"dataframe tex2jax_ignore\">\n",
       "  <thead>\n",
       "    <tr style=\"text-align: right;\">\n",
       "      <th></th>\n",
       "      <th>percentile</th>\n",
       "      <th>value</th>\n",
       "    </tr>\n",
       "  </thead>\n",
       "  <tbody>\n",
       "    <tr>\n",
       "      <th>0</th>\n",
       "      <td>0.00</td>\n",
       "      <td>0.00</td>\n",
       "    </tr>\n",
       "    <tr>\n",
       "      <th>1</th>\n",
       "      <td>0.01</td>\n",
       "      <td>0.00</td>\n",
       "    </tr>\n",
       "    <tr>\n",
       "      <th>2</th>\n",
       "      <td>0.05</td>\n",
       "      <td>0.00</td>\n",
       "    </tr>\n",
       "    <tr>\n",
       "      <th>3</th>\n",
       "      <td>0.50</td>\n",
       "      <td>0.00</td>\n",
       "    </tr>\n",
       "    <tr>\n",
       "      <th>4</th>\n",
       "      <td>0.95</td>\n",
       "      <td>0.01</td>\n",
       "    </tr>\n",
       "    <tr>\n",
       "      <th>5</th>\n",
       "      <td>0.99</td>\n",
       "      <td>0.01</td>\n",
       "    </tr>\n",
       "    <tr>\n",
       "      <th>6</th>\n",
       "      <td>1.00</td>\n",
       "      <td>0.06</td>\n",
       "    </tr>\n",
       "  </tbody>\n",
       "</table>\n",
       "</div>"
      ],
      "text/plain": [
       "   percentile  value\n",
       "0        0.00   0.00\n",
       "1        0.01   0.00\n",
       "2        0.05   0.00\n",
       "3        0.50   0.00\n",
       "4        0.95   0.01\n",
       "5        0.99   0.01\n",
       "6        1.00   0.06"
      ]
     },
     "execution_count": 53,
     "metadata": {},
     "output_type": "execute_result"
    }
   ],
   "source": [
    "percentiles(np.array([x.impurity() for x in reddit_corpus]))"
   ]
  },
  {
   "cell_type": "code",
   "execution_count": 39,
   "id": "7383ad3b",
   "metadata": {},
   "outputs": [
    {
     "ename": "NameError",
     "evalue": "name 'df' is not defined",
     "output_type": "error",
     "traceback": [
      "\u001b[0;31m---------------------------------------------------------------------------\u001b[0m",
      "\u001b[0;31mNameError\u001b[0m                                 Traceback (most recent call last)",
      "Cell \u001b[0;32mIn[39], line 1\u001b[0m\n\u001b[0;32m----> 1\u001b[0m ax \u001b[39m=\u001b[39m df[\u001b[39m'\u001b[39m\u001b[39mimpurity\u001b[39m\u001b[39m'\u001b[39m]\u001b[39m.\u001b[39mplot(kind\u001b[39m=\u001b[39m\u001b[39m'\u001b[39m\u001b[39mbox\u001b[39m\u001b[39m'\u001b[39m, vert\u001b[39m=\u001b[39m\u001b[39mFalse\u001b[39;00m, figsize\u001b[39m=\u001b[39m(\u001b[39m10\u001b[39m, \u001b[39m1\u001b[39m))\n\u001b[1;32m      2\u001b[0m ax\u001b[39m.\u001b[39mset_title(\u001b[39m\"\u001b[39m\u001b[39mDistribution of Post Impurity\u001b[39m\u001b[39m\"\u001b[39m)\n\u001b[1;32m      3\u001b[0m ax\u001b[39m.\u001b[39mset_xlabel(\u001b[39m\"\u001b[39m\u001b[39mImpurity\u001b[39m\u001b[39m\"\u001b[39m)\n",
      "\u001b[0;31mNameError\u001b[0m: name 'df' is not defined"
     ]
    }
   ],
   "source": [
    "ax = df['impurity'].plot(kind='box', vert=False, figsize=(10, 1))\n",
    "ax.set_title(\"Distribution of Post Impurity\")\n",
    "ax.set_xlabel(\"Impurity\")\n",
    "ax.set_yticklabels([])\n",
    "ax;"
   ]
  },
  {
   "cell_type": "code",
   "execution_count": null,
   "id": "df1a35b2",
   "metadata": {},
   "outputs": [],
   "source": [
    "df[['impurity', 'post', 'post_clean']].sort_values('impurity', ascending=False).head()"
   ]
  },
  {
   "cell_type": "code",
   "execution_count": null,
   "id": "8acb7661",
   "metadata": {},
   "outputs": [],
   "source": [
    "df['language'].value_counts(ascending=False)"
   ]
  },
  {
   "cell_type": "code",
   "execution_count": null,
   "id": "30ad0b49",
   "metadata": {},
   "outputs": [],
   "source": [
    "df['subreddit'].value_counts(ascending=False)"
   ]
  },
  {
   "cell_type": "markdown",
   "id": "bfea5123",
   "metadata": {},
   "source": [
    "Explore idiosyncrasies of various columns, e.g. same speaker represented multiple ways."
   ]
  },
  {
   "cell_type": "markdown",
   "id": "39806fcc",
   "metadata": {},
   "source": [
    "---"
   ]
  },
  {
   "cell_type": "markdown",
   "id": "59ddcf01",
   "metadata": {},
   "source": [
    "## Explore Text Column|"
   ]
  },
  {
   "cell_type": "markdown",
   "id": "ad589f46",
   "metadata": {},
   "source": [
    "### Top Words Used"
   ]
  },
  {
   "cell_type": "code",
   "execution_count": null,
   "id": "98cc2235",
   "metadata": {},
   "outputs": [],
   "source": [
    "remove_tokens = {'_number_', 'car'}\n",
    "count_tokens(df['partial_lemmas'], remove_tokens=remove_tokens).head(10)"
   ]
  },
  {
   "cell_type": "markdown",
   "id": "79304967",
   "metadata": {},
   "source": [
    "---"
   ]
  },
  {
   "cell_type": "markdown",
   "id": "470c14d1",
   "metadata": {},
   "source": [
    "### Distribution of Text Length"
   ]
  },
  {
   "cell_type": "code",
   "execution_count": null,
   "id": "0951cab8",
   "metadata": {},
   "outputs": [],
   "source": [
    "ax = df['post_length'].plot(kind='box', vert=False, figsize=(10, 1))\n",
    "ax.set_title(\"Distribution of Post Length\")\n",
    "ax.set_xlabel(\"# of Characters\")\n",
    "ax.set_yticklabels([])\n",
    "ax;"
   ]
  },
  {
   "cell_type": "code",
   "execution_count": null,
   "id": "fbdf39cd",
   "metadata": {},
   "outputs": [],
   "source": [
    "ax = df['post_length'].plot(kind='hist', bins=60, figsize=(10, 2));\n",
    "ax.set_title(\"Distribution of Post Length\")\n",
    "ax.set_xlabel(\"# of Characters\")\n",
    "ax;"
   ]
  },
  {
   "cell_type": "code",
   "execution_count": null,
   "id": "174ccd0c",
   "metadata": {},
   "outputs": [],
   "source": [
    "import seaborn as sns\n",
    "sns.displot(df['post_length'], bins=60, kde=True, height=3, aspect=3);"
   ]
  },
  {
   "cell_type": "code",
   "execution_count": null,
   "id": "01f92ecf",
   "metadata": {},
   "outputs": [],
   "source": [
    "where = df['subreddit'].isin([\n",
    "    'Lexus', \n",
    "    'mercedes_benz',\n",
    "    'Audi',\n",
    "    'Volvo',\n",
    "    'BMW',\n",
    "])\n",
    "g = sns.catplot(data=df[where], x=\"subreddit\", y=\"post_length\", kind='box')\n",
    "g.fig.set_size_inches(6, 3)\n",
    "g.fig.set_dpi(100)\n",
    "g = sns.catplot(data=df[where], x=\"subreddit\", y=\"post_length\", kind='violin')\n",
    "g.fig.set_size_inches(6, 3)\n",
    "g.fig.set_dpi(100)"
   ]
  },
  {
   "cell_type": "markdown",
   "id": "115e8fee",
   "metadata": {},
   "source": [
    "### Word Frequency"
   ]
  },
  {
   "cell_type": "code",
   "execution_count": null,
   "id": "9da159b0",
   "metadata": {},
   "outputs": [],
   "source": [
    "counts_df = count_tokens(df['partial_lemmas'], remove_tokens=remove_tokens)"
   ]
  },
  {
   "cell_type": "code",
   "execution_count": null,
   "id": "ff9c2fc8",
   "metadata": {},
   "outputs": [],
   "source": [
    "def plot_wordcloud(frequency_dict):\n",
    "    wc = wordcloud.WordCloud(background_color='white',\n",
    "        #colormap='RdYlGn',\n",
    "        colormap='tab20b',\n",
    "        width=round(hlpp.STANDARD_WIDTH*100),\n",
    "        height=round(hlpp.STANDARD_HEIGHT*100),\n",
    "        max_words = 200, max_font_size=150,\n",
    "        random_state=42\n",
    "    )\n",
    "    wc.generate_from_frequencies(frequency_dict)\n",
    "\n",
    "    fig, ax = plt.subplots(figsize=(hlpp.STANDARD_WIDTH, hlpp.STANDARD_HEIGHT))\n",
    "    ax.imshow(wc, interpolation='bilinear')\n",
    "    #plt.title(\"XXX\")\n",
    "    plt.axis('off')"
   ]
  },
  {
   "cell_type": "code",
   "execution_count": null,
   "id": "8f9d6d2f",
   "metadata": {},
   "outputs": [],
   "source": [
    "plot_wordcloud(counts_df.to_dict()['frequency']);"
   ]
  },
  {
   "cell_type": "markdown",
   "id": "d94f32c1",
   "metadata": {},
   "source": [
    "### TF-IDF"
   ]
  },
  {
   "cell_type": "code",
   "execution_count": null,
   "id": "cb36ef18",
   "metadata": {},
   "outputs": [],
   "source": [
    "tf_idf_lemmas = tf_idf(\n",
    "    df=df,\n",
    "    tokens_column='partial_lemmas',\n",
    "    segment_columns = None,\n",
    "    min_frequency_corpus=20,\n",
    "    min_frequency_document=20,\n",
    "    remove_tokens=remove_tokens,\n",
    ")\n",
    "tf_idf_lemmas.head()"
   ]
  },
  {
   "cell_type": "code",
   "execution_count": null,
   "id": "95e71aef",
   "metadata": {},
   "outputs": [],
   "source": [
    "remove_tokens_bi_grams = {'_number_ year', '_number_ _number_', 'hey guy'}\n",
    "tf_idf_bi_grams = tf_idf(\n",
    "    df=df,\n",
    "    tokens_column='bi_grams',\n",
    "    segment_columns = None,\n",
    "    min_frequency_corpus=20,\n",
    "    min_frequency_document=20,\n",
    "    remove_tokens=remove_tokens_bi_grams,\n",
    ")\n",
    "tf_idf_bi_grams.head()"
   ]
  },
  {
   "cell_type": "code",
   "execution_count": null,
   "id": "7a9ffd17",
   "metadata": {},
   "outputs": [],
   "source": [
    "tf_idf_nouns = tf_idf(\n",
    "    df=df,\n",
    "    tokens_column='nouns',\n",
    "    segment_columns = None,\n",
    "    min_frequency_corpus=20,\n",
    "    min_frequency_document=20,\n",
    "    remove_tokens=remove_tokens,\n",
    ")\n",
    "tf_idf_nouns.head()"
   ]
  },
  {
   "cell_type": "code",
   "execution_count": null,
   "id": "20834d7e",
   "metadata": {},
   "outputs": [],
   "source": [
    "tf_idf_noun_phrases = tf_idf(\n",
    "    df=df,\n",
    "    tokens_column='noun_phrases',\n",
    "    segment_columns = None,\n",
    "    min_frequency_corpus=20,\n",
    "    min_frequency_document=20,\n",
    "    remove_tokens=remove_tokens_bi_grams,\n",
    ")\n",
    "tf_idf_noun_phrases.head()"
   ]
  },
  {
   "cell_type": "markdown",
   "id": "2b4d9bdc",
   "metadata": {},
   "source": [
    "---"
   ]
  },
  {
   "cell_type": "code",
   "execution_count": null,
   "id": "828e7896",
   "metadata": {},
   "outputs": [],
   "source": [
    "ax = tf_idf_lemmas.head(30)[['tf-idf']].plot(kind='barh', width=0.99)\n",
    "ax.set_title(\"TF-IDF of Uni-Grams\")\n",
    "ax.set_xlabel(\"TF-IDF\")\n",
    "ax.invert_yaxis();"
   ]
  },
  {
   "cell_type": "code",
   "execution_count": null,
   "id": "4bd014d2",
   "metadata": {},
   "outputs": [],
   "source": [
    "ax = tf_idf_bi_grams.head(30)[['tf-idf']].plot(kind='barh', width=0.99)\n",
    "ax.set_title(\"TF-IDF of Bi-Grams\")\n",
    "ax.set_xlabel(\"TF-IDF\")\n",
    "ax.invert_yaxis();"
   ]
  },
  {
   "cell_type": "code",
   "execution_count": null,
   "id": "e59042a2",
   "metadata": {},
   "outputs": [],
   "source": [
    "ax = tf_idf_nouns.head(30)[['tf-idf']].plot(kind='barh', width=0.99)\n",
    "ax.set_title(\"TF-IDF of Bi-Grams\")\n",
    "ax.set_xlabel(\"TF-IDF\")\n",
    "ax.invert_yaxis();"
   ]
  },
  {
   "cell_type": "code",
   "execution_count": null,
   "id": "d4c468ba",
   "metadata": {},
   "outputs": [],
   "source": [
    "ax = tf_idf_noun_phrases.head(30)[['tf-idf']].plot(kind='barh', width=0.99)\n",
    "ax.set_title(\"TF-IDF of Bi-Grams\")\n",
    "ax.set_xlabel(\"TF-IDF\")\n",
    "ax.invert_yaxis();"
   ]
  },
  {
   "cell_type": "code",
   "execution_count": null,
   "id": "de9a5a92",
   "metadata": {},
   "outputs": [],
   "source": [
    "plot_wordcloud(tf_idf_lemmas.to_dict()['tf-idf']);"
   ]
  },
  {
   "cell_type": "code",
   "execution_count": null,
   "id": "beca2c86",
   "metadata": {},
   "outputs": [],
   "source": [
    "plot_wordcloud(tf_idf_bi_grams.to_dict()['tf-idf']);"
   ]
  },
  {
   "cell_type": "markdown",
   "id": "1b1f7aa0",
   "metadata": {},
   "source": [
    "#### By Subreddit"
   ]
  },
  {
   "cell_type": "code",
   "execution_count": null,
   "id": "346d5432",
   "metadata": {},
   "outputs": [],
   "source": [
    "remove_tokens_subreddit = set(df.subreddit.str.lower().unique())\n",
    "remove_tokens_subreddit"
   ]
  },
  {
   "cell_type": "code",
   "execution_count": null,
   "id": "7d6e0ed0",
   "metadata": {},
   "outputs": [],
   "source": [
    "tf_idf_lemmas_per_sub = tf_idf(\n",
    "    df=df,\n",
    "    tokens_column='partial_lemmas',\n",
    "    segment_columns = 'subreddit',\n",
    "    min_frequency_corpus=10,\n",
    "    min_frequency_document=10,\n",
    "    remove_tokens=remove_tokens | remove_tokens_subreddit \n",
    ")\n",
    "tf_idf_lemmas_per_sub.head(5)"
   ]
  },
  {
   "cell_type": "code",
   "execution_count": null,
   "id": "557ac16c",
   "metadata": {},
   "outputs": [],
   "source": [
    "tf_idf_bigrams_per_sub = tf_idf(\n",
    "    df=df,\n",
    "    tokens_column='bi_grams',\n",
    "    segment_columns = 'subreddit',\n",
    "    min_frequency_corpus=10,\n",
    "    min_frequency_document=10,\n",
    "    remove_tokens=remove_tokens_bi_grams\n",
    ")\n",
    "tf_idf_bigrams_per_sub.head(5)"
   ]
  },
  {
   "cell_type": "code",
   "execution_count": null,
   "id": "26da767d",
   "metadata": {},
   "outputs": [],
   "source": [
    "tf_idf_nouns_per_sub = tf_idf(\n",
    "    df=df,\n",
    "    tokens_column='nouns',\n",
    "    segment_columns = 'subreddit',\n",
    "    min_frequency_corpus=10,\n",
    "    min_frequency_document=10,\n",
    "    remove_tokens=remove_tokens | remove_tokens_subreddit\n",
    ")\n",
    "tf_idf_nouns_per_sub.head(5)"
   ]
  },
  {
   "cell_type": "code",
   "execution_count": null,
   "id": "c6b94f85",
   "metadata": {},
   "outputs": [],
   "source": [
    "tf_idf_nounphrases_per_sub = tf_idf(\n",
    "    df=df,\n",
    "    tokens_column='noun_phrases',\n",
    "    segment_columns = 'subreddit',\n",
    "    min_frequency_corpus=10,\n",
    "    min_frequency_document=10,\n",
    "    remove_tokens=remove_tokens_bi_grams\n",
    ")\n",
    "tf_idf_nounphrases_per_sub.head(5)"
   ]
  },
  {
   "cell_type": "markdown",
   "id": "114afa3c",
   "metadata": {},
   "source": [
    "---"
   ]
  },
  {
   "cell_type": "code",
   "execution_count": null,
   "id": "8e292a77",
   "metadata": {},
   "outputs": [],
   "source": [
    "tokens_to_show = tf_idf_lemmas_per_sub.query(\"subreddit in ['Lexus', 'Volvo']\").reset_index()\n",
    "tokens_to_show.head()"
   ]
  },
  {
   "cell_type": "code",
   "execution_count": null,
   "id": "b8753e81",
   "metadata": {},
   "outputs": [],
   "source": [
    "px.bar(\n",
    "    tokens_to_show.groupby(['subreddit']).head(20).sort_values('tf-idf', ascending=True),\n",
    "    x='tf-idf',\n",
    "    y='token',\n",
    "    color='subreddit',\n",
    "    barmode='group',\n",
    "    title=\"Top 20 Lemmas for Volvo & Lexus\"\n",
    ")"
   ]
  },
  {
   "cell_type": "code",
   "execution_count": null,
   "id": "5811eab0",
   "metadata": {},
   "outputs": [],
   "source": [
    "tokens_to_show = tf_idf_bigrams_per_sub.query(\"subreddit in ['Lexus', 'Volvo']\").reset_index()\n",
    "tokens_to_show.head()"
   ]
  },
  {
   "cell_type": "code",
   "execution_count": null,
   "id": "b8be0b36",
   "metadata": {},
   "outputs": [],
   "source": [
    "px.bar(\n",
    "    tokens_to_show.groupby(['subreddit']).head(20).sort_values('tf-idf', ascending=True),\n",
    "    x='tf-idf',\n",
    "    y='token',\n",
    "    color='subreddit',\n",
    "    barmode='group',\n",
    "    title=\"Top 20 Bi-Grams for Volvo & Lexus\"\n",
    ")"
   ]
  },
  {
   "cell_type": "markdown",
   "id": "9bfc4ad6",
   "metadata": {},
   "source": [
    "---"
   ]
  },
  {
   "cell_type": "code",
   "execution_count": null,
   "id": "e60876c8",
   "metadata": {},
   "outputs": [],
   "source": [
    "get_context_from_keyword(df.query(\"subreddit == 'Lexus'\")['post'], keyword='think')"
   ]
  },
  {
   "cell_type": "code",
   "execution_count": null,
   "id": "456ba44e",
   "metadata": {},
   "outputs": [],
   "source": [
    "get_context_from_keyword(df.query(\"subreddit == 'Volvo'\")['post'], keyword='think')"
   ]
  },
  {
   "cell_type": "markdown",
   "id": "abe1f314",
   "metadata": {},
   "source": [
    "##### Lexus"
   ]
  },
  {
   "cell_type": "code",
   "execution_count": null,
   "id": "dd5fcb40",
   "metadata": {},
   "outputs": [],
   "source": [
    "tokens_to_show = tf_idf_lemmas_per_sub.query(\"subreddit == 'Lexus'\").reset_index()\n",
    "#tokens_to_show = tokens_to_show[~tokens_to_show.token.isin(stop_words)]\n",
    "tokens_to_show = tokens_to_show[['token', 'tf-idf']].set_index('token')\n",
    "tokens_to_show = tokens_to_show.to_dict()['tf-idf']\n",
    "plot_wordcloud(tokens_to_show);"
   ]
  },
  {
   "cell_type": "markdown",
   "id": "a407ad5f",
   "metadata": {},
   "source": [
    "##### Volvo"
   ]
  },
  {
   "cell_type": "code",
   "execution_count": null,
   "id": "71d83cb7",
   "metadata": {},
   "outputs": [],
   "source": [
    "tokens_to_show = tf_idf_lemmas_per_sub.query(\"subreddit == 'Volvo'\").reset_index()\n",
    "#tokens_to_show = tokens_to_show[~tokens_to_show.token.isin(stop_words)]\n",
    "tokens_to_show = tokens_to_show[['token', 'tf-idf']].set_index('token')\n",
    "tokens_to_show = tokens_to_show.to_dict()['tf-idf']\n",
    "plot_wordcloud(tokens_to_show);"
   ]
  },
  {
   "cell_type": "markdown",
   "id": "d375ea2f",
   "metadata": {},
   "source": [
    "### Keywords in Context"
   ]
  },
  {
   "cell_type": "code",
   "execution_count": null,
   "id": "f7455ee7",
   "metadata": {},
   "outputs": [],
   "source": [
    "contexts = get_context_from_keyword(\n",
    "    documents=df['post'],\n",
    "    window_width=50,\n",
    "    keyword='replac',\n",
    "    num_samples = 20,\n",
    "    random_seed=42\n",
    ")\n",
    "for x in contexts:\n",
    "    print(x)"
   ]
  },
  {
   "cell_type": "markdown",
   "id": "ca164c4e",
   "metadata": {},
   "source": [
    "---"
   ]
  }
 ],
 "metadata": {
  "kernelspec": {
   "display_name": "Python 3",
   "language": "python",
   "name": "python3"
  },
  "language_info": {
   "codemirror_mode": {
    "name": "ipython",
    "version": 3
   },
   "file_extension": ".py",
   "mimetype": "text/x-python",
   "name": "python",
   "nbconvert_exporter": "python",
   "pygments_lexer": "ipython3",
   "version": "3.10.10"
  },
  "toc": {
   "base_numbering": 1,
   "nav_menu": {},
   "number_sections": false,
   "sideBar": true,
   "skip_h1_title": false,
   "title_cell": "Table of Contents",
   "title_sidebar": "Contents",
   "toc_cell": false,
   "toc_position": {
    "height": "calc(100% - 180px)",
    "left": "10px",
    "top": "150px",
    "width": "235px"
   },
   "toc_section_display": true,
   "toc_window_display": true
  },
  "vscode": {
   "interpreter": {
    "hash": "949777d72b0d2535278d3dc13498b2535136f6dfe0678499012e853ee9abcab1"
   }
  }
 },
 "nbformat": 4,
 "nbformat_minor": 5
}
