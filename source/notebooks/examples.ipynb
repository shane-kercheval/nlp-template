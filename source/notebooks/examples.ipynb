{
 "cells": [
  {
   "cell_type": "code",
   "execution_count": 1,
   "metadata": {},
   "outputs": [],
   "source": [
    "import pandas as pd\n",
    "from source.library.text_cleaning_simple import tokenize, remove_stop_words, prepare, \\\n",
    "    get_stop_words, get_n_grams\n",
    "from source.library.text_preparation import clean, predict_language\n",
    "\n",
    "un_debates = pd.read_csv('/code/artifacts/data/external/un-general-debates-blueprint.csv.zip')"
   ]
  },
  {
   "cell_type": "code",
   "execution_count": 2,
   "metadata": {},
   "outputs": [
    {
     "data": {
      "text/html": [
       "<div>\n",
       "<style scoped>\n",
       "    .dataframe tbody tr th:only-of-type {\n",
       "        vertical-align: middle;\n",
       "    }\n",
       "\n",
       "    .dataframe tbody tr th {\n",
       "        vertical-align: top;\n",
       "    }\n",
       "\n",
       "    .dataframe thead th {\n",
       "        text-align: right;\n",
       "    }\n",
       "</style>\n",
       "<table border=\"1\" class=\"dataframe\">\n",
       "  <thead>\n",
       "    <tr style=\"text-align: right;\">\n",
       "      <th></th>\n",
       "      <th>session</th>\n",
       "      <th>year</th>\n",
       "      <th>country</th>\n",
       "      <th>country_name</th>\n",
       "      <th>speaker</th>\n",
       "      <th>position</th>\n",
       "      <th>text</th>\n",
       "    </tr>\n",
       "  </thead>\n",
       "  <tbody>\n",
       "    <tr>\n",
       "      <th>0</th>\n",
       "      <td>25</td>\n",
       "      <td>1970</td>\n",
       "      <td>ALB</td>\n",
       "      <td>Albania</td>\n",
       "      <td>Mr. NAS</td>\n",
       "      <td>NaN</td>\n",
       "      <td>33: May I first convey to our President the co...</td>\n",
       "    </tr>\n",
       "    <tr>\n",
       "      <th>1</th>\n",
       "      <td>25</td>\n",
       "      <td>1970</td>\n",
       "      <td>ARG</td>\n",
       "      <td>Argentina</td>\n",
       "      <td>Mr. DE PABLO PARDO</td>\n",
       "      <td>NaN</td>\n",
       "      <td>177.\\t : It is a fortunate coincidence that pr...</td>\n",
       "    </tr>\n",
       "    <tr>\n",
       "      <th>2</th>\n",
       "      <td>25</td>\n",
       "      <td>1970</td>\n",
       "      <td>AUS</td>\n",
       "      <td>Australia</td>\n",
       "      <td>Mr. McMAHON</td>\n",
       "      <td>NaN</td>\n",
       "      <td>100.\\t  It is a pleasure for me to extend to y...</td>\n",
       "    </tr>\n",
       "    <tr>\n",
       "      <th>3</th>\n",
       "      <td>25</td>\n",
       "      <td>1970</td>\n",
       "      <td>AUT</td>\n",
       "      <td>Austria</td>\n",
       "      <td>Mr. KIRCHSCHLAEGER</td>\n",
       "      <td>NaN</td>\n",
       "      <td>155.\\t  May I begin by expressing to Ambassado...</td>\n",
       "    </tr>\n",
       "    <tr>\n",
       "      <th>4</th>\n",
       "      <td>25</td>\n",
       "      <td>1970</td>\n",
       "      <td>BEL</td>\n",
       "      <td>Belgium</td>\n",
       "      <td>Mr. HARMEL</td>\n",
       "      <td>NaN</td>\n",
       "      <td>176. No doubt each of us, before coming up to ...</td>\n",
       "    </tr>\n",
       "  </tbody>\n",
       "</table>\n",
       "</div>"
      ],
      "text/plain": [
       "   session  year country country_name             speaker position  \\\n",
       "0       25  1970     ALB      Albania             Mr. NAS      NaN   \n",
       "1       25  1970     ARG    Argentina  Mr. DE PABLO PARDO      NaN   \n",
       "2       25  1970     AUS    Australia         Mr. McMAHON      NaN   \n",
       "3       25  1970     AUT      Austria  Mr. KIRCHSCHLAEGER      NaN   \n",
       "4       25  1970     BEL      Belgium          Mr. HARMEL      NaN   \n",
       "\n",
       "                                                text  \n",
       "0  33: May I first convey to our President the co...  \n",
       "1  177.\\t : It is a fortunate coincidence that pr...  \n",
       "2  100.\\t  It is a pleasure for me to extend to y...  \n",
       "3  155.\\t  May I begin by expressing to Ambassado...  \n",
       "4  176. No doubt each of us, before coming up to ...  "
      ]
     },
     "execution_count": 2,
     "metadata": {},
     "output_type": "execute_result"
    }
   ],
   "source": [
    "un_debates.head()"
   ]
  },
  {
   "cell_type": "code",
   "execution_count": 3,
   "metadata": {},
   "outputs": [
    {
     "data": {
      "text/plain": [
       "'33: May I first convey to our President the congratulations of the Albanian delegation on his election to the Presidency of the twenty-fifth session of the General Assembly?\\n34.\\tIn taking up the work on the agenda of the twenty- fifth session of the General Assembly, which is being held on the eve of the twenty-fifth anniversary of the coming into force of the Charter of the United Nations, the peace-loving Member States would have wished to be in a position to present on this occasion some picture of positive and satisfactory activity on the part of the United Nations. The Albanian delegation, for its part, would have taken great pleasure in drawing up such a balance sheet of activities covering a quarter of a century, which is certainly no short period in the life of an international organization. Unfortunately, this is not the situation. Created on the day after victory had been achieved over the Powers of the Rome BerlinTokyo Axis and conceived in the spirit of the principles which'"
      ]
     },
     "execution_count": 3,
     "metadata": {},
     "output_type": "execute_result"
    }
   ],
   "source": [
    "sample = un_debates.loc[0, 'text'][0:1000]\n",
    "sample"
   ]
  },
  {
   "attachments": {},
   "cell_type": "markdown",
   "metadata": {},
   "source": [
    "# `text_preperation`"
   ]
  },
  {
   "cell_type": "code",
   "execution_count": 4,
   "metadata": {},
   "outputs": [
    {
     "data": {
      "text/plain": [
       "'_NUMBER_ : May I first convey to our President the congratulations of the Albanian delegation on his election to the Presidency of the twenty-fifth session of the General Assembly? _NUMBER_ . In taking up the work on the agenda of the twentyfifth session of the General Assembly, which is being held on the eve of the twenty-fifth anniversary of the coming into force of the Charter of the United Nations, the peace-loving Member States would have wished to be in a position to present on this occasion some picture of positive and satisfactory activity on the part of the United Nations. The Albanian delegation, for its part, would have taken great pleasure in drawing up such a balance sheet of activities covering a quarter of a century, which is certainly no short period in the life of an international organization. Unfortunately, this is not the situation. Created on the day after victory had been achieved over the Powers of the Rome BerlinTokyo Axis and conceived in the spirit of the principles which'"
      ]
     },
     "execution_count": 4,
     "metadata": {},
     "output_type": "execute_result"
    }
   ],
   "source": [
    "clean(\n",
    "    text=sample,\n",
    "    remove_angle_bracket_content=True,\n",
    "    remove_bracket_content=True,\n",
    "    replace_urls=\" _URL_ \",\n",
    "    replace_hashtags=\" _TAG_ \",\n",
    "    replace_numbers=\" _NUMBER_ \",\n",
    "    replace_user_handles=\" _USER_ \",\n",
    "    replace_emoji=\" _EMOJI_ \"\n",
    ")"
   ]
  },
  {
   "cell_type": "code",
   "execution_count": 7,
   "metadata": {},
   "outputs": [
    {
     "name": "stdout",
     "output_type": "stream",
     "text": [
      "English\n",
      "en\n"
     ]
    }
   ],
   "source": [
    "print(predict_language(text=sample))\n",
    "print(predict_language(text=sample, return_language_code=True))"
   ]
  },
  {
   "attachments": {},
   "cell_type": "markdown",
   "metadata": {},
   "source": [
    "# `text_cleaning_simple`"
   ]
  },
  {
   "cell_type": "code",
   "execution_count": 17,
   "metadata": {},
   "outputs": [
    {
     "data": {
      "text/plain": [
       "['may',\n",
       " 'first',\n",
       " 'convey',\n",
       " 'president',\n",
       " 'congratulations',\n",
       " 'albanian',\n",
       " 'delegation',\n",
       " 'election',\n",
       " 'presidency',\n",
       " 'twenty-fifth']"
      ]
     },
     "execution_count": 17,
     "metadata": {},
     "output_type": "execute_result"
    }
   ],
   "source": [
    "prepare(sample)[0:10]  # converts to lower case, tokenizes, and removes stop words"
   ]
  },
  {
   "cell_type": "code",
   "execution_count": 9,
   "metadata": {},
   "outputs": [
    {
     "data": {
      "text/plain": [
       "['first convey',\n",
       " 'albanian delegation',\n",
       " 'twenty-fifth session',\n",
       " 'general assembly',\n",
       " 'twenty- fifth',\n",
       " 'fifth session',\n",
       " 'general assembly',\n",
       " 'twenty-fifth anniversary',\n",
       " 'united nations',\n",
       " 'peace-loving member',\n",
       " 'member states',\n",
       " 'states would',\n",
       " 'satisfactory activity',\n",
       " 'united nations',\n",
       " 'albanian delegation',\n",
       " 'part would',\n",
       " 'taken great',\n",
       " 'great pleasure',\n",
       " 'balance sheet',\n",
       " 'activities covering',\n",
       " 'short period',\n",
       " 'international organization',\n",
       " 'organization unfortunately',\n",
       " 'situation created',\n",
       " 'rome berlintokyo',\n",
       " 'berlintokyo axis']"
      ]
     },
     "execution_count": 9,
     "metadata": {},
     "output_type": "execute_result"
    }
   ],
   "source": [
    "def _get_n_grams(text: str, n=2) -> list:\n",
    "    tokens = prepare(text=text, pipeline=[str.lower, tokenize])\n",
    "    return get_n_grams(tokens=tokens, n=n, stop_words=get_stop_words())\n",
    "\n",
    "n_grams_2 = _get_n_grams(text=sample, n=2)\n",
    "n_grams_2"
   ]
  },
  {
   "cell_type": "code",
   "execution_count": 10,
   "metadata": {},
   "outputs": [
    {
     "data": {
      "text/plain": [
       "['twenty- fifth session',\n",
       " 'peace-loving member states',\n",
       " 'member states would',\n",
       " 'taken great pleasure',\n",
       " 'international organization unfortunately',\n",
       " 'rome berlintokyo axis']"
      ]
     },
     "execution_count": 10,
     "metadata": {},
     "output_type": "execute_result"
    }
   ],
   "source": [
    "n_grams_3 = _get_n_grams(text=sample, n=3)\n",
    "n_grams_3"
   ]
  },
  {
   "attachments": {},
   "cell_type": "markdown",
   "metadata": {},
   "source": [
    "# `spaCy`"
   ]
  },
  {
   "cell_type": "code",
   "execution_count": 20,
   "metadata": {},
   "outputs": [
    {
     "data": {
      "text/plain": [
       "dict_keys(['all_lemmas', 'partial_lemmas', 'bi_grams', 'adjs_verbs', 'nouns', 'noun_phrases', 'entities'])"
      ]
     },
     "execution_count": 20,
     "metadata": {},
     "output_type": "execute_result"
    }
   ],
   "source": [
    "from source.library.spacy import create_spacy_pipeline, extract_from_doc, custom_tokenizer\n",
    "nlp = create_spacy_pipeline(\n",
    "    stopwords_to_add={'may', 'regards'},\n",
    "    #stopwords_to_remove={'down'},\n",
    "    tokenizer=custom_tokenizer\n",
    ")\n",
    "doc = create_spacy_pipeline()(sample)\n",
    "entities = extract_from_doc(doc)\n",
    "entities.keys()"
   ]
  },
  {
   "cell_type": "code",
   "execution_count": 21,
   "metadata": {},
   "outputs": [
    {
     "data": {
      "text/plain": [
       "['33',\n",
       " 'may',\n",
       " 'i',\n",
       " 'first',\n",
       " 'convey',\n",
       " 'to',\n",
       " 'our',\n",
       " 'president',\n",
       " 'the',\n",
       " 'congratulation']"
      ]
     },
     "execution_count": 21,
     "metadata": {},
     "output_type": "execute_result"
    }
   ],
   "source": [
    "entities['all_lemmas'][0:10]"
   ]
  },
  {
   "cell_type": "code",
   "execution_count": 22,
   "metadata": {},
   "outputs": [
    {
     "data": {
      "text/plain": [
       "['albanian delegation',\n",
       " 'fifth session',\n",
       " 'general assembly',\n",
       " 'twenty- fifth',\n",
       " 'fifth session',\n",
       " 'general assembly',\n",
       " 'fifth anniversary',\n",
       " 'united nations',\n",
       " 'love member',\n",
       " 'member states',\n",
       " 'satisfactory activity',\n",
       " 'united nations',\n",
       " 'albanian delegation',\n",
       " 'take great',\n",
       " 'great pleasure',\n",
       " 'balance sheet',\n",
       " 'activity cover',\n",
       " 'short period',\n",
       " 'international organization',\n",
       " 'rome berlintokyo',\n",
       " 'berlintokyo axis']"
      ]
     },
     "execution_count": 22,
     "metadata": {},
     "output_type": "execute_result"
    }
   ],
   "source": [
    "entities['bi_grams']"
   ]
  },
  {
   "cell_type": "code",
   "execution_count": 23,
   "metadata": {},
   "outputs": [
    {
     "data": {
      "text/plain": [
       "['33 (CARDINAL)',\n",
       " 'first (ORDINAL)',\n",
       " 'albanian (NORP)',\n",
       " 'general assembly (ORG)',\n",
       " '34 (CARDINAL)',\n",
       " 'fifth (ORDINAL)',\n",
       " 'general assembly (ORG)',\n",
       " 'eve of the twenty - fifth (DATE)',\n",
       " 'united nations (ORG)',\n",
       " 'albanian (NORP)',\n",
       " 'quarter of a century (CARDINAL)',\n",
       " 'day (DATE)']"
      ]
     },
     "execution_count": 23,
     "metadata": {},
     "output_type": "execute_result"
    }
   ],
   "source": [
    "entities['entities']"
   ]
  }
 ],
 "metadata": {
  "kernelspec": {
   "display_name": "Python 3",
   "language": "python",
   "name": "python3"
  },
  "language_info": {
   "codemirror_mode": {
    "name": "ipython",
    "version": 3
   },
   "file_extension": ".py",
   "mimetype": "text/x-python",
   "name": "python",
   "nbconvert_exporter": "python",
   "pygments_lexer": "ipython3",
   "version": "3.9.13"
  },
  "orig_nbformat": 4,
  "vscode": {
   "interpreter": {
    "hash": "949777d72b0d2535278d3dc13498b2535136f6dfe0678499012e853ee9abcab1"
   }
  }
 },
 "nbformat": 4,
 "nbformat_minor": 2
}
