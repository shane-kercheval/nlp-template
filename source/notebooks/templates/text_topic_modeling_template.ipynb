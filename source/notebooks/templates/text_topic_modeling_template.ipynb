{
 "cells": [
  {
   "cell_type": "markdown",
   "id": "564aa887",
   "metadata": {
    "pycharm": {
     "name": "#%% md\n"
    }
   },
   "source": [
    "# Citation\n",
    "\n",
    "Much of the code and examples are copied/modified from \n",
    "\n",
    "> Blueprints for Text Analytics Using Python by Jens Albrecht, Sidharth Ramachandran, and Christian Winkler (O'Reilly, 2021), 978-1-492-07408-3.\n",
    ">\n",
    "\n",
    "- https://github.com/blueprints-for-text-analytics-python/blueprints-text\n",
    "- https://github.com/blueprints-for-text-analytics-python/blueprints-text/blob/master/ch08/Topic_Modeling_Clustering.ipynb"
   ]
  },
  {
   "cell_type": "markdown",
   "id": "2a967948",
   "metadata": {},
   "source": [
    "---"
   ]
  },
  {
   "cell_type": "markdown",
   "id": "35ae0c59",
   "metadata": {},
   "source": [
    "# Setup"
   ]
  },
  {
   "cell_type": "code",
   "execution_count": null,
   "id": "66085eae",
   "metadata": {},
   "outputs": [],
   "source": [
    "%run \"/code/source/config/notebook_settings.py\""
   ]
  },
  {
   "cell_type": "code",
   "execution_count": null,
   "id": "f360077d",
   "metadata": {},
   "outputs": [],
   "source": [
    "pd.set_option('display.max_colwidth', None)"
   ]
  },
  {
   "cell_type": "code",
   "execution_count": null,
   "id": "3492686a",
   "metadata": {},
   "outputs": [],
   "source": [
    "from source.library.text_analysis import count_tokens, tf_idf, get_context_from_keyword, count_keywords, count_keywords_by, impurity\n",
    "from source.library.sklearn_topic_modeling import *\n",
    "from helpsk.utility import read_pickle"
   ]
  },
  {
   "cell_type": "code",
   "execution_count": null,
   "id": "c25c3de0",
   "metadata": {},
   "outputs": [],
   "source": [
    "ngrams_low = XXXXXXXXXXXXXXXX\n",
    "ngrams_high = YYYYYYYYYYYYYYYY\n",
    "num_clusters = ZZZZZZZZZZZZZZZZ"
   ]
  },
  {
   "cell_type": "code",
   "execution_count": null,
   "id": "624dedbc",
   "metadata": {},
   "outputs": [],
   "source": [
    "with Timer(\"Loading Data\"):\n",
    "    path = 'artifacts/data/processed/un-general-debates-paragraphs.pkl'\n",
    "    paragraphs = pd.read_pickle(path)\n",
    "    \n",
    "with Timer(\"Loading NMF\"):\n",
    "    file = f'artifacts/models/topics/nmf-topics-{num_clusters}-ngrams-{ngrams_low}-{ngrams_high}__vectorizer.pkl'\n",
    "    nmf_vectorizer = read_pickle(file)\n",
    "\n",
    "    # file = f'artifacts/models/topics/nmf-topics-10-ngrams-{ngrams_low}-{ngrams_high}__vectors.pkl'\n",
    "    # nmf_vectors = read_pickle(file)\n",
    "    \n",
    "    file = f'artifacts/models/topics/nmf-topics-{num_clusters}-ngrams-{ngrams_low}-{ngrams_high}__model.pkl'  # noqa\n",
    "    nmf_model = read_pickle(file)\n",
    "\n",
    "with Timer(\"Loading LDA\"):\n",
    "    file = f'artifacts/models/topics/lda-topics-{num_clusters}-ngrams-{ngrams_low}-{ngrams_high}__vectorizer.pkl'\n",
    "    lda_vectorizer = read_pickle(file)\n",
    "\n",
    "    file = f'artifacts/models/topics/lda-topics-{num_clusters}-ngrams-{ngrams_low}-{ngrams_high}__vectors.pkl'\n",
    "    lda_vectors = read_pickle(file)\n",
    "    \n",
    "    file = f'artifacts/models/topics/lda-topics-{num_clusters}-ngrams-{ngrams_low}-{ngrams_high}__model.pkl'  # noqa\n",
    "    lda_model = read_pickle(file)\n",
    "\n",
    "with Timer(\"Loading K-Means\"):\n",
    "    file = f'artifacts/models/topics/k_means-topics-{num_clusters}-ngrams-{ngrams_low}-{ngrams_high}__vectorizer.pkl'\n",
    "    k_means_vectorizer = read_pickle(file)\n",
    "\n",
    "    file = f'artifacts/models/topics/k_means-topics-{num_clusters}-ngrams-{ngrams_low}-{ngrams_high}__vectors.pkl'\n",
    "    k_means_vectors = read_pickle(file)\n",
    "    \n",
    "    file = f'artifacts/models/topics/k_means-topics-{num_clusters}-ngrams-{ngrams_low}-{ngrams_high}__model.pkl'  # noqa\n",
    "    k_means_model = read_pickle(file)"
   ]
  },
  {
   "cell_type": "markdown",
   "id": "71e4bfed",
   "metadata": {},
   "source": [
    "---"
   ]
  },
  {
   "cell_type": "markdown",
   "id": "f055efe1",
   "metadata": {},
   "source": [
    "# Exploratory Data Analysis\n",
    "\n",
    "This section provides a basic exploration of the text and dataset."
   ]
  },
  {
   "cell_type": "markdown",
   "id": "08db1a7f",
   "metadata": {},
   "source": [
    "## Dataset Summary"
   ]
  },
  {
   "cell_type": "code",
   "execution_count": null,
   "id": "596aab15",
   "metadata": {},
   "outputs": [],
   "source": [
    "hlp.pandas.numeric_summary(paragraphs)"
   ]
  },
  {
   "cell_type": "code",
   "execution_count": null,
   "id": "da917720",
   "metadata": {},
   "outputs": [],
   "source": [
    "hlp.pandas.non_numeric_summary(paragraphs)"
   ]
  },
  {
   "cell_type": "code",
   "execution_count": null,
   "id": "4ed8f32d",
   "metadata": {},
   "outputs": [],
   "source": [
    "assert not (paragraphs['text'].str.strip() == '').any()"
   ]
  },
  {
   "cell_type": "markdown",
   "id": "e70f6191",
   "metadata": {},
   "source": [
    "---"
   ]
  },
  {
   "cell_type": "markdown",
   "id": "fa91b40e",
   "metadata": {},
   "source": [
    "# Topic Modeling"
   ]
  },
  {
   "cell_type": "markdown",
   "id": "e1f7911b",
   "metadata": {},
   "source": [
    "## NMF"
   ]
  },
  {
   "cell_type": "code",
   "execution_count": null,
   "id": "d760b37f",
   "metadata": {},
   "outputs": [],
   "source": [
    "nmf_explorer = TopicModelExplorer(model=nmf_model, vectorizer=nmf_vectorizer)"
   ]
  },
  {
   "cell_type": "markdown",
   "id": "f5520394",
   "metadata": {},
   "source": [
    "### Overview"
   ]
  },
  {
   "cell_type": "code",
   "execution_count": null,
   "id": "9a68e9d8",
   "metadata": {},
   "outputs": [],
   "source": [
    "nmf_explorer.plot_topics(\n",
    "    top_n_tokens=8,\n",
    "    num_tokens_in_label=2\n",
    ")"
   ]
  },
  {
   "cell_type": "code",
   "execution_count": null,
   "id": "89570a2d",
   "metadata": {},
   "outputs": [],
   "source": [
    "nmf_explorer.plot_topic_sizes(text_series=paragraphs['text'])"
   ]
  },
  {
   "cell_type": "code",
   "execution_count": null,
   "id": "5c2b6bbf",
   "metadata": {},
   "outputs": [],
   "source": [
    "predicted_topics = nmf_model.transform(X=nmf_vectorizer.transform(paragraphs['text']))\n",
    "per_document_totals = predicted_topics.sum(axis=1)\n",
    "ax = pd.Series(per_document_totals).plot(kind='box', vert=False, figsize=(10, 1))\n",
    "ax.set_title(\"Distribution Sum of Predicted Values/Topics Per Document\")\n",
    "ax.set_xlabel(\"Sum of Predicted Values Per Document\")\n",
    "ax.set_yticklabels([])\n",
    "ax;"
   ]
  },
  {
   "attachments": {},
   "cell_type": "markdown",
   "id": "530b2f7b",
   "metadata": {},
   "source": [
    "---"
   ]
  },
  {
   "cell_type": "code",
   "execution_count": null,
   "id": "9d784e1c",
   "metadata": {},
   "outputs": [],
   "source": [
    "nmf_explorer.plot_token('peace')"
   ]
  },
  {
   "cell_type": "markdown",
   "id": "ebe4b65e",
   "metadata": {},
   "source": [
    "---"
   ]
  },
  {
   "cell_type": "markdown",
   "id": "68984e0b",
   "metadata": {},
   "source": [
    "### Trends"
   ]
  },
  {
   "cell_type": "code",
   "execution_count": null,
   "id": "e8192aea",
   "metadata": {},
   "outputs": [],
   "source": [
    "topic_sizes_per_year = nmf_explorer.get_topic_sizes_per_segment(\n",
    "    df=paragraphs,\n",
    "    text_column='text',\n",
    "    segment_column='year',\n",
    ")\n",
    "topic_sizes_per_year.head()"
   ]
  },
  {
   "cell_type": "code",
   "execution_count": null,
   "id": "c7902ce1",
   "metadata": {},
   "outputs": [],
   "source": [
    "fig = px.area(\n",
    "    topic_sizes_per_year,\n",
    "    x=\"year\",\n",
    "    y=\"relative_size\",\n",
    "    color=\"topic_labels\",\n",
    "    title=\"Topics Over Time\",\n",
    ")\n",
    "fig.show()"
   ]
  },
  {
   "cell_type": "code",
   "execution_count": null,
   "id": "2317260a",
   "metadata": {},
   "outputs": [],
   "source": [
    "fig = px.bar(\n",
    "    topic_sizes_per_year,\n",
    "    x=\"year\",\n",
    "    y=\"relative_size\",\n",
    "    color=\"topic_labels\",\n",
    "    title=\"Topics Over Time\",\n",
    ")\n",
    "fig.show()"
   ]
  },
  {
   "cell_type": "code",
   "execution_count": null,
   "id": "af5b8874",
   "metadata": {},
   "outputs": [],
   "source": [
    "fig = px.line(\n",
    "    topic_sizes_per_year,\n",
    "    x=\"year\",\n",
    "    y=\"relative_size\",\n",
    "    color=\"topic_labels\",\n",
    "    title=\"Topics Over Time\",\n",
    ")\n",
    "fig.show()"
   ]
  },
  {
   "cell_type": "code",
   "execution_count": null,
   "id": "7d4c7795",
   "metadata": {},
   "outputs": [],
   "source": [
    "fig = px.scatter(\n",
    "    topic_sizes_per_year,\n",
    "    x=\"year\",\n",
    "    y=\"relative_size\",\n",
    "    color=\"topic_labels\",\n",
    "    trendline=\"lowess\",\n",
    "    opacity=0.0,\n",
    "    title=\"Topics Over Time\",\n",
    ")\n",
    "fig.show()"
   ]
  },
  {
   "cell_type": "markdown",
   "id": "7657aabd",
   "metadata": {},
   "source": [
    "---"
   ]
  },
  {
   "cell_type": "markdown",
   "id": "bcde8bdc",
   "metadata": {},
   "source": [
    "### Examples"
   ]
  },
  {
   "cell_type": "code",
   "execution_count": null,
   "id": "b5d476dc",
   "metadata": {},
   "outputs": [],
   "source": [
    "top_examples = nmf_explorer.extract_top_examples(\n",
    "    text_series=paragraphs['text'],\n",
    "    top_n_examples=10\n",
    ")\n",
    "top_examples.style.hide(axis='index')"
   ]
  },
  {
   "cell_type": "markdown",
   "id": "8a99ab67",
   "metadata": {},
   "source": [
    "---"
   ]
  },
  {
   "cell_type": "markdown",
   "id": "55aa708a",
   "metadata": {},
   "source": [
    "## LDA"
   ]
  },
  {
   "cell_type": "markdown",
   "id": "7987ee65",
   "metadata": {},
   "source": [
    "Neither the book nor the example above uses TF-IDF with LDA, but do not specify why. Both use TF-IDF with NMF and then change to CountVectorizer with LDA\n",
    "\n",
    "\n",
    "https://stackoverflow.com/questions/44781047/necessary-to-apply-tf-idf-to-new-documents-in-gensim-lda-model/44789327#44789327\n",
    "\n",
    "> LDA only needs a bag-of-word vector.\n",
    "\n"
   ]
  },
  {
   "cell_type": "code",
   "execution_count": null,
   "id": "4fe22a5a",
   "metadata": {},
   "outputs": [],
   "source": [
    "lda_explorer = TopicModelExplorer(model=lda_model, vectorizer=lda_vectorizer)"
   ]
  },
  {
   "cell_type": "markdown",
   "id": "2380634b",
   "metadata": {},
   "source": [
    "### Overview"
   ]
  },
  {
   "cell_type": "code",
   "execution_count": null,
   "id": "b1e9f593",
   "metadata": {},
   "outputs": [],
   "source": [
    "lda_explorer.plot_topics(\n",
    "    top_n_tokens=8,\n",
    "    num_tokens_in_label=2,\n",
    "    token_separator=' | '\n",
    ")"
   ]
  },
  {
   "cell_type": "code",
   "execution_count": null,
   "id": "ec62ca39",
   "metadata": {},
   "outputs": [],
   "source": [
    "lda_explorer.plot_topic_sizes(\n",
    "    text_series=paragraphs['text'],\n",
    "    num_tokens_in_label=3,\n",
    "    token_separator=' | '\n",
    ")"
   ]
  },
  {
   "cell_type": "code",
   "execution_count": null,
   "id": "dedf4029",
   "metadata": {},
   "outputs": [],
   "source": [
    "predicted_topics = lda_model.transform(X=lda_vectorizer.transform(paragraphs['text']))\n",
    "per_document_totals = predicted_topics.sum(axis=1)\n",
    "ax = pd.Series(per_document_totals).plot(kind='box', vert=False, figsize=(10, 1))\n",
    "ax.set_title(\"Distribution Sum of Predicted Values/Topics Per Document\")\n",
    "ax.set_xlabel(\"Sum of Predicted Values Per Document\")\n",
    "ax.set_yticklabels([])\n",
    "ax;"
   ]
  },
  {
   "attachments": {},
   "cell_type": "markdown",
   "id": "8fa6e59c",
   "metadata": {},
   "source": [
    "---"
   ]
  },
  {
   "cell_type": "code",
   "execution_count": null,
   "id": "490174a8",
   "metadata": {},
   "outputs": [],
   "source": [
    "lda_explorer.plot_token('peace')"
   ]
  },
  {
   "cell_type": "markdown",
   "id": "90969d7d",
   "metadata": {},
   "source": [
    "---"
   ]
  },
  {
   "cell_type": "markdown",
   "id": "6fa730c3",
   "metadata": {},
   "source": [
    "### Trends"
   ]
  },
  {
   "cell_type": "code",
   "execution_count": null,
   "id": "0458f2ce",
   "metadata": {},
   "outputs": [],
   "source": [
    "topic_sizes_per_year = lda_explorer.get_topic_sizes_per_segment(\n",
    "    df=paragraphs,\n",
    "    text_column='text',\n",
    "    segment_column='year',\n",
    ")\n",
    "topic_sizes_per_year.head()"
   ]
  },
  {
   "cell_type": "code",
   "execution_count": null,
   "id": "0514812c",
   "metadata": {},
   "outputs": [],
   "source": [
    "fig = px.area(\n",
    "    topic_sizes_per_year,\n",
    "    x=\"year\",\n",
    "    y=\"relative_size\",\n",
    "    color=\"topic_labels\",\n",
    "    title=\"Topics Over Time\",\n",
    ")\n",
    "fig.show()"
   ]
  },
  {
   "cell_type": "code",
   "execution_count": null,
   "id": "778b3447",
   "metadata": {},
   "outputs": [],
   "source": [
    "fig = px.bar(\n",
    "    topic_sizes_per_year,\n",
    "    x=\"year\",\n",
    "    y=\"relative_size\",\n",
    "    color=\"topic_labels\",\n",
    "    title=\"Topics Over Time\",\n",
    ")\n",
    "fig.show()"
   ]
  },
  {
   "cell_type": "code",
   "execution_count": null,
   "id": "99d15be7",
   "metadata": {},
   "outputs": [],
   "source": [
    "fig = px.line(\n",
    "    topic_sizes_per_year,\n",
    "    x=\"year\",\n",
    "    y=\"relative_size\",\n",
    "    color=\"topic_labels\",\n",
    "    title=\"Topics Over Time\",\n",
    ")\n",
    "fig.show()"
   ]
  },
  {
   "cell_type": "code",
   "execution_count": null,
   "id": "ac317fb7",
   "metadata": {},
   "outputs": [],
   "source": [
    "fig = px.scatter(\n",
    "    topic_sizes_per_year,\n",
    "    x=\"year\",\n",
    "    y=\"relative_size\",\n",
    "    color=\"topic_labels\",\n",
    "    trendline=\"lowess\",\n",
    "    opacity=0.0,\n",
    "    title=\"Topics Over Time\",\n",
    ")\n",
    "fig.show()"
   ]
  },
  {
   "cell_type": "markdown",
   "id": "830e0df9",
   "metadata": {},
   "source": [
    "---"
   ]
  },
  {
   "cell_type": "markdown",
   "id": "d23d4259",
   "metadata": {},
   "source": [
    "### Examples"
   ]
  },
  {
   "cell_type": "code",
   "execution_count": null,
   "id": "fe5f12df",
   "metadata": {},
   "outputs": [],
   "source": [
    "top_examples = lda_explorer.extract_top_examples(\n",
    "    text_series=paragraphs['text'],\n",
    "    top_n_examples=10\n",
    ")\n",
    "top_examples.style.hide(axis='index')"
   ]
  },
  {
   "cell_type": "markdown",
   "id": "28d5b79b",
   "metadata": {},
   "source": [
    "---"
   ]
  },
  {
   "cell_type": "code",
   "execution_count": null,
   "id": "091ed8a9",
   "metadata": {},
   "outputs": [],
   "source": [
    "import pyLDAvis.sklearn\n",
    "\n",
    "# monkey patch vectorizer since sklearn changed the name of the function which pyLDAvis isn't\n",
    "# expecting\n",
    "lda_vectorizer.get_feature_names = lda_vectorizer.get_feature_names_out\n",
    "lda_display = pyLDAvis.sklearn.prepare(lda_model, lda_vectors, lda_vectorizer, sort_topics=False)\n",
    "# pyLDAvis.display(lda_display)\n",
    "\n",
    "file_name = f\"output/models/topics/lda-{num_clusters}-n-grams-{ngrams_low}-{ngrams_high}.html\"\n",
    "pyLDAvis.save_html(lda_display, file_name)"
   ]
  },
  {
   "cell_type": "markdown",
   "id": "a94d876b",
   "metadata": {},
   "source": [
    "---"
   ]
  },
  {
   "cell_type": "markdown",
   "id": "287f6af1",
   "metadata": {},
   "source": [
    "## K-Means"
   ]
  },
  {
   "cell_type": "code",
   "execution_count": null,
   "id": "5407722b",
   "metadata": {},
   "outputs": [],
   "source": [
    "k_means_explorer = KMeansTopicExplorer(\n",
    "    model=k_means_model,\n",
    "    vectorizer=k_means_vectorizer,\n",
    "    vectors=k_means_vectors\n",
    ")"
   ]
  },
  {
   "cell_type": "markdown",
   "id": "fd9e264e",
   "metadata": {},
   "source": [
    "### Overview"
   ]
  },
  {
   "cell_type": "code",
   "execution_count": null,
   "id": "8f96b1f4",
   "metadata": {},
   "outputs": [],
   "source": [
    "k_means_explorer.plot_topics(\n",
    "    top_n_tokens=8,\n",
    "    num_tokens_in_label=2\n",
    ")"
   ]
  },
  {
   "cell_type": "code",
   "execution_count": null,
   "id": "e138e08a",
   "metadata": {},
   "outputs": [],
   "source": [
    "k_means_explorer.plot_topic_sizes(text_series=paragraphs['text'])"
   ]
  },
  {
   "cell_type": "markdown",
   "id": "7bd30ec3",
   "metadata": {},
   "source": [
    "### Trends"
   ]
  },
  {
   "cell_type": "code",
   "execution_count": null,
   "id": "ecca3a32",
   "metadata": {},
   "outputs": [],
   "source": [
    "topic_sizes_per_year = k_means_explorer.get_topic_sizes_per_segment(\n",
    "    df=paragraphs,\n",
    "    text_column='text',\n",
    "    segment_column='year',\n",
    ")\n",
    "topic_sizes_per_year.head()"
   ]
  },
  {
   "cell_type": "code",
   "execution_count": null,
   "id": "983d38b5",
   "metadata": {},
   "outputs": [],
   "source": [
    "fig = px.area(\n",
    "    topic_sizes_per_year,\n",
    "    x=\"year\",\n",
    "    y=\"relative_size\",\n",
    "    color=\"topic_labels\",\n",
    "    title=\"Topics Over Time\",\n",
    ")\n",
    "fig.show()"
   ]
  },
  {
   "cell_type": "code",
   "execution_count": null,
   "id": "cce6489b",
   "metadata": {},
   "outputs": [],
   "source": [
    "fig = px.bar(\n",
    "    topic_sizes_per_year,\n",
    "    x=\"year\",\n",
    "    y=\"relative_size\",\n",
    "    color=\"topic_labels\",\n",
    "    title=\"Topics Over Time\",\n",
    ")\n",
    "fig.show()"
   ]
  },
  {
   "cell_type": "code",
   "execution_count": null,
   "id": "cd2d83de",
   "metadata": {},
   "outputs": [],
   "source": [
    "fig = px.line(\n",
    "    topic_sizes_per_year,\n",
    "    x=\"year\",\n",
    "    y=\"relative_size\",\n",
    "    color=\"topic_labels\",\n",
    "    title=\"Topics Over Time\",\n",
    ")\n",
    "fig.show()"
   ]
  },
  {
   "cell_type": "code",
   "execution_count": null,
   "id": "e0612d4f",
   "metadata": {},
   "outputs": [],
   "source": [
    "fig = px.scatter(\n",
    "    topic_sizes_per_year,\n",
    "    x=\"year\",\n",
    "    y=\"relative_size\",\n",
    "    color=\"topic_labels\",\n",
    "    trendline=\"lowess\",\n",
    "    opacity=0.0,\n",
    "    title=\"Topics Over Time\",\n",
    ")\n",
    "fig.show()"
   ]
  },
  {
   "cell_type": "markdown",
   "id": "e151c13d",
   "metadata": {},
   "source": [
    "---"
   ]
  },
  {
   "cell_type": "markdown",
   "id": "c1a77773",
   "metadata": {},
   "source": [
    "### Examples"
   ]
  },
  {
   "cell_type": "code",
   "execution_count": null,
   "id": "49fa3ab0",
   "metadata": {
    "scrolled": false
   },
   "outputs": [],
   "source": [
    "top_examples = k_means_explorer.extract_top_examples(\n",
    "    text_series=paragraphs['text'],\n",
    "    top_n_examples=10\n",
    ")\n",
    "top_examples.style.hide(axis='index')"
   ]
  },
  {
   "cell_type": "markdown",
   "id": "f904966a",
   "metadata": {},
   "source": [
    "---"
   ]
  }
 ],
 "metadata": {
  "kernelspec": {
   "display_name": "Python 3 (ipykernel)",
   "language": "python",
   "name": "python3"
  },
  "language_info": {
   "codemirror_mode": {
    "name": "ipython",
    "version": 3
   },
   "file_extension": ".py",
   "mimetype": "text/x-python",
   "name": "python",
   "nbconvert_exporter": "python",
   "pygments_lexer": "ipython3",
   "version": "3.9.13"
  },
  "toc": {
   "base_numbering": 1,
   "nav_menu": {},
   "number_sections": false,
   "sideBar": true,
   "skip_h1_title": false,
   "title_cell": "Table of Contents",
   "title_sidebar": "Contents",
   "toc_cell": false,
   "toc_position": {
    "height": "calc(100% - 180px)",
    "left": "10px",
    "top": "150px",
    "width": "235px"
   },
   "toc_section_display": true,
   "toc_window_display": true
  },
  "vscode": {
   "interpreter": {
    "hash": "25a19fbe0a9132dfb9279d48d161753c6352f8f9478c2e74383d340069b907c3"
   }
  }
 },
 "nbformat": 4,
 "nbformat_minor": 5
}
