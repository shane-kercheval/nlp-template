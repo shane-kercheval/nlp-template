{
 "cells": [
  {
   "cell_type": "code",
   "execution_count": 4,
   "metadata": {},
   "outputs": [],
   "source": [
    "import pandas as pd\n",
    "\n",
    "from helpsk.utility import read_pickle\n",
    "from helpsk.logging import Timer"
   ]
  },
  {
   "cell_type": "code",
   "execution_count": 3,
   "metadata": {},
   "outputs": [],
   "source": [
    "ngrams_low = 1\n",
    "ngrams_high = 3\n",
    "num_clusters = 10"
   ]
  },
  {
   "cell_type": "code",
   "execution_count": 37,
   "metadata": {},
   "outputs": [],
   "source": [
    "with Timer(\"Loading Data\"):\n",
    "    path = '/code/artifacts/data/processed/un-general-debates-paragraphs.pkl'\n",
    "    paragraphs = pd.read_pickle(path)\n",
    "    paragraphs = paragraphs.sample(5000, random_state=42)\n",
    "    \n",
    "with Timer(\"Loading TF-IDF vectorizer/model via NMF\"):\n",
    "    _file = f'/code/artifacts/models/topics/nmf-topics-{num_clusters}-ngrams-{ngrams_low}-{ngrams_high}__vectorizer.pkl'\n",
    "    tfidf_vectorizer = read_pickle(_file)\n",
    "\n",
    "    _file = f'/code/artifacts/models/topics/nmf-topics-10-ngrams-{ngrams_low}-{ngrams_high}__vectors.pkl'\n",
    "    tfidf_vectors = read_pickle(_file)\n",
    "    \n",
    "    _file = f'/code/artifacts/models/topics/nmf-topics-{num_clusters}-ngrams-{ngrams_low}-{ngrams_high}__model.pkl'  # noqa\n",
    "    tfidf_model = read_pickle(_file)\n",
    "\n",
    "with Timer(\"Loading Count vectorizer/model via LDA\"):\n",
    "    _file = f'/code/artifacts/models/topics/lda-topics-{num_clusters}-ngrams-{ngrams_low}-{ngrams_high}__vectorizer.pkl'\n",
    "    count_vectorizer = read_pickle(_file)\n",
    "\n",
    "    _file = f'/code/artifacts/models/topics/lda-topics-{num_clusters}-ngrams-{ngrams_low}-{ngrams_high}__vectors.pkl'\n",
    "    count_vectors = read_pickle(_file)\n",
    "    \n",
    "    _file = f'/code/artifacts/models/topics/lda-topics-{num_clusters}-ngrams-{ngrams_low}-{ngrams_high}__model.pkl'  # noqa\n",
    "    count_model = read_pickle(_file)"
   ]
  },
  {
   "cell_type": "code",
   "execution_count": 38,
   "metadata": {},
   "outputs": [
    {
     "data": {
      "text/html": [
       "<div>\n",
       "<style scoped>\n",
       "    .dataframe tbody tr th:only-of-type {\n",
       "        vertical-align: middle;\n",
       "    }\n",
       "\n",
       "    .dataframe tbody tr th {\n",
       "        vertical-align: top;\n",
       "    }\n",
       "\n",
       "    .dataframe thead th {\n",
       "        text-align: right;\n",
       "    }\n",
       "</style>\n",
       "<table border=\"1\" class=\"dataframe\">\n",
       "  <thead>\n",
       "    <tr style=\"text-align: right;\">\n",
       "      <th></th>\n",
       "      <th>year</th>\n",
       "      <th>country</th>\n",
       "      <th>text</th>\n",
       "    </tr>\n",
       "  </thead>\n",
       "  <tbody>\n",
       "    <tr>\n",
       "      <th>228015</th>\n",
       "      <td>2006</td>\n",
       "      <td>Palestine, State of</td>\n",
       "      <td>Indeed, I need not reconfirm the fact that, af...</td>\n",
       "    </tr>\n",
       "    <tr>\n",
       "      <th>113526</th>\n",
       "      <td>1988</td>\n",
       "      <td>Turkey</td>\n",
       "      <td>With this understanding we have initiated a di...</td>\n",
       "    </tr>\n",
       "    <tr>\n",
       "      <th>224796</th>\n",
       "      <td>2006</td>\n",
       "      <td>Central African Republic</td>\n",
       "      <td>The recent conference on AIDS, held here at \\n...</td>\n",
       "    </tr>\n",
       "    <tr>\n",
       "      <th>130703</th>\n",
       "      <td>1991</td>\n",
       "      <td>Sweden</td>\n",
       "      <td>The Swedish Government strongly supports the e...</td>\n",
       "    </tr>\n",
       "    <tr>\n",
       "      <th>59553</th>\n",
       "      <td>1980</td>\n",
       "      <td>Mozambique</td>\n",
       "      <td>76.\\tDue to the tolerance shown to South Afric...</td>\n",
       "    </tr>\n",
       "  </tbody>\n",
       "</table>\n",
       "</div>"
      ],
      "text/plain": [
       "        year                   country  \\\n",
       "228015  2006       Palestine, State of   \n",
       "113526  1988                    Turkey   \n",
       "224796  2006  Central African Republic   \n",
       "130703  1991                    Sweden   \n",
       "59553   1980                Mozambique   \n",
       "\n",
       "                                                     text  \n",
       "228015  Indeed, I need not reconfirm the fact that, af...  \n",
       "113526  With this understanding we have initiated a di...  \n",
       "224796  The recent conference on AIDS, held here at \\n...  \n",
       "130703  The Swedish Government strongly supports the e...  \n",
       "59553   76.\\tDue to the tolerance shown to South Afric...  "
      ]
     },
     "execution_count": 38,
     "metadata": {},
     "output_type": "execute_result"
    }
   ],
   "source": [
    "paragraphs.head()"
   ]
  },
  {
   "attachments": {},
   "cell_type": "markdown",
   "metadata": {},
   "source": [
    "# Cosine Similarity"
   ]
  },
  {
   "cell_type": "code",
   "execution_count": 39,
   "metadata": {},
   "outputs": [
    {
     "data": {
      "text/html": [
       "<div>\n",
       "<style scoped>\n",
       "    .dataframe tbody tr th:only-of-type {\n",
       "        vertical-align: middle;\n",
       "    }\n",
       "\n",
       "    .dataframe tbody tr th {\n",
       "        vertical-align: top;\n",
       "    }\n",
       "\n",
       "    .dataframe thead th {\n",
       "        text-align: right;\n",
       "    }\n",
       "</style>\n",
       "<table border=\"1\" class=\"dataframe\">\n",
       "  <thead>\n",
       "    <tr style=\"text-align: right;\">\n",
       "      <th></th>\n",
       "      <th>year</th>\n",
       "      <th>country</th>\n",
       "      <th>text</th>\n",
       "    </tr>\n",
       "  </thead>\n",
       "  <tbody>\n",
       "    <tr>\n",
       "      <th>228015</th>\n",
       "      <td>2006</td>\n",
       "      <td>Palestine, State of</td>\n",
       "      <td>Indeed, I need not reconfirm the fact that, af...</td>\n",
       "    </tr>\n",
       "    <tr>\n",
       "      <th>113526</th>\n",
       "      <td>1988</td>\n",
       "      <td>Turkey</td>\n",
       "      <td>With this understanding we have initiated a di...</td>\n",
       "    </tr>\n",
       "    <tr>\n",
       "      <th>224796</th>\n",
       "      <td>2006</td>\n",
       "      <td>Central African Republic</td>\n",
       "      <td>The recent conference on AIDS, held here at \\n...</td>\n",
       "    </tr>\n",
       "    <tr>\n",
       "      <th>130703</th>\n",
       "      <td>1991</td>\n",
       "      <td>Sweden</td>\n",
       "      <td>The Swedish Government strongly supports the e...</td>\n",
       "    </tr>\n",
       "    <tr>\n",
       "      <th>59553</th>\n",
       "      <td>1980</td>\n",
       "      <td>Mozambique</td>\n",
       "      <td>76.\\tDue to the tolerance shown to South Afric...</td>\n",
       "    </tr>\n",
       "    <tr>\n",
       "      <th>...</th>\n",
       "      <td>...</td>\n",
       "      <td>...</td>\n",
       "      <td>...</td>\n",
       "    </tr>\n",
       "    <tr>\n",
       "      <th>140522</th>\n",
       "      <td>1993</td>\n",
       "      <td>Cuba</td>\n",
       "      <td>The new international economic order, three\\ni...</td>\n",
       "    </tr>\n",
       "    <tr>\n",
       "      <th>166859</th>\n",
       "      <td>1996</td>\n",
       "      <td>Mauritania</td>\n",
       "      <td>It is gratifying to note that, as the Organiza...</td>\n",
       "    </tr>\n",
       "    <tr>\n",
       "      <th>99907</th>\n",
       "      <td>1986</td>\n",
       "      <td>Luxembourg</td>\n",
       "      <td>Our third cause for concern is undoubtedly con...</td>\n",
       "    </tr>\n",
       "    <tr>\n",
       "      <th>210583</th>\n",
       "      <td>2003</td>\n",
       "      <td>Luxembourg</td>\n",
       "      <td>As was recently noted by the Secretary-General...</td>\n",
       "    </tr>\n",
       "    <tr>\n",
       "      <th>236034</th>\n",
       "      <td>2008</td>\n",
       "      <td>Germany</td>\n",
       "      <td>The same applies to disarmament policy. Only a...</td>\n",
       "    </tr>\n",
       "  </tbody>\n",
       "</table>\n",
       "<p>5000 rows × 3 columns</p>\n",
       "</div>"
      ],
      "text/plain": [
       "        year                   country  \\\n",
       "228015  2006       Palestine, State of   \n",
       "113526  1988                    Turkey   \n",
       "224796  2006  Central African Republic   \n",
       "130703  1991                    Sweden   \n",
       "59553   1980                Mozambique   \n",
       "...      ...                       ...   \n",
       "140522  1993                      Cuba   \n",
       "166859  1996                Mauritania   \n",
       "99907   1986                Luxembourg   \n",
       "210583  2003                Luxembourg   \n",
       "236034  2008                   Germany   \n",
       "\n",
       "                                                     text  \n",
       "228015  Indeed, I need not reconfirm the fact that, af...  \n",
       "113526  With this understanding we have initiated a di...  \n",
       "224796  The recent conference on AIDS, held here at \\n...  \n",
       "130703  The Swedish Government strongly supports the e...  \n",
       "59553   76.\\tDue to the tolerance shown to South Afric...  \n",
       "...                                                   ...  \n",
       "140522  The new international economic order, three\\ni...  \n",
       "166859  It is gratifying to note that, as the Organiza...  \n",
       "99907   Our third cause for concern is undoubtedly con...  \n",
       "210583  As was recently noted by the Secretary-General...  \n",
       "236034  The same applies to disarmament policy. Only a...  \n",
       "\n",
       "[5000 rows x 3 columns]"
      ]
     },
     "execution_count": 39,
     "metadata": {},
     "output_type": "execute_result"
    }
   ],
   "source": [
    "paragraphs"
   ]
  },
  {
   "cell_type": "code",
   "execution_count": 40,
   "metadata": {},
   "outputs": [
    {
     "data": {
      "text/plain": [
       "'Indeed, I need not reconfirm the fact that, after \\nthe experiences of war and suffering that we have been \\nthrough, unless the question of Palestine and that of the \\ncontinuing occupation of Palestinian and Arab lands \\nsince 1967 is resolved, the elements of tension and \\nconflagration will keep the conflict alive and leave the \\ndoor wide open to all forms of violence, terrorism, \\nregional confrontations and global crises'"
      ]
     },
     "execution_count": 40,
     "metadata": {},
     "output_type": "execute_result"
    }
   ],
   "source": [
    "from sklearn.metrics.pairwise import cosine_similarity\n",
    "\n",
    "\n",
    "# note we need to build a pipeline that cleans not just the training data but also new data if we want to use it for *search*\n",
    "# This would also ensure consistency e.g. i accidently used text_clean instead of all_lemmas    \n",
    "example = paragraphs['text'].iloc[0]\n",
    "example"
   ]
  },
  {
   "cell_type": "code",
   "execution_count": 41,
   "metadata": {},
   "outputs": [
    {
     "data": {
      "text/plain": [
       "(1, 7852)"
      ]
     },
     "execution_count": 41,
     "metadata": {},
     "output_type": "execute_result"
    }
   ],
   "source": [
    "example_vector = tfidf_vectorizer.transform([example])\n",
    "example_vector.shape"
   ]
  },
  {
   "cell_type": "code",
   "execution_count": 42,
   "metadata": {},
   "outputs": [
    {
     "data": {
      "text/plain": [
       "(5000,)"
      ]
     },
     "execution_count": 42,
     "metadata": {},
     "output_type": "execute_result"
    }
   ],
   "source": [
    "# calculate cosine similarity between the original vectors (i.e. tfidf_vectors) and our example\n",
    "example_cosine_sim = cosine_similarity(tfidf_vectors, example_vector)\n",
    "example_cosine_sim = example_cosine_sim.reshape(1, -1)[0]\n",
    "example_cosine_sim.shape"
   ]
  },
  {
   "cell_type": "code",
   "execution_count": 44,
   "metadata": {},
   "outputs": [],
   "source": [
    "top_n = 15\n",
    "_temp_sample = paragraphs.copy()\n",
    "_temp_sample['similarities'] = example_cosine_sim\n",
    "\n",
    "top_n_examples = _temp_sample.sort_values('similarities', ascending=False).head(top_n)\n",
    "assert round(top_n_examples['similarities'].iloc[0], 4) == 1"
   ]
  },
  {
   "cell_type": "code",
   "execution_count": 45,
   "metadata": {},
   "outputs": [
    {
     "data": {
      "text/html": [
       "<div>\n",
       "<style scoped>\n",
       "    .dataframe tbody tr th:only-of-type {\n",
       "        vertical-align: middle;\n",
       "    }\n",
       "\n",
       "    .dataframe tbody tr th {\n",
       "        vertical-align: top;\n",
       "    }\n",
       "\n",
       "    .dataframe thead th {\n",
       "        text-align: right;\n",
       "    }\n",
       "</style>\n",
       "<table border=\"1\" class=\"dataframe\">\n",
       "  <thead>\n",
       "    <tr style=\"text-align: right;\">\n",
       "      <th></th>\n",
       "      <th>year</th>\n",
       "      <th>country</th>\n",
       "      <th>text</th>\n",
       "      <th>similarities</th>\n",
       "    </tr>\n",
       "  </thead>\n",
       "  <tbody>\n",
       "    <tr>\n",
       "      <th>228015</th>\n",
       "      <td>2006</td>\n",
       "      <td>Palestine, State of</td>\n",
       "      <td>Indeed, I need not reconfirm the fact that, af...</td>\n",
       "      <td>1.000000</td>\n",
       "    </tr>\n",
       "    <tr>\n",
       "      <th>54940</th>\n",
       "      <td>1979</td>\n",
       "      <td>Yemen</td>\n",
       "      <td>49.\\tThe international community unanimously r...</td>\n",
       "      <td>0.171640</td>\n",
       "    </tr>\n",
       "    <tr>\n",
       "      <th>18124</th>\n",
       "      <td>1974</td>\n",
       "      <td>United Arab Emirates</td>\n",
       "      <td>198.\\tOur position on the question of Palestin...</td>\n",
       "      <td>0.169033</td>\n",
       "    </tr>\n",
       "    <tr>\n",
       "      <th>92629</th>\n",
       "      <td>1985</td>\n",
       "      <td>Iraq</td>\n",
       "      <td>The Palestinian question, including the rights...</td>\n",
       "      <td>0.164453</td>\n",
       "    </tr>\n",
       "    <tr>\n",
       "      <th>47040</th>\n",
       "      <td>1978</td>\n",
       "      <td>Sao Tome and Principe</td>\n",
       "      <td>108.\\tThe position of my Government concerning...</td>\n",
       "      <td>0.156974</td>\n",
       "    </tr>\n",
       "    <tr>\n",
       "      <th>263055</th>\n",
       "      <td>2012</td>\n",
       "      <td>Turkey</td>\n",
       "      <td>For instance, we have time and again declared\\...</td>\n",
       "      <td>0.153039</td>\n",
       "    </tr>\n",
       "    <tr>\n",
       "      <th>89228</th>\n",
       "      <td>1984</td>\n",
       "      <td>United States</td>\n",
       "      <td>27.\\tBut any economic progress, as well as any...</td>\n",
       "      <td>0.149119</td>\n",
       "    </tr>\n",
       "    <tr>\n",
       "      <th>53325</th>\n",
       "      <td>1979</td>\n",
       "      <td>Qatar</td>\n",
       "      <td>10.\\tThe State of Qatar, in fulfilment of what...</td>\n",
       "      <td>0.145091</td>\n",
       "    </tr>\n",
       "    <tr>\n",
       "      <th>207437</th>\n",
       "      <td>2002</td>\n",
       "      <td>Zimbabwe</td>\n",
       "      <td>The United Nations is confronted with a volati...</td>\n",
       "      <td>0.138416</td>\n",
       "    </tr>\n",
       "    <tr>\n",
       "      <th>207053</th>\n",
       "      <td>2002</td>\n",
       "      <td>Tanzania, United Republic of</td>\n",
       "      <td>The framework for the resumption of negotiatio...</td>\n",
       "      <td>0.135827</td>\n",
       "    </tr>\n",
       "    <tr>\n",
       "      <th>204792</th>\n",
       "      <td>2002</td>\n",
       "      <td>Lebanon</td>\n",
       "      <td>Iraq should not once again be a theatre of war...</td>\n",
       "      <td>0.134130</td>\n",
       "    </tr>\n",
       "    <tr>\n",
       "      <th>205528</th>\n",
       "      <td>2002</td>\n",
       "      <td>Malaysia</td>\n",
       "      <td>8\\n\\nMalaysia believes that, while all acts of...</td>\n",
       "      <td>0.131625</td>\n",
       "    </tr>\n",
       "    <tr>\n",
       "      <th>71768</th>\n",
       "      <td>1982</td>\n",
       "      <td>Honduras</td>\n",
       "      <td>This atmosphere of tension and lack of effecti...</td>\n",
       "      <td>0.130798</td>\n",
       "    </tr>\n",
       "    <tr>\n",
       "      <th>45354</th>\n",
       "      <td>1978</td>\n",
       "      <td>Morocco</td>\n",
       "      <td>129.\\tThe Kingdom of Morocco, which condemns t...</td>\n",
       "      <td>0.127471</td>\n",
       "    </tr>\n",
       "    <tr>\n",
       "      <th>187169</th>\n",
       "      <td>1999</td>\n",
       "      <td>Lebanon</td>\n",
       "      <td>In any event, no world order, whether old or n...</td>\n",
       "      <td>0.126873</td>\n",
       "    </tr>\n",
       "  </tbody>\n",
       "</table>\n",
       "</div>"
      ],
      "text/plain": [
       "        year                       country  \\\n",
       "228015  2006           Palestine, State of   \n",
       "54940   1979                         Yemen   \n",
       "18124   1974          United Arab Emirates   \n",
       "92629   1985                          Iraq   \n",
       "47040   1978         Sao Tome and Principe   \n",
       "263055  2012                        Turkey   \n",
       "89228   1984                 United States   \n",
       "53325   1979                         Qatar   \n",
       "207437  2002                      Zimbabwe   \n",
       "207053  2002  Tanzania, United Republic of   \n",
       "204792  2002                       Lebanon   \n",
       "205528  2002                      Malaysia   \n",
       "71768   1982                      Honduras   \n",
       "45354   1978                       Morocco   \n",
       "187169  1999                       Lebanon   \n",
       "\n",
       "                                                     text  similarities  \n",
       "228015  Indeed, I need not reconfirm the fact that, af...      1.000000  \n",
       "54940   49.\\tThe international community unanimously r...      0.171640  \n",
       "18124   198.\\tOur position on the question of Palestin...      0.169033  \n",
       "92629   The Palestinian question, including the rights...      0.164453  \n",
       "47040   108.\\tThe position of my Government concerning...      0.156974  \n",
       "263055  For instance, we have time and again declared\\...      0.153039  \n",
       "89228   27.\\tBut any economic progress, as well as any...      0.149119  \n",
       "53325   10.\\tThe State of Qatar, in fulfilment of what...      0.145091  \n",
       "207437  The United Nations is confronted with a volati...      0.138416  \n",
       "207053  The framework for the resumption of negotiatio...      0.135827  \n",
       "204792  Iraq should not once again be a theatre of war...      0.134130  \n",
       "205528  8\\n\\nMalaysia believes that, while all acts of...      0.131625  \n",
       "71768   This atmosphere of tension and lack of effecti...      0.130798  \n",
       "45354   129.\\tThe Kingdom of Morocco, which condemns t...      0.127471  \n",
       "187169  In any event, no world order, whether old or n...      0.126873  "
      ]
     },
     "execution_count": 45,
     "metadata": {},
     "output_type": "execute_result"
    }
   ],
   "source": [
    "top_n_examples"
   ]
  },
  {
   "cell_type": "code",
   "execution_count": 46,
   "metadata": {},
   "outputs": [
    {
     "name": "stdout",
     "output_type": "stream",
     "text": [
      "Indeed, I need not reconfirm the fact that, after \n",
      "the experiences of war and suffering that we have been \n",
      "through, unless the question of Palestine and that of the \n",
      "continuing occupation of Palestinian and Arab lands \n",
      "since 1967 is resolved, the elements of tension and \n",
      "conflagration will keep the conflict alive and leave the \n",
      "door wide open to all forms of violence, terrorism, \n",
      "regional confrontations and global crises\n"
     ]
    }
   ],
   "source": [
    "print(top_n_examples['text'].iloc[0])"
   ]
  },
  {
   "cell_type": "code",
   "execution_count": 47,
   "metadata": {},
   "outputs": [
    {
     "name": "stdout",
     "output_type": "stream",
     "text": [
      "49.\tThe international community unanimously recognizes that a just and lasting peace cannot be achieved if it does not include the basic elements that we have just set forth. But the Zionist entity, which professes to want peace, arrogantly and obstinately opposes this unanimous will of the international community and continues its aggression and its occupation of Palestine and other independent and sovereign Arab countries neighbouring Palestine. Moreover, the decision taken on 16 September last by the Council of Ministers of Israel, under which Israelis will be allowed to acquire Arab lands and property on the West Bank and in Jerusalem, again confirms Israel's determination to pursue its policy of Occupation and aggression and to undermine the chances for a just and lasting peace in the area\n"
     ]
    }
   ],
   "source": [
    "print(top_n_examples['text'].iloc[1])"
   ]
  },
  {
   "attachments": {},
   "cell_type": "markdown",
   "metadata": {},
   "source": [
    "---"
   ]
  }
 ],
 "metadata": {
  "kernelspec": {
   "display_name": "Python 3",
   "language": "python",
   "name": "python3"
  },
  "language_info": {
   "codemirror_mode": {
    "name": "ipython",
    "version": 3
   },
   "file_extension": ".py",
   "mimetype": "text/x-python",
   "name": "python",
   "nbconvert_exporter": "python",
   "pygments_lexer": "ipython3",
   "version": "3.10.10"
  },
  "orig_nbformat": 4,
  "vscode": {
   "interpreter": {
    "hash": "949777d72b0d2535278d3dc13498b2535136f6dfe0678499012e853ee9abcab1"
   }
  }
 },
 "nbformat": 4,
 "nbformat_minor": 2
}
