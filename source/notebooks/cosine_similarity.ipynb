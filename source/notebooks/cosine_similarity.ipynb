{
 "cells": [
  {
   "cell_type": "code",
   "execution_count": 10,
   "metadata": {},
   "outputs": [],
   "source": [
    "import pandas as pd\n",
    "\n",
    "from helpsk.utility import read_pickle\n",
    "from helpsk.logging import Timer"
   ]
  },
  {
   "cell_type": "code",
   "execution_count": 11,
   "metadata": {},
   "outputs": [],
   "source": [
    "ngrams_low = 1\n",
    "ngrams_high = 3\n",
    "num_clusters = 10"
   ]
  },
  {
   "cell_type": "code",
   "execution_count": 12,
   "metadata": {},
   "outputs": [],
   "source": [
    "with Timer(\"Loading Data\"):\n",
    "    path = '/code/artifacts/data/processed/un_debate_paragraphs.pkl'\n",
    "    paragraphs = pd.read_pickle(path)\n",
    "    paragraphs = paragraphs.sample(5000, random_state=42)\n",
    "    \n",
    "with Timer(\"Loading TF-IDF vectorizer/model via NMF\"):\n",
    "    _file = f'/code/artifacts/models/topics/nmf-topics-{num_clusters}-ngrams-{ngrams_low}-{ngrams_high}__vectorizer.pkl'\n",
    "    tfidf_vectorizer = read_pickle(_file)\n",
    "\n",
    "    _file = f'/code/artifacts/models/topics/nmf-topics-10-ngrams-{ngrams_low}-{ngrams_high}__vectors.pkl'\n",
    "    tfidf_vectors = read_pickle(_file)\n",
    "    \n",
    "    _file = f'/code/artifacts/models/topics/nmf-topics-{num_clusters}-ngrams-{ngrams_low}-{ngrams_high}__model.pkl'  # noqa\n",
    "    tfidf_model = read_pickle(_file)\n",
    "\n",
    "with Timer(\"Loading Count vectorizer/model via LDA\"):\n",
    "    _file = f'/code/artifacts/models/topics/lda-topics-{num_clusters}-ngrams-{ngrams_low}-{ngrams_high}__vectorizer.pkl'\n",
    "    count_vectorizer = read_pickle(_file)\n",
    "\n",
    "    _file = f'/code/artifacts/models/topics/lda-topics-{num_clusters}-ngrams-{ngrams_low}-{ngrams_high}__vectors.pkl'\n",
    "    count_vectors = read_pickle(_file)\n",
    "    \n",
    "    _file = f'/code/artifacts/models/topics/lda-topics-{num_clusters}-ngrams-{ngrams_low}-{ngrams_high}__model.pkl'  # noqa\n",
    "    count_model = read_pickle(_file)"
   ]
  },
  {
   "cell_type": "code",
   "execution_count": 13,
   "metadata": {},
   "outputs": [
    {
     "data": {
      "text/html": [
       "<div>\n",
       "<style scoped>\n",
       "    .dataframe tbody tr th:only-of-type {\n",
       "        vertical-align: middle;\n",
       "    }\n",
       "\n",
       "    .dataframe tbody tr th {\n",
       "        vertical-align: top;\n",
       "    }\n",
       "\n",
       "    .dataframe thead th {\n",
       "        text-align: right;\n",
       "    }\n",
       "</style>\n",
       "<table border=\"1\" class=\"dataframe\">\n",
       "  <thead>\n",
       "    <tr style=\"text-align: right;\">\n",
       "      <th></th>\n",
       "      <th>year</th>\n",
       "      <th>country</th>\n",
       "      <th>text</th>\n",
       "    </tr>\n",
       "  </thead>\n",
       "  <tbody>\n",
       "    <tr>\n",
       "      <th>228015</th>\n",
       "      <td>2006</td>\n",
       "      <td>Palestine, State of</td>\n",
       "      <td>Indeed, I need not reconfirm the fact that, af...</td>\n",
       "    </tr>\n",
       "    <tr>\n",
       "      <th>113526</th>\n",
       "      <td>1988</td>\n",
       "      <td>Turkey</td>\n",
       "      <td>With this understanding we have initiated a di...</td>\n",
       "    </tr>\n",
       "    <tr>\n",
       "      <th>224796</th>\n",
       "      <td>2006</td>\n",
       "      <td>Central African Republic</td>\n",
       "      <td>The recent conference on AIDS, held here at \\n...</td>\n",
       "    </tr>\n",
       "    <tr>\n",
       "      <th>130703</th>\n",
       "      <td>1991</td>\n",
       "      <td>Sweden</td>\n",
       "      <td>The Swedish Government strongly supports the e...</td>\n",
       "    </tr>\n",
       "    <tr>\n",
       "      <th>59553</th>\n",
       "      <td>1980</td>\n",
       "      <td>Mozambique</td>\n",
       "      <td>76.\\tDue to the tolerance shown to South Afric...</td>\n",
       "    </tr>\n",
       "  </tbody>\n",
       "</table>\n",
       "</div>"
      ],
      "text/plain": [
       "        year                   country  \\\n",
       "228015  2006       Palestine, State of   \n",
       "113526  1988                    Turkey   \n",
       "224796  2006  Central African Republic   \n",
       "130703  1991                    Sweden   \n",
       "59553   1980                Mozambique   \n",
       "\n",
       "                                                     text  \n",
       "228015  Indeed, I need not reconfirm the fact that, af...  \n",
       "113526  With this understanding we have initiated a di...  \n",
       "224796  The recent conference on AIDS, held here at \\n...  \n",
       "130703  The Swedish Government strongly supports the e...  \n",
       "59553   76.\\tDue to the tolerance shown to South Afric...  "
      ]
     },
     "execution_count": 13,
     "metadata": {},
     "output_type": "execute_result"
    }
   ],
   "source": [
    "paragraphs.head()"
   ]
  },
  {
   "attachments": {},
   "cell_type": "markdown",
   "metadata": {},
   "source": [
    "# Cosine Similarity - TF-IDF"
   ]
  },
  {
   "cell_type": "code",
   "execution_count": 14,
   "metadata": {},
   "outputs": [
    {
     "data": {
      "text/html": [
       "<div>\n",
       "<style scoped>\n",
       "    .dataframe tbody tr th:only-of-type {\n",
       "        vertical-align: middle;\n",
       "    }\n",
       "\n",
       "    .dataframe tbody tr th {\n",
       "        vertical-align: top;\n",
       "    }\n",
       "\n",
       "    .dataframe thead th {\n",
       "        text-align: right;\n",
       "    }\n",
       "</style>\n",
       "<table border=\"1\" class=\"dataframe\">\n",
       "  <thead>\n",
       "    <tr style=\"text-align: right;\">\n",
       "      <th></th>\n",
       "      <th>year</th>\n",
       "      <th>country</th>\n",
       "      <th>text</th>\n",
       "    </tr>\n",
       "  </thead>\n",
       "  <tbody>\n",
       "    <tr>\n",
       "      <th>228015</th>\n",
       "      <td>2006</td>\n",
       "      <td>Palestine, State of</td>\n",
       "      <td>Indeed, I need not reconfirm the fact that, af...</td>\n",
       "    </tr>\n",
       "    <tr>\n",
       "      <th>113526</th>\n",
       "      <td>1988</td>\n",
       "      <td>Turkey</td>\n",
       "      <td>With this understanding we have initiated a di...</td>\n",
       "    </tr>\n",
       "    <tr>\n",
       "      <th>224796</th>\n",
       "      <td>2006</td>\n",
       "      <td>Central African Republic</td>\n",
       "      <td>The recent conference on AIDS, held here at \\n...</td>\n",
       "    </tr>\n",
       "    <tr>\n",
       "      <th>130703</th>\n",
       "      <td>1991</td>\n",
       "      <td>Sweden</td>\n",
       "      <td>The Swedish Government strongly supports the e...</td>\n",
       "    </tr>\n",
       "    <tr>\n",
       "      <th>59553</th>\n",
       "      <td>1980</td>\n",
       "      <td>Mozambique</td>\n",
       "      <td>76.\\tDue to the tolerance shown to South Afric...</td>\n",
       "    </tr>\n",
       "    <tr>\n",
       "      <th>...</th>\n",
       "      <td>...</td>\n",
       "      <td>...</td>\n",
       "      <td>...</td>\n",
       "    </tr>\n",
       "    <tr>\n",
       "      <th>140522</th>\n",
       "      <td>1993</td>\n",
       "      <td>Cuba</td>\n",
       "      <td>The new international economic order, three\\ni...</td>\n",
       "    </tr>\n",
       "    <tr>\n",
       "      <th>166859</th>\n",
       "      <td>1996</td>\n",
       "      <td>Mauritania</td>\n",
       "      <td>It is gratifying to note that, as the Organiza...</td>\n",
       "    </tr>\n",
       "    <tr>\n",
       "      <th>99907</th>\n",
       "      <td>1986</td>\n",
       "      <td>Luxembourg</td>\n",
       "      <td>Our third cause for concern is undoubtedly con...</td>\n",
       "    </tr>\n",
       "    <tr>\n",
       "      <th>210583</th>\n",
       "      <td>2003</td>\n",
       "      <td>Luxembourg</td>\n",
       "      <td>As was recently noted by the Secretary-General...</td>\n",
       "    </tr>\n",
       "    <tr>\n",
       "      <th>236034</th>\n",
       "      <td>2008</td>\n",
       "      <td>Germany</td>\n",
       "      <td>The same applies to disarmament policy. Only a...</td>\n",
       "    </tr>\n",
       "  </tbody>\n",
       "</table>\n",
       "<p>5000 rows × 3 columns</p>\n",
       "</div>"
      ],
      "text/plain": [
       "        year                   country  \\\n",
       "228015  2006       Palestine, State of   \n",
       "113526  1988                    Turkey   \n",
       "224796  2006  Central African Republic   \n",
       "130703  1991                    Sweden   \n",
       "59553   1980                Mozambique   \n",
       "...      ...                       ...   \n",
       "140522  1993                      Cuba   \n",
       "166859  1996                Mauritania   \n",
       "99907   1986                Luxembourg   \n",
       "210583  2003                Luxembourg   \n",
       "236034  2008                   Germany   \n",
       "\n",
       "                                                     text  \n",
       "228015  Indeed, I need not reconfirm the fact that, af...  \n",
       "113526  With this understanding we have initiated a di...  \n",
       "224796  The recent conference on AIDS, held here at \\n...  \n",
       "130703  The Swedish Government strongly supports the e...  \n",
       "59553   76.\\tDue to the tolerance shown to South Afric...  \n",
       "...                                                   ...  \n",
       "140522  The new international economic order, three\\ni...  \n",
       "166859  It is gratifying to note that, as the Organiza...  \n",
       "99907   Our third cause for concern is undoubtedly con...  \n",
       "210583  As was recently noted by the Secretary-General...  \n",
       "236034  The same applies to disarmament policy. Only a...  \n",
       "\n",
       "[5000 rows x 3 columns]"
      ]
     },
     "execution_count": 14,
     "metadata": {},
     "output_type": "execute_result"
    }
   ],
   "source": [
    "paragraphs"
   ]
  },
  {
   "cell_type": "code",
   "execution_count": 49,
   "metadata": {},
   "outputs": [
    {
     "data": {
      "text/plain": [
       "'Indeed, I need not reconfirm the fact that, after \\nthe experiences of war and suffering that we have been \\nthrough, unless the question of Palestine and that of the \\ncontinuing occupation of Palestinian and Arab lands \\nsince 1967 is resolved, the elements of tension and \\nconflagration will keep the conflict alive and leave the \\ndoor wide open to all forms of violence, terrorism, \\nregional confrontations and global crises'"
      ]
     },
     "execution_count": 49,
     "metadata": {},
     "output_type": "execute_result"
    }
   ],
   "source": [
    "from sklearn.metrics.pairwise import cosine_similarity\n",
    "\n",
    "# note we need to build a pipeline that cleans not just the training data but also new data if we want to use it for *search*\n",
    "# This would also ensure consistency e.g. i accidently used text_clean instead of all_lemmas    \n",
    "example = paragraphs['text'].iloc[0]\n",
    "example"
   ]
  },
  {
   "cell_type": "code",
   "execution_count": 50,
   "metadata": {},
   "outputs": [
    {
     "data": {
      "text/plain": [
       "(1, 7852)"
      ]
     },
     "execution_count": 50,
     "metadata": {},
     "output_type": "execute_result"
    }
   ],
   "source": [
    "example_vector = tfidf_vectorizer.transform([example])\n",
    "example_vector.shape"
   ]
  },
  {
   "cell_type": "code",
   "execution_count": 51,
   "metadata": {},
   "outputs": [
    {
     "data": {
      "text/plain": [
       "(5000,)"
      ]
     },
     "execution_count": 51,
     "metadata": {},
     "output_type": "execute_result"
    }
   ],
   "source": [
    "# calculate cosine similarity between the original vectors (i.e. tfidf_vectors) and our example\n",
    "example_cosine_sim = cosine_similarity(tfidf_vectors, example_vector)\n",
    "example_cosine_sim = example_cosine_sim.reshape(1, -1)[0]\n",
    "example_cosine_sim.shape"
   ]
  },
  {
   "cell_type": "code",
   "execution_count": 75,
   "metadata": {},
   "outputs": [],
   "source": [
    "top_n = 10\n",
    "_temp_sample = paragraphs.copy()\n",
    "_temp_sample['similarities'] = example_cosine_sim\n",
    "\n",
    "top_n_examples = _temp_sample.sort_values('similarities', ascending=False).head(top_n)\n",
    "assert round(top_n_examples['similarities'].iloc[0], 4) == 1"
   ]
  },
  {
   "cell_type": "code",
   "execution_count": 76,
   "metadata": {},
   "outputs": [
    {
     "name": "stdout",
     "output_type": "stream",
     "text": [
      "Indeed, I need not reconfirm the fact that, after \n",
      "the experiences of war and suffering that we have been \n",
      "through, unless the question of Palestine and that of the \n",
      "continuing occupation of Palestinian and Arab lands \n",
      "since 1967 is resolved, the elements of tension and \n",
      "conflagration will keep the conflict alive and leave the \n",
      "door wide open to all forms of violence, terrorism, \n",
      "regional confrontations and global crises\n"
     ]
    }
   ],
   "source": [
    "print(top_n_examples['text'].iloc[0])"
   ]
  },
  {
   "cell_type": "code",
   "execution_count": 77,
   "metadata": {},
   "outputs": [
    {
     "name": "stdout",
     "output_type": "stream",
     "text": [
      "49.\tThe international community unanimously recognizes that a just and lasting peace cannot be achieved if it does not include the basic elements that we have just set forth. But the Zionist entity, which professes to want peace, arrogantly and obstinately opposes this unanimous will of the international community and continues its aggression and its occupation of Palestine and other independent and sovereign Arab countries neighbouring Palestine. Moreover, the decision taken on 16 September last by the Council of Ministers of Israel, under which Israelis will be allowed to acquire Arab lands and property on the West Bank and in Jerusalem, again confirms Israel's determination to pursue its policy of Occupation and aggression and to undermine the chances for a just and lasting peace in the area\n"
     ]
    }
   ],
   "source": [
    "print(top_n_examples['text'].iloc[1])"
   ]
  },
  {
   "cell_type": "code",
   "execution_count": 78,
   "metadata": {},
   "outputs": [
    {
     "data": {
      "text/html": [
       "<style type=\"text/css\">\n",
       "</style>\n",
       "<table id=\"T_21850\">\n",
       "  <thead>\n",
       "    <tr>\n",
       "      <th class=\"blank level0\" >&nbsp;</th>\n",
       "      <th id=\"T_21850_level0_col0\" class=\"col_heading level0 col0\" >year</th>\n",
       "      <th id=\"T_21850_level0_col1\" class=\"col_heading level0 col1\" >country</th>\n",
       "      <th id=\"T_21850_level0_col2\" class=\"col_heading level0 col2\" >text</th>\n",
       "      <th id=\"T_21850_level0_col3\" class=\"col_heading level0 col3\" >similarities</th>\n",
       "    </tr>\n",
       "  </thead>\n",
       "  <tbody>\n",
       "    <tr>\n",
       "      <th id=\"T_21850_level0_row0\" class=\"row_heading level0 row0\" >228015</th>\n",
       "      <td id=\"T_21850_row0_col0\" class=\"data row0 col0\" >2006</td>\n",
       "      <td id=\"T_21850_row0_col1\" class=\"data row0 col1\" >Palestine, State of</td>\n",
       "      <td id=\"T_21850_row0_col2\" class=\"data row0 col2\" >Indeed, I need not reconfirm the fact that, after \n",
       "the experiences of war and suffering that we have been \n",
       "through, unless the question of Palestine and that of the \n",
       "continuing occupation of Palestinian and Arab lands \n",
       "since 1967 is resolved, the elements of tension and \n",
       "conflagration will keep the conflict alive and leave the \n",
       "door wide open to all forms of violence, terrorism, \n",
       "regional confrontations and global crises</td>\n",
       "      <td id=\"T_21850_row0_col3\" class=\"data row0 col3\" >1.000000</td>\n",
       "    </tr>\n",
       "    <tr>\n",
       "      <th id=\"T_21850_level0_row1\" class=\"row_heading level0 row1\" >54940</th>\n",
       "      <td id=\"T_21850_row1_col0\" class=\"data row1 col0\" >1979</td>\n",
       "      <td id=\"T_21850_row1_col1\" class=\"data row1 col1\" >Yemen</td>\n",
       "      <td id=\"T_21850_row1_col2\" class=\"data row1 col2\" >49.\tThe international community unanimously recognizes that a just and lasting peace cannot be achieved if it does not include the basic elements that we have just set forth. But the Zionist entity, which professes to want peace, arrogantly and obstinately opposes this unanimous will of the international community and continues its aggression and its occupation of Palestine and other independent and sovereign Arab countries neighbouring Palestine. Moreover, the decision taken on 16 September last by the Council of Ministers of Israel, under which Israelis will be allowed to acquire Arab lands and property on the West Bank and in Jerusalem, again confirms Israel's determination to pursue its policy of Occupation and aggression and to undermine the chances for a just and lasting peace in the area</td>\n",
       "      <td id=\"T_21850_row1_col3\" class=\"data row1 col3\" >0.171640</td>\n",
       "    </tr>\n",
       "    <tr>\n",
       "      <th id=\"T_21850_level0_row2\" class=\"row_heading level0 row2\" >18124</th>\n",
       "      <td id=\"T_21850_row2_col0\" class=\"data row2 col0\" >1974</td>\n",
       "      <td id=\"T_21850_row2_col1\" class=\"data row2 col1\" >United Arab Emirates</td>\n",
       "      <td id=\"T_21850_row2_col2\" class=\"data row2 col2\" >198.\tOur position on the question of Palestine is known to all. We have often stated our views regarding the aggressive nature of Zionism and denounced Israel's aggression and occupation of Arab territories. We shall, nevertheless, state in greater detail our views during the discussion of the question of Palestine and other relevant items. We should like, however, to reiterate now our demand for Israel's withdrawal from all occupied territories. We shall continue to extend every possible assistance for the achievement of that goal</td>\n",
       "      <td id=\"T_21850_row2_col3\" class=\"data row2 col3\" >0.169033</td>\n",
       "    </tr>\n",
       "    <tr>\n",
       "      <th id=\"T_21850_level0_row3\" class=\"row_heading level0 row3\" >92629</th>\n",
       "      <td id=\"T_21850_row3_col0\" class=\"data row3 col0\" >1985</td>\n",
       "      <td id=\"T_21850_row3_col1\" class=\"data row3 col1\" >Iraq</td>\n",
       "      <td id=\"T_21850_row3_col2\" class=\"data row3 col2\" >The Palestinian question, including the rights of the Arab Palestinian people, has been one of the most important issues in the United Nations since its foundation, while the tragedy of this dispersed people remains a pressing matter, the Arabs of Palestine are repeatedly subjected to massacre and extermination. The objective has always been to eliminate this people's heritage, identity and very existence. The Palestinians continue to suffer the most inhuman treatment at the hands of their Zionist oppressors, whose racist measures have included not only expulsion, dispersion, confiscation of property, and so on, but also the establishment of Zionist settlements on Arab lands</td>\n",
       "      <td id=\"T_21850_row3_col3\" class=\"data row3 col3\" >0.164453</td>\n",
       "    </tr>\n",
       "    <tr>\n",
       "      <th id=\"T_21850_level0_row4\" class=\"row_heading level0 row4\" >47040</th>\n",
       "      <td id=\"T_21850_row4_col0\" class=\"data row4 col0\" >1978</td>\n",
       "      <td id=\"T_21850_row4_col1\" class=\"data row4 col1\" >Sao Tome and Principe</td>\n",
       "      <td id=\"T_21850_row4_col2\" class=\"data row4 col2\" >108.\tThe position of my Government concerning the Palestinian question, which arose soon after the Second World War, is well known. Israel must be asked to abandon its policy of aggression, occupation and expansion, a policy which keeps alive the existing conflict in the Middle East, which we all deplore. To be more explicit, Israel must be asked to withdraw from the Arab territories occupied since 1967 and to recognize the right of the Palestinian people to a homeland. Peace in that region is closely linked with a change of attitude by Israel, which must henceforward understand that war is in no way beneficial to the development and progress of the world or to understanding among the nations and peoples of the earth. War renders ill service to international peace and security. War is destructive from every point of view</td>\n",
       "      <td id=\"T_21850_row4_col3\" class=\"data row4 col3\" >0.156974</td>\n",
       "    </tr>\n",
       "    <tr>\n",
       "      <th id=\"T_21850_level0_row5\" class=\"row_heading level0 row5\" >263055</th>\n",
       "      <td id=\"T_21850_row5_col0\" class=\"data row5 col0\" >2012</td>\n",
       "      <td id=\"T_21850_row5_col1\" class=\"data row5 col1\" >Turkey</td>\n",
       "      <td id=\"T_21850_row5_col2\" class=\"data row5 col2\" >For instance, we have time and again declared\n",
       "our support for a two-State solution to the question of\n",
       "Palestine and adopted numerous resolutions to that end. However, we still hope that, one day soon, Palestine will\n",
       "be represented as an equal member in the Assembly</td>\n",
       "      <td id=\"T_21850_row5_col3\" class=\"data row5 col3\" >0.153039</td>\n",
       "    </tr>\n",
       "    <tr>\n",
       "      <th id=\"T_21850_level0_row6\" class=\"row_heading level0 row6\" >89228</th>\n",
       "      <td id=\"T_21850_row6_col0\" class=\"data row6 col0\" >1984</td>\n",
       "      <td id=\"T_21850_row6_col1\" class=\"data row6 col1\" >United States</td>\n",
       "      <td id=\"T_21850_row6_col2\" class=\"data row6 col2\" >27.\tBut any economic progress, as well as any movement in the direction of greater understanding between the nations of the world, is, of course, endangered by the prospect of conflict at both the global and the regional levels. In a few minutes I will turn to the menace of conflict on a world-wide scale and discuss the status of negotiations between the United States and the Soviet Union. But permit me first to address the critical problem of regional conflicts, for history displays tragic evidence that it is these conflicts which can set off the sparks leading to world-wide conflagration</td>\n",
       "      <td id=\"T_21850_row6_col3\" class=\"data row6 col3\" >0.149119</td>\n",
       "    </tr>\n",
       "    <tr>\n",
       "      <th id=\"T_21850_level0_row7\" class=\"row_heading level0 row7\" >53325</th>\n",
       "      <td id=\"T_21850_row7_col0\" class=\"data row7 col0\" >1979</td>\n",
       "      <td id=\"T_21850_row7_col1\" class=\"data row7 col1\" >Qatar</td>\n",
       "      <td id=\"T_21850_row7_col2\" class=\"data row7 col2\" >10.\tThe State of Qatar, in fulfilment of what was unanimously agreed upon by the Arabs and in the resolutions of Arab Summit Conferences, particularly those of Algiers in 1974, Rabat in 1974 and Baghdad in 1978, and in accordance with the international community's stand, as reflected in the resolutions of the United Nations and the Sixth Conference of Heads of State or Government of Non-Aligned Countries, reaffirms that any peaceful, just and comprehensive settlement of the Arab-Israeli conflict should be based on the following main principles: first, the total withdrawal of Israel from all Arab territories occupied by force in 1967, including Arab Jerusalem; secondly, the recognition of the inalienable rights of the Palestinian people and the exercise of their legitimate rights to self-determination, independence and sovereignty in Palestine, their homeland; thirdly, the right of the PLO, the sole legitimate representative of the Palestinian people, to participate as an independent and equal partner in all international conferences, activities and international forums concerned with the Palestinian question and the Middle East dispute, which means that no other party may have the right to speak on behalf of the Palestinian people; and fourthly, the invalidity of all agreements pertaining to the Palestinian question unless the PLO, as the sole legitimate representative of the Palestinian people, is a principal partner to them, in accordance with General Assembly resolution 33/28 A. Hence, the implications of the Camp David agreements, which are considered by the Government of Qatar as a violation of the Charter of the League of Arab States, international legitimacy and the resolutions of the United Nations in relation to the Palestine question and the occupied Arab and Palestinian territories, should be declared null and void. Furthermore, these agreements ignored the legitimate rights of the Palestinian people, including their right to establish their independent State in Palestine, and also completely ignored the question of occupied Arab Jerusalem</td>\n",
       "      <td id=\"T_21850_row7_col3\" class=\"data row7 col3\" >0.145091</td>\n",
       "    </tr>\n",
       "    <tr>\n",
       "      <th id=\"T_21850_level0_row8\" class=\"row_heading level0 row8\" >207437</th>\n",
       "      <td id=\"T_21850_row8_col0\" class=\"data row8 col0\" >2002</td>\n",
       "      <td id=\"T_21850_row8_col1\" class=\"data row8 col1\" >Zimbabwe</td>\n",
       "      <td id=\"T_21850_row8_col2\" class=\"data row8 col2\" >The United Nations is confronted with a volatile\n",
       "situation in the Middle East that has the potential to\n",
       "engulf the entire subregion. The Palestinian question\n",
       "should be resolved without further delay, as it is\n",
       "causing untold suffering to the people in the occupied\n",
       "25\n",
       "\n",
       "territories. Israel must withdraw its forces from\n",
       "Palestinian lands, and the Palestinians must be afforded\n",
       "the opportunity of having a State of their own. The\n",
       "carnage that is going on at present will benefit neither\n",
       "side. Israel must know that its chances for peace and\n",
       "security lie in having a Palestinian State that will live\n",
       "side by side with it in mutual respect between\n",
       "sovereign States</td>\n",
       "      <td id=\"T_21850_row8_col3\" class=\"data row8 col3\" >0.138416</td>\n",
       "    </tr>\n",
       "    <tr>\n",
       "      <th id=\"T_21850_level0_row9\" class=\"row_heading level0 row9\" >207053</th>\n",
       "      <td id=\"T_21850_row9_col0\" class=\"data row9 col0\" >2002</td>\n",
       "      <td id=\"T_21850_row9_col1\" class=\"data row9 col1\" >Tanzania, United Republic of</td>\n",
       "      <td id=\"T_21850_row9_col2\" class=\"data row9 col2\" >The framework for the resumption of negotiations\n",
       "between Israel and the Government of Palestine\n",
       "already exists. Both sides must create an environment\n",
       "conducive to negotiations. There has to be an end to\n",
       "Israeli occupation of Arab lands and significant\n",
       "movement towards the creation of a viable Palestinian\n",
       "State living side by side with Israel as an imperative to\n",
       "lasting peace in the Middle East. The security concerns\n",
       "of Israel should be addressed and encoded properly in\n",
       "any agreement. In this regard, all relevant Security\n",
       "Council and General Assembly resolutions must be\n",
       "adhered to</td>\n",
       "      <td id=\"T_21850_row9_col3\" class=\"data row9 col3\" >0.135827</td>\n",
       "    </tr>\n",
       "  </tbody>\n",
       "</table>\n"
      ],
      "text/plain": [
       "<pandas.io.formats.style.Styler at 0xffff34780550>"
      ]
     },
     "execution_count": 78,
     "metadata": {},
     "output_type": "execute_result"
    }
   ],
   "source": [
    "pd.set_option('display.max_colwidth', 300)\n",
    "top_n_examples[['year', 'country', 'text', 'similarities']].\\\n",
    "    style"
   ]
  },
  {
   "attachments": {},
   "cell_type": "markdown",
   "metadata": {},
   "source": [
    "---"
   ]
  },
  {
   "attachments": {},
   "cell_type": "markdown",
   "metadata": {},
   "source": [
    "# Cosine Similarity - Embeddings"
   ]
  },
  {
   "cell_type": "code",
   "execution_count": 81,
   "metadata": {},
   "outputs": [],
   "source": [
    "from sentence_transformers import SentenceTransformer, util\n",
    "model = SentenceTransformer('multi-qa-MiniLM-L6-cos-v1')"
   ]
  },
  {
   "cell_type": "code",
   "execution_count": 29,
   "metadata": {},
   "outputs": [
    {
     "data": {
      "text/plain": [
       "(5000, 384)"
      ]
     },
     "execution_count": 29,
     "metadata": {},
     "output_type": "execute_result"
    }
   ],
   "source": [
    "paragraph_embeddings = model.encode(paragraphs.text.tolist())\n",
    "paragraph_embeddings.shape"
   ]
  },
  {
   "cell_type": "code",
   "execution_count": 38,
   "metadata": {},
   "outputs": [
    {
     "data": {
      "text/plain": [
       "tensor([1.0000, 0.3442, 0.3606,  ..., 0.3995, 0.2873, 0.3785])"
      ]
     },
     "execution_count": 38,
     "metadata": {},
     "output_type": "execute_result"
    }
   ],
   "source": [
    "query_embedding = model.encode(paragraphs.text.tolist()[0])\n",
    "similarities = util.dot_score(query_embedding, paragraph_embeddings)[0]\n",
    "similarities"
   ]
  },
  {
   "attachments": {},
   "cell_type": "markdown",
   "metadata": {},
   "source": [
    "---"
   ]
  },
  {
   "cell_type": "code",
   "execution_count": 114,
   "metadata": {},
   "outputs": [
    {
     "name": "stdout",
     "output_type": "stream",
     "text": [
      "[[1.         0.34419763 0.3605953  0.36372387 0.19492552]]\n",
      "tensor([1.0000, 0.3442, 0.3606, 0.3637, 0.1949])\n"
     ]
    }
   ],
   "source": [
    "cosine_sims = cosine_similarity(paragraph_embeddings, query_embedding.reshape(1, -1))\n",
    "# looks like cosine_similarity and dot_score return same thing\n",
    "print(cosine_sims[0:5].reshape(1, -1))\n",
    "print(similarities[0:5])"
   ]
  },
  {
   "attachments": {},
   "cell_type": "markdown",
   "metadata": {},
   "source": [
    "---"
   ]
  },
  {
   "cell_type": "code",
   "execution_count": 70,
   "metadata": {},
   "outputs": [],
   "source": [
    "top_n = 10\n",
    "_temp_sample = paragraphs.copy()\n",
    "_temp_sample['similarities'] = similarities\n",
    "top_n_examples = _temp_sample.sort_values('similarities', ascending=False).head(top_n)\n",
    "assert round(top_n_examples['similarities'].iloc[0], 4) == 1"
   ]
  },
  {
   "cell_type": "code",
   "execution_count": 74,
   "metadata": {},
   "outputs": [
    {
     "data": {
      "text/html": [
       "<style type=\"text/css\">\n",
       "</style>\n",
       "<table id=\"T_9a7cb\">\n",
       "  <thead>\n",
       "    <tr>\n",
       "      <th class=\"blank level0\" >&nbsp;</th>\n",
       "      <th id=\"T_9a7cb_level0_col0\" class=\"col_heading level0 col0\" >year</th>\n",
       "      <th id=\"T_9a7cb_level0_col1\" class=\"col_heading level0 col1\" >country</th>\n",
       "      <th id=\"T_9a7cb_level0_col2\" class=\"col_heading level0 col2\" >text</th>\n",
       "      <th id=\"T_9a7cb_level0_col3\" class=\"col_heading level0 col3\" >similarities</th>\n",
       "    </tr>\n",
       "  </thead>\n",
       "  <tbody>\n",
       "    <tr>\n",
       "      <th id=\"T_9a7cb_level0_row0\" class=\"row_heading level0 row0\" >228015</th>\n",
       "      <td id=\"T_9a7cb_row0_col0\" class=\"data row0 col0\" >2006</td>\n",
       "      <td id=\"T_9a7cb_row0_col1\" class=\"data row0 col1\" >Palestine, State of</td>\n",
       "      <td id=\"T_9a7cb_row0_col2\" class=\"data row0 col2\" >Indeed, I need not reconfirm the fact that, after \n",
       "the experiences of war and suffering that we have been \n",
       "through, unless the question of Palestine and that of the \n",
       "continuing occupation of Palestinian and Arab lands \n",
       "since 1967 is resolved, the elements of tension and \n",
       "conflagration will keep the conflict alive and leave the \n",
       "door wide open to all forms of violence, terrorism, \n",
       "regional confrontations and global crises</td>\n",
       "      <td id=\"T_9a7cb_row0_col3\" class=\"data row0 col3\" >1.000000</td>\n",
       "    </tr>\n",
       "    <tr>\n",
       "      <th id=\"T_9a7cb_level0_row1\" class=\"row_heading level0 row1\" >224905</th>\n",
       "      <td id=\"T_9a7cb_row1_col0\" class=\"data row1 col0\" >2006</td>\n",
       "      <td id=\"T_9a7cb_row1_col1\" class=\"data row1 col1\" >China</td>\n",
       "      <td id=\"T_9a7cb_row1_col2\" class=\"data row1 col2\" >The question of Palestine is at the core of the \n",
       "Middle East issue. The peace process should be re-\n",
       "started in keeping with the relevant resolutions of the \n",
       "United Nations and the principle of land for peace, in \n",
       "the interest of reaching an early and comprehensive \n",
       "settlement of the Middle East issue, including the \n",
       "Palestinian-Israeli conflict, so that the countries \n",
       "involved can live in harmony and the region can enjoy \n",
       "durable peace</td>\n",
       "      <td id=\"T_9a7cb_row1_col3\" class=\"data row1 col3\" >0.757447</td>\n",
       "    </tr>\n",
       "    <tr>\n",
       "      <th id=\"T_9a7cb_level0_row2\" class=\"row_heading level0 row2\" >47040</th>\n",
       "      <td id=\"T_9a7cb_row2_col0\" class=\"data row2 col0\" >1978</td>\n",
       "      <td id=\"T_9a7cb_row2_col1\" class=\"data row2 col1\" >Sao Tome and Principe</td>\n",
       "      <td id=\"T_9a7cb_row2_col2\" class=\"data row2 col2\" >108.\tThe position of my Government concerning the Palestinian question, which arose soon after the Second World War, is well known. Israel must be asked to abandon its policy of aggression, occupation and expansion, a policy which keeps alive the existing conflict in the Middle East, which we all deplore. To be more explicit, Israel must be asked to withdraw from the Arab territories occupied since 1967 and to recognize the right of the Palestinian people to a homeland. Peace in that region is closely linked with a change of attitude by Israel, which must henceforward understand that war is in no way beneficial to the development and progress of the world or to understanding among the nations and peoples of the earth. War renders ill service to international peace and security. War is destructive from every point of view</td>\n",
       "      <td id=\"T_9a7cb_row2_col3\" class=\"data row2 col3\" >0.735725</td>\n",
       "    </tr>\n",
       "    <tr>\n",
       "      <th id=\"T_9a7cb_level0_row3\" class=\"row_heading level0 row3\" >136871</th>\n",
       "      <td id=\"T_9a7cb_row3_col0\" class=\"data row3 col0\" >1992</td>\n",
       "      <td id=\"T_9a7cb_row3_col1\" class=\"data row3 col1\" >Oman</td>\n",
       "      <td id=\"T_9a7cb_row3_col2\" class=\"data row3 col2\" >The problem of Palestine has been the major factor underlying the \n",
       "tragedies and wars witnessed by the peoples of the Middle East region. Peace \n",
       "and stability in this important and delicate region cannot be achieved without \n",
       "finding a solution to this problem, which is the crux of the Arab-Israeli \n",
       "conflict</td>\n",
       "      <td id=\"T_9a7cb_row3_col3\" class=\"data row3 col3\" >0.731984</td>\n",
       "    </tr>\n",
       "    <tr>\n",
       "      <th id=\"T_9a7cb_level0_row4\" class=\"row_heading level0 row4\" >94917</th>\n",
       "      <td id=\"T_9a7cb_row4_col0\" class=\"data row4 col0\" >1985</td>\n",
       "      <td id=\"T_9a7cb_row4_col1\" class=\"data row4 col1\" >Saudi Arabia</td>\n",
       "      <td id=\"T_9a7cb_row4_col2\" class=\"data row4 col2\" >The problems that our region is facing and the complications that appear on the ground there are in fact, and in the final analysis, only repercussions of the Zionist aggression against Palestine, and the actual result of the accumulation of developments in the Palestine problem. The wars and political and military conflicts through which the area has been living for the past 33 years are but one effect of the failure to solve the basic problem, and are a result of Israeli aggression in the area. The perpetuation of Israeli occupation of Arab territories is living proof of its designs for expansion, its flagrant defiance of United Nations resolutions and its constant disregard for world public opinion and every law and convention</td>\n",
       "      <td id=\"T_9a7cb_row4_col3\" class=\"data row4 col3\" >0.726528</td>\n",
       "    </tr>\n",
       "    <tr>\n",
       "      <th id=\"T_9a7cb_level0_row5\" class=\"row_heading level0 row5\" >143786</th>\n",
       "      <td id=\"T_9a7cb_row5_col0\" class=\"data row5 col0\" >1993</td>\n",
       "      <td id=\"T_9a7cb_row5_col1\" class=\"data row5 col1\" >Mongolia</td>\n",
       "      <td id=\"T_9a7cb_row5_col2\" class=\"data row5 col2\" >Furthermore, solutions are being found even to the most\n",
       "protracted regional conflicts. The recent historic act of\n",
       "mutual recognition between Israel and the Palestine\n",
       "Liberation Organization (PLO) and the interim peace\n",
       "agreement are a case in point. We hope that this will lead\n",
       "to a just and comprehensive solution to the Arab-Israeli\n",
       "conflict</td>\n",
       "      <td id=\"T_9a7cb_row5_col3\" class=\"data row5 col3\" >0.713083</td>\n",
       "    </tr>\n",
       "    <tr>\n",
       "      <th id=\"T_9a7cb_level0_row6\" class=\"row_heading level0 row6\" >200785</th>\n",
       "      <td id=\"T_9a7cb_row6_col0\" class=\"data row6 col0\" >2001</td>\n",
       "      <td id=\"T_9a7cb_row6_col1\" class=\"data row6 col1\" >Palestine, State of</td>\n",
       "      <td id=\"T_9a7cb_row6_col2\" class=\"data row6 col2\" >We welcome the positive positions taken by\n",
       "President George W. Bush and other leaders who have\n",
       "called for the establishment of a Palestinian State. We\n",
       "believe this constitutes a significant step towards\n",
       "ending the conflict and establishing peace in the\n",
       "Middle East. I will say candidly to you that reviving\n",
       "and completing the peace process will need a new\n",
       "qualitative push, and after all that has happened it will\n",
       "not be possible to confine ourselves to interim\n",
       "solutions. It is impossible, of course, to achieve another\n",
       "interim agreement, as called for by some. To control\n",
       "the situation on the ground and to get the situation back\n",
       "to the way it existed before 28 September 2000\n",
       "requires clear political imagination and new hope</td>\n",
       "      <td id=\"T_9a7cb_row6_col3\" class=\"data row6 col3\" >0.702671</td>\n",
       "    </tr>\n",
       "    <tr>\n",
       "      <th id=\"T_9a7cb_level0_row7\" class=\"row_heading level0 row7\" >148474</th>\n",
       "      <td id=\"T_9a7cb_row7_col0\" class=\"data row7 col0\" >1994</td>\n",
       "      <td id=\"T_9a7cb_row7_col1\" class=\"data row7 col1\" >Congo</td>\n",
       "      <td id=\"T_9a7cb_row7_col2\" class=\"data row7 col2\" >Firmly and resolutely, the dynamic of peace begun\n",
       "in the Middle East is growing stronger and is opening\n",
       "prospects for cooperation to peoples long ruined by war\n",
       "and yet fated by geography and history to live together</td>\n",
       "      <td id=\"T_9a7cb_row7_col3\" class=\"data row7 col3\" >0.694066</td>\n",
       "    </tr>\n",
       "    <tr>\n",
       "      <th id=\"T_9a7cb_level0_row8\" class=\"row_heading level0 row8\" >119687</th>\n",
       "      <td id=\"T_9a7cb_row8_col0\" class=\"data row8 col0\" >1989</td>\n",
       "      <td id=\"T_9a7cb_row8_col1\" class=\"data row8 col1\" >Democratic Yemen</td>\n",
       "      <td id=\"T_9a7cb_row8_col2\" class=\"data row8 col2\" >This positive initiative has been accompanied by the steadfastness of the Palestinian people's intifadah in the occupied territories. From this rostrum we salute the continued courage of the Palestinian people engaged in an in equal confrontation with the Israeli occupation, it is important to state that Israel's true image has been clearly revealed to world public opinion. Does any doubt still persist about the fact that Israel does not want peace to prevail in the region? Does any doubt still persist about another fact that Israel's policy is based on expansion and colonial settlement? Has it not yet been proved beyond any doubt through clear, tangible, irrefutable evidence, that Israel violates human rights in the occupied territories? Has the world forgotten the crimes committed by Israel against the defenceless Palestinian people, burying them alive and breaking their bones?\n",
       "The international community as a whole calls for terminating the Israeli occupation of Palestine and other Arab territories. It calls for seizing the opportunity to proceed with the preparations for the convening of the International Peace Conference on the Middle East, in accordance with numerous successive resolutions adopted by the General Assembly, with the participation on an equal footing of all parties concerned, including the Palestine Liberation Organization, the sole legitimate representative of the Palestinian people. That is the right approach, agreed upon internationally  it would lead to a just political settlement in the Middle East that would guarantee the national inalienable rights of the Palestinian people, foremost among which is their right to self-determination and to the establishment of their independent State</td>\n",
       "      <td id=\"T_9a7cb_row8_col3\" class=\"data row8 col3\" >0.692149</td>\n",
       "    </tr>\n",
       "    <tr>\n",
       "      <th id=\"T_9a7cb_level0_row9\" class=\"row_heading level0 row9\" >207437</th>\n",
       "      <td id=\"T_9a7cb_row9_col0\" class=\"data row9 col0\" >2002</td>\n",
       "      <td id=\"T_9a7cb_row9_col1\" class=\"data row9 col1\" >Zimbabwe</td>\n",
       "      <td id=\"T_9a7cb_row9_col2\" class=\"data row9 col2\" >The United Nations is confronted with a volatile\n",
       "situation in the Middle East that has the potential to\n",
       "engulf the entire subregion. The Palestinian question\n",
       "should be resolved without further delay, as it is\n",
       "causing untold suffering to the people in the occupied\n",
       "25\n",
       "\n",
       "territories. Israel must withdraw its forces from\n",
       "Palestinian lands, and the Palestinians must be afforded\n",
       "the opportunity of having a State of their own. The\n",
       "carnage that is going on at present will benefit neither\n",
       "side. Israel must know that its chances for peace and\n",
       "security lie in having a Palestinian State that will live\n",
       "side by side with it in mutual respect between\n",
       "sovereign States</td>\n",
       "      <td id=\"T_9a7cb_row9_col3\" class=\"data row9 col3\" >0.691404</td>\n",
       "    </tr>\n",
       "  </tbody>\n",
       "</table>\n"
      ],
      "text/plain": [
       "<pandas.io.formats.style.Styler at 0xffff28b21c30>"
      ]
     },
     "execution_count": 74,
     "metadata": {},
     "output_type": "execute_result"
    }
   ],
   "source": [
    "pd.set_option('display.max_colwidth', 300)\n",
    "top_n_examples[['year', 'country', 'text', 'similarities']].\\\n",
    "    style"
   ]
  },
  {
   "attachments": {},
   "cell_type": "markdown",
   "metadata": {},
   "source": [
    "---"
   ]
  }
 ],
 "metadata": {
  "kernelspec": {
   "display_name": "Python 3",
   "language": "python",
   "name": "python3"
  },
  "language_info": {
   "codemirror_mode": {
    "name": "ipython",
    "version": 3
   },
   "file_extension": ".py",
   "mimetype": "text/x-python",
   "name": "python",
   "nbconvert_exporter": "python",
   "pygments_lexer": "ipython3",
   "version": "3.10.10"
  },
  "orig_nbformat": 4,
  "vscode": {
   "interpreter": {
    "hash": "949777d72b0d2535278d3dc13498b2535136f6dfe0678499012e853ee9abcab1"
   }
  }
 },
 "nbformat": 4,
 "nbformat_minor": 2
}
