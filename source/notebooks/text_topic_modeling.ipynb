{
 "cells": [
  {
   "cell_type": "markdown",
   "id": "564aa887",
   "metadata": {
    "pycharm": {
     "name": "#%% md\n"
    }
   },
   "source": [
    "# Citation\n",
    "\n",
    "Much of the code and examples are copied/modified from \n",
    "\n",
    "> Blueprints for Text Analytics Using Python by Jens Albrecht, Sidharth Ramachandran, and Christian Winkler (O'Reilly, 2021), 978-1-492-07408-3.\n",
    ">\n",
    "\n",
    "- https://github.com/blueprints-for-text-analytics-python/blueprints-text\n",
    "- https://github.com/blueprints-for-text-analytics-python/blueprints-text/blob/master/ch08/Topic_Modeling_Clustering.ipynb"
   ]
  },
  {
   "cell_type": "markdown",
   "id": "2a967948",
   "metadata": {},
   "source": [
    "---"
   ]
  },
  {
   "cell_type": "markdown",
   "id": "281cc7ab",
   "metadata": {},
   "source": [
    "# Configuration"
   ]
  },
  {
   "cell_type": "code",
   "execution_count": 1,
   "id": "2fd95827",
   "metadata": {},
   "outputs": [],
   "source": [
    "# this variable controls the range of n-grams used by CountVectorizer/TfidfVectorizer\n",
    "# and, therefore, the n-grams the topic modeling will use\n",
    "n_gram_range = (1, 3)\n",
    "# specify stop words specific to this dataset\n",
    "custom_stop_words = {'united', 'nations', 'nation'}\n",
    "# specify the number of topics the NMF/LDA will create\n",
    "number_of_topics = 10"
   ]
  },
  {
   "cell_type": "markdown",
   "id": "35ae0c59",
   "metadata": {},
   "source": [
    "# Setup"
   ]
  },
  {
   "cell_type": "code",
   "execution_count": 2,
   "id": "76f028ce",
   "metadata": {},
   "outputs": [
    {
     "name": "stdout",
     "output_type": "stream",
     "text": [
      "/Users/shanekercheval/repos/nlp-template\n"
     ]
    }
   ],
   "source": [
    "cd ../.."
   ]
  },
  {
   "cell_type": "code",
   "execution_count": 3,
   "id": "66085eae",
   "metadata": {},
   "outputs": [],
   "source": [
    "%run \"source/config/notebook_settings.py\""
   ]
  },
  {
   "cell_type": "code",
   "execution_count": 4,
   "id": "f360077d",
   "metadata": {},
   "outputs": [],
   "source": [
    "pd.set_option('display.max_colwidth', None)"
   ]
  },
  {
   "cell_type": "code",
   "execution_count": 5,
   "id": "3492686a",
   "metadata": {},
   "outputs": [],
   "source": [
    "from source.library.utilities import Timer, get_logger\n",
    "from source.library.text_analysis import count_tokens, tf_idf, get_context_from_keyword, count_keywords, count_keywords_by, impurity\n",
    "from source.library.sklearn_topic_modeling import *"
   ]
  },
  {
   "cell_type": "code",
   "execution_count": 6,
   "id": "624dedbc",
   "metadata": {},
   "outputs": [
    {
     "name": "stdout",
     "output_type": "stream",
     "text": [
      "Started: Loading Data\n",
      "Finished (0.14 seconds)\n"
     ]
    }
   ],
   "source": [
    "with Timer(\"Loading Data\"):\n",
    "    path = 'artifacts/data/processed/un-general-debates-paragraphs.pkl'\n",
    "    paragraphs = pd.read_pickle(path)"
   ]
  },
  {
   "cell_type": "markdown",
   "id": "71e4bfed",
   "metadata": {},
   "source": [
    "---"
   ]
  },
  {
   "cell_type": "markdown",
   "id": "f055efe1",
   "metadata": {},
   "source": [
    "# Exploratory Data Analysis\n",
    "\n",
    "This section provides a basic exploration of the text and dataset."
   ]
  },
  {
   "cell_type": "markdown",
   "id": "08db1a7f",
   "metadata": {},
   "source": [
    "## Dataset Summary"
   ]
  },
  {
   "cell_type": "code",
   "execution_count": 7,
   "id": "596aab15",
   "metadata": {},
   "outputs": [
    {
     "data": {
      "text/html": [
       "<style type=\"text/css\">\n",
       "#T_68bb5_row0_col2, #T_68bb5_row0_col4 {\n",
       "  width: 10em;\n",
       "}\n",
       "#T_68bb5_row0_col7 {\n",
       "  width: 10em;\n",
       "  background: linear-gradient(90deg, #B4B7B9 1.0%, transparent 1.0%);\n",
       "}\n",
       "#T_68bb5_row0_col8 {\n",
       "  width: 10em;\n",
       "  background: linear-gradient(90deg, transparent 50.0%, #B4B7B9 50.0%, #B4B7B9 51.2%, transparent 51.2%);\n",
       "}\n",
       "</style>\n",
       "<table id=\"T_68bb5\">\n",
       "  <thead>\n",
       "    <tr>\n",
       "      <th class=\"blank level0\" >&nbsp;</th>\n",
       "      <th id=\"T_68bb5_level0_col0\" class=\"col_heading level0 col0\" ># of Non-Nulls</th>\n",
       "      <th id=\"T_68bb5_level0_col1\" class=\"col_heading level0 col1\" ># of Nulls</th>\n",
       "      <th id=\"T_68bb5_level0_col2\" class=\"col_heading level0 col2\" >% Nulls</th>\n",
       "      <th id=\"T_68bb5_level0_col3\" class=\"col_heading level0 col3\" ># of Zeros</th>\n",
       "      <th id=\"T_68bb5_level0_col4\" class=\"col_heading level0 col4\" >% Zeros</th>\n",
       "      <th id=\"T_68bb5_level0_col5\" class=\"col_heading level0 col5\" >Mean</th>\n",
       "      <th id=\"T_68bb5_level0_col6\" class=\"col_heading level0 col6\" >St Dev.</th>\n",
       "      <th id=\"T_68bb5_level0_col7\" class=\"col_heading level0 col7\" >Coef of Var</th>\n",
       "      <th id=\"T_68bb5_level0_col8\" class=\"col_heading level0 col8\" >Skewness</th>\n",
       "      <th id=\"T_68bb5_level0_col9\" class=\"col_heading level0 col9\" >Kurtosis</th>\n",
       "      <th id=\"T_68bb5_level0_col10\" class=\"col_heading level0 col10\" >Min</th>\n",
       "      <th id=\"T_68bb5_level0_col11\" class=\"col_heading level0 col11\" >10%</th>\n",
       "      <th id=\"T_68bb5_level0_col12\" class=\"col_heading level0 col12\" >25%</th>\n",
       "      <th id=\"T_68bb5_level0_col13\" class=\"col_heading level0 col13\" >50%</th>\n",
       "      <th id=\"T_68bb5_level0_col14\" class=\"col_heading level0 col14\" >75%</th>\n",
       "      <th id=\"T_68bb5_level0_col15\" class=\"col_heading level0 col15\" >90%</th>\n",
       "      <th id=\"T_68bb5_level0_col16\" class=\"col_heading level0 col16\" >Max</th>\n",
       "    </tr>\n",
       "  </thead>\n",
       "  <tbody>\n",
       "    <tr>\n",
       "      <th id=\"T_68bb5_level0_row0\" class=\"row_heading level0 row0\" >year</th>\n",
       "      <td id=\"T_68bb5_row0_col0\" class=\"data row0 col0\" >279,045</td>\n",
       "      <td id=\"T_68bb5_row0_col1\" class=\"data row0 col1\" >0</td>\n",
       "      <td id=\"T_68bb5_row0_col2\" class=\"data row0 col2\" >0.0%</td>\n",
       "      <td id=\"T_68bb5_row0_col3\" class=\"data row0 col3\" >0</td>\n",
       "      <td id=\"T_68bb5_row0_col4\" class=\"data row0 col4\" >0.0%</td>\n",
       "      <td id=\"T_68bb5_row0_col5\" class=\"data row0 col5\" >1,992.4</td>\n",
       "      <td id=\"T_68bb5_row0_col6\" class=\"data row0 col6\" >12.6</td>\n",
       "      <td id=\"T_68bb5_row0_col7\" class=\"data row0 col7\" >0.0</td>\n",
       "      <td id=\"T_68bb5_row0_col8\" class=\"data row0 col8\" >0.1</td>\n",
       "      <td id=\"T_68bb5_row0_col9\" class=\"data row0 col9\" >-1.1</td>\n",
       "      <td id=\"T_68bb5_row0_col10\" class=\"data row0 col10\" >1,970</td>\n",
       "      <td id=\"T_68bb5_row0_col11\" class=\"data row0 col11\" >1,975.0</td>\n",
       "      <td id=\"T_68bb5_row0_col12\" class=\"data row0 col12\" >1,982.0</td>\n",
       "      <td id=\"T_68bb5_row0_col13\" class=\"data row0 col13\" >1,993.0</td>\n",
       "      <td id=\"T_68bb5_row0_col14\" class=\"data row0 col14\" >2,003.0</td>\n",
       "      <td id=\"T_68bb5_row0_col15\" class=\"data row0 col15\" >2,010.0</td>\n",
       "      <td id=\"T_68bb5_row0_col16\" class=\"data row0 col16\" >2,015</td>\n",
       "    </tr>\n",
       "  </tbody>\n",
       "</table>\n"
      ],
      "text/plain": [
       "<pandas.io.formats.style.Styler at 0x1060ff3a0>"
      ]
     },
     "execution_count": 7,
     "metadata": {},
     "output_type": "execute_result"
    }
   ],
   "source": [
    "hlp.pandas.numeric_summary(paragraphs)"
   ]
  },
  {
   "cell_type": "code",
   "execution_count": 8,
   "id": "da917720",
   "metadata": {},
   "outputs": [
    {
     "data": {
      "text/html": [
       "<style type=\"text/css\">\n",
       "#T_ee977_row0_col2, #T_ee977_row1_col2 {\n",
       "  width: 10em;\n",
       "}\n",
       "#T_ee977_row0_col5 {\n",
       "  width: 10em;\n",
       "  background: linear-gradient(90deg, #B4B7B9 0.1%, transparent 0.1%);\n",
       "}\n",
       "#T_ee977_row1_col5 {\n",
       "  width: 10em;\n",
       "  background: linear-gradient(90deg, #B4B7B9 99.9%, transparent 99.9%);\n",
       "}\n",
       "</style>\n",
       "<table id=\"T_ee977\">\n",
       "  <thead>\n",
       "    <tr>\n",
       "      <th class=\"blank level0\" >&nbsp;</th>\n",
       "      <th id=\"T_ee977_level0_col0\" class=\"col_heading level0 col0\" ># of Non-Nulls</th>\n",
       "      <th id=\"T_ee977_level0_col1\" class=\"col_heading level0 col1\" ># of Nulls</th>\n",
       "      <th id=\"T_ee977_level0_col2\" class=\"col_heading level0 col2\" >% Nulls</th>\n",
       "      <th id=\"T_ee977_level0_col3\" class=\"col_heading level0 col3\" >Most Freq. Value</th>\n",
       "      <th id=\"T_ee977_level0_col4\" class=\"col_heading level0 col4\" ># of Unique</th>\n",
       "      <th id=\"T_ee977_level0_col5\" class=\"col_heading level0 col5\" >% Unique</th>\n",
       "    </tr>\n",
       "  </thead>\n",
       "  <tbody>\n",
       "    <tr>\n",
       "      <th id=\"T_ee977_level0_row0\" class=\"row_heading level0 row0\" >country</th>\n",
       "      <td id=\"T_ee977_row0_col0\" class=\"data row0 col0\" >279,045</td>\n",
       "      <td id=\"T_ee977_row0_col1\" class=\"data row0 col1\" >0</td>\n",
       "      <td id=\"T_ee977_row0_col2\" class=\"data row0 col2\" >0.0%</td>\n",
       "      <td id=\"T_ee977_row0_col3\" class=\"data row0 col3\" >Russian Federation</td>\n",
       "      <td id=\"T_ee977_row0_col4\" class=\"data row0 col4\" >199</td>\n",
       "      <td id=\"T_ee977_row0_col5\" class=\"data row0 col5\" >0.1%</td>\n",
       "    </tr>\n",
       "    <tr>\n",
       "      <th id=\"T_ee977_level0_row1\" class=\"row_heading level0 row1\" >text</th>\n",
       "      <td id=\"T_ee977_row1_col0\" class=\"data row1 col0\" >279,045</td>\n",
       "      <td id=\"T_ee977_row1_col1\" class=\"data row1 col1\" >0</td>\n",
       "      <td id=\"T_ee977_row1_col2\" class=\"data row1 col2\" >0.0%</td>\n",
       "      <td id=\"T_ee977_row1_col3\" class=\"data row1 col3\" >The President returned to the [...]</td>\n",
       "      <td id=\"T_ee977_row1_col4\" class=\"data row1 col4\" >278,820</td>\n",
       "      <td id=\"T_ee977_row1_col5\" class=\"data row1 col5\" >99.9%</td>\n",
       "    </tr>\n",
       "  </tbody>\n",
       "</table>\n"
      ],
      "text/plain": [
       "<pandas.io.formats.style.Styler at 0x178172100>"
      ]
     },
     "execution_count": 8,
     "metadata": {},
     "output_type": "execute_result"
    }
   ],
   "source": [
    "hlp.pandas.non_numeric_summary(paragraphs)"
   ]
  },
  {
   "cell_type": "code",
   "execution_count": 9,
   "id": "4ed8f32d",
   "metadata": {},
   "outputs": [],
   "source": [
    "assert not (paragraphs['text'].str.strip() == '').any()"
   ]
  },
  {
   "cell_type": "markdown",
   "id": "bd51b782",
   "metadata": {},
   "source": [
    "# Prep"
   ]
  },
  {
   "cell_type": "code",
   "execution_count": 10,
   "id": "04170dee",
   "metadata": {},
   "outputs": [],
   "source": [
    "from sklearn.feature_extraction.text import TfidfVectorizer, CountVectorizer\n",
    "from spacy.lang.en.stop_words import STOP_WORDS as stopwords"
   ]
  },
  {
   "cell_type": "code",
   "execution_count": 11,
   "id": "0e4a0451",
   "metadata": {},
   "outputs": [],
   "source": [
    "stopwords |= custom_stop_words\n",
    "stopwords |= {'ll', 've'}"
   ]
  },
  {
   "cell_type": "markdown",
   "id": "733ae199",
   "metadata": {},
   "source": [
    "## Sample"
   ]
  },
  {
   "cell_type": "code",
   "execution_count": 12,
   "id": "4aea0b0c",
   "metadata": {},
   "outputs": [],
   "source": [
    "paragraphs = paragraphs.sample(2000)\n",
    "#paragraphs.to_pickle('source/tests/test_files/datasets/un_debates_paragraphs_sample.pkl')"
   ]
  },
  {
   "cell_type": "markdown",
   "id": "16d187a5",
   "metadata": {},
   "source": [
    "## TF / TF-IDF\n",
    "\n",
    "NOTE: `TF` seems to be used with `LDA` rather than `TF-IDF`"
   ]
  },
  {
   "cell_type": "code",
   "execution_count": 13,
   "id": "084a9f06",
   "metadata": {},
   "outputs": [
    {
     "name": "stdout",
     "output_type": "stream",
     "text": [
      "Started: Calculating TF & TF-IDF (1-3 ngrams)\n",
      "(2000, 3491)\n",
      "Finished (0.35 seconds)\n"
     ]
    }
   ],
   "source": [
    "with Timer(\"Calculating TF & TF-IDF (1-3 ngrams)\"):\n",
    "    count_vectorizer = CountVectorizer(stop_words=stopwords, ngram_range=(1, 3), min_df=5, max_df=0.7)\n",
    "    count_vectors = count_vectorizer.fit_transform(paragraphs[\"text\"])\n",
    "    print(count_vectors.shape)\n",
    "\n",
    "    tfidf_vectorizer = TfidfVectorizer(stop_words=stopwords, ngram_range=(1, 3), min_df=5, max_df=0.7)\n",
    "    tfidf_vectors = tfidf_vectorizer.fit_transform(paragraphs[\"text\"])\n",
    "    tfidf_vectors.shape"
   ]
  },
  {
   "cell_type": "markdown",
   "id": "ac578836",
   "metadata": {},
   "source": [
    "# Topic Modeling"
   ]
  },
  {
   "cell_type": "code",
   "execution_count": 14,
   "id": "213fe909",
   "metadata": {},
   "outputs": [],
   "source": [
    "import matplotlib.pyplot as plt\n",
    "def plot_top_words(model, feature_names, n_top_words, title):\n",
    "    \"\"\"\n",
    "    https://scikit-learn.org/stable/auto_examples/applications/plot_topics_extraction_with_nmf_lda.html#sphx-glr-auto-examples-applications-plot-topics-extraction-with-nmf-lda-py\n",
    "    \"\"\"\n",
    "    fig, axes = plt.subplots(2, 5, figsize=(30, 15), sharex=True)\n",
    "    axes = axes.flatten()\n",
    "    for topic_idx, topic in enumerate(model.components_):\n",
    "        top_features_ind = topic.argsort()[: -n_top_words - 1 : -1]\n",
    "        top_features = [feature_names[i] for i in top_features_ind]\n",
    "        weights = topic[top_features_ind]\n",
    "\n",
    "        ax = axes[topic_idx]\n",
    "        ax.barh(top_features, weights, height=0.7)\n",
    "        ax.set_title(f\"Topic {topic_idx +1}\", fontdict={\"fontsize\": 30})\n",
    "        ax.invert_yaxis()\n",
    "        ax.tick_params(axis=\"both\", which=\"major\", labelsize=20)\n",
    "        for i in \"top right left\".split():\n",
    "            ax.spines[i].set_visible(False)\n",
    "        fig.suptitle(title, fontsize=40)\n",
    "\n",
    "    plt.subplots_adjust(top=0.90, bottom=0.05, wspace=0.90, hspace=0.3)\n",
    "    plt.show()\n",
    "\n"
   ]
  },
  {
   "cell_type": "code",
   "execution_count": null,
   "id": "faec80d7",
   "metadata": {},
   "outputs": [],
   "source": []
  },
  {
   "cell_type": "code",
   "execution_count": 15,
   "id": "b63575ee",
   "metadata": {},
   "outputs": [],
   "source": [
    "def display_topics(model, features, no_top_words=5):\n",
    "    for topic, words in enumerate(model.components_):\n",
    "        total = words.sum()\n",
    "        largest = words.argsort()[::-1] # invert sort order\n",
    "        print(\"\\nTopic %02d\" % topic)\n",
    "        for i in range(0, no_top_words):\n",
    "            print(\"  %s (%2.2f)\" % (features[largest[i]], abs(words[largest[i]]*100.0/total)))"
   ]
  },
  {
   "cell_type": "markdown",
   "id": "e1f7911b",
   "metadata": {},
   "source": [
    "## NMF"
   ]
  },
  {
   "cell_type": "code",
   "execution_count": 16,
   "id": "0683b33d",
   "metadata": {},
   "outputs": [],
   "source": [
    "from sklearn.decomposition import NMF\n",
    "\n",
    "nmf_model = NMF(init='nndsvda', n_components=number_of_topics, random_state=42, max_iter=1000)\n",
    "_ = nmf_model.fit_transform(tfidf_vectors)\n",
    "feature_names = tfidf_vectorizer.get_feature_names_out()"
   ]
  },
  {
   "cell_type": "code",
   "execution_count": 19,
   "id": "59505072",
   "metadata": {},
   "outputs": [
    {
     "data": {
      "application/vnd.plotly.v1+json": {
       "config": {
        "plotlyServerURL": "https://plot.ly"
       },
       "data": [
        {
         "alignmentgroup": "True",
         "hovertemplate": "=%{y}<br>value=%{x}<extra></extra>",
         "legendgroup": "",
         "marker": {
          "color": "#636efa",
          "pattern": {
           "shape": ""
          }
         },
         "name": "",
         "offsetgroup": "",
         "orientation": "h",
         "showlegend": false,
         "textposition": "auto",
         "type": "bar",
         "x": [
          1.9301353389864293,
          1.791806247607578,
          0.6592008805471158,
          0.6498810098447553,
          0.627286559049326,
          0.574052727823252,
          0.5558342646016127,
          0.5319972719435428
         ],
         "xaxis": "x10",
         "y": [
          "world",
          "development",
          "new",
          "climate",
          "poverty",
          "change",
          "goals",
          "millennium"
         ],
         "yaxis": "y10"
        },
        {
         "alignmentgroup": "True",
         "hovertemplate": "=%{y}<br>value=%{x}<extra></extra>",
         "legendgroup": "",
         "marker": {
          "color": "#636efa",
          "pattern": {
           "shape": ""
          }
         },
         "name": "",
         "offsetgroup": "",
         "orientation": "h",
         "showlegend": false,
         "textposition": "auto",
         "type": "bar",
         "x": [
          2.639241438092198,
          2.312063077300068,
          2.034626326479285,
          2.020477476509473,
          1.3830863576873784,
          1.3204755965248551,
          1.1124738853952727,
          1.1113589604402778
         ],
         "xaxis": "x11",
         "y": [
          "general",
          "assembly",
          "general assembly",
          "session",
          "mr",
          "president",
          "election",
          "secretary"
         ],
         "yaxis": "y11"
        },
        {
         "alignmentgroup": "True",
         "hovertemplate": "=%{y}<br>value=%{x}<extra></extra>",
         "legendgroup": "",
         "marker": {
          "color": "#636efa",
          "pattern": {
           "shape": ""
          }
         },
         "name": "",
         "offsetgroup": "",
         "orientation": "h",
         "showlegend": false,
         "textposition": "auto",
         "type": "bar",
         "x": [
          4.173151135053421,
          2.42922530580995,
          2.343960504158744,
          2.3014557078507805,
          1.01617169753363,
          0.878064562355881,
          0.7983614422995002,
          0.6679835616430061
         ],
         "xaxis": "x12",
         "y": [
          "countries",
          "developing",
          "economic",
          "developing countries",
          "developed",
          "development",
          "trade",
          "growth"
         ],
         "yaxis": "y12"
        },
        {
         "alignmentgroup": "True",
         "hovertemplate": "=%{y}<br>value=%{x}<extra></extra>",
         "legendgroup": "",
         "marker": {
          "color": "#636efa",
          "pattern": {
           "shape": ""
          }
         },
         "name": "",
         "offsetgroup": "",
         "orientation": "h",
         "showlegend": false,
         "textposition": "auto",
         "type": "bar",
         "x": [
          3.9254395327215987,
          3.311319296258494,
          2.790400821002335,
          1.4655089475780934,
          1.1015292107545631,
          1.0855432129587101,
          1.0589756903777034,
          0.9590182300479465
         ],
         "xaxis": "x7",
         "y": [
          "africa",
          "south",
          "south africa",
          "apartheid",
          "african",
          "namibia",
          "regime",
          "southern"
         ],
         "yaxis": "y7"
        },
        {
         "alignmentgroup": "True",
         "hovertemplate": "=%{y}<br>value=%{x}<extra></extra>",
         "legendgroup": "",
         "marker": {
          "color": "#636efa",
          "pattern": {
           "shape": ""
          }
         },
         "name": "",
         "offsetgroup": "",
         "orientation": "h",
         "showlegend": false,
         "textposition": "auto",
         "type": "bar",
         "x": [
          4.545935188086321,
          4.296454666853312,
          3.9774735635560705,
          0.7490606824336459,
          0.6961545356389027,
          0.6357454360747968,
          0.5859049514263741,
          0.5753879242554335
         ],
         "xaxis": "x8",
         "y": [
          "rights",
          "human",
          "human rights",
          "democracy",
          "respect",
          "fundamental",
          "respect human",
          "respect human rights"
         ],
         "yaxis": "y8"
        },
        {
         "alignmentgroup": "True",
         "hovertemplate": "=%{y}<br>value=%{x}<extra></extra>",
         "legendgroup": "",
         "marker": {
          "color": "#636efa",
          "pattern": {
           "shape": ""
          }
         },
         "name": "",
         "offsetgroup": "",
         "orientation": "h",
         "showlegend": false,
         "textposition": "auto",
         "type": "bar",
         "x": [
          4.713122530721654,
          4.0336092368074805,
          3.7761812496711973,
          1.4183159377915207,
          0.8692406250396773,
          0.8573858616734422,
          0.8508980469348325,
          0.6916934334362589
         ],
         "xaxis": "x9",
         "y": [
          "council",
          "security",
          "security council",
          "reform",
          "peace security",
          "resolution",
          "permanent",
          "peace"
         ],
         "yaxis": "y9"
        },
        {
         "alignmentgroup": "True",
         "hovertemplate": "=%{y}<br>value=%{x}<extra></extra>",
         "legendgroup": "",
         "marker": {
          "color": "#636efa",
          "pattern": {
           "shape": ""
          }
         },
         "name": "",
         "offsetgroup": "",
         "orientation": "h",
         "showlegend": false,
         "textposition": "auto",
         "type": "bar",
         "x": [
          4.764705391446794,
          2.6620461073628774,
          1.6884666654385057,
          1.66375013153826,
          1.223927868373767,
          1.2138886201246284,
          1.0945141734791115,
          0.8193675905548392
         ],
         "xaxis": "x4",
         "y": [
          "nuclear",
          "weapons",
          "nuclear weapons",
          "disarmament",
          "treaty",
          "proliferation",
          "arms",
          "non"
         ],
         "yaxis": "y4"
        },
        {
         "alignmentgroup": "True",
         "hovertemplate": "=%{y}<br>value=%{x}<extra></extra>",
         "legendgroup": "",
         "marker": {
          "color": "#636efa",
          "pattern": {
           "shape": ""
          }
         },
         "name": "",
         "offsetgroup": "",
         "orientation": "h",
         "showlegend": false,
         "textposition": "auto",
         "type": "bar",
         "x": [
          3.8989478786415686,
          3.8542179625182627,
          3.802114971237561,
          0.7347110968185087,
          0.7347110968185087,
          0.6858075086569072,
          0.6497757757649756,
          0.5845807367504232
         ],
         "xaxis": "x5",
         "y": [
          "co",
          "operation",
          "co operation",
          "economic co",
          "economic co operation",
          "conference",
          "states",
          "new"
         ],
         "yaxis": "y5"
        },
        {
         "alignmentgroup": "True",
         "hovertemplate": "=%{y}<br>value=%{x}<extra></extra>",
         "legendgroup": "",
         "marker": {
          "color": "#636efa",
          "pattern": {
           "shape": ""
          }
         },
         "name": "",
         "offsetgroup": "",
         "orientation": "h",
         "showlegend": false,
         "textposition": "auto",
         "type": "bar",
         "x": [
          3.271971282079798,
          2.0840213116117514,
          1.7637595376152562,
          1.1030342900025327,
          1.0792861428500593,
          0.7988969270731952,
          0.6732506325468643,
          0.6086347209794755
         ],
         "xaxis": "x6",
         "y": [
          "international",
          "community",
          "international community",
          "states",
          "law",
          "terrorism",
          "support",
          "international law"
         ],
         "yaxis": "y6"
        },
        {
         "alignmentgroup": "True",
         "hovertemplate": "=%{y}<br>value=%{x}<extra></extra>",
         "legendgroup": "",
         "marker": {
          "color": "#636efa",
          "pattern": {
           "shape": ""
          }
         },
         "name": "",
         "offsetgroup": "",
         "orientation": "h",
         "showlegend": false,
         "textposition": "auto",
         "type": "bar",
         "x": [
          1.6683598841649578,
          1.155088620006948,
          0.9251459556674844,
          0.9200090223922077,
          0.8857960676079862,
          0.8199054000992909,
          0.8194966095439845,
          0.6928872330681901
         ],
         "xaxis": "x",
         "y": [
          "peace",
          "people",
          "region",
          "east",
          "israel",
          "middle",
          "middle east",
          "palestinian"
         ],
         "yaxis": "y"
        }
       ],
       "layout": {
        "annotations": [
         {
          "font": {},
          "showarrow": false,
          "text": "=peace | people",
          "x": 0.09999999999999999,
          "xanchor": "center",
          "xref": "paper",
          "y": 0.1975,
          "yanchor": "bottom",
          "yref": "paper"
         },
         {
          "font": {},
          "showarrow": false,
          "text": "=nuclear | weapons",
          "x": 0.09999999999999999,
          "xanchor": "center",
          "xref": "paper",
          "y": 0.465,
          "yanchor": "bottom",
          "yref": "paper"
         },
         {
          "font": {},
          "showarrow": false,
          "text": "=co | operation",
          "x": 0.5,
          "xanchor": "center",
          "xref": "paper",
          "y": 0.465,
          "yanchor": "bottom",
          "yref": "paper"
         },
         {
          "font": {},
          "showarrow": false,
          "text": "=international | community",
          "x": 0.9,
          "xanchor": "center",
          "xref": "paper",
          "y": 0.465,
          "yanchor": "bottom",
          "yref": "paper"
         },
         {
          "font": {},
          "showarrow": false,
          "text": "=africa | south",
          "x": 0.09999999999999999,
          "xanchor": "center",
          "xref": "paper",
          "y": 0.7325,
          "yanchor": "bottom",
          "yref": "paper"
         },
         {
          "font": {},
          "showarrow": false,
          "text": "=rights | human",
          "x": 0.5,
          "xanchor": "center",
          "xref": "paper",
          "y": 0.7325,
          "yanchor": "bottom",
          "yref": "paper"
         },
         {
          "font": {},
          "showarrow": false,
          "text": "=council | security",
          "x": 0.9,
          "xanchor": "center",
          "xref": "paper",
          "y": 0.7325,
          "yanchor": "bottom",
          "yref": "paper"
         },
         {
          "font": {},
          "showarrow": false,
          "text": "=world | development",
          "x": 0.09999999999999999,
          "xanchor": "center",
          "xref": "paper",
          "y": 1,
          "yanchor": "bottom",
          "yref": "paper"
         },
         {
          "font": {},
          "showarrow": false,
          "text": "=general | assembly",
          "x": 0.5,
          "xanchor": "center",
          "xref": "paper",
          "y": 1,
          "yanchor": "bottom",
          "yref": "paper"
         },
         {
          "font": {},
          "showarrow": false,
          "text": "=countries | developing",
          "x": 0.9,
          "xanchor": "center",
          "xref": "paper",
          "y": 1,
          "yanchor": "bottom",
          "yref": "paper"
         }
        ],
        "barmode": "relative",
        "height": 900,
        "legend": {
         "tracegroupgap": 0
        },
        "template": {
         "data": {
          "bar": [
           {
            "error_x": {
             "color": "#2a3f5f"
            },
            "error_y": {
             "color": "#2a3f5f"
            },
            "marker": {
             "line": {
              "color": "#E5ECF6",
              "width": 0.5
             },
             "pattern": {
              "fillmode": "overlay",
              "size": 10,
              "solidity": 0.2
             }
            },
            "type": "bar"
           }
          ],
          "barpolar": [
           {
            "marker": {
             "line": {
              "color": "#E5ECF6",
              "width": 0.5
             },
             "pattern": {
              "fillmode": "overlay",
              "size": 10,
              "solidity": 0.2
             }
            },
            "type": "barpolar"
           }
          ],
          "carpet": [
           {
            "aaxis": {
             "endlinecolor": "#2a3f5f",
             "gridcolor": "white",
             "linecolor": "white",
             "minorgridcolor": "white",
             "startlinecolor": "#2a3f5f"
            },
            "baxis": {
             "endlinecolor": "#2a3f5f",
             "gridcolor": "white",
             "linecolor": "white",
             "minorgridcolor": "white",
             "startlinecolor": "#2a3f5f"
            },
            "type": "carpet"
           }
          ],
          "choropleth": [
           {
            "colorbar": {
             "outlinewidth": 0,
             "ticks": ""
            },
            "type": "choropleth"
           }
          ],
          "contour": [
           {
            "colorbar": {
             "outlinewidth": 0,
             "ticks": ""
            },
            "colorscale": [
             [
              0,
              "#0d0887"
             ],
             [
              0.1111111111111111,
              "#46039f"
             ],
             [
              0.2222222222222222,
              "#7201a8"
             ],
             [
              0.3333333333333333,
              "#9c179e"
             ],
             [
              0.4444444444444444,
              "#bd3786"
             ],
             [
              0.5555555555555556,
              "#d8576b"
             ],
             [
              0.6666666666666666,
              "#ed7953"
             ],
             [
              0.7777777777777778,
              "#fb9f3a"
             ],
             [
              0.8888888888888888,
              "#fdca26"
             ],
             [
              1,
              "#f0f921"
             ]
            ],
            "type": "contour"
           }
          ],
          "contourcarpet": [
           {
            "colorbar": {
             "outlinewidth": 0,
             "ticks": ""
            },
            "type": "contourcarpet"
           }
          ],
          "heatmap": [
           {
            "colorbar": {
             "outlinewidth": 0,
             "ticks": ""
            },
            "colorscale": [
             [
              0,
              "#0d0887"
             ],
             [
              0.1111111111111111,
              "#46039f"
             ],
             [
              0.2222222222222222,
              "#7201a8"
             ],
             [
              0.3333333333333333,
              "#9c179e"
             ],
             [
              0.4444444444444444,
              "#bd3786"
             ],
             [
              0.5555555555555556,
              "#d8576b"
             ],
             [
              0.6666666666666666,
              "#ed7953"
             ],
             [
              0.7777777777777778,
              "#fb9f3a"
             ],
             [
              0.8888888888888888,
              "#fdca26"
             ],
             [
              1,
              "#f0f921"
             ]
            ],
            "type": "heatmap"
           }
          ],
          "heatmapgl": [
           {
            "colorbar": {
             "outlinewidth": 0,
             "ticks": ""
            },
            "colorscale": [
             [
              0,
              "#0d0887"
             ],
             [
              0.1111111111111111,
              "#46039f"
             ],
             [
              0.2222222222222222,
              "#7201a8"
             ],
             [
              0.3333333333333333,
              "#9c179e"
             ],
             [
              0.4444444444444444,
              "#bd3786"
             ],
             [
              0.5555555555555556,
              "#d8576b"
             ],
             [
              0.6666666666666666,
              "#ed7953"
             ],
             [
              0.7777777777777778,
              "#fb9f3a"
             ],
             [
              0.8888888888888888,
              "#fdca26"
             ],
             [
              1,
              "#f0f921"
             ]
            ],
            "type": "heatmapgl"
           }
          ],
          "histogram": [
           {
            "marker": {
             "pattern": {
              "fillmode": "overlay",
              "size": 10,
              "solidity": 0.2
             }
            },
            "type": "histogram"
           }
          ],
          "histogram2d": [
           {
            "colorbar": {
             "outlinewidth": 0,
             "ticks": ""
            },
            "colorscale": [
             [
              0,
              "#0d0887"
             ],
             [
              0.1111111111111111,
              "#46039f"
             ],
             [
              0.2222222222222222,
              "#7201a8"
             ],
             [
              0.3333333333333333,
              "#9c179e"
             ],
             [
              0.4444444444444444,
              "#bd3786"
             ],
             [
              0.5555555555555556,
              "#d8576b"
             ],
             [
              0.6666666666666666,
              "#ed7953"
             ],
             [
              0.7777777777777778,
              "#fb9f3a"
             ],
             [
              0.8888888888888888,
              "#fdca26"
             ],
             [
              1,
              "#f0f921"
             ]
            ],
            "type": "histogram2d"
           }
          ],
          "histogram2dcontour": [
           {
            "colorbar": {
             "outlinewidth": 0,
             "ticks": ""
            },
            "colorscale": [
             [
              0,
              "#0d0887"
             ],
             [
              0.1111111111111111,
              "#46039f"
             ],
             [
              0.2222222222222222,
              "#7201a8"
             ],
             [
              0.3333333333333333,
              "#9c179e"
             ],
             [
              0.4444444444444444,
              "#bd3786"
             ],
             [
              0.5555555555555556,
              "#d8576b"
             ],
             [
              0.6666666666666666,
              "#ed7953"
             ],
             [
              0.7777777777777778,
              "#fb9f3a"
             ],
             [
              0.8888888888888888,
              "#fdca26"
             ],
             [
              1,
              "#f0f921"
             ]
            ],
            "type": "histogram2dcontour"
           }
          ],
          "mesh3d": [
           {
            "colorbar": {
             "outlinewidth": 0,
             "ticks": ""
            },
            "type": "mesh3d"
           }
          ],
          "parcoords": [
           {
            "line": {
             "colorbar": {
              "outlinewidth": 0,
              "ticks": ""
             }
            },
            "type": "parcoords"
           }
          ],
          "pie": [
           {
            "automargin": true,
            "type": "pie"
           }
          ],
          "scatter": [
           {
            "marker": {
             "colorbar": {
              "outlinewidth": 0,
              "ticks": ""
             }
            },
            "type": "scatter"
           }
          ],
          "scatter3d": [
           {
            "line": {
             "colorbar": {
              "outlinewidth": 0,
              "ticks": ""
             }
            },
            "marker": {
             "colorbar": {
              "outlinewidth": 0,
              "ticks": ""
             }
            },
            "type": "scatter3d"
           }
          ],
          "scattercarpet": [
           {
            "marker": {
             "colorbar": {
              "outlinewidth": 0,
              "ticks": ""
             }
            },
            "type": "scattercarpet"
           }
          ],
          "scattergeo": [
           {
            "marker": {
             "colorbar": {
              "outlinewidth": 0,
              "ticks": ""
             }
            },
            "type": "scattergeo"
           }
          ],
          "scattergl": [
           {
            "marker": {
             "colorbar": {
              "outlinewidth": 0,
              "ticks": ""
             }
            },
            "type": "scattergl"
           }
          ],
          "scattermapbox": [
           {
            "marker": {
             "colorbar": {
              "outlinewidth": 0,
              "ticks": ""
             }
            },
            "type": "scattermapbox"
           }
          ],
          "scatterpolar": [
           {
            "marker": {
             "colorbar": {
              "outlinewidth": 0,
              "ticks": ""
             }
            },
            "type": "scatterpolar"
           }
          ],
          "scatterpolargl": [
           {
            "marker": {
             "colorbar": {
              "outlinewidth": 0,
              "ticks": ""
             }
            },
            "type": "scatterpolargl"
           }
          ],
          "scatterternary": [
           {
            "marker": {
             "colorbar": {
              "outlinewidth": 0,
              "ticks": ""
             }
            },
            "type": "scatterternary"
           }
          ],
          "surface": [
           {
            "colorbar": {
             "outlinewidth": 0,
             "ticks": ""
            },
            "colorscale": [
             [
              0,
              "#0d0887"
             ],
             [
              0.1111111111111111,
              "#46039f"
             ],
             [
              0.2222222222222222,
              "#7201a8"
             ],
             [
              0.3333333333333333,
              "#9c179e"
             ],
             [
              0.4444444444444444,
              "#bd3786"
             ],
             [
              0.5555555555555556,
              "#d8576b"
             ],
             [
              0.6666666666666666,
              "#ed7953"
             ],
             [
              0.7777777777777778,
              "#fb9f3a"
             ],
             [
              0.8888888888888888,
              "#fdca26"
             ],
             [
              1,
              "#f0f921"
             ]
            ],
            "type": "surface"
           }
          ],
          "table": [
           {
            "cells": {
             "fill": {
              "color": "#EBF0F8"
             },
             "line": {
              "color": "white"
             }
            },
            "header": {
             "fill": {
              "color": "#C8D4E3"
             },
             "line": {
              "color": "white"
             }
            },
            "type": "table"
           }
          ]
         },
         "layout": {
          "annotationdefaults": {
           "arrowcolor": "#2a3f5f",
           "arrowhead": 0,
           "arrowwidth": 1
          },
          "autotypenumbers": "strict",
          "coloraxis": {
           "colorbar": {
            "outlinewidth": 0,
            "ticks": ""
           }
          },
          "colorscale": {
           "diverging": [
            [
             0,
             "#8e0152"
            ],
            [
             0.1,
             "#c51b7d"
            ],
            [
             0.2,
             "#de77ae"
            ],
            [
             0.3,
             "#f1b6da"
            ],
            [
             0.4,
             "#fde0ef"
            ],
            [
             0.5,
             "#f7f7f7"
            ],
            [
             0.6,
             "#e6f5d0"
            ],
            [
             0.7,
             "#b8e186"
            ],
            [
             0.8,
             "#7fbc41"
            ],
            [
             0.9,
             "#4d9221"
            ],
            [
             1,
             "#276419"
            ]
           ],
           "sequential": [
            [
             0,
             "#0d0887"
            ],
            [
             0.1111111111111111,
             "#46039f"
            ],
            [
             0.2222222222222222,
             "#7201a8"
            ],
            [
             0.3333333333333333,
             "#9c179e"
            ],
            [
             0.4444444444444444,
             "#bd3786"
            ],
            [
             0.5555555555555556,
             "#d8576b"
            ],
            [
             0.6666666666666666,
             "#ed7953"
            ],
            [
             0.7777777777777778,
             "#fb9f3a"
            ],
            [
             0.8888888888888888,
             "#fdca26"
            ],
            [
             1,
             "#f0f921"
            ]
           ],
           "sequentialminus": [
            [
             0,
             "#0d0887"
            ],
            [
             0.1111111111111111,
             "#46039f"
            ],
            [
             0.2222222222222222,
             "#7201a8"
            ],
            [
             0.3333333333333333,
             "#9c179e"
            ],
            [
             0.4444444444444444,
             "#bd3786"
            ],
            [
             0.5555555555555556,
             "#d8576b"
            ],
            [
             0.6666666666666666,
             "#ed7953"
            ],
            [
             0.7777777777777778,
             "#fb9f3a"
            ],
            [
             0.8888888888888888,
             "#fdca26"
            ],
            [
             1,
             "#f0f921"
            ]
           ]
          },
          "colorway": [
           "#636efa",
           "#EF553B",
           "#00cc96",
           "#ab63fa",
           "#FFA15A",
           "#19d3f3",
           "#FF6692",
           "#B6E880",
           "#FF97FF",
           "#FECB52"
          ],
          "font": {
           "color": "#2a3f5f"
          },
          "geo": {
           "bgcolor": "white",
           "lakecolor": "white",
           "landcolor": "#E5ECF6",
           "showlakes": true,
           "showland": true,
           "subunitcolor": "white"
          },
          "hoverlabel": {
           "align": "left"
          },
          "hovermode": "closest",
          "mapbox": {
           "style": "light"
          },
          "paper_bgcolor": "white",
          "plot_bgcolor": "#E5ECF6",
          "polar": {
           "angularaxis": {
            "gridcolor": "white",
            "linecolor": "white",
            "ticks": ""
           },
           "bgcolor": "#E5ECF6",
           "radialaxis": {
            "gridcolor": "white",
            "linecolor": "white",
            "ticks": ""
           }
          },
          "scene": {
           "xaxis": {
            "backgroundcolor": "#E5ECF6",
            "gridcolor": "white",
            "gridwidth": 2,
            "linecolor": "white",
            "showbackground": true,
            "ticks": "",
            "zerolinecolor": "white"
           },
           "yaxis": {
            "backgroundcolor": "#E5ECF6",
            "gridcolor": "white",
            "gridwidth": 2,
            "linecolor": "white",
            "showbackground": true,
            "ticks": "",
            "zerolinecolor": "white"
           },
           "zaxis": {
            "backgroundcolor": "#E5ECF6",
            "gridcolor": "white",
            "gridwidth": 2,
            "linecolor": "white",
            "showbackground": true,
            "ticks": "",
            "zerolinecolor": "white"
           }
          },
          "shapedefaults": {
           "line": {
            "color": "#2a3f5f"
           }
          },
          "ternary": {
           "aaxis": {
            "gridcolor": "white",
            "linecolor": "white",
            "ticks": ""
           },
           "baxis": {
            "gridcolor": "white",
            "linecolor": "white",
            "ticks": ""
           },
           "bgcolor": "#E5ECF6",
           "caxis": {
            "gridcolor": "white",
            "linecolor": "white",
            "ticks": ""
           }
          },
          "title": {
           "x": 0.05
          },
          "xaxis": {
           "automargin": true,
           "gridcolor": "white",
           "linecolor": "white",
           "ticks": "",
           "title": {
            "standoff": 15
           },
           "zerolinecolor": "white",
           "zerolinewidth": 2
          },
          "yaxis": {
           "automargin": true,
           "gridcolor": "white",
           "linecolor": "white",
           "ticks": "",
           "title": {
            "standoff": 15
           },
           "zerolinecolor": "white",
           "zerolinewidth": 2
          }
         }
        },
        "title": {
         "text": "Topics<br><sup>The top 8 tokens are displayed per topic; the top 2 are displayed as the topic name</sup>"
        },
        "width": 900,
        "xaxis": {
         "anchor": "y",
         "domain": [
          0,
          0.19999999999999998
         ],
         "title": {
          "text": "value"
         }
        },
        "xaxis10": {
         "anchor": "y10",
         "domain": [
          0,
          0.19999999999999998
         ],
         "matches": "x",
         "showticklabels": false
        },
        "xaxis11": {
         "anchor": "y11",
         "domain": [
          0.4,
          0.6
         ],
         "matches": "x",
         "showticklabels": false
        },
        "xaxis12": {
         "anchor": "y12",
         "domain": [
          0.8,
          1
         ],
         "matches": "x",
         "showticklabels": false
        },
        "xaxis2": {
         "anchor": "y2",
         "domain": [
          0.4,
          0.6
         ],
         "matches": "x",
         "title": {
          "text": "value"
         }
        },
        "xaxis3": {
         "anchor": "y3",
         "domain": [
          0.8,
          1
         ],
         "matches": "x",
         "title": {
          "text": "value"
         }
        },
        "xaxis4": {
         "anchor": "y4",
         "domain": [
          0,
          0.19999999999999998
         ],
         "matches": "x",
         "showticklabels": false
        },
        "xaxis5": {
         "anchor": "y5",
         "domain": [
          0.4,
          0.6
         ],
         "matches": "x",
         "showticklabels": false
        },
        "xaxis6": {
         "anchor": "y6",
         "domain": [
          0.8,
          1
         ],
         "matches": "x",
         "showticklabels": false
        },
        "xaxis7": {
         "anchor": "y7",
         "domain": [
          0,
          0.19999999999999998
         ],
         "matches": "x",
         "showticklabels": false
        },
        "xaxis8": {
         "anchor": "y8",
         "domain": [
          0.4,
          0.6
         ],
         "matches": "x",
         "showticklabels": false
        },
        "xaxis9": {
         "anchor": "y9",
         "domain": [
          0.8,
          1
         ],
         "matches": "x",
         "showticklabels": false
        },
        "yaxis": {
         "anchor": "x",
         "autorange": "reversed",
         "domain": [
          0,
          0.1975
         ],
         "showticklabels": true,
         "title": {
          "text": ""
         }
        },
        "yaxis10": {
         "anchor": "x10",
         "autorange": "reversed",
         "domain": [
          0.8025,
          1
         ],
         "showticklabels": true,
         "title": {
          "text": ""
         }
        },
        "yaxis11": {
         "anchor": "x11",
         "autorange": "reversed",
         "domain": [
          0.8025,
          1
         ],
         "showticklabels": true
        },
        "yaxis12": {
         "anchor": "x12",
         "autorange": "reversed",
         "domain": [
          0.8025,
          1
         ],
         "showticklabels": true
        },
        "yaxis2": {
         "anchor": "x2",
         "autorange": "reversed",
         "domain": [
          0,
          0.1975
         ],
         "showticklabels": true
        },
        "yaxis3": {
         "anchor": "x3",
         "autorange": "reversed",
         "domain": [
          0,
          0.1975
         ],
         "showticklabels": true
        },
        "yaxis4": {
         "anchor": "x4",
         "autorange": "reversed",
         "domain": [
          0.2675,
          0.465
         ],
         "showticklabels": true,
         "title": {
          "text": ""
         }
        },
        "yaxis5": {
         "anchor": "x5",
         "autorange": "reversed",
         "domain": [
          0.2675,
          0.465
         ],
         "showticklabels": true
        },
        "yaxis6": {
         "anchor": "x6",
         "autorange": "reversed",
         "domain": [
          0.2675,
          0.465
         ],
         "showticklabels": true
        },
        "yaxis7": {
         "anchor": "x7",
         "autorange": "reversed",
         "domain": [
          0.535,
          0.7325
         ],
         "showticklabels": true,
         "title": {
          "text": ""
         }
        },
        "yaxis8": {
         "anchor": "x8",
         "autorange": "reversed",
         "domain": [
          0.535,
          0.7325
         ],
         "showticklabels": true
        },
        "yaxis9": {
         "anchor": "x9",
         "autorange": "reversed",
         "domain": [
          0.535,
          0.7325
         ],
         "showticklabels": true
        }
       }
      },
      "text/html": [
       "<div>                            <div id=\"ab22f40c-a3dd-44a6-a28d-4c7402fb425c\" class=\"plotly-graph-div\" style=\"height:900px; width:900px;\"></div>            <script type=\"text/javascript\">                require([\"plotly\"], function(Plotly) {                    window.PLOTLYENV=window.PLOTLYENV || {};                                    if (document.getElementById(\"ab22f40c-a3dd-44a6-a28d-4c7402fb425c\")) {                    Plotly.newPlot(                        \"ab22f40c-a3dd-44a6-a28d-4c7402fb425c\",                        [{\"alignmentgroup\":\"True\",\"hovertemplate\":\"=%{y}<br>value=%{x}<extra></extra>\",\"legendgroup\":\"\",\"marker\":{\"color\":\"#636efa\",\"pattern\":{\"shape\":\"\"}},\"name\":\"\",\"offsetgroup\":\"\",\"orientation\":\"h\",\"showlegend\":false,\"textposition\":\"auto\",\"x\":[1.9301353389864293,1.791806247607578,0.6592008805471158,0.6498810098447553,0.627286559049326,0.574052727823252,0.5558342646016127,0.5319972719435428],\"xaxis\":\"x10\",\"y\":[\"world\",\"development\",\"new\",\"climate\",\"poverty\",\"change\",\"goals\",\"millennium\"],\"yaxis\":\"y10\",\"type\":\"bar\"},{\"alignmentgroup\":\"True\",\"hovertemplate\":\"=%{y}<br>value=%{x}<extra></extra>\",\"legendgroup\":\"\",\"marker\":{\"color\":\"#636efa\",\"pattern\":{\"shape\":\"\"}},\"name\":\"\",\"offsetgroup\":\"\",\"orientation\":\"h\",\"showlegend\":false,\"textposition\":\"auto\",\"x\":[2.639241438092198,2.312063077300068,2.034626326479285,2.020477476509473,1.3830863576873784,1.3204755965248551,1.1124738853952727,1.1113589604402778],\"xaxis\":\"x11\",\"y\":[\"general\",\"assembly\",\"general assembly\",\"session\",\"mr\",\"president\",\"election\",\"secretary\"],\"yaxis\":\"y11\",\"type\":\"bar\"},{\"alignmentgroup\":\"True\",\"hovertemplate\":\"=%{y}<br>value=%{x}<extra></extra>\",\"legendgroup\":\"\",\"marker\":{\"color\":\"#636efa\",\"pattern\":{\"shape\":\"\"}},\"name\":\"\",\"offsetgroup\":\"\",\"orientation\":\"h\",\"showlegend\":false,\"textposition\":\"auto\",\"x\":[4.173151135053421,2.42922530580995,2.343960504158744,2.3014557078507805,1.01617169753363,0.878064562355881,0.7983614422995002,0.6679835616430061],\"xaxis\":\"x12\",\"y\":[\"countries\",\"developing\",\"economic\",\"developing countries\",\"developed\",\"development\",\"trade\",\"growth\"],\"yaxis\":\"y12\",\"type\":\"bar\"},{\"alignmentgroup\":\"True\",\"hovertemplate\":\"=%{y}<br>value=%{x}<extra></extra>\",\"legendgroup\":\"\",\"marker\":{\"color\":\"#636efa\",\"pattern\":{\"shape\":\"\"}},\"name\":\"\",\"offsetgroup\":\"\",\"orientation\":\"h\",\"showlegend\":false,\"textposition\":\"auto\",\"x\":[3.9254395327215987,3.311319296258494,2.790400821002335,1.4655089475780934,1.1015292107545631,1.0855432129587101,1.0589756903777034,0.9590182300479465],\"xaxis\":\"x7\",\"y\":[\"africa\",\"south\",\"south africa\",\"apartheid\",\"african\",\"namibia\",\"regime\",\"southern\"],\"yaxis\":\"y7\",\"type\":\"bar\"},{\"alignmentgroup\":\"True\",\"hovertemplate\":\"=%{y}<br>value=%{x}<extra></extra>\",\"legendgroup\":\"\",\"marker\":{\"color\":\"#636efa\",\"pattern\":{\"shape\":\"\"}},\"name\":\"\",\"offsetgroup\":\"\",\"orientation\":\"h\",\"showlegend\":false,\"textposition\":\"auto\",\"x\":[4.545935188086321,4.296454666853312,3.9774735635560705,0.7490606824336459,0.6961545356389027,0.6357454360747968,0.5859049514263741,0.5753879242554335],\"xaxis\":\"x8\",\"y\":[\"rights\",\"human\",\"human rights\",\"democracy\",\"respect\",\"fundamental\",\"respect human\",\"respect human rights\"],\"yaxis\":\"y8\",\"type\":\"bar\"},{\"alignmentgroup\":\"True\",\"hovertemplate\":\"=%{y}<br>value=%{x}<extra></extra>\",\"legendgroup\":\"\",\"marker\":{\"color\":\"#636efa\",\"pattern\":{\"shape\":\"\"}},\"name\":\"\",\"offsetgroup\":\"\",\"orientation\":\"h\",\"showlegend\":false,\"textposition\":\"auto\",\"x\":[4.713122530721654,4.0336092368074805,3.7761812496711973,1.4183159377915207,0.8692406250396773,0.8573858616734422,0.8508980469348325,0.6916934334362589],\"xaxis\":\"x9\",\"y\":[\"council\",\"security\",\"security council\",\"reform\",\"peace security\",\"resolution\",\"permanent\",\"peace\"],\"yaxis\":\"y9\",\"type\":\"bar\"},{\"alignmentgroup\":\"True\",\"hovertemplate\":\"=%{y}<br>value=%{x}<extra></extra>\",\"legendgroup\":\"\",\"marker\":{\"color\":\"#636efa\",\"pattern\":{\"shape\":\"\"}},\"name\":\"\",\"offsetgroup\":\"\",\"orientation\":\"h\",\"showlegend\":false,\"textposition\":\"auto\",\"x\":[4.764705391446794,2.6620461073628774,1.6884666654385057,1.66375013153826,1.223927868373767,1.2138886201246284,1.0945141734791115,0.8193675905548392],\"xaxis\":\"x4\",\"y\":[\"nuclear\",\"weapons\",\"nuclear weapons\",\"disarmament\",\"treaty\",\"proliferation\",\"arms\",\"non\"],\"yaxis\":\"y4\",\"type\":\"bar\"},{\"alignmentgroup\":\"True\",\"hovertemplate\":\"=%{y}<br>value=%{x}<extra></extra>\",\"legendgroup\":\"\",\"marker\":{\"color\":\"#636efa\",\"pattern\":{\"shape\":\"\"}},\"name\":\"\",\"offsetgroup\":\"\",\"orientation\":\"h\",\"showlegend\":false,\"textposition\":\"auto\",\"x\":[3.8989478786415686,3.8542179625182627,3.802114971237561,0.7347110968185087,0.7347110968185087,0.6858075086569072,0.6497757757649756,0.5845807367504232],\"xaxis\":\"x5\",\"y\":[\"co\",\"operation\",\"co operation\",\"economic co\",\"economic co operation\",\"conference\",\"states\",\"new\"],\"yaxis\":\"y5\",\"type\":\"bar\"},{\"alignmentgroup\":\"True\",\"hovertemplate\":\"=%{y}<br>value=%{x}<extra></extra>\",\"legendgroup\":\"\",\"marker\":{\"color\":\"#636efa\",\"pattern\":{\"shape\":\"\"}},\"name\":\"\",\"offsetgroup\":\"\",\"orientation\":\"h\",\"showlegend\":false,\"textposition\":\"auto\",\"x\":[3.271971282079798,2.0840213116117514,1.7637595376152562,1.1030342900025327,1.0792861428500593,0.7988969270731952,0.6732506325468643,0.6086347209794755],\"xaxis\":\"x6\",\"y\":[\"international\",\"community\",\"international community\",\"states\",\"law\",\"terrorism\",\"support\",\"international law\"],\"yaxis\":\"y6\",\"type\":\"bar\"},{\"alignmentgroup\":\"True\",\"hovertemplate\":\"=%{y}<br>value=%{x}<extra></extra>\",\"legendgroup\":\"\",\"marker\":{\"color\":\"#636efa\",\"pattern\":{\"shape\":\"\"}},\"name\":\"\",\"offsetgroup\":\"\",\"orientation\":\"h\",\"showlegend\":false,\"textposition\":\"auto\",\"x\":[1.6683598841649578,1.155088620006948,0.9251459556674844,0.9200090223922077,0.8857960676079862,0.8199054000992909,0.8194966095439845,0.6928872330681901],\"xaxis\":\"x\",\"y\":[\"peace\",\"people\",\"region\",\"east\",\"israel\",\"middle\",\"middle east\",\"palestinian\"],\"yaxis\":\"y\",\"type\":\"bar\"}],                        {\"template\":{\"data\":{\"bar\":[{\"error_x\":{\"color\":\"#2a3f5f\"},\"error_y\":{\"color\":\"#2a3f5f\"},\"marker\":{\"line\":{\"color\":\"#E5ECF6\",\"width\":0.5},\"pattern\":{\"fillmode\":\"overlay\",\"size\":10,\"solidity\":0.2}},\"type\":\"bar\"}],\"barpolar\":[{\"marker\":{\"line\":{\"color\":\"#E5ECF6\",\"width\":0.5},\"pattern\":{\"fillmode\":\"overlay\",\"size\":10,\"solidity\":0.2}},\"type\":\"barpolar\"}],\"carpet\":[{\"aaxis\":{\"endlinecolor\":\"#2a3f5f\",\"gridcolor\":\"white\",\"linecolor\":\"white\",\"minorgridcolor\":\"white\",\"startlinecolor\":\"#2a3f5f\"},\"baxis\":{\"endlinecolor\":\"#2a3f5f\",\"gridcolor\":\"white\",\"linecolor\":\"white\",\"minorgridcolor\":\"white\",\"startlinecolor\":\"#2a3f5f\"},\"type\":\"carpet\"}],\"choropleth\":[{\"colorbar\":{\"outlinewidth\":0,\"ticks\":\"\"},\"type\":\"choropleth\"}],\"contour\":[{\"colorbar\":{\"outlinewidth\":0,\"ticks\":\"\"},\"colorscale\":[[0.0,\"#0d0887\"],[0.1111111111111111,\"#46039f\"],[0.2222222222222222,\"#7201a8\"],[0.3333333333333333,\"#9c179e\"],[0.4444444444444444,\"#bd3786\"],[0.5555555555555556,\"#d8576b\"],[0.6666666666666666,\"#ed7953\"],[0.7777777777777778,\"#fb9f3a\"],[0.8888888888888888,\"#fdca26\"],[1.0,\"#f0f921\"]],\"type\":\"contour\"}],\"contourcarpet\":[{\"colorbar\":{\"outlinewidth\":0,\"ticks\":\"\"},\"type\":\"contourcarpet\"}],\"heatmap\":[{\"colorbar\":{\"outlinewidth\":0,\"ticks\":\"\"},\"colorscale\":[[0.0,\"#0d0887\"],[0.1111111111111111,\"#46039f\"],[0.2222222222222222,\"#7201a8\"],[0.3333333333333333,\"#9c179e\"],[0.4444444444444444,\"#bd3786\"],[0.5555555555555556,\"#d8576b\"],[0.6666666666666666,\"#ed7953\"],[0.7777777777777778,\"#fb9f3a\"],[0.8888888888888888,\"#fdca26\"],[1.0,\"#f0f921\"]],\"type\":\"heatmap\"}],\"heatmapgl\":[{\"colorbar\":{\"outlinewidth\":0,\"ticks\":\"\"},\"colorscale\":[[0.0,\"#0d0887\"],[0.1111111111111111,\"#46039f\"],[0.2222222222222222,\"#7201a8\"],[0.3333333333333333,\"#9c179e\"],[0.4444444444444444,\"#bd3786\"],[0.5555555555555556,\"#d8576b\"],[0.6666666666666666,\"#ed7953\"],[0.7777777777777778,\"#fb9f3a\"],[0.8888888888888888,\"#fdca26\"],[1.0,\"#f0f921\"]],\"type\":\"heatmapgl\"}],\"histogram\":[{\"marker\":{\"pattern\":{\"fillmode\":\"overlay\",\"size\":10,\"solidity\":0.2}},\"type\":\"histogram\"}],\"histogram2d\":[{\"colorbar\":{\"outlinewidth\":0,\"ticks\":\"\"},\"colorscale\":[[0.0,\"#0d0887\"],[0.1111111111111111,\"#46039f\"],[0.2222222222222222,\"#7201a8\"],[0.3333333333333333,\"#9c179e\"],[0.4444444444444444,\"#bd3786\"],[0.5555555555555556,\"#d8576b\"],[0.6666666666666666,\"#ed7953\"],[0.7777777777777778,\"#fb9f3a\"],[0.8888888888888888,\"#fdca26\"],[1.0,\"#f0f921\"]],\"type\":\"histogram2d\"}],\"histogram2dcontour\":[{\"colorbar\":{\"outlinewidth\":0,\"ticks\":\"\"},\"colorscale\":[[0.0,\"#0d0887\"],[0.1111111111111111,\"#46039f\"],[0.2222222222222222,\"#7201a8\"],[0.3333333333333333,\"#9c179e\"],[0.4444444444444444,\"#bd3786\"],[0.5555555555555556,\"#d8576b\"],[0.6666666666666666,\"#ed7953\"],[0.7777777777777778,\"#fb9f3a\"],[0.8888888888888888,\"#fdca26\"],[1.0,\"#f0f921\"]],\"type\":\"histogram2dcontour\"}],\"mesh3d\":[{\"colorbar\":{\"outlinewidth\":0,\"ticks\":\"\"},\"type\":\"mesh3d\"}],\"parcoords\":[{\"line\":{\"colorbar\":{\"outlinewidth\":0,\"ticks\":\"\"}},\"type\":\"parcoords\"}],\"pie\":[{\"automargin\":true,\"type\":\"pie\"}],\"scatter\":[{\"marker\":{\"colorbar\":{\"outlinewidth\":0,\"ticks\":\"\"}},\"type\":\"scatter\"}],\"scatter3d\":[{\"line\":{\"colorbar\":{\"outlinewidth\":0,\"ticks\":\"\"}},\"marker\":{\"colorbar\":{\"outlinewidth\":0,\"ticks\":\"\"}},\"type\":\"scatter3d\"}],\"scattercarpet\":[{\"marker\":{\"colorbar\":{\"outlinewidth\":0,\"ticks\":\"\"}},\"type\":\"scattercarpet\"}],\"scattergeo\":[{\"marker\":{\"colorbar\":{\"outlinewidth\":0,\"ticks\":\"\"}},\"type\":\"scattergeo\"}],\"scattergl\":[{\"marker\":{\"colorbar\":{\"outlinewidth\":0,\"ticks\":\"\"}},\"type\":\"scattergl\"}],\"scattermapbox\":[{\"marker\":{\"colorbar\":{\"outlinewidth\":0,\"ticks\":\"\"}},\"type\":\"scattermapbox\"}],\"scatterpolar\":[{\"marker\":{\"colorbar\":{\"outlinewidth\":0,\"ticks\":\"\"}},\"type\":\"scatterpolar\"}],\"scatterpolargl\":[{\"marker\":{\"colorbar\":{\"outlinewidth\":0,\"ticks\":\"\"}},\"type\":\"scatterpolargl\"}],\"scatterternary\":[{\"marker\":{\"colorbar\":{\"outlinewidth\":0,\"ticks\":\"\"}},\"type\":\"scatterternary\"}],\"surface\":[{\"colorbar\":{\"outlinewidth\":0,\"ticks\":\"\"},\"colorscale\":[[0.0,\"#0d0887\"],[0.1111111111111111,\"#46039f\"],[0.2222222222222222,\"#7201a8\"],[0.3333333333333333,\"#9c179e\"],[0.4444444444444444,\"#bd3786\"],[0.5555555555555556,\"#d8576b\"],[0.6666666666666666,\"#ed7953\"],[0.7777777777777778,\"#fb9f3a\"],[0.8888888888888888,\"#fdca26\"],[1.0,\"#f0f921\"]],\"type\":\"surface\"}],\"table\":[{\"cells\":{\"fill\":{\"color\":\"#EBF0F8\"},\"line\":{\"color\":\"white\"}},\"header\":{\"fill\":{\"color\":\"#C8D4E3\"},\"line\":{\"color\":\"white\"}},\"type\":\"table\"}]},\"layout\":{\"annotationdefaults\":{\"arrowcolor\":\"#2a3f5f\",\"arrowhead\":0,\"arrowwidth\":1},\"autotypenumbers\":\"strict\",\"coloraxis\":{\"colorbar\":{\"outlinewidth\":0,\"ticks\":\"\"}},\"colorscale\":{\"diverging\":[[0,\"#8e0152\"],[0.1,\"#c51b7d\"],[0.2,\"#de77ae\"],[0.3,\"#f1b6da\"],[0.4,\"#fde0ef\"],[0.5,\"#f7f7f7\"],[0.6,\"#e6f5d0\"],[0.7,\"#b8e186\"],[0.8,\"#7fbc41\"],[0.9,\"#4d9221\"],[1,\"#276419\"]],\"sequential\":[[0.0,\"#0d0887\"],[0.1111111111111111,\"#46039f\"],[0.2222222222222222,\"#7201a8\"],[0.3333333333333333,\"#9c179e\"],[0.4444444444444444,\"#bd3786\"],[0.5555555555555556,\"#d8576b\"],[0.6666666666666666,\"#ed7953\"],[0.7777777777777778,\"#fb9f3a\"],[0.8888888888888888,\"#fdca26\"],[1.0,\"#f0f921\"]],\"sequentialminus\":[[0.0,\"#0d0887\"],[0.1111111111111111,\"#46039f\"],[0.2222222222222222,\"#7201a8\"],[0.3333333333333333,\"#9c179e\"],[0.4444444444444444,\"#bd3786\"],[0.5555555555555556,\"#d8576b\"],[0.6666666666666666,\"#ed7953\"],[0.7777777777777778,\"#fb9f3a\"],[0.8888888888888888,\"#fdca26\"],[1.0,\"#f0f921\"]]},\"colorway\":[\"#636efa\",\"#EF553B\",\"#00cc96\",\"#ab63fa\",\"#FFA15A\",\"#19d3f3\",\"#FF6692\",\"#B6E880\",\"#FF97FF\",\"#FECB52\"],\"font\":{\"color\":\"#2a3f5f\"},\"geo\":{\"bgcolor\":\"white\",\"lakecolor\":\"white\",\"landcolor\":\"#E5ECF6\",\"showlakes\":true,\"showland\":true,\"subunitcolor\":\"white\"},\"hoverlabel\":{\"align\":\"left\"},\"hovermode\":\"closest\",\"mapbox\":{\"style\":\"light\"},\"paper_bgcolor\":\"white\",\"plot_bgcolor\":\"#E5ECF6\",\"polar\":{\"angularaxis\":{\"gridcolor\":\"white\",\"linecolor\":\"white\",\"ticks\":\"\"},\"bgcolor\":\"#E5ECF6\",\"radialaxis\":{\"gridcolor\":\"white\",\"linecolor\":\"white\",\"ticks\":\"\"}},\"scene\":{\"xaxis\":{\"backgroundcolor\":\"#E5ECF6\",\"gridcolor\":\"white\",\"gridwidth\":2,\"linecolor\":\"white\",\"showbackground\":true,\"ticks\":\"\",\"zerolinecolor\":\"white\"},\"yaxis\":{\"backgroundcolor\":\"#E5ECF6\",\"gridcolor\":\"white\",\"gridwidth\":2,\"linecolor\":\"white\",\"showbackground\":true,\"ticks\":\"\",\"zerolinecolor\":\"white\"},\"zaxis\":{\"backgroundcolor\":\"#E5ECF6\",\"gridcolor\":\"white\",\"gridwidth\":2,\"linecolor\":\"white\",\"showbackground\":true,\"ticks\":\"\",\"zerolinecolor\":\"white\"}},\"shapedefaults\":{\"line\":{\"color\":\"#2a3f5f\"}},\"ternary\":{\"aaxis\":{\"gridcolor\":\"white\",\"linecolor\":\"white\",\"ticks\":\"\"},\"baxis\":{\"gridcolor\":\"white\",\"linecolor\":\"white\",\"ticks\":\"\"},\"bgcolor\":\"#E5ECF6\",\"caxis\":{\"gridcolor\":\"white\",\"linecolor\":\"white\",\"ticks\":\"\"}},\"title\":{\"x\":0.05},\"xaxis\":{\"automargin\":true,\"gridcolor\":\"white\",\"linecolor\":\"white\",\"ticks\":\"\",\"title\":{\"standoff\":15},\"zerolinecolor\":\"white\",\"zerolinewidth\":2},\"yaxis\":{\"automargin\":true,\"gridcolor\":\"white\",\"linecolor\":\"white\",\"ticks\":\"\",\"title\":{\"standoff\":15},\"zerolinecolor\":\"white\",\"zerolinewidth\":2}}},\"xaxis\":{\"anchor\":\"y\",\"domain\":[0.0,0.19999999999999998],\"title\":{\"text\":\"value\"}},\"yaxis\":{\"anchor\":\"x\",\"domain\":[0.0,0.1975],\"title\":{\"text\":\"\"},\"showticklabels\":true,\"autorange\":\"reversed\"},\"xaxis2\":{\"anchor\":\"y2\",\"domain\":[0.4,0.6],\"matches\":\"x\",\"title\":{\"text\":\"value\"}},\"yaxis2\":{\"anchor\":\"x2\",\"domain\":[0.0,0.1975],\"showticklabels\":true,\"autorange\":\"reversed\"},\"xaxis3\":{\"anchor\":\"y3\",\"domain\":[0.8,1.0],\"matches\":\"x\",\"title\":{\"text\":\"value\"}},\"yaxis3\":{\"anchor\":\"x3\",\"domain\":[0.0,0.1975],\"showticklabels\":true,\"autorange\":\"reversed\"},\"xaxis4\":{\"anchor\":\"y4\",\"domain\":[0.0,0.19999999999999998],\"matches\":\"x\",\"showticklabels\":false},\"yaxis4\":{\"anchor\":\"x4\",\"domain\":[0.2675,0.465],\"title\":{\"text\":\"\"},\"showticklabels\":true,\"autorange\":\"reversed\"},\"xaxis5\":{\"anchor\":\"y5\",\"domain\":[0.4,0.6],\"matches\":\"x\",\"showticklabels\":false},\"yaxis5\":{\"anchor\":\"x5\",\"domain\":[0.2675,0.465],\"showticklabels\":true,\"autorange\":\"reversed\"},\"xaxis6\":{\"anchor\":\"y6\",\"domain\":[0.8,1.0],\"matches\":\"x\",\"showticklabels\":false},\"yaxis6\":{\"anchor\":\"x6\",\"domain\":[0.2675,0.465],\"showticklabels\":true,\"autorange\":\"reversed\"},\"xaxis7\":{\"anchor\":\"y7\",\"domain\":[0.0,0.19999999999999998],\"matches\":\"x\",\"showticklabels\":false},\"yaxis7\":{\"anchor\":\"x7\",\"domain\":[0.535,0.7325],\"title\":{\"text\":\"\"},\"showticklabels\":true,\"autorange\":\"reversed\"},\"xaxis8\":{\"anchor\":\"y8\",\"domain\":[0.4,0.6],\"matches\":\"x\",\"showticklabels\":false},\"yaxis8\":{\"anchor\":\"x8\",\"domain\":[0.535,0.7325],\"showticklabels\":true,\"autorange\":\"reversed\"},\"xaxis9\":{\"anchor\":\"y9\",\"domain\":[0.8,1.0],\"matches\":\"x\",\"showticklabels\":false},\"yaxis9\":{\"anchor\":\"x9\",\"domain\":[0.535,0.7325],\"showticklabels\":true,\"autorange\":\"reversed\"},\"xaxis10\":{\"anchor\":\"y10\",\"domain\":[0.0,0.19999999999999998],\"matches\":\"x\",\"showticklabels\":false},\"yaxis10\":{\"anchor\":\"x10\",\"domain\":[0.8025,1.0],\"title\":{\"text\":\"\"},\"showticklabels\":true,\"autorange\":\"reversed\"},\"xaxis11\":{\"anchor\":\"y11\",\"domain\":[0.4,0.6],\"matches\":\"x\",\"showticklabels\":false},\"yaxis11\":{\"anchor\":\"x11\",\"domain\":[0.8025,1.0],\"showticklabels\":true,\"autorange\":\"reversed\"},\"xaxis12\":{\"anchor\":\"y12\",\"domain\":[0.8,1.0],\"matches\":\"x\",\"showticklabels\":false},\"yaxis12\":{\"anchor\":\"x12\",\"domain\":[0.8025,1.0],\"showticklabels\":true,\"autorange\":\"reversed\"},\"annotations\":[{\"font\":{},\"showarrow\":false,\"text\":\"=peace | people\",\"x\":0.09999999999999999,\"xanchor\":\"center\",\"xref\":\"paper\",\"y\":0.1975,\"yanchor\":\"bottom\",\"yref\":\"paper\"},{\"font\":{},\"showarrow\":false,\"text\":\"=nuclear | weapons\",\"x\":0.09999999999999999,\"xanchor\":\"center\",\"xref\":\"paper\",\"y\":0.465,\"yanchor\":\"bottom\",\"yref\":\"paper\"},{\"font\":{},\"showarrow\":false,\"text\":\"=co | operation\",\"x\":0.5,\"xanchor\":\"center\",\"xref\":\"paper\",\"y\":0.465,\"yanchor\":\"bottom\",\"yref\":\"paper\"},{\"font\":{},\"showarrow\":false,\"text\":\"=international | community\",\"x\":0.9,\"xanchor\":\"center\",\"xref\":\"paper\",\"y\":0.465,\"yanchor\":\"bottom\",\"yref\":\"paper\"},{\"font\":{},\"showarrow\":false,\"text\":\"=africa | south\",\"x\":0.09999999999999999,\"xanchor\":\"center\",\"xref\":\"paper\",\"y\":0.7325,\"yanchor\":\"bottom\",\"yref\":\"paper\"},{\"font\":{},\"showarrow\":false,\"text\":\"=rights | human\",\"x\":0.5,\"xanchor\":\"center\",\"xref\":\"paper\",\"y\":0.7325,\"yanchor\":\"bottom\",\"yref\":\"paper\"},{\"font\":{},\"showarrow\":false,\"text\":\"=council | security\",\"x\":0.9,\"xanchor\":\"center\",\"xref\":\"paper\",\"y\":0.7325,\"yanchor\":\"bottom\",\"yref\":\"paper\"},{\"font\":{},\"showarrow\":false,\"text\":\"=world | development\",\"x\":0.09999999999999999,\"xanchor\":\"center\",\"xref\":\"paper\",\"y\":1.0,\"yanchor\":\"bottom\",\"yref\":\"paper\"},{\"font\":{},\"showarrow\":false,\"text\":\"=general | assembly\",\"x\":0.5,\"xanchor\":\"center\",\"xref\":\"paper\",\"y\":1.0,\"yanchor\":\"bottom\",\"yref\":\"paper\"},{\"font\":{},\"showarrow\":false,\"text\":\"=countries | developing\",\"x\":0.9,\"xanchor\":\"center\",\"xref\":\"paper\",\"y\":1.0,\"yanchor\":\"bottom\",\"yref\":\"paper\"}],\"legend\":{\"tracegroupgap\":0},\"title\":{\"text\":\"Topics<br><sup>The top 8 tokens are displayed per topic; the top 2 are displayed as the topic name</sup>\"},\"barmode\":\"relative\",\"height\":900,\"width\":900},                        {\"responsive\": true}                    ).then(function(){\n",
       "                            \n",
       "var gd = document.getElementById('ab22f40c-a3dd-44a6-a28d-4c7402fb425c');\n",
       "var x = new MutationObserver(function (mutations, observer) {{\n",
       "        var display = window.getComputedStyle(gd).display;\n",
       "        if (!display || display === 'none') {{\n",
       "            console.log([gd, 'removed!']);\n",
       "            Plotly.purge(gd);\n",
       "            observer.disconnect();\n",
       "        }}\n",
       "}});\n",
       "\n",
       "// Listen for the removal of the full notebook cells\n",
       "var notebookContainer = gd.closest('#notebook-container');\n",
       "if (notebookContainer) {{\n",
       "    x.observe(notebookContainer, {childList: true});\n",
       "}}\n",
       "\n",
       "// Listen for the clearing of the current output cell\n",
       "var outputEl = gd.closest('.output');\n",
       "if (outputEl) {{\n",
       "    x.observe(outputEl, {childList: true});\n",
       "}}\n",
       "\n",
       "                        })                };                });            </script>        </div>"
      ]
     },
     "metadata": {},
     "output_type": "display_data"
    }
   ],
   "source": [
    "plot_topics(\n",
    "    model=nmf_model,\n",
    "    features=feature_names,\n",
    "    top_n_tokens=8,\n",
    "    num_tokens_in_label=2\n",
    ")"
   ]
  },
  {
   "cell_type": "code",
   "execution_count": null,
   "id": "1dde1ba4",
   "metadata": {},
   "outputs": [],
   "source": [
    "plot_top"
   ]
  },
  {
   "cell_type": "code",
   "execution_count": null,
   "id": "60cad3ff",
   "metadata": {},
   "outputs": [],
   "source": []
  },
  {
   "cell_type": "code",
   "execution_count": null,
   "id": "ef3d8d88",
   "metadata": {},
   "outputs": [],
   "source": []
  },
  {
   "cell_type": "code",
   "execution_count": null,
   "id": "a3c767e2",
   "metadata": {},
   "outputs": [],
   "source": []
  },
  {
   "cell_type": "code",
   "execution_count": null,
   "id": "964f30c1",
   "metadata": {},
   "outputs": [],
   "source": [
    "topic_sizes = calculate_topic_sizes(nmf_model, count_vectors)"
   ]
  },
  {
   "cell_type": "code",
   "execution_count": null,
   "id": "c1f1b163",
   "metadata": {},
   "outputs": [],
   "source": [
    "topic_dict = extract_topic_dictionary(nmf_model, feature_names)\n",
    "topic_labels = list(create_topic_labels(topic_dict).values())"
   ]
  },
  {
   "cell_type": "code",
   "execution_count": null,
   "id": "fe360859",
   "metadata": {},
   "outputs": [],
   "source": [
    "df = pd.DataFrame({\n",
    "    'Topics': topic_labels,\n",
    "    'Topic Size as a Percent of the Dataset': topic_sizes,\n",
    "})\n",
    "\n",
    "fig = px.bar(\n",
    "    df,\n",
    "    x='Topic Size as a Percent of the Dataset',\n",
    "    y='Topics',\n",
    "    title='Size of Topics<br><sup>More than 1 topic can be assigned to a single document; therefore, relative (percentage) sizes are provided.</sup>'\n",
    ")\n",
    "fig.update_layout(xaxis_tickformat = 'p')\n",
    "fig.show()"
   ]
  },
  {
   "cell_type": "code",
   "execution_count": null,
   "id": "3f0b9861",
   "metadata": {},
   "outputs": [],
   "source": []
  },
  {
   "cell_type": "code",
   "execution_count": null,
   "id": "3cc1d666",
   "metadata": {},
   "outputs": [],
   "source": []
  },
  {
   "cell_type": "code",
   "execution_count": null,
   "id": "f5523c7b",
   "metadata": {},
   "outputs": [],
   "source": []
  },
  {
   "cell_type": "markdown",
   "id": "85c0cba7",
   "metadata": {},
   "source": [
    "Get Topic Weightings for First Doc"
   ]
  },
  {
   "cell_type": "code",
   "execution_count": null,
   "id": "56f45110",
   "metadata": {},
   "outputs": [],
   "source": [
    "# topics for first document \n",
    "w_first_doc = w_matrix_unigrams[0, ]\n",
    "w_first_doc"
   ]
  },
  {
   "cell_type": "code",
   "execution_count": null,
   "id": "b0ae9620",
   "metadata": {},
   "outputs": [],
   "source": [
    "# Should be the same values as before\n",
    "predictions_first_doc = nmf_unigrams.transform(tfidf_vectors_unigrams[0,])\n",
    "predictions_first_doc"
   ]
  },
  {
   "cell_type": "code",
   "execution_count": null,
   "id": "0323a360",
   "metadata": {},
   "outputs": [],
   "source": [
    "[abs(round(x, 4)) for x in (w_first_doc - predictions_first_doc).tolist()[0]]"
   ]
  },
  {
   "cell_type": "markdown",
   "id": "ddb89583",
   "metadata": {},
   "source": [
    "---"
   ]
  },
  {
   "cell_type": "markdown",
   "id": "29734c3d",
   "metadata": {},
   "source": [
    "Get Top 10 Words for First Topic"
   ]
  },
  {
   "cell_type": "code",
   "execution_count": null,
   "id": "650b634d",
   "metadata": {},
   "outputs": [],
   "source": [
    "first_topic = h_matrix_unigrams[0,]\n",
    "first_topic.shape"
   ]
  },
  {
   "cell_type": "code",
   "execution_count": null,
   "id": "52787ee1",
   "metadata": {},
   "outputs": [],
   "source": [
    "largest_word_values = first_topic.argsort()[::-1]\n",
    "largest_word_values[0:10]"
   ]
  },
  {
   "cell_type": "code",
   "execution_count": null,
   "id": "573ce6b4",
   "metadata": {},
   "outputs": [],
   "source": [
    "word_names[largest_word_values[0:10]]"
   ]
  },
  {
   "cell_type": "markdown",
   "id": "1ea310b2",
   "metadata": {},
   "source": [
    "---"
   ]
  },
  {
   "cell_type": "markdown",
   "id": "bf743a9b",
   "metadata": {},
   "source": [
    "Size of Topics (Percent of all Documents)"
   ]
  },
  {
   "cell_type": "code",
   "execution_count": null,
   "id": "40c385a6",
   "metadata": {},
   "outputs": [],
   "source": [
    "w_matrix_unigrams.sum(axis=0)/w_matrix_unigrams.sum()*100.0"
   ]
  },
  {
   "cell_type": "markdown",
   "id": "72b56191",
   "metadata": {},
   "source": [
    "---"
   ]
  },
  {
   "cell_type": "code",
   "execution_count": null,
   "id": "416d2f54",
   "metadata": {},
   "outputs": [],
   "source": [
    "def topics_to_dictionary(model, features, num_top_words=10):\n",
    "    topics = dict()\n",
    "    for topic, words in enumerate(model.components_):\n",
    "        total = words.sum()\n",
    "        largest = words.argsort()[::-1] # invert sort order\n",
    "        topics[topic + 1] = [(features[largest[i]], abs(words[largest[i]]*100.0/total)) for i in range(0, num_top_words)]\n",
    "    return topics"
   ]
  },
  {
   "cell_type": "code",
   "execution_count": null,
   "id": "aa27a980",
   "metadata": {},
   "outputs": [],
   "source": [
    "topic_dictionary = topics_to_dictionary(nmf_unigrams, tfidf_vectorizer_unigrams.get_feature_names_out())\n",
    "#topic_dictionary"
   ]
  },
  {
   "cell_type": "code",
   "execution_count": null,
   "id": "c7ec93ac",
   "metadata": {},
   "outputs": [],
   "source": [
    "name_lookup = {topic:' | '.join([y[0] for y in x[0:3]]) for topic, x in topic_dictionary.items()}"
   ]
  },
  {
   "cell_type": "code",
   "execution_count": null,
   "id": "643231fb",
   "metadata": {},
   "outputs": [],
   "source": [
    "def topic_dictionary_to_names(topic_dictionary: dict, num_words_in_name: int=3):\n",
    "    return {topic:' | '.join([y[0] for y in x[0:num_words_in_name]]) for topic, x in topic_dictionary.items()}\n",
    "\n",
    "name_lookup = topic_dictionary_to_names(topic_dictionary, num_words_in_name=2)\n",
    "name_lookup"
   ]
  },
  {
   "cell_type": "code",
   "execution_count": null,
   "id": "f2b8fa5d",
   "metadata": {},
   "outputs": [],
   "source": [
    "def topics_to_dataframe(model, features: list, num_top_words: int = 10, num_words_in_name: int = 2) -> pd.DataFrame:\n",
    "    topic_dictionary = topics_to_dictionary(model, features, num_top_words)\n",
    "    name_lookup = topic_dictionary_to_names(topic_dictionary, num_words_in_name=num_words_in_name)\n",
    "    \n",
    "    topic_words = pd.DataFrame(topic_dictionary)\n",
    "    topics = topic_words.columns\n",
    "    topic_words = topic_words.reset_index().rename(columns={'index': 'word'})\n",
    "    topic_words = pd.melt(topic_words, id_vars='word', value_vars=list(topics), var_name='topic')\n",
    "    topic_words = topic_words.assign(**pd.DataFrame(topic_words['value'].tolist(), columns=['words', 'value']))\n",
    "    topic_words['label'] = topic_words['topic'].apply(lambda x: name_lookup[x])\n",
    "    return topic_words\n",
    "\n",
    "topic_df = topics_to_dataframe(\n",
    "    model=nmf_unigrams,\n",
    "    features=tfidf_vectorizer_unigrams.get_feature_names_out(),\n",
    "    num_top_words=10,\n",
    "    num_words_in_name=2,\n",
    ")\n",
    "topic_df"
   ]
  },
  {
   "cell_type": "code",
   "execution_count": null,
   "id": "6112f133",
   "metadata": {},
   "outputs": [],
   "source": [
    "# topic_words = pd.DataFrame(topic_dictionary)\n",
    "# topics = topic_words.columns\n",
    "# topic_words = topic_words.reset_index().rename(columns={'index': 'word'})\n",
    "# topic_words = pd.melt(topic_words, id_vars='word', value_vars=list(topics), var_name='topic')\n",
    "# topic_words = topic_words.assign(**pd.DataFrame(topic_words['value'].tolist(), columns=['words', 'value']))\n",
    "# topic_words['label'] = topic_words['topic'].apply(lambda x: name_lookup[x])\n",
    "# topic_words"
   ]
  },
  {
   "cell_type": "code",
   "execution_count": null,
   "id": "8c3f17e6",
   "metadata": {},
   "outputs": [],
   "source": [
    "import plotly_express as px\n",
    "\n",
    "fig = px.bar(\n",
    "    topic_df,\n",
    "    x='value',\n",
    "    y='words',\n",
    "    facet_col='label',\n",
    "    facet_col_wrap=3,\n",
    "    facet_col_spacing=0.2,\n",
    "    labels={\n",
    "        'words': '',\n",
    "        'label': '',\n",
    "    },\n",
    "    width=900,\n",
    "    height=1000,\n",
    "    title=\"Topics in NMF model (Unigrams)\"\n",
    ")\n",
    "fig.update_yaxes(matches=None, showticklabels=True, autorange=\"reversed\")\n",
    "#fig.update_xaxes(matches=None)\n",
    "fig.show()"
   ]
  },
  {
   "cell_type": "code",
   "execution_count": null,
   "id": "05a063ce",
   "metadata": {},
   "outputs": [],
   "source": [
    "plot_top_words(\n",
    "    model=nmf_unigrams,\n",
    "    feature_names=tfidf_vectorizer_unigrams.get_feature_names_out(),\n",
    "    n_top_words=5,\n",
    "    title=\"Topics in NMF model (Uni-grams)\"\n",
    ")"
   ]
  },
  {
   "cell_type": "markdown",
   "id": "526ccf33",
   "metadata": {},
   "source": [
    "---"
   ]
  },
  {
   "cell_type": "markdown",
   "id": "d3e71d09",
   "metadata": {},
   "source": [
    "### Bigrams"
   ]
  },
  {
   "cell_type": "code",
   "execution_count": null,
   "id": "abf4baed",
   "metadata": {},
   "outputs": [],
   "source": [
    "nmf_bigrams = NMF(n_components=10, random_state=42)\n",
    "# see Blueprints pg. 214 for explaination of W X H\n",
    "w_matrix_bigrams = nmf_bigrams.fit_transform(tfidf_vectors_bigrams)\n",
    "h_matrix_bigrams = nmf_bigrams.components_\n",
    "word_names = tfidf_vectorizer_bigrams.get_feature_names_out()"
   ]
  },
  {
   "cell_type": "code",
   "execution_count": null,
   "id": "db2229e8",
   "metadata": {},
   "outputs": [],
   "source": [
    "#display_topics(nmf_para_model_bigrams, tfidf_para_vectorizer_bigrams.get_feature_names())"
   ]
  },
  {
   "cell_type": "code",
   "execution_count": null,
   "id": "9cad8bd1",
   "metadata": {},
   "outputs": [],
   "source": [
    "\n",
    "topic_df = topics_to_dataframe(\n",
    "    model=nmf_bigrams,\n",
    "    features=tfidf_vectorizer_bigrams.get_feature_names_out(),\n",
    "    num_top_words=10,\n",
    "    num_words_in_name=2,\n",
    ")\n",
    "topic_df"
   ]
  },
  {
   "cell_type": "code",
   "execution_count": null,
   "id": "90a6d120",
   "metadata": {},
   "outputs": [],
   "source": [
    "import plotly_express as px\n",
    "\n",
    "fig = px.bar(\n",
    "    topic_df,\n",
    "    x='value',\n",
    "    y='words',\n",
    "    facet_col='label',\n",
    "    facet_col_wrap=2,\n",
    "    facet_col_spacing=0.2,\n",
    "    labels={\n",
    "        'words': '',\n",
    "        'label': '',\n",
    "    },\n",
    "    width=900,\n",
    "    height=1000,\n",
    "    title=\"Topics in NMF model (Bigrams)\"\n",
    ")\n",
    "fig.update_yaxes(matches=None, showticklabels=True, autorange=\"reversed\")\n",
    "#fig.update_xaxes(matches=None)\n",
    "fig.show()"
   ]
  },
  {
   "cell_type": "code",
   "execution_count": null,
   "id": "5789ddc3",
   "metadata": {},
   "outputs": [],
   "source": [
    "plot_top_words(\n",
    "    model=nmf_bigrams,\n",
    "    feature_names=tfidf_vectorizer_bigrams.get_feature_names_out(),\n",
    "    n_top_words=5,\n",
    "    title=\"Topics in NMF model (Bi-grams)\"\n",
    ")"
   ]
  },
  {
   "cell_type": "markdown",
   "id": "50ce38d4",
   "metadata": {},
   "source": [
    "https://scikit-learn.org/stable/auto_examples/applications/plot_topics_extraction_with_nmf_lda.html#sphx-glr-auto-examples-applications-plot-topics-extraction-with-nmf-lda-py"
   ]
  },
  {
   "cell_type": "markdown",
   "id": "8a99ab67",
   "metadata": {},
   "source": [
    "---"
   ]
  },
  {
   "cell_type": "markdown",
   "id": "7987ee65",
   "metadata": {},
   "source": [
    "Neither the book nor the example above uses TF-IDF with LDA, but do not specify why. Both use TF-IDF with NMF and then change to CountVectorizer with LDA\n",
    "\n",
    "\n",
    "https://stackoverflow.com/questions/44781047/necessary-to-apply-tf-idf-to-new-documents-in-gensim-lda-model/44789327#44789327\n",
    "\n",
    "> LDA only needs a bag-of-word vector.\n",
    "\n"
   ]
  },
  {
   "cell_type": "code",
   "execution_count": null,
   "id": "38ddb9d8",
   "metadata": {},
   "outputs": [],
   "source": [
    "from sklearn.feature_extraction.text import CountVectorizer\n",
    "count_para_vectorizer_bigrams = CountVectorizer(stop_words=stopwords, min_df=5, max_df=0.7, ngram_range=(2,3))\n",
    "count_para_vectors_bigrams = count_para_vectorizer_bigrams.fit_transform(paragraphs[\"text\"])\n",
    "count_para_vectors_bigrams.shape"
   ]
  },
  {
   "cell_type": "code",
   "execution_count": null,
   "id": "2685de1e",
   "metadata": {},
   "outputs": [],
   "source": [
    "from sklearn.feature_extraction.text import CountVectorizer\n",
    "count_para_vectorizer_bigrams = CountVectorizer(stop_words=stopwords, min_df=5, max_df=0.7, ngram_range=(2,3))\n",
    "count_para_vectors_bigrams = count_para_vectorizer_bigrams.fit_transform(paragraphs[\"text\"])\n",
    "count_para_vectors_bigrams.shape\n",
    "\n",
    "\n",
    "from sklearn.feature_extraction.text import CountVectorizer\n",
    "count_para_vectorizer = CountVectorizer(stop_words=stopwords, min_df=5, max_df=0.7)\n",
    "count_para_vectors = count_para_vectorizer.fit_transform(paragraphs[\"text\"])\n",
    "count_para_vectors.shape"
   ]
  },
  {
   "cell_type": "code",
   "execution_count": null,
   "id": "8b0f73a3",
   "metadata": {},
   "outputs": [],
   "source": [
    "from sklearn.decomposition import LatentDirichletAllocation\n",
    "\n",
    "lda_para_model = LatentDirichletAllocation(n_components = 10, random_state=42)\n",
    "W_lda_para_matrix = lda_para_model.fit_transform(count_para_vectors)\n",
    "H_lda_para_matrix = lda_para_model.components_"
   ]
  },
  {
   "cell_type": "code",
   "execution_count": null,
   "id": "8d1b6e40",
   "metadata": {},
   "outputs": [],
   "source": [
    "plot_top_words(\n",
    "    model=lda_para_model,\n",
    "    feature_names=count_para_vectorizer.get_feature_names_out(),\n",
    "    n_top_words=5,\n",
    "    title=\"Topics in LDA model (Uni-grams)\"\n",
    ")"
   ]
  },
  {
   "cell_type": "code",
   "execution_count": null,
   "id": "d5a4375e",
   "metadata": {},
   "outputs": [],
   "source": []
  },
  {
   "cell_type": "code",
   "execution_count": null,
   "id": "85cdf66a",
   "metadata": {},
   "outputs": [],
   "source": [
    "W_lda_para_matrix.sum(axis=0)/W_lda_para_matrix.sum()*100.0"
   ]
  },
  {
   "cell_type": "code",
   "execution_count": null,
   "id": "85a34e2a",
   "metadata": {},
   "outputs": [],
   "source": []
  },
  {
   "cell_type": "code",
   "execution_count": null,
   "id": "5a112e53",
   "metadata": {},
   "outputs": [],
   "source": [
    "from sklearn.decomposition import LatentDirichletAllocation\n",
    "\n",
    "lda_para_model_bigrams = LatentDirichletAllocation(n_components = 10, random_state=42)\n",
    "W_lda_para_matrix_bigrams = lda_para_model_bigrams.fit_transform(count_para_vectors_bigrams)\n",
    "H_lda_para_matrix_bigrams = lda_para_model_bigrams.components_"
   ]
  },
  {
   "cell_type": "code",
   "execution_count": null,
   "id": "9bce47b4",
   "metadata": {},
   "outputs": [],
   "source": [
    "import matplotlib.pyplot as plt\n",
    "def plot_top_words(model, feature_names, n_top_words, title):\n",
    "    \"\"\"\n",
    "    https://scikit-learn.org/stable/auto_examples/applications/plot_topics_extraction_with_nmf_lda.html#sphx-glr-auto-examples-applications-plot-topics-extraction-with-nmf-lda-py\n",
    "    \"\"\"\n",
    "    fig, axes = plt.subplots(2, 5, figsize=(30, 15), sharex=True)\n",
    "    axes = axes.flatten()\n",
    "    for topic_idx, topic in enumerate(model.components_):\n",
    "        top_features_ind = topic.argsort()[: -n_top_words - 1 : -1]\n",
    "        top_features = [feature_names[i] for i in top_features_ind]\n",
    "        weights = topic[top_features_ind]\n",
    "\n",
    "        ax = axes[topic_idx]\n",
    "        ax.barh(top_features, weights, height=0.7)\n",
    "        ax.set_title(f\"Topic {topic_idx +1}\", fontdict={\"fontsize\": 30})\n",
    "        ax.invert_yaxis()\n",
    "        ax.tick_params(axis=\"both\", which=\"major\", labelsize=20)\n",
    "        for i in \"top right left\".split():\n",
    "            ax.spines[i].set_visible(False)\n",
    "        fig.suptitle(title, fontsize=40)\n",
    "\n",
    "    plt.subplots_adjust(top=0.90, bottom=0.05, wspace=0.90, hspace=0.3)\n",
    "    plt.show()\n",
    "\n",
    "\n"
   ]
  },
  {
   "cell_type": "code",
   "execution_count": null,
   "id": "15b9e256",
   "metadata": {},
   "outputs": [],
   "source": [
    "plot_top_words(\n",
    "    model=lda_para_model_bigrams,\n",
    "    feature_names=count_para_vectorizer_bigrams.get_feature_names_out(),\n",
    "    n_top_words=5,\n",
    "    title=\"Topics in LDA model (Bi-grams)\"\n",
    ")"
   ]
  },
  {
   "cell_type": "code",
   "execution_count": null,
   "id": "c7a56cf3",
   "metadata": {},
   "outputs": [],
   "source": []
  },
  {
   "cell_type": "code",
   "execution_count": null,
   "id": "635f0fc9",
   "metadata": {},
   "outputs": [],
   "source": []
  },
  {
   "cell_type": "code",
   "execution_count": null,
   "id": "4d9779e0",
   "metadata": {},
   "outputs": [],
   "source": []
  },
  {
   "cell_type": "code",
   "execution_count": null,
   "id": "4c6aa948",
   "metadata": {
    "scrolled": false
   },
   "outputs": [],
   "source": []
  },
  {
   "cell_type": "code",
   "execution_count": null,
   "id": "1115d157",
   "metadata": {},
   "outputs": [],
   "source": []
  },
  {
   "cell_type": "code",
   "execution_count": null,
   "id": "091ed8a9",
   "metadata": {},
   "outputs": [],
   "source": [
    "import pyLDAvis.sklearn\n",
    "\n",
    "lda_display = pyLDAvis.sklearn.prepare(lda_para_model, count_para_vectors, count_para_vectorizer, sort_topics=False)\n",
    "#pyLDAvis.display(lda_display)\n",
    "pyLDAvis.save_html(lda_display, 'docs/models/lda.html')"
   ]
  },
  {
   "cell_type": "code",
   "execution_count": null,
   "id": "88fe50b3",
   "metadata": {},
   "outputs": [],
   "source": []
  },
  {
   "cell_type": "code",
   "execution_count": null,
   "id": "a8614b5a",
   "metadata": {},
   "outputs": [],
   "source": [
    "import pyLDAvis.sklearn\n",
    "\n",
    "lda_display = pyLDAvis.sklearn.prepare(lda_para_model_bigrams, count_para_vectors_bigrams, count_para_vectorizer_bigrams, sort_topics=False)\n",
    "#pyLDAvis.display(lda_display)\n",
    "pyLDAvis.save_html(lda_display, 'docs/models/lda_bigrams.html')"
   ]
  },
  {
   "cell_type": "code",
   "execution_count": null,
   "id": "02bee055",
   "metadata": {},
   "outputs": [],
   "source": []
  },
  {
   "cell_type": "code",
   "execution_count": null,
   "id": "e4b5ea39",
   "metadata": {},
   "outputs": [],
   "source": []
  },
  {
   "cell_type": "code",
   "execution_count": null,
   "id": "13e8c39b",
   "metadata": {},
   "outputs": [],
   "source": []
  }
 ],
 "metadata": {
  "kernelspec": {
   "display_name": "Python 3 (ipykernel)",
   "language": "python",
   "name": "python3"
  },
  "language_info": {
   "codemirror_mode": {
    "name": "ipython",
    "version": 3
   },
   "file_extension": ".py",
   "mimetype": "text/x-python",
   "name": "python",
   "nbconvert_exporter": "python",
   "pygments_lexer": "ipython3",
   "version": "3.9.10"
  },
  "toc": {
   "base_numbering": 1,
   "nav_menu": {},
   "number_sections": false,
   "sideBar": true,
   "skip_h1_title": false,
   "title_cell": "Table of Contents",
   "title_sidebar": "Contents",
   "toc_cell": false,
   "toc_position": {
    "height": "calc(100% - 180px)",
    "left": "10px",
    "top": "150px",
    "width": "235px"
   },
   "toc_section_display": true,
   "toc_window_display": true
  }
 },
 "nbformat": 4,
 "nbformat_minor": 5
}
