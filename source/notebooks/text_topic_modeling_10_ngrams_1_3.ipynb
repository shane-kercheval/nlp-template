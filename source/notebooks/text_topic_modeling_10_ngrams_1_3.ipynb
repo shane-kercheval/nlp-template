{
 "cells": [
  {
   "cell_type": "markdown",
   "id": "564aa887",
   "metadata": {
    "pycharm": {
     "name": "#%% md\n"
    }
   },
   "source": [
    "# Citation\n",
    "\n",
    "Much of the code and examples are copied/modified from \n",
    "\n",
    "> Blueprints for Text Analytics Using Python by Jens Albrecht, Sidharth Ramachandran, and Christian Winkler (O'Reilly, 2021), 978-1-492-07408-3.\n",
    ">\n",
    "\n",
    "- https://github.com/blueprints-for-text-analytics-python/blueprints-text\n",
    "- https://github.com/blueprints-for-text-analytics-python/blueprints-text/blob/master/ch08/Topic_Modeling_Clustering.ipynb"
   ]
  },
  {
   "cell_type": "markdown",
   "id": "2a967948",
   "metadata": {},
   "source": [
    "---"
   ]
  },
  {
   "cell_type": "markdown",
   "id": "35ae0c59",
   "metadata": {},
   "source": [
    "# Setup"
   ]
  },
  {
   "cell_type": "code",
   "execution_count": 1,
   "id": "66085eae",
   "metadata": {},
   "outputs": [],
   "source": [
    "%run \"/code/source/config/notebook_settings.py\""
   ]
  },
  {
   "cell_type": "code",
   "execution_count": 2,
   "id": "f360077d",
   "metadata": {},
   "outputs": [],
   "source": [
    "pd.set_option('display.max_colwidth', None)"
   ]
  },
  {
   "cell_type": "code",
   "execution_count": 3,
   "id": "3492686a",
   "metadata": {},
   "outputs": [],
   "source": [
    "from source.library.text_analysis import count_tokens, tf_idf, get_context_from_keyword, count_keywords, count_keywords_by, impurity\n",
    "from source.library.sklearn_topic_modeling import *\n",
    "from helpsk.utility import read_pickle"
   ]
  },
  {
   "cell_type": "code",
   "execution_count": 4,
   "id": "c25c3de0",
   "metadata": {},
   "outputs": [],
   "source": [
    "ngrams_low = 1\n",
    "ngrams_high = 3\n",
    "num_clusters = 10"
   ]
  },
  {
   "cell_type": "code",
   "execution_count": 5,
   "id": "624dedbc",
   "metadata": {},
   "outputs": [
    {
     "name": "stderr",
     "output_type": "stream",
     "text": [
      "2023-02-17 03:38:31 - INFO     | Timer Started: Loading Data\n",
      "2023-02-17 03:38:33 - INFO     | Timer Finished: (2.13 seconds)\n",
      "2023-02-17 03:38:33 - INFO     | Timer Started: Loading NMF\n",
      "2023-02-17 03:38:34 - INFO     | Timer Finished: (0.37 seconds)\n",
      "2023-02-17 03:38:34 - INFO     | Timer Started: Loading LDA\n",
      "2023-02-17 03:38:34 - INFO     | Timer Finished: (0.24 seconds)\n",
      "2023-02-17 03:38:34 - INFO     | Timer Started: Loading K-Means\n",
      "2023-02-17 03:38:34 - INFO     | Timer Finished: (0.32 seconds)\n"
     ]
    }
   ],
   "source": [
    "with Timer(\"Loading Data\"):\n",
    "    path = 'artifacts/data/processed/un-general-debates-paragraphs.pkl'\n",
    "    paragraphs = pd.read_pickle(path)\n",
    "    \n",
    "with Timer(\"Loading NMF\"):\n",
    "    file = f'artifacts/models/topics/nmf-topics-{num_clusters}-ngrams-{ngrams_low}-{ngrams_high}__vectorizer.pkl'\n",
    "    nmf_vectorizer = read_pickle(file)\n",
    "\n",
    "    # file = f'artifacts/models/topics/nmf-topics-10-ngrams-{ngrams_low}-{ngrams_high}__vectors.pkl'\n",
    "    # nmf_vectors = read_pickle(file)\n",
    "    \n",
    "    file = f'artifacts/models/topics/nmf-topics-{num_clusters}-ngrams-{ngrams_low}-{ngrams_high}__model.pkl'  # noqa\n",
    "    nmf_model = read_pickle(file)\n",
    "\n",
    "with Timer(\"Loading LDA\"):\n",
    "    file = f'artifacts/models/topics/lda-topics-{num_clusters}-ngrams-{ngrams_low}-{ngrams_high}__vectorizer.pkl'\n",
    "    lda_vectorizer = read_pickle(file)\n",
    "\n",
    "    file = f'artifacts/models/topics/lda-topics-{num_clusters}-ngrams-{ngrams_low}-{ngrams_high}__vectors.pkl'\n",
    "    lda_vectors = read_pickle(file)\n",
    "    \n",
    "    file = f'artifacts/models/topics/lda-topics-{num_clusters}-ngrams-{ngrams_low}-{ngrams_high}__model.pkl'  # noqa\n",
    "    lda_model = read_pickle(file)\n",
    "\n",
    "with Timer(\"Loading K-Means\"):\n",
    "    file = f'artifacts/models/topics/k_means-topics-{num_clusters}-ngrams-{ngrams_low}-{ngrams_high}__vectorizer.pkl'\n",
    "    k_means_vectorizer = read_pickle(file)\n",
    "\n",
    "    file = f'artifacts/models/topics/k_means-topics-{num_clusters}-ngrams-{ngrams_low}-{ngrams_high}__vectors.pkl'\n",
    "    k_means_vectors = read_pickle(file)\n",
    "    \n",
    "    file = f'artifacts/models/topics/k_means-topics-{num_clusters}-ngrams-{ngrams_low}-{ngrams_high}__model.pkl'  # noqa\n",
    "    k_means_model = read_pickle(file)"
   ]
  },
  {
   "cell_type": "markdown",
   "id": "71e4bfed",
   "metadata": {},
   "source": [
    "---"
   ]
  },
  {
   "cell_type": "markdown",
   "id": "f055efe1",
   "metadata": {},
   "source": [
    "# Exploratory Data Analysis\n",
    "\n",
    "This section provides a basic exploration of the text and dataset."
   ]
  },
  {
   "cell_type": "markdown",
   "id": "08db1a7f",
   "metadata": {},
   "source": [
    "## Dataset Summary"
   ]
  },
  {
   "cell_type": "code",
   "execution_count": 6,
   "id": "596aab15",
   "metadata": {},
   "outputs": [
    {
     "data": {
      "text/html": [
       "<style type=\"text/css\">\n",
       "#T_bf6be_row0_col2, #T_bf6be_row0_col4 {\n",
       "  width: 10em;\n",
       "}\n",
       "#T_bf6be_row0_col7 {\n",
       "  width: 10em;\n",
       "  background: linear-gradient(90deg, #B4B7B9 1.0%, transparent 1.0%);\n",
       "}\n",
       "#T_bf6be_row0_col8 {\n",
       "  width: 10em;\n",
       "  background: linear-gradient(90deg, transparent 50.0%, #B4B7B9 50.0%, #B4B7B9 51.2%, transparent 51.2%);\n",
       "}\n",
       "</style>\n",
       "<table id=\"T_bf6be\">\n",
       "  <thead>\n",
       "    <tr>\n",
       "      <th class=\"blank level0\" >&nbsp;</th>\n",
       "      <th id=\"T_bf6be_level0_col0\" class=\"col_heading level0 col0\" ># of Non-Nulls</th>\n",
       "      <th id=\"T_bf6be_level0_col1\" class=\"col_heading level0 col1\" ># of Nulls</th>\n",
       "      <th id=\"T_bf6be_level0_col2\" class=\"col_heading level0 col2\" >% Nulls</th>\n",
       "      <th id=\"T_bf6be_level0_col3\" class=\"col_heading level0 col3\" ># of Zeros</th>\n",
       "      <th id=\"T_bf6be_level0_col4\" class=\"col_heading level0 col4\" >% Zeros</th>\n",
       "      <th id=\"T_bf6be_level0_col5\" class=\"col_heading level0 col5\" >Mean</th>\n",
       "      <th id=\"T_bf6be_level0_col6\" class=\"col_heading level0 col6\" >St Dev.</th>\n",
       "      <th id=\"T_bf6be_level0_col7\" class=\"col_heading level0 col7\" >Coef of Var</th>\n",
       "      <th id=\"T_bf6be_level0_col8\" class=\"col_heading level0 col8\" >Skewness</th>\n",
       "      <th id=\"T_bf6be_level0_col9\" class=\"col_heading level0 col9\" >Kurtosis</th>\n",
       "      <th id=\"T_bf6be_level0_col10\" class=\"col_heading level0 col10\" >Min</th>\n",
       "      <th id=\"T_bf6be_level0_col11\" class=\"col_heading level0 col11\" >10%</th>\n",
       "      <th id=\"T_bf6be_level0_col12\" class=\"col_heading level0 col12\" >25%</th>\n",
       "      <th id=\"T_bf6be_level0_col13\" class=\"col_heading level0 col13\" >50%</th>\n",
       "      <th id=\"T_bf6be_level0_col14\" class=\"col_heading level0 col14\" >75%</th>\n",
       "      <th id=\"T_bf6be_level0_col15\" class=\"col_heading level0 col15\" >90%</th>\n",
       "      <th id=\"T_bf6be_level0_col16\" class=\"col_heading level0 col16\" >Max</th>\n",
       "    </tr>\n",
       "  </thead>\n",
       "  <tbody>\n",
       "    <tr>\n",
       "      <th id=\"T_bf6be_level0_row0\" class=\"row_heading level0 row0\" >year</th>\n",
       "      <td id=\"T_bf6be_row0_col0\" class=\"data row0 col0\" >279,045</td>\n",
       "      <td id=\"T_bf6be_row0_col1\" class=\"data row0 col1\" >0</td>\n",
       "      <td id=\"T_bf6be_row0_col2\" class=\"data row0 col2\" >0.0%</td>\n",
       "      <td id=\"T_bf6be_row0_col3\" class=\"data row0 col3\" >0</td>\n",
       "      <td id=\"T_bf6be_row0_col4\" class=\"data row0 col4\" >0.0%</td>\n",
       "      <td id=\"T_bf6be_row0_col5\" class=\"data row0 col5\" >1,992.4</td>\n",
       "      <td id=\"T_bf6be_row0_col6\" class=\"data row0 col6\" >12.6</td>\n",
       "      <td id=\"T_bf6be_row0_col7\" class=\"data row0 col7\" >0.0</td>\n",
       "      <td id=\"T_bf6be_row0_col8\" class=\"data row0 col8\" >0.1</td>\n",
       "      <td id=\"T_bf6be_row0_col9\" class=\"data row0 col9\" >-1.1</td>\n",
       "      <td id=\"T_bf6be_row0_col10\" class=\"data row0 col10\" >1,970</td>\n",
       "      <td id=\"T_bf6be_row0_col11\" class=\"data row0 col11\" >1,975.0</td>\n",
       "      <td id=\"T_bf6be_row0_col12\" class=\"data row0 col12\" >1,982.0</td>\n",
       "      <td id=\"T_bf6be_row0_col13\" class=\"data row0 col13\" >1,993.0</td>\n",
       "      <td id=\"T_bf6be_row0_col14\" class=\"data row0 col14\" >2,003.0</td>\n",
       "      <td id=\"T_bf6be_row0_col15\" class=\"data row0 col15\" >2,010.0</td>\n",
       "      <td id=\"T_bf6be_row0_col16\" class=\"data row0 col16\" >2,015</td>\n",
       "    </tr>\n",
       "  </tbody>\n",
       "</table>\n"
      ],
      "text/plain": [
       "<pandas.io.formats.style.Styler at 0xffff5197cdc0>"
      ]
     },
     "execution_count": 6,
     "metadata": {},
     "output_type": "execute_result"
    }
   ],
   "source": [
    "hlp.pandas.numeric_summary(paragraphs)"
   ]
  },
  {
   "cell_type": "code",
   "execution_count": 7,
   "id": "da917720",
   "metadata": {},
   "outputs": [
    {
     "data": {
      "text/html": [
       "<style type=\"text/css\">\n",
       "#T_ae4e2_row0_col2, #T_ae4e2_row1_col2 {\n",
       "  width: 10em;\n",
       "}\n",
       "#T_ae4e2_row0_col5 {\n",
       "  width: 10em;\n",
       "  background: linear-gradient(90deg, #B4B7B9 0.1%, transparent 0.1%);\n",
       "}\n",
       "#T_ae4e2_row1_col5 {\n",
       "  width: 10em;\n",
       "  background: linear-gradient(90deg, #B4B7B9 99.9%, transparent 99.9%);\n",
       "}\n",
       "</style>\n",
       "<table id=\"T_ae4e2\">\n",
       "  <thead>\n",
       "    <tr>\n",
       "      <th class=\"blank level0\" >&nbsp;</th>\n",
       "      <th id=\"T_ae4e2_level0_col0\" class=\"col_heading level0 col0\" ># of Non-Nulls</th>\n",
       "      <th id=\"T_ae4e2_level0_col1\" class=\"col_heading level0 col1\" ># of Nulls</th>\n",
       "      <th id=\"T_ae4e2_level0_col2\" class=\"col_heading level0 col2\" >% Nulls</th>\n",
       "      <th id=\"T_ae4e2_level0_col3\" class=\"col_heading level0 col3\" >Most Freq. Value</th>\n",
       "      <th id=\"T_ae4e2_level0_col4\" class=\"col_heading level0 col4\" ># of Unique</th>\n",
       "      <th id=\"T_ae4e2_level0_col5\" class=\"col_heading level0 col5\" >% Unique</th>\n",
       "    </tr>\n",
       "  </thead>\n",
       "  <tbody>\n",
       "    <tr>\n",
       "      <th id=\"T_ae4e2_level0_row0\" class=\"row_heading level0 row0\" >country</th>\n",
       "      <td id=\"T_ae4e2_row0_col0\" class=\"data row0 col0\" >279,045</td>\n",
       "      <td id=\"T_ae4e2_row0_col1\" class=\"data row0 col1\" >0</td>\n",
       "      <td id=\"T_ae4e2_row0_col2\" class=\"data row0 col2\" >0.0%</td>\n",
       "      <td id=\"T_ae4e2_row0_col3\" class=\"data row0 col3\" >Russian Federation</td>\n",
       "      <td id=\"T_ae4e2_row0_col4\" class=\"data row0 col4\" >199</td>\n",
       "      <td id=\"T_ae4e2_row0_col5\" class=\"data row0 col5\" >0.1%</td>\n",
       "    </tr>\n",
       "    <tr>\n",
       "      <th id=\"T_ae4e2_level0_row1\" class=\"row_heading level0 row1\" >text</th>\n",
       "      <td id=\"T_ae4e2_row1_col0\" class=\"data row1 col0\" >279,045</td>\n",
       "      <td id=\"T_ae4e2_row1_col1\" class=\"data row1 col1\" >0</td>\n",
       "      <td id=\"T_ae4e2_row1_col2\" class=\"data row1 col2\" >0.0%</td>\n",
       "      <td id=\"T_ae4e2_row1_col3\" class=\"data row1 col3\" >The President returned to the [...]</td>\n",
       "      <td id=\"T_ae4e2_row1_col4\" class=\"data row1 col4\" >278,820</td>\n",
       "      <td id=\"T_ae4e2_row1_col5\" class=\"data row1 col5\" >99.9%</td>\n",
       "    </tr>\n",
       "  </tbody>\n",
       "</table>\n"
      ],
      "text/plain": [
       "<pandas.io.formats.style.Styler at 0xffffaf39dd50>"
      ]
     },
     "execution_count": 7,
     "metadata": {},
     "output_type": "execute_result"
    }
   ],
   "source": [
    "hlp.pandas.non_numeric_summary(paragraphs)"
   ]
  },
  {
   "cell_type": "code",
   "execution_count": 8,
   "id": "4ed8f32d",
   "metadata": {},
   "outputs": [],
   "source": [
    "assert not (paragraphs['text'].str.strip() == '').any()"
   ]
  },
  {
   "cell_type": "code",
   "execution_count": null,
   "id": "6063ba7e",
   "metadata": {},
   "outputs": [],
   "source": []
  },
  {
   "cell_type": "code",
   "execution_count": null,
   "id": "558096e6",
   "metadata": {},
   "outputs": [],
   "source": []
  },
  {
   "cell_type": "markdown",
   "id": "e70f6191",
   "metadata": {},
   "source": [
    "---"
   ]
  },
  {
   "cell_type": "markdown",
   "id": "fa91b40e",
   "metadata": {},
   "source": [
    "# Topic Modeling"
   ]
  },
  {
   "cell_type": "markdown",
   "id": "e1f7911b",
   "metadata": {},
   "source": [
    "## NMF"
   ]
  },
  {
   "cell_type": "code",
   "execution_count": 10,
   "id": "d760b37f",
   "metadata": {},
   "outputs": [],
   "source": [
    "nmf_explorer = TopicModelExplorer(model=nmf_model, vectorizer=nmf_vectorizer)"
   ]
  },
  {
   "cell_type": "code",
   "execution_count": null,
   "id": "1118194e",
   "metadata": {},
   "outputs": [],
   "source": []
  },
  {
   "cell_type": "code",
   "execution_count": 11,
   "id": "e1faf862",
   "metadata": {},
   "outputs": [
    {
     "data": {
      "text/html": [
       "<div>\n",
       "<style scoped>\n",
       "    .dataframe tbody tr th:only-of-type {\n",
       "        vertical-align: middle;\n",
       "    }\n",
       "\n",
       "    .dataframe tbody tr th {\n",
       "        vertical-align: top;\n",
       "    }\n",
       "\n",
       "    .dataframe thead th {\n",
       "        text-align: right;\n",
       "    }\n",
       "</style>\n",
       "<table border=\"1\" class=\"dataframe tex2jax_ignore\">\n",
       "  <thead>\n",
       "    <tr style=\"text-align: right;\">\n",
       "      <th></th>\n",
       "      <th>topic</th>\n",
       "      <th>token_index</th>\n",
       "      <th>token</th>\n",
       "      <th>value</th>\n",
       "      <th>topic_label</th>\n",
       "    </tr>\n",
       "  </thead>\n",
       "  <tbody>\n",
       "    <tr>\n",
       "      <th>0</th>\n",
       "      <td>0</td>\n",
       "      <td>0</td>\n",
       "      <td>world</td>\n",
       "      <td>0.95</td>\n",
       "      <td>world | peace</td>\n",
       "    </tr>\n",
       "    <tr>\n",
       "      <th>1</th>\n",
       "      <td>0</td>\n",
       "      <td>1</td>\n",
       "      <td>peace</td>\n",
       "      <td>0.52</td>\n",
       "      <td>world | peace</td>\n",
       "    </tr>\n",
       "    <tr>\n",
       "      <th>2</th>\n",
       "      <td>0</td>\n",
       "      <td>2</td>\n",
       "      <td>states</td>\n",
       "      <td>0.52</td>\n",
       "      <td>world | peace</td>\n",
       "    </tr>\n",
       "    <tr>\n",
       "      <th>3</th>\n",
       "      <td>0</td>\n",
       "      <td>3</td>\n",
       "      <td>people</td>\n",
       "      <td>0.52</td>\n",
       "      <td>world | peace</td>\n",
       "    </tr>\n",
       "    <tr>\n",
       "      <th>4</th>\n",
       "      <td>0</td>\n",
       "      <td>4</td>\n",
       "      <td>country</td>\n",
       "      <td>0.48</td>\n",
       "      <td>world | peace</td>\n",
       "    </tr>\n",
       "    <tr>\n",
       "      <th>...</th>\n",
       "      <td>...</td>\n",
       "      <td>...</td>\n",
       "      <td>...</td>\n",
       "      <td>...</td>\n",
       "      <td>...</td>\n",
       "    </tr>\n",
       "    <tr>\n",
       "      <th>95</th>\n",
       "      <td>9</td>\n",
       "      <td>5</td>\n",
       "      <td>goals</td>\n",
       "      <td>0.76</td>\n",
       "      <td>development | social</td>\n",
       "    </tr>\n",
       "    <tr>\n",
       "      <th>96</th>\n",
       "      <td>9</td>\n",
       "      <td>6</td>\n",
       "      <td>global</td>\n",
       "      <td>0.67</td>\n",
       "      <td>development | social</td>\n",
       "    </tr>\n",
       "    <tr>\n",
       "      <th>97</th>\n",
       "      <td>9</td>\n",
       "      <td>7</td>\n",
       "      <td>development goals</td>\n",
       "      <td>0.59</td>\n",
       "      <td>development | social</td>\n",
       "    </tr>\n",
       "    <tr>\n",
       "      <th>98</th>\n",
       "      <td>9</td>\n",
       "      <td>8</td>\n",
       "      <td>agenda</td>\n",
       "      <td>0.59</td>\n",
       "      <td>development | social</td>\n",
       "    </tr>\n",
       "    <tr>\n",
       "      <th>99</th>\n",
       "      <td>9</td>\n",
       "      <td>9</td>\n",
       "      <td>millennium</td>\n",
       "      <td>0.59</td>\n",
       "      <td>development | social</td>\n",
       "    </tr>\n",
       "  </tbody>\n",
       "</table>\n",
       "<p>100 rows × 5 columns</p>\n",
       "</div>"
      ],
      "text/plain": [
       "   topic  token_index              token  value           topic_label\n",
       "0      0            0              world   0.95         world | peace\n",
       "1      0            1              peace   0.52         world | peace\n",
       "2      0            2             states   0.52         world | peace\n",
       "3      0            3             people   0.52         world | peace\n",
       "4      0            4            country   0.48         world | peace\n",
       "..   ...          ...                ...    ...                   ...\n",
       "95     9            5              goals   0.76  development | social\n",
       "96     9            6             global   0.67  development | social\n",
       "97     9            7  development goals   0.59  development | social\n",
       "98     9            8             agenda   0.59  development | social\n",
       "99     9            9         millennium   0.59  development | social\n",
       "\n",
       "[100 rows x 5 columns]"
      ]
     },
     "execution_count": 11,
     "metadata": {},
     "output_type": "execute_result"
    }
   ],
   "source": [
    "nmf_explorer.extract_topic_dataframe()"
   ]
  },
  {
   "cell_type": "code",
   "execution_count": null,
   "id": "6bcbe33b",
   "metadata": {},
   "outputs": [],
   "source": []
  },
  {
   "cell_type": "markdown",
   "id": "f5520394",
   "metadata": {},
   "source": [
    "### Overview"
   ]
  },
  {
   "cell_type": "code",
   "execution_count": 9,
   "id": "9a68e9d8",
   "metadata": {},
   "outputs": [
    {
     "ename": "NameError",
     "evalue": "name 'nmf_explorer' is not defined",
     "output_type": "error",
     "traceback": [
      "\u001b[0;31m---------------------------------------------------------------------------\u001b[0m",
      "\u001b[0;31mNameError\u001b[0m                                 Traceback (most recent call last)",
      "Cell \u001b[0;32mIn[9], line 1\u001b[0m\n\u001b[0;32m----> 1\u001b[0m nmf_explorer\u001b[39m.\u001b[39mplot_topics(\n\u001b[1;32m      2\u001b[0m     top_n_tokens\u001b[39m=\u001b[39m\u001b[39m8\u001b[39m,\n\u001b[1;32m      3\u001b[0m     num_tokens_in_label\u001b[39m=\u001b[39m\u001b[39m2\u001b[39m\n\u001b[1;32m      4\u001b[0m )\n",
      "\u001b[0;31mNameError\u001b[0m: name 'nmf_explorer' is not defined"
     ]
    }
   ],
   "source": [
    "nmf_explorer.plot_topics(\n",
    "    top_n_tokens=8,\n",
    "    num_tokens_in_label=2\n",
    ")"
   ]
  },
  {
   "cell_type": "code",
   "execution_count": null,
   "id": "89570a2d",
   "metadata": {},
   "outputs": [],
   "source": [
    "nmf_explorer.plot_topic_sizes(text_series=paragraphs['text'])"
   ]
  },
  {
   "cell_type": "code",
   "execution_count": null,
   "id": "5c2b6bbf",
   "metadata": {},
   "outputs": [],
   "source": [
    "predicted_topics = nmf_model.transform(X=nmf_vectorizer.transform(paragraphs['text']))\n",
    "per_document_totals = predicted_topics.sum(axis=1)\n",
    "ax = pd.Series(per_document_totals).plot(kind='box', vert=False, figsize=(10, 1))\n",
    "ax.set_title(\"Distribution Sum of Predicted Values/Topics Per Document\")\n",
    "ax.set_xlabel(\"Sum of Predicted Values Per Document\")\n",
    "ax.set_yticklabels([])\n",
    "ax;"
   ]
  },
  {
   "cell_type": "markdown",
   "id": "ebe4b65e",
   "metadata": {},
   "source": [
    "---"
   ]
  },
  {
   "cell_type": "markdown",
   "id": "68984e0b",
   "metadata": {},
   "source": [
    "### Trends"
   ]
  },
  {
   "cell_type": "code",
   "execution_count": null,
   "id": "e8192aea",
   "metadata": {},
   "outputs": [],
   "source": [
    "topic_sizes_per_year = nmf_explorer.get_topic_sizes_per_segment(\n",
    "    df=paragraphs,\n",
    "    text_column='text',\n",
    "    segment_column='year',\n",
    ")\n",
    "topic_sizes_per_year.head()"
   ]
  },
  {
   "cell_type": "code",
   "execution_count": null,
   "id": "c7902ce1",
   "metadata": {},
   "outputs": [],
   "source": [
    "fig = px.area(\n",
    "    topic_sizes_per_year,\n",
    "    x=\"year\",\n",
    "    y=\"relative_size\",\n",
    "    color=\"topic_labels\",\n",
    "    title=\"Topics Over Time\",\n",
    ")\n",
    "fig.show()"
   ]
  },
  {
   "cell_type": "code",
   "execution_count": null,
   "id": "2317260a",
   "metadata": {},
   "outputs": [],
   "source": [
    "fig = px.bar(\n",
    "    topic_sizes_per_year,\n",
    "    x=\"year\",\n",
    "    y=\"relative_size\",\n",
    "    color=\"topic_labels\",\n",
    "    title=\"Topics Over Time\",\n",
    ")\n",
    "fig.show()"
   ]
  },
  {
   "cell_type": "code",
   "execution_count": null,
   "id": "af5b8874",
   "metadata": {},
   "outputs": [],
   "source": [
    "fig = px.line(\n",
    "    topic_sizes_per_year,\n",
    "    x=\"year\",\n",
    "    y=\"relative_size\",\n",
    "    color=\"topic_labels\",\n",
    "    title=\"Topics Over Time\",\n",
    ")\n",
    "fig.show()"
   ]
  },
  {
   "cell_type": "code",
   "execution_count": null,
   "id": "7d4c7795",
   "metadata": {},
   "outputs": [],
   "source": [
    "fig = px.scatter(\n",
    "    topic_sizes_per_year,\n",
    "    x=\"year\",\n",
    "    y=\"relative_size\",\n",
    "    color=\"topic_labels\",\n",
    "    trendline=\"lowess\",\n",
    "    opacity=0.0,\n",
    "    title=\"Topics Over Time\",\n",
    ")\n",
    "fig.show()"
   ]
  },
  {
   "cell_type": "markdown",
   "id": "7657aabd",
   "metadata": {},
   "source": [
    "---"
   ]
  },
  {
   "cell_type": "markdown",
   "id": "bcde8bdc",
   "metadata": {},
   "source": [
    "### Examples"
   ]
  },
  {
   "cell_type": "code",
   "execution_count": null,
   "id": "b5d476dc",
   "metadata": {},
   "outputs": [],
   "source": [
    "top_examples = nmf_explorer.extract_top_examples(\n",
    "    text_series=paragraphs['text'],\n",
    "    top_n_examples=10\n",
    ")\n",
    "top_examples.style.hide(axis='index')"
   ]
  },
  {
   "cell_type": "markdown",
   "id": "8a99ab67",
   "metadata": {},
   "source": [
    "---"
   ]
  },
  {
   "cell_type": "markdown",
   "id": "55aa708a",
   "metadata": {},
   "source": [
    "## LDA"
   ]
  },
  {
   "cell_type": "markdown",
   "id": "7987ee65",
   "metadata": {},
   "source": [
    "Neither the book nor the example above uses TF-IDF with LDA, but do not specify why. Both use TF-IDF with NMF and then change to CountVectorizer with LDA\n",
    "\n",
    "\n",
    "https://stackoverflow.com/questions/44781047/necessary-to-apply-tf-idf-to-new-documents-in-gensim-lda-model/44789327#44789327\n",
    "\n",
    "> LDA only needs a bag-of-word vector.\n",
    "\n"
   ]
  },
  {
   "cell_type": "code",
   "execution_count": null,
   "id": "4fe22a5a",
   "metadata": {},
   "outputs": [],
   "source": [
    "lda_explorer = TopicModelExplorer(model=lda_model, vectorizer=lda_vectorizer)"
   ]
  },
  {
   "cell_type": "markdown",
   "id": "2380634b",
   "metadata": {},
   "source": [
    "### Overview"
   ]
  },
  {
   "cell_type": "code",
   "execution_count": null,
   "id": "b1e9f593",
   "metadata": {},
   "outputs": [],
   "source": [
    "lda_explorer.plot_topics(\n",
    "    top_n_tokens=8,\n",
    "    num_tokens_in_label=2,\n",
    "    token_separator=' | '\n",
    ")"
   ]
  },
  {
   "cell_type": "code",
   "execution_count": null,
   "id": "ec62ca39",
   "metadata": {},
   "outputs": [],
   "source": [
    "lda_explorer.plot_topic_sizes(\n",
    "    text_series=paragraphs['text'],\n",
    "    num_tokens_in_label=3,\n",
    "    token_separator=' | '\n",
    ")"
   ]
  },
  {
   "cell_type": "code",
   "execution_count": null,
   "id": "dedf4029",
   "metadata": {},
   "outputs": [],
   "source": [
    "predicted_topics = lda_model.transform(X=lda_vectorizer.transform(paragraphs['text']))\n",
    "per_document_totals = predicted_topics.sum(axis=1)\n",
    "ax = pd.Series(per_document_totals).plot(kind='box', vert=False, figsize=(10, 1))\n",
    "ax.set_title(\"Distribution Sum of Predicted Values/Topics Per Document\")\n",
    "ax.set_xlabel(\"Sum of Predicted Values Per Document\")\n",
    "ax.set_yticklabels([])\n",
    "ax;"
   ]
  },
  {
   "cell_type": "markdown",
   "id": "90969d7d",
   "metadata": {},
   "source": [
    "---"
   ]
  },
  {
   "cell_type": "markdown",
   "id": "6fa730c3",
   "metadata": {},
   "source": [
    "### Trends"
   ]
  },
  {
   "cell_type": "code",
   "execution_count": null,
   "id": "0458f2ce",
   "metadata": {},
   "outputs": [],
   "source": [
    "topic_sizes_per_year = lda_explorer.get_topic_sizes_per_segment(\n",
    "    df=paragraphs,\n",
    "    text_column='text',\n",
    "    segment_column='year',\n",
    ")\n",
    "topic_sizes_per_year.head()"
   ]
  },
  {
   "cell_type": "code",
   "execution_count": null,
   "id": "0514812c",
   "metadata": {},
   "outputs": [],
   "source": [
    "fig = px.area(\n",
    "    topic_sizes_per_year,\n",
    "    x=\"year\",\n",
    "    y=\"relative_size\",\n",
    "    color=\"topic_labels\",\n",
    "    title=\"Topics Over Time\",\n",
    ")\n",
    "fig.show()"
   ]
  },
  {
   "cell_type": "code",
   "execution_count": null,
   "id": "778b3447",
   "metadata": {},
   "outputs": [],
   "source": [
    "fig = px.bar(\n",
    "    topic_sizes_per_year,\n",
    "    x=\"year\",\n",
    "    y=\"relative_size\",\n",
    "    color=\"topic_labels\",\n",
    "    title=\"Topics Over Time\",\n",
    ")\n",
    "fig.show()"
   ]
  },
  {
   "cell_type": "code",
   "execution_count": null,
   "id": "99d15be7",
   "metadata": {},
   "outputs": [],
   "source": [
    "fig = px.line(\n",
    "    topic_sizes_per_year,\n",
    "    x=\"year\",\n",
    "    y=\"relative_size\",\n",
    "    color=\"topic_labels\",\n",
    "    title=\"Topics Over Time\",\n",
    ")\n",
    "fig.show()"
   ]
  },
  {
   "cell_type": "code",
   "execution_count": null,
   "id": "ac317fb7",
   "metadata": {},
   "outputs": [],
   "source": [
    "fig = px.scatter(\n",
    "    topic_sizes_per_year,\n",
    "    x=\"year\",\n",
    "    y=\"relative_size\",\n",
    "    color=\"topic_labels\",\n",
    "    trendline=\"lowess\",\n",
    "    opacity=0.0,\n",
    "    title=\"Topics Over Time\",\n",
    ")\n",
    "fig.show()"
   ]
  },
  {
   "cell_type": "markdown",
   "id": "830e0df9",
   "metadata": {},
   "source": [
    "---"
   ]
  },
  {
   "cell_type": "markdown",
   "id": "d23d4259",
   "metadata": {},
   "source": [
    "### Examples"
   ]
  },
  {
   "cell_type": "code",
   "execution_count": null,
   "id": "fe5f12df",
   "metadata": {},
   "outputs": [],
   "source": [
    "top_examples = lda_explorer.extract_top_examples(\n",
    "    text_series=paragraphs['text'],\n",
    "    top_n_examples=10\n",
    ")\n",
    "top_examples.style.hide(axis='index')"
   ]
  },
  {
   "cell_type": "markdown",
   "id": "28d5b79b",
   "metadata": {},
   "source": [
    "---"
   ]
  },
  {
   "cell_type": "code",
   "execution_count": null,
   "id": "091ed8a9",
   "metadata": {},
   "outputs": [],
   "source": [
    "import pyLDAvis.sklearn\n",
    "\n",
    "# monkey patch vectorizer since sklearn changed the name of the function which pyLDAvis isn't\n",
    "# expecting\n",
    "lda_vectorizer.get_feature_names = lda_vectorizer.get_feature_names_out\n",
    "lda_display = pyLDAvis.sklearn.prepare(lda_model, lda_vectors, lda_vectorizer, sort_topics=False)\n",
    "# pyLDAvis.display(lda_display)\n",
    "\n",
    "file_name = f\"output/models/topics/lda-{num_clusters}-n-grams-{ngrams_low}-{ngrams_high}.html\"\n",
    "pyLDAvis.save_html(lda_display, file_name)"
   ]
  },
  {
   "cell_type": "markdown",
   "id": "a94d876b",
   "metadata": {},
   "source": [
    "---"
   ]
  },
  {
   "cell_type": "markdown",
   "id": "287f6af1",
   "metadata": {},
   "source": [
    "## K-Means"
   ]
  },
  {
   "cell_type": "code",
   "execution_count": null,
   "id": "5407722b",
   "metadata": {},
   "outputs": [],
   "source": [
    "k_means_explorer = KMeansTopicExplorer(\n",
    "    model=k_means_model,\n",
    "    vectorizer=k_means_vectorizer,\n",
    "    vectors=k_means_vectors\n",
    ")"
   ]
  },
  {
   "cell_type": "markdown",
   "id": "fd9e264e",
   "metadata": {},
   "source": [
    "### Overview"
   ]
  },
  {
   "cell_type": "code",
   "execution_count": null,
   "id": "8f96b1f4",
   "metadata": {},
   "outputs": [],
   "source": [
    "k_means_explorer.plot_topics(\n",
    "    top_n_tokens=8,\n",
    "    num_tokens_in_label=2\n",
    ")"
   ]
  },
  {
   "cell_type": "code",
   "execution_count": null,
   "id": "e138e08a",
   "metadata": {},
   "outputs": [],
   "source": [
    "k_means_explorer.plot_topic_sizes(text_series=paragraphs['text'])"
   ]
  },
  {
   "cell_type": "markdown",
   "id": "7bd30ec3",
   "metadata": {},
   "source": [
    "### Trends"
   ]
  },
  {
   "cell_type": "code",
   "execution_count": null,
   "id": "ecca3a32",
   "metadata": {},
   "outputs": [],
   "source": [
    "topic_sizes_per_year = k_means_explorer.get_topic_sizes_per_segment(\n",
    "    df=paragraphs,\n",
    "    text_column='text',\n",
    "    segment_column='year',\n",
    ")\n",
    "topic_sizes_per_year.head()"
   ]
  },
  {
   "cell_type": "code",
   "execution_count": null,
   "id": "983d38b5",
   "metadata": {},
   "outputs": [],
   "source": [
    "fig = px.area(\n",
    "    topic_sizes_per_year,\n",
    "    x=\"year\",\n",
    "    y=\"relative_size\",\n",
    "    color=\"topic_labels\",\n",
    "    title=\"Topics Over Time\",\n",
    ")\n",
    "fig.show()"
   ]
  },
  {
   "cell_type": "code",
   "execution_count": null,
   "id": "cce6489b",
   "metadata": {},
   "outputs": [],
   "source": [
    "fig = px.bar(\n",
    "    topic_sizes_per_year,\n",
    "    x=\"year\",\n",
    "    y=\"relative_size\",\n",
    "    color=\"topic_labels\",\n",
    "    title=\"Topics Over Time\",\n",
    ")\n",
    "fig.show()"
   ]
  },
  {
   "cell_type": "code",
   "execution_count": null,
   "id": "cd2d83de",
   "metadata": {},
   "outputs": [],
   "source": [
    "fig = px.line(\n",
    "    topic_sizes_per_year,\n",
    "    x=\"year\",\n",
    "    y=\"relative_size\",\n",
    "    color=\"topic_labels\",\n",
    "    title=\"Topics Over Time\",\n",
    ")\n",
    "fig.show()"
   ]
  },
  {
   "cell_type": "code",
   "execution_count": null,
   "id": "e0612d4f",
   "metadata": {},
   "outputs": [],
   "source": [
    "fig = px.scatter(\n",
    "    topic_sizes_per_year,\n",
    "    x=\"year\",\n",
    "    y=\"relative_size\",\n",
    "    color=\"topic_labels\",\n",
    "    trendline=\"lowess\",\n",
    "    opacity=0.0,\n",
    "    title=\"Topics Over Time\",\n",
    ")\n",
    "fig.show()"
   ]
  },
  {
   "cell_type": "markdown",
   "id": "e151c13d",
   "metadata": {},
   "source": [
    "---"
   ]
  },
  {
   "cell_type": "markdown",
   "id": "c1a77773",
   "metadata": {},
   "source": [
    "### Examples"
   ]
  },
  {
   "cell_type": "code",
   "execution_count": null,
   "id": "49fa3ab0",
   "metadata": {
    "scrolled": false
   },
   "outputs": [],
   "source": [
    "top_examples = k_means_explorer.extract_top_examples(\n",
    "    text_series=paragraphs['text'],\n",
    "    top_n_examples=10\n",
    ")\n",
    "top_examples.style.hide(axis='index')"
   ]
  },
  {
   "cell_type": "markdown",
   "id": "f904966a",
   "metadata": {},
   "source": [
    "---"
   ]
  }
 ],
 "metadata": {
  "kernelspec": {
   "display_name": "Python 3",
   "language": "python",
   "name": "python3"
  },
  "language_info": {
   "codemirror_mode": {
    "name": "ipython",
    "version": 3
   },
   "file_extension": ".py",
   "mimetype": "text/x-python",
   "name": "python",
   "nbconvert_exporter": "python",
   "pygments_lexer": "ipython3",
   "version": "3.10.10"
  },
  "toc": {
   "base_numbering": 1,
   "nav_menu": {},
   "number_sections": false,
   "sideBar": true,
   "skip_h1_title": false,
   "title_cell": "Table of Contents",
   "title_sidebar": "Contents",
   "toc_cell": false,
   "toc_position": {
    "height": "calc(100% - 180px)",
    "left": "10px",
    "top": "150px",
    "width": "235px"
   },
   "toc_section_display": true,
   "toc_window_display": true
  },
  "vscode": {
   "interpreter": {
    "hash": "949777d72b0d2535278d3dc13498b2535136f6dfe0678499012e853ee9abcab1"
   }
  }
 },
 "nbformat": 4,
 "nbformat_minor": 5
}
