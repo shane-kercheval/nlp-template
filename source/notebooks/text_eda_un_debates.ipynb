{
 "cells": [
  {
   "cell_type": "markdown",
   "id": "564aa887",
   "metadata": {
    "pycharm": {
     "name": "#%% md\n"
    }
   },
   "source": [
    "# Citation\n",
    "\n",
    "Much of the code and examples are copied/modified from \n",
    "\n",
    "> Blueprints for Text Analytics Using Python by Jens Albrecht, Sidharth Ramachandran, and Christian Winkler (O'Reilly, 2021), 978-1-492-07408-3.\n",
    ">\n",
    "\n",
    "- https://github.com/blueprints-for-text-analytics-python/blueprints-text\n",
    "- https://github.com/blueprints-for-text-analytics-python/blueprints-text/blob/master/ch01/First_Insights.ipynb"
   ]
  },
  {
   "cell_type": "markdown",
   "id": "2a967948",
   "metadata": {},
   "source": [
    "---"
   ]
  },
  {
   "cell_type": "markdown",
   "id": "35ae0c59",
   "metadata": {},
   "source": [
    "# Setup"
   ]
  },
  {
   "cell_type": "code",
   "execution_count": null,
   "id": "66085eae",
   "metadata": {},
   "outputs": [],
   "source": [
    "%run \"/code/source/config/notebook_settings.py\""
   ]
  },
  {
   "cell_type": "code",
   "execution_count": null,
   "id": "3492686a",
   "metadata": {},
   "outputs": [],
   "source": [
    "from source.library.text_analysis import count_tokens, tf_idf, get_context_from_keyword, count_keywords, \\\n",
    "    count_keywords_by, impurity"
   ]
  },
  {
   "cell_type": "code",
   "execution_count": null,
   "id": "624dedbc",
   "metadata": {},
   "outputs": [],
   "source": [
    "with Timer(\"Loading Data\"):\n",
    "    path = 'artifacts/data/processed/un-general-debates-blueprint.pkl'\n",
    "    df = pd.read_pickle(path)"
   ]
  },
  {
   "cell_type": "markdown",
   "id": "71e4bfed",
   "metadata": {},
   "source": [
    "---"
   ]
  },
  {
   "cell_type": "markdown",
   "id": "f055efe1",
   "metadata": {},
   "source": [
    "# Exploratory Data Analysis\n",
    "\n",
    "This section provides a basic exploration of the text and dataset."
   ]
  },
  {
   "cell_type": "markdown",
   "id": "08db1a7f",
   "metadata": {},
   "source": [
    "## Dataset Summary"
   ]
  },
  {
   "cell_type": "code",
   "execution_count": null,
   "id": "ebea0c53",
   "metadata": {
    "pycharm": {
     "name": "#%%\n"
    }
   },
   "outputs": [],
   "source": [
    "hlp.pandas.numeric_summary(df)"
   ]
  },
  {
   "cell_type": "code",
   "execution_count": null,
   "id": "81c892b0",
   "metadata": {
    "pycharm": {
     "name": "#%%\n"
    },
    "scrolled": false
   },
   "outputs": [],
   "source": [
    "hlp.pandas.non_numeric_summary(df)"
   ]
  },
  {
   "cell_type": "code",
   "execution_count": null,
   "id": "3c2c71d3",
   "metadata": {},
   "outputs": [],
   "source": [
    "df.head(2)"
   ]
  },
  {
   "cell_type": "markdown",
   "id": "a6c9fe64",
   "metadata": {},
   "source": [
    "---"
   ]
  },
  {
   "cell_type": "markdown",
   "id": "33cbb56c",
   "metadata": {},
   "source": [
    "### Impurity"
   ]
  },
  {
   "cell_type": "code",
   "execution_count": null,
   "id": "17d698f2",
   "metadata": {},
   "outputs": [],
   "source": [
    "df['text'].apply(impurity).max()"
   ]
  },
  {
   "cell_type": "markdown",
   "id": "28f4d730",
   "metadata": {},
   "source": [
    "### Examples"
   ]
  },
  {
   "cell_type": "code",
   "execution_count": null,
   "id": "5111e645",
   "metadata": {},
   "outputs": [],
   "source": [
    "df['text'].iloc[0][0:1000]"
   ]
  },
  {
   "cell_type": "code",
   "execution_count": null,
   "id": "2ddccfc2",
   "metadata": {},
   "outputs": [],
   "source": [
    "'|'.join(df['tokens'].iloc[0])[0:1000]"
   ]
  },
  {
   "cell_type": "code",
   "execution_count": null,
   "id": "f3781bb0",
   "metadata": {},
   "outputs": [],
   "source": [
    "'|'.join(df['bi_grams'].iloc[0])[0:1000]"
   ]
  },
  {
   "cell_type": "markdown",
   "id": "3042cf6f",
   "metadata": {},
   "source": [
    "## Explore Non-Text Columns"
   ]
  },
  {
   "cell_type": "markdown",
   "id": "bfea5123",
   "metadata": {},
   "source": [
    "Explore idiosyncrasies of various columns, e.g. same speaker represented multiple ways."
   ]
  },
  {
   "cell_type": "code",
   "execution_count": null,
   "id": "1a5cd8ba",
   "metadata": {},
   "outputs": [],
   "source": [
    "df[df['speaker'].str.contains('Bush')]['speaker'].value_counts()"
   ]
  },
  {
   "cell_type": "markdown",
   "id": "39806fcc",
   "metadata": {},
   "source": [
    "---"
   ]
  },
  {
   "cell_type": "markdown",
   "id": "59ddcf01",
   "metadata": {},
   "source": [
    "## Explore Text Column|"
   ]
  },
  {
   "cell_type": "markdown",
   "id": "ad589f46",
   "metadata": {},
   "source": [
    "### Top Words Used"
   ]
  },
  {
   "cell_type": "code",
   "execution_count": null,
   "id": "98cc2235",
   "metadata": {},
   "outputs": [],
   "source": [
    "count_tokens(df['tokens']).head(20)"
   ]
  },
  {
   "cell_type": "markdown",
   "id": "79304967",
   "metadata": {},
   "source": [
    "---"
   ]
  },
  {
   "cell_type": "markdown",
   "id": "470c14d1",
   "metadata": {},
   "source": [
    "### Distribution of Text Length"
   ]
  },
  {
   "cell_type": "code",
   "execution_count": null,
   "id": "0951cab8",
   "metadata": {},
   "outputs": [],
   "source": [
    "ax = df['text_length'].plot(kind='box', vert=False, figsize=(10, 1))\n",
    "ax.set_title(\"Distribution of Text Length\")\n",
    "ax.set_xlabel(\"# of Characters\")\n",
    "ax.set_yticklabels([])\n",
    "ax;"
   ]
  },
  {
   "cell_type": "code",
   "execution_count": null,
   "id": "fbdf39cd",
   "metadata": {},
   "outputs": [],
   "source": [
    "ax = df['text_length'].plot(kind='hist', bins=60, figsize=(10, 2));\n",
    "ax.set_title(\"Distribution of Text Length\")\n",
    "ax.set_xlabel(\"# of Characters\")\n",
    "ax;"
   ]
  },
  {
   "cell_type": "code",
   "execution_count": null,
   "id": "174ccd0c",
   "metadata": {},
   "outputs": [],
   "source": [
    "import seaborn as sns\n",
    "sns.displot(df['text_length'], bins=60, kde=True, height=3, aspect=3);"
   ]
  },
  {
   "cell_type": "code",
   "execution_count": null,
   "id": "01f92ecf",
   "metadata": {},
   "outputs": [],
   "source": [
    "where = df['country'].isin(['USA', 'FRA', 'GBR', 'CHN', 'RUS'])\n",
    "g = sns.catplot(data=df[where], x=\"country\", y=\"text_length\", kind='box')\n",
    "g.fig.set_size_inches(6, 3)\n",
    "g.fig.set_dpi(100)\n",
    "g = sns.catplot(data=df[where], x=\"country\", y=\"text_length\", kind='violin')\n",
    "g.fig.set_size_inches(6, 3)\n",
    "g.fig.set_dpi(100)"
   ]
  },
  {
   "cell_type": "code",
   "execution_count": null,
   "id": "a2060791",
   "metadata": {},
   "outputs": [],
   "source": [
    "assert not df[['year', 'country']].duplicated().any()\n",
    "df.groupby('year').size().plot(title=\"Number of Countries\");"
   ]
  },
  {
   "cell_type": "code",
   "execution_count": null,
   "id": "063a74b8",
   "metadata": {},
   "outputs": [],
   "source": [
    "df.\\\n",
    "    groupby('year').\\\n",
    "    agg({'text_length': 'mean'}).\\\n",
    "    plot(title=\"Avg. Speech Length\", ylim=(0,30000));"
   ]
  },
  {
   "cell_type": "markdown",
   "id": "115e8fee",
   "metadata": {},
   "source": [
    "### Word Frequency"
   ]
  },
  {
   "cell_type": "code",
   "execution_count": null,
   "id": "9da159b0",
   "metadata": {},
   "outputs": [],
   "source": [
    "counts_df = count_tokens(df['tokens'])"
   ]
  },
  {
   "cell_type": "code",
   "execution_count": null,
   "id": "15d4b96e",
   "metadata": {},
   "outputs": [],
   "source": [
    "counts_df.head()"
   ]
  },
  {
   "cell_type": "code",
   "execution_count": null,
   "id": "ff9c2fc8",
   "metadata": {},
   "outputs": [],
   "source": [
    "def plot_wordcloud(frequency_dict):\n",
    "    wc = wordcloud.WordCloud(\n",
    "        background_color='white',\n",
    "        #colormap='RdYlGn',\n",
    "        colormap='tab20b',\n",
    "        width=round(hlp.plot.STANDARD_WIDTH*100),\n",
    "        height=round(hlp.plot.STANDARD_HEIGHT*100),\n",
    "        max_words = 200, max_font_size=150,\n",
    "        random_state=42\n",
    "    )\n",
    "    wc.generate_from_frequencies(frequency_dict)\n",
    "\n",
    "    fig, ax = plt.subplots(figsize=(hlp.plot.STANDARD_WIDTH, hlp.plot.STANDARD_HEIGHT))\n",
    "    ax.imshow(wc, interpolation='bilinear')\n",
    "    #plt.title(\"XXX\")\n",
    "    plt.axis('off')"
   ]
  },
  {
   "cell_type": "code",
   "execution_count": null,
   "id": "8f9d6d2f",
   "metadata": {},
   "outputs": [],
   "source": [
    "plot_wordcloud(counts_df.to_dict()['frequency']);"
   ]
  },
  {
   "cell_type": "markdown",
   "id": "d94f32c1",
   "metadata": {},
   "source": [
    "### TF-IDF"
   ]
  },
  {
   "cell_type": "code",
   "execution_count": null,
   "id": "cb36ef18",
   "metadata": {},
   "outputs": [],
   "source": [
    "tf_idf_df = tf_idf(\n",
    "    df=df,\n",
    "    tokens_column='tokens',\n",
    "    segment_columns = None,\n",
    "    min_frequency_corpus=20,\n",
    "    min_frequency_document=20,\n",
    ")"
   ]
  },
  {
   "cell_type": "code",
   "execution_count": null,
   "id": "9f6a1169",
   "metadata": {},
   "outputs": [],
   "source": [
    "ax = tf_idf_df.\\\n",
    "    sort_values(by='frequency', ascending=False).\\\n",
    "    head(30)[['frequency']].\\\n",
    "    plot(kind='barh', width=0.99)\n",
    "ax.set_title(\"Frequency of Uni-Grams\")\n",
    "ax.set_xlabel(\"Frequency\")\n",
    "ax.invert_yaxis();"
   ]
  },
  {
   "cell_type": "code",
   "execution_count": null,
   "id": "828e7896",
   "metadata": {},
   "outputs": [],
   "source": [
    "ax = tf_idf_df.head(30)[['tf-idf']].plot(kind='barh', width=0.99)\n",
    "ax.set_title(\"TF-IDF of Uni-Grams\")\n",
    "ax.set_xlabel(\"TF-IDF\")\n",
    "ax.invert_yaxis();"
   ]
  },
  {
   "cell_type": "code",
   "execution_count": null,
   "id": "de9a5a92",
   "metadata": {},
   "outputs": [],
   "source": [
    "plot_wordcloud(tf_idf_df.to_dict()['tf-idf']);"
   ]
  },
  {
   "cell_type": "markdown",
   "id": "1b1f7aa0",
   "metadata": {},
   "source": [
    "#### Per Year - 1970"
   ]
  },
  {
   "cell_type": "code",
   "execution_count": null,
   "id": "7d6e0ed0",
   "metadata": {},
   "outputs": [],
   "source": [
    "tf_idf_per_year = tf_idf(\n",
    "    df=df,\n",
    "    tokens_column='tokens',\n",
    "    segment_columns = 'year',\n",
    "    min_frequency_corpus=10,\n",
    "    min_frequency_document=10,\n",
    ")"
   ]
  },
  {
   "cell_type": "code",
   "execution_count": null,
   "id": "71939566",
   "metadata": {},
   "outputs": [],
   "source": [
    "stop_words = ['twenty-fifth', 'twenty-five', 'twenty', 'fifth']\n",
    "tokens_to_show = tf_idf_per_year.query('year == 1970').reset_index()\n",
    "tokens_to_show = tokens_to_show[~tokens_to_show.token.isin(stop_words)]"
   ]
  },
  {
   "cell_type": "code",
   "execution_count": null,
   "id": "4861110b",
   "metadata": {},
   "outputs": [],
   "source": [
    "ax = tokens_to_show.head(30).set_index('token')[['tf-idf']].plot(kind='barh', width=0.99)\n",
    "ax.set_title(\"TF-IDF of Uni-Grams - 1970\")\n",
    "ax.set_xlabel(\"TF-IDF\")\n",
    "ax.invert_yaxis();"
   ]
  },
  {
   "cell_type": "code",
   "execution_count": null,
   "id": "4b9b4f3d",
   "metadata": {},
   "outputs": [],
   "source": [
    "tokens_to_show = tokens_to_show[['token', 'tf-idf']].set_index('token')\n",
    "tokens_to_show = tokens_to_show.to_dict()['tf-idf']"
   ]
  },
  {
   "cell_type": "code",
   "execution_count": null,
   "id": "171517f6",
   "metadata": {},
   "outputs": [],
   "source": [
    "plot_wordcloud(tokens_to_show);"
   ]
  },
  {
   "cell_type": "markdown",
   "id": "b228631b",
   "metadata": {},
   "source": [
    "#### Per Year - 2015"
   ]
  },
  {
   "cell_type": "code",
   "execution_count": null,
   "id": "42eb6a37",
   "metadata": {},
   "outputs": [],
   "source": [
    "stop_words = ['seventieth']\n",
    "tokens_to_show = tf_idf_per_year.query('year == 2015').reset_index()\n",
    "tokens_to_show = tokens_to_show[~tokens_to_show.token.isin(stop_words)]"
   ]
  },
  {
   "cell_type": "code",
   "execution_count": null,
   "id": "53929f22",
   "metadata": {},
   "outputs": [],
   "source": [
    "ax = tokens_to_show.head(30).set_index('token')[['tf-idf']].plot(kind='barh', width=0.99)\n",
    "ax.set_title(\"TF-IDF of Uni-Grams - 2015\")\n",
    "ax.set_xlabel(\"TF-IDF\")\n",
    "ax.invert_yaxis();"
   ]
  },
  {
   "cell_type": "code",
   "execution_count": null,
   "id": "9443f923",
   "metadata": {},
   "outputs": [],
   "source": [
    "tokens_to_show = tokens_to_show[['token', 'tf-idf']].set_index('token')\n",
    "tokens_to_show = tokens_to_show.to_dict()['tf-idf']"
   ]
  },
  {
   "cell_type": "code",
   "execution_count": null,
   "id": "a767c4f3",
   "metadata": {},
   "outputs": [],
   "source": [
    "plot_wordcloud(tokens_to_show);"
   ]
  },
  {
   "cell_type": "markdown",
   "id": "d375ea2f",
   "metadata": {},
   "source": [
    "### Keywords in Context"
   ]
  },
  {
   "cell_type": "code",
   "execution_count": null,
   "id": "f7455ee7",
   "metadata": {},
   "outputs": [],
   "source": [
    "contexts = get_context_from_keyword(\n",
    "    documents=df[df['year'] == 2015]['text'],\n",
    "    window_width=50,\n",
    "    keyword='sdgs', random_seed=42\n",
    ")\n",
    "for x in contexts:\n",
    "    print(x)"
   ]
  },
  {
   "cell_type": "code",
   "execution_count": null,
   "id": "5f08a73c",
   "metadata": {},
   "outputs": [],
   "source": [
    "contexts = get_context_from_keyword(\n",
    "    documents=df[df['year'] == 2015]['text'],\n",
    "    window_width=50,\n",
    "    keyword='sids', random_seed=42\n",
    ")\n",
    "for x in contexts:\n",
    "    print(x)"
   ]
  },
  {
   "cell_type": "code",
   "execution_count": null,
   "id": "25b72862",
   "metadata": {},
   "outputs": [],
   "source": [
    "contexts = get_context_from_keyword(\n",
    "    documents=df[df['year'] == 2015]['text'],\n",
    "    window_width=50,\n",
    "    keyword='pv', random_seed=42\n",
    ")\n",
    "for x in contexts:\n",
    "    print(x)"
   ]
  },
  {
   "cell_type": "markdown",
   "id": "ca164c4e",
   "metadata": {},
   "source": [
    "---"
   ]
  },
  {
   "cell_type": "markdown",
   "id": "324e4ede",
   "metadata": {},
   "source": [
    "## Bi-Grams"
   ]
  },
  {
   "cell_type": "code",
   "execution_count": null,
   "id": "57f906af",
   "metadata": {},
   "outputs": [],
   "source": [
    "tf_idf_df = tf_idf(\n",
    "    df=df,\n",
    "    tokens_column='bi_grams',\n",
    "    segment_columns = None,\n",
    "    min_frequency_corpus=20,\n",
    "    min_frequency_document=20,\n",
    ")"
   ]
  },
  {
   "cell_type": "code",
   "execution_count": null,
   "id": "48101516",
   "metadata": {},
   "outputs": [],
   "source": [
    "ax = tf_idf_df.sort_values(by='frequency', ascending=False).head(30)[['frequency']].plot(kind='barh', width=0.99)\n",
    "ax.set_title(\"Frequency of Bi-Grams\")\n",
    "ax.set_xlabel(\"Frequency\")\n",
    "ax.invert_yaxis();"
   ]
  },
  {
   "cell_type": "code",
   "execution_count": null,
   "id": "ad7669c6",
   "metadata": {},
   "outputs": [],
   "source": [
    "ax = tf_idf_df.head(30)[['tf-idf']].plot(kind='barh', width=0.99)\n",
    "ax.set_title(\"TF-IDF of Bi-Grams\")\n",
    "ax.set_xlabel(\"TF-IDF\")\n",
    "ax.invert_yaxis();"
   ]
  },
  {
   "cell_type": "markdown",
   "id": "ef389b2a",
   "metadata": {},
   "source": [
    "#### By Year"
   ]
  },
  {
   "cell_type": "code",
   "execution_count": null,
   "id": "8622e207",
   "metadata": {},
   "outputs": [],
   "source": [
    "tf_idf_per_year = tf_idf(\n",
    "    df=df,\n",
    "    tokens_column='bi_grams',\n",
    "    segment_columns = 'year',\n",
    "    min_frequency_corpus=3,\n",
    "    min_frequency_document=3,\n",
    ")"
   ]
  },
  {
   "cell_type": "code",
   "execution_count": null,
   "id": "8b4f3a62",
   "metadata": {},
   "outputs": [],
   "source": [
    "stop_words = ['twenty-fifth anniversary', 'twenty-five years', 'twenty years', 'twenty fifth']\n",
    "tokens_to_show = tf_idf_per_year.query('year == 1970').reset_index()\n",
    "tokens_to_show = tokens_to_show[~tokens_to_show.token.isin(stop_words)]\n",
    "tokens_to_show = tokens_to_show[['token', 'tf-idf']].set_index('token')\n",
    "tokens_to_show = tokens_to_show.to_dict()['tf-idf']\n",
    "plot_wordcloud(tokens_to_show);"
   ]
  },
  {
   "cell_type": "code",
   "execution_count": null,
   "id": "0f903870",
   "metadata": {},
   "outputs": [],
   "source": [
    "stop_words = ['seventieth anniversary']\n",
    "tokens_to_show = tf_idf_per_year.query('year == 2015').reset_index()\n",
    "tokens_to_show = tokens_to_show[~tokens_to_show.token.isin(stop_words)]\n",
    "tokens_to_show = tokens_to_show[['token', 'tf-idf']].set_index('token')\n",
    "tokens_to_show = tokens_to_show.to_dict()['tf-idf']\n",
    "plot_wordcloud(tokens_to_show);"
   ]
  },
  {
   "cell_type": "code",
   "execution_count": null,
   "id": "77f45ed1",
   "metadata": {},
   "outputs": [],
   "source": [
    "stop_words = ['seventieth anniversary']\n",
    "#tokens_to_show = tf_idf_per_year.query('year == 2015').reset_index()\n",
    "tokens_to_show = tf_idf_per_year.reset_index()\n",
    "tokens_to_show = tokens_to_show[~tokens_to_show.token.isin(stop_words)]\n",
    "\n",
    "# filter for \"climate\"\n",
    "tokens_to_show = tokens_to_show[tokens_to_show['token'].str.contains('climate')]\n",
    "tokens_to_show"
   ]
  },
  {
   "cell_type": "code",
   "execution_count": null,
   "id": "a62befba",
   "metadata": {},
   "outputs": [],
   "source": [
    "tokens_to_show = tokens_to_show[['token', 'tf-idf']].set_index('token')\n",
    "tokens_to_show = tokens_to_show.to_dict()['tf-idf']\n",
    "plot_wordcloud(tokens_to_show);"
   ]
  },
  {
   "cell_type": "markdown",
   "id": "bf74886f",
   "metadata": {},
   "source": [
    "---"
   ]
  },
  {
   "cell_type": "markdown",
   "id": "1a0ae5d6",
   "metadata": {},
   "source": [
    "# Count Keywords Over Time"
   ]
  },
  {
   "cell_type": "code",
   "execution_count": null,
   "id": "8fabec15",
   "metadata": {},
   "outputs": [],
   "source": [
    "keyword_count_over_time = count_keywords_by(\n",
    "    df=df,\n",
    "    by='year',\n",
    "    tokens='tokens',\n",
    "    keywords = ['nuclear', 'terrorism', 'climate', 'freedom'],\n",
    ")\n",
    "keyword_count_over_time.head()"
   ]
  },
  {
   "cell_type": "code",
   "execution_count": null,
   "id": "e8bf1f7e",
   "metadata": {},
   "outputs": [],
   "source": [
    "ax = keyword_count_over_time.plot(kind='line')\n",
    "ax.set_title(\"Keyword count over time\")\n",
    "ax.set_ylabel(\"# of Occurrences\")"
   ]
  },
  {
   "cell_type": "code",
   "execution_count": null,
   "id": "cd42a6c6",
   "metadata": {},
   "outputs": [],
   "source": [
    "keyword_count_over_time = count_keywords_by(\n",
    "    df=df,\n",
    "    by='year',\n",
    "    tokens='bi_grams',\n",
    "    keywords = ['climate change', 'human rights', 'middle east'],\n",
    ")\n",
    "keyword_count_over_time.head()"
   ]
  },
  {
   "cell_type": "code",
   "execution_count": null,
   "id": "a6a1813c",
   "metadata": {},
   "outputs": [],
   "source": [
    "ax = keyword_count_over_time.plot(kind='line')\n",
    "ax.set_title(\"Keyword count over time\")\n",
    "ax.set_ylabel(\"# of Occurrences\")"
   ]
  },
  {
   "cell_type": "code",
   "execution_count": null,
   "id": "51ccb1ac",
   "metadata": {},
   "outputs": [],
   "source": [
    "contexts = get_context_from_keyword(\n",
    "    documents=df[df['year'] <= 1980]['text'],\n",
    "    window_width=50,\n",
    "    keyword='human rights', random_seed=42\n",
    ")\n",
    "for x in contexts:\n",
    "    print(x)"
   ]
  },
  {
   "cell_type": "markdown",
   "id": "6351d6f6",
   "metadata": {},
   "source": [
    "---"
   ]
  },
  {
   "cell_type": "code",
   "execution_count": null,
   "id": "a5e3e0b1",
   "metadata": {},
   "outputs": [],
   "source": [
    "keywords = [\n",
    "    'terrorism', 'terrorist', 'nuclear', 'war', 'oil',\n",
    "    'syria', 'syrian', 'refugees', 'migration', 'peacekeeping', \n",
    "    'humanitarian', 'climate', 'change', 'sustainable', 'sdgs'\n",
    "]\n",
    "\n",
    "freq_df = count_keywords_by(df, by='year', tokens='tokens', keywords=keywords)\n",
    "freq_df.head()"
   ]
  },
  {
   "cell_type": "code",
   "execution_count": null,
   "id": "991b320b",
   "metadata": {},
   "outputs": [],
   "source": [
    "df.groupby('year')['num_tokens'].sum().head()"
   ]
  },
  {
   "cell_type": "code",
   "execution_count": null,
   "id": "65ac1952",
   "metadata": {},
   "outputs": [],
   "source": [
    "# compute relative frequencies based on total number of tokens per year\n",
    "freq_df = freq_df.div(df.groupby('year')['num_tokens'].sum(), axis=0)\n",
    "# apply square root as sublinear filter for better contrast\n",
    "freq_df = freq_df.apply(np.sqrt)\n",
    "freq_df.head()"
   ]
  },
  {
   "cell_type": "code",
   "execution_count": null,
   "id": "578acab2",
   "metadata": {},
   "outputs": [],
   "source": [
    "plt.figure(figsize=(10, 3))\n",
    "sns.set(font_scale=1)\n",
    "sns.heatmap(\n",
    "    data=freq_df.T, \n",
    "    xticklabels=True, yticklabels=True, cbar=False, cmap=\"Reds\"\n",
    ")\n",
    "sns.set(font_scale=1);"
   ]
  },
  {
   "cell_type": "markdown",
   "id": "14a040ff",
   "metadata": {},
   "source": [
    "---"
   ]
  }
 ],
 "metadata": {
  "kernelspec": {
   "display_name": "Python 3 (ipykernel)",
   "language": "python",
   "name": "python3"
  },
  "language_info": {
   "codemirror_mode": {
    "name": "ipython",
    "version": 3
   },
   "file_extension": ".py",
   "mimetype": "text/x-python",
   "name": "python",
   "nbconvert_exporter": "python",
   "pygments_lexer": "ipython3",
   "version": "3.9.13"
  },
  "toc": {
   "base_numbering": 1,
   "nav_menu": {},
   "number_sections": false,
   "sideBar": true,
   "skip_h1_title": false,
   "title_cell": "Table of Contents",
   "title_sidebar": "Contents",
   "toc_cell": false,
   "toc_position": {
    "height": "calc(100% - 180px)",
    "left": "10px",
    "top": "150px",
    "width": "235px"
   },
   "toc_section_display": true,
   "toc_window_display": true
  }
 },
 "nbformat": 4,
 "nbformat_minor": 5
}
