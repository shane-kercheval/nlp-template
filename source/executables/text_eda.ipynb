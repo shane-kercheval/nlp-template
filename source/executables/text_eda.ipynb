{
 "cells": [
  {
   "cell_type": "markdown",
   "id": "564aa887",
   "metadata": {
    "pycharm": {
     "name": "#%% md\n"
    }
   },
   "source": [
    "This files creates the training and test datasets for all other notebooks and scripts to reuse. This is the file I would typically use for an exploratory analysis."
   ]
  },
  {
   "cell_type": "code",
   "execution_count": null,
   "id": "ec01c1ce",
   "metadata": {
    "pycharm": {
     "name": "#%%\n"
    }
   },
   "outputs": [],
   "source": [
    "%matplotlib inline\n",
    "\n",
    "import os\n",
    "from pathlib import Path\n",
    "import helpsk as hlp\n",
    "import numpy as np\n",
    "import pandas as pd\n",
    "\n",
    "from helpers.utilities import Timer, get_logger\n",
    "\n",
    "def get_project_directory():\n",
    "    return os.getcwd().replace('/source/executables', '')"
   ]
  },
  {
   "cell_type": "markdown",
   "id": "f055efe1",
   "metadata": {},
   "source": [
    "# Data"
   ]
  },
  {
   "cell_type": "code",
   "execution_count": null,
   "id": "624dedbc",
   "metadata": {},
   "outputs": [],
   "source": [
    "with Timer(\"Loading Data\"):\n",
    "    credit_data = pd.pandas.read_pickle(os.path.join('../..', 'artifacts/data/raw/credit.pkl'))"
   ]
  },
  {
   "cell_type": "code",
   "execution_count": null,
   "id": "ebea0c53",
   "metadata": {
    "pycharm": {
     "name": "#%%\n"
    }
   },
   "outputs": [],
   "source": [
    "hlp.pandas.numeric_summary(credit_data)"
   ]
  },
  {
   "cell_type": "code",
   "execution_count": null,
   "id": "81c892b0",
   "metadata": {
    "pycharm": {
     "name": "#%%\n"
    }
   },
   "outputs": [],
   "source": [
    "hlp.pandas.non_numeric_summary(credit_data)"
   ]
  },
  {
   "cell_type": "markdown",
   "id": "d298aa3c",
   "metadata": {},
   "source": [
    "# Training and Test Data"
   ]
  },
  {
   "cell_type": "code",
   "execution_count": null,
   "id": "445b1c83",
   "metadata": {},
   "outputs": [],
   "source": [
    "with Timer(\"Loading training/test datasets\"):\n",
    "    X_train = pd.pandas.read_pickle(os.path.join(get_project_directory(), 'artifacts/data/processed/X_train.pkl'))\n",
    "    X_test = pd.pandas.read_pickle(os.path.join(get_project_directory(), 'artifacts/data/processed/X_test.pkl'))\n",
    "    y_train = pd.pandas.read_pickle(os.path.join(get_project_directory(), 'artifacts/data/processed/y_train.pkl'))\n",
    "    y_test = pd.pandas.read_pickle(os.path.join(get_project_directory(), 'artifacts/data/processed/y_test.pkl'))"
   ]
  },
  {
   "cell_type": "code",
   "execution_count": null,
   "id": "6b662a42",
   "metadata": {
    "pycharm": {
     "name": "#%%\n"
    }
   },
   "outputs": [],
   "source": [
    "print(X_train.shape)\n",
    "print(len(y_train))\n",
    "\n",
    "print(X_test.shape)\n",
    "print(len(y_test))"
   ]
  },
  {
   "cell_type": "code",
   "execution_count": null,
   "id": "6be32fbf",
   "metadata": {
    "pycharm": {
     "name": "#%%\n"
    }
   },
   "outputs": [],
   "source": [
    "np.unique(y_train, return_counts=True)"
   ]
  },
  {
   "cell_type": "code",
   "execution_count": null,
   "id": "4ae98fe8",
   "metadata": {
    "pycharm": {
     "name": "#%%\n"
    }
   },
   "outputs": [],
   "source": [
    "np.unique(y_train, return_counts=True)[1] / np.sum(np.unique(y_train, return_counts=True)[1])"
   ]
  },
  {
   "cell_type": "code",
   "execution_count": null,
   "id": "49e4004b",
   "metadata": {
    "pycharm": {
     "name": "#%%\n"
    }
   },
   "outputs": [],
   "source": [
    "np.unique(y_test, return_counts=True)[1] / np.sum(np.unique(y_test, return_counts=True)[1])"
   ]
  },
  {
   "cell_type": "markdown",
   "id": "370bce04",
   "metadata": {
    "pycharm": {
     "name": "#%% md\n"
    }
   },
   "source": [
    "# Exploratory\n",
    "\n",
    "Typically I would do an exploratory analysis here."
   ]
  },
  {
   "cell_type": "code",
   "execution_count": null,
   "id": "c61b19cd",
   "metadata": {
    "pycharm": {
     "name": "#%%\n"
    }
   },
   "outputs": [],
   "source": [
    "X_train.head()"
   ]
  },
  {
   "cell_type": "code",
   "execution_count": null,
   "id": "236e129e",
   "metadata": {
    "pycharm": {
     "name": "#%%\n"
    }
   },
   "outputs": [],
   "source": [
    "y_train[0:10]"
   ]
  },
  {
   "cell_type": "code",
   "execution_count": null,
   "id": "d2a6241a",
   "metadata": {},
   "outputs": [],
   "source": [
    "hlp.pandas.numeric_summary(X_train)"
   ]
  }
 ],
 "metadata": {
  "kernelspec": {
   "display_name": "Python 3 (ipykernel)",
   "language": "python",
   "name": "python3"
  },
  "language_info": {
   "codemirror_mode": {
    "name": "ipython",
    "version": 3
   },
   "file_extension": ".py",
   "mimetype": "text/x-python",
   "name": "python",
   "nbconvert_exporter": "python",
   "pygments_lexer": "ipython3",
   "version": "3.9.10"
  },
  "toc": {
   "base_numbering": 1,
   "nav_menu": {},
   "number_sections": false,
   "sideBar": true,
   "skip_h1_title": false,
   "title_cell": "Table of Contents",
   "title_sidebar": "Contents",
   "toc_cell": false,
   "toc_position": {
    "height": "calc(100% - 180px)",
    "left": "10px",
    "top": "150px",
    "width": "298px"
   },
   "toc_section_display": true,
   "toc_window_display": true
  }
 },
 "nbformat": 4,
 "nbformat_minor": 5
}
