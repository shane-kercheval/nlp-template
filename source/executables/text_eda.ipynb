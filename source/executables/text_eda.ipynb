{
 "cells": [
  {
   "cell_type": "markdown",
   "id": "564aa887",
   "metadata": {
    "pycharm": {
     "name": "#%% md\n"
    }
   },
   "source": [
    "# Citation\n",
    "\n",
    "Much of the code and examples are copied/modified from \n",
    "\n",
    "> Blueprints for Text Analytics Using Python by Jens Albrecht, Sidharth Ramachandran, and Christian Winkler (O'Reilly, 2021), 978-1-492-07408-3.\n",
    ">\n",
    "\n",
    "- https://github.com/blueprints-for-text-analytics-python/blueprints-text\n",
    "- https://github.com/blueprints-for-text-analytics-python/blueprints-text/blob/master/ch01/First_Insights.ipynb"
   ]
  },
  {
   "cell_type": "markdown",
   "id": "2a967948",
   "metadata": {},
   "source": [
    "---"
   ]
  },
  {
   "cell_type": "markdown",
   "id": "35ae0c59",
   "metadata": {},
   "source": [
    "# Setup"
   ]
  },
  {
   "cell_type": "code",
   "execution_count": 1,
   "id": "ec01c1ce",
   "metadata": {
    "pycharm": {
     "name": "#%%\n"
    }
   },
   "outputs": [
    {
     "name": "stdout",
     "output_type": "stream",
     "text": [
      "/Users/shanekercheval/repos/nlp-template\n"
     ]
    }
   ],
   "source": [
    "%run \"../config/notebook_settings.py\"\n",
    "\n",
    "from helpers.utilities import Timer, get_logger\n",
    "from helpers.text_processing import count_tokens, tf_idf, get_context_from_keyword\n",
    "\n",
    "def get_project_directory():\n",
    "    return os.getcwd().replace('/source/executables', '')\n",
    "\n",
    "print(get_project_directory())"
   ]
  },
  {
   "cell_type": "code",
   "execution_count": 2,
   "id": "624dedbc",
   "metadata": {},
   "outputs": [
    {
     "name": "stdout",
     "output_type": "stream",
     "text": [
      "Started: Loading Data\n",
      "Finished (1.21 seconds)\n"
     ]
    }
   ],
   "source": [
    "with Timer(\"Loading Data\"):\n",
    "    path = os.path.join(get_project_directory(), 'artifacts/data/processed/un-general-debates-blueprint.pkl')\n",
    "    df = pd.read_pickle(path)"
   ]
  },
  {
   "cell_type": "markdown",
   "id": "71e4bfed",
   "metadata": {},
   "source": [
    "---"
   ]
  },
  {
   "cell_type": "markdown",
   "id": "f055efe1",
   "metadata": {},
   "source": [
    "# Exploratory Data Analysis\n",
    "\n",
    "This section provides a basic exploration of the text and dataset."
   ]
  },
  {
   "cell_type": "markdown",
   "id": "08db1a7f",
   "metadata": {},
   "source": [
    "## Dataset Summary"
   ]
  },
  {
   "cell_type": "code",
   "execution_count": 3,
   "id": "ebea0c53",
   "metadata": {
    "pycharm": {
     "name": "#%%\n"
    }
   },
   "outputs": [
    {
     "data": {
      "text/html": [
       "<style type=\"text/css\">\n",
       "#T_708c1_row0_col2, #T_708c1_row0_col4, #T_708c1_row1_col2, #T_708c1_row1_col4, #T_708c1_row2_col2, #T_708c1_row2_col4, #T_708c1_row3_col2, #T_708c1_row3_col4, #T_708c1_row4_col2, #T_708c1_row4_col4 {\n",
       "  width: 10em;\n",
       "}\n",
       "#T_708c1_row0_col7 {\n",
       "  width: 10em;\n",
       "  background: linear-gradient(90deg, #B4B7B9 26.0%, transparent 26.0%);\n",
       "}\n",
       "#T_708c1_row0_col8, #T_708c1_row1_col8 {\n",
       "  width: 10em;\n",
       "  background: linear-gradient(90deg, transparent 45.5%, #B4B7B9 45.5%, #B4B7B9 50.0%, transparent 50.0%);\n",
       "}\n",
       "#T_708c1_row1_col7 {\n",
       "  width: 10em;\n",
       "  background: linear-gradient(90deg, #B4B7B9 1.0%, transparent 1.0%);\n",
       "}\n",
       "#T_708c1_row2_col7 {\n",
       "  width: 10em;\n",
       "  background: linear-gradient(90deg, #B4B7B9 44.0%, transparent 44.0%);\n",
       "}\n",
       "#T_708c1_row2_col8 {\n",
       "  width: 10em;\n",
       "  background: linear-gradient(90deg, transparent 50.0%, #B4B7B9 50.0%, #B4B7B9 77.2%, transparent 77.2%);\n",
       "}\n",
       "#T_708c1_row3_col7 {\n",
       "  width: 10em;\n",
       "  background: linear-gradient(90deg, #B4B7B9 43.0%, transparent 43.0%);\n",
       "}\n",
       "#T_708c1_row3_col8 {\n",
       "  width: 10em;\n",
       "  background: linear-gradient(90deg, transparent 50.0%, #B4B7B9 50.0%, #B4B7B9 76.5%, transparent 76.5%);\n",
       "}\n",
       "#T_708c1_row4_col7 {\n",
       "  width: 10em;\n",
       "  background: linear-gradient(90deg, #B4B7B9 41.0%, transparent 41.0%);\n",
       "}\n",
       "#T_708c1_row4_col8 {\n",
       "  width: 10em;\n",
       "  background: linear-gradient(90deg, transparent 50.0%, #B4B7B9 50.0%, #B4B7B9 75.0%, transparent 75.0%);\n",
       "}\n",
       "</style>\n",
       "<table id=\"T_708c1\">\n",
       "  <thead>\n",
       "    <tr>\n",
       "      <th class=\"blank level0\" >&nbsp;</th>\n",
       "      <th id=\"T_708c1_level0_col0\" class=\"col_heading level0 col0\" ># of Non-Nulls</th>\n",
       "      <th id=\"T_708c1_level0_col1\" class=\"col_heading level0 col1\" ># of Nulls</th>\n",
       "      <th id=\"T_708c1_level0_col2\" class=\"col_heading level0 col2\" >% Nulls</th>\n",
       "      <th id=\"T_708c1_level0_col3\" class=\"col_heading level0 col3\" ># of Zeros</th>\n",
       "      <th id=\"T_708c1_level0_col4\" class=\"col_heading level0 col4\" >% Zeros</th>\n",
       "      <th id=\"T_708c1_level0_col5\" class=\"col_heading level0 col5\" >Mean</th>\n",
       "      <th id=\"T_708c1_level0_col6\" class=\"col_heading level0 col6\" >St Dev.</th>\n",
       "      <th id=\"T_708c1_level0_col7\" class=\"col_heading level0 col7\" >Coef of Var</th>\n",
       "      <th id=\"T_708c1_level0_col8\" class=\"col_heading level0 col8\" >Skewness</th>\n",
       "      <th id=\"T_708c1_level0_col9\" class=\"col_heading level0 col9\" >Kurtosis</th>\n",
       "      <th id=\"T_708c1_level0_col10\" class=\"col_heading level0 col10\" >Min</th>\n",
       "      <th id=\"T_708c1_level0_col11\" class=\"col_heading level0 col11\" >10%</th>\n",
       "      <th id=\"T_708c1_level0_col12\" class=\"col_heading level0 col12\" >25%</th>\n",
       "      <th id=\"T_708c1_level0_col13\" class=\"col_heading level0 col13\" >50%</th>\n",
       "      <th id=\"T_708c1_level0_col14\" class=\"col_heading level0 col14\" >75%</th>\n",
       "      <th id=\"T_708c1_level0_col15\" class=\"col_heading level0 col15\" >90%</th>\n",
       "      <th id=\"T_708c1_level0_col16\" class=\"col_heading level0 col16\" >Max</th>\n",
       "    </tr>\n",
       "  </thead>\n",
       "  <tbody>\n",
       "    <tr>\n",
       "      <th id=\"T_708c1_level0_row0\" class=\"row_heading level0 row0\" >session</th>\n",
       "      <td id=\"T_708c1_row0_col0\" class=\"data row0 col0\" >7,507</td>\n",
       "      <td id=\"T_708c1_row0_col1\" class=\"data row0 col1\" >0</td>\n",
       "      <td id=\"T_708c1_row0_col2\" class=\"data row0 col2\" >0.0%</td>\n",
       "      <td id=\"T_708c1_row0_col3\" class=\"data row0 col3\" >0</td>\n",
       "      <td id=\"T_708c1_row0_col4\" class=\"data row0 col4\" >0.0%</td>\n",
       "      <td id=\"T_708c1_row0_col5\" class=\"data row0 col5\" >49.6</td>\n",
       "      <td id=\"T_708c1_row0_col6\" class=\"data row0 col6\" >12.9</td>\n",
       "      <td id=\"T_708c1_row0_col7\" class=\"data row0 col7\" >0.3</td>\n",
       "      <td id=\"T_708c1_row0_col8\" class=\"data row0 col8\" >-0.2</td>\n",
       "      <td id=\"T_708c1_row0_col9\" class=\"data row0 col9\" >-1.1</td>\n",
       "      <td id=\"T_708c1_row0_col10\" class=\"data row0 col10\" >25</td>\n",
       "      <td id=\"T_708c1_row0_col11\" class=\"data row0 col11\" >31.0</td>\n",
       "      <td id=\"T_708c1_row0_col12\" class=\"data row0 col12\" >39.0</td>\n",
       "      <td id=\"T_708c1_row0_col13\" class=\"data row0 col13\" >51.0</td>\n",
       "      <td id=\"T_708c1_row0_col14\" class=\"data row0 col14\" >61.0</td>\n",
       "      <td id=\"T_708c1_row0_col15\" class=\"data row0 col15\" >67.0</td>\n",
       "      <td id=\"T_708c1_row0_col16\" class=\"data row0 col16\" >70</td>\n",
       "    </tr>\n",
       "    <tr>\n",
       "      <th id=\"T_708c1_level0_row1\" class=\"row_heading level0 row1\" >year</th>\n",
       "      <td id=\"T_708c1_row1_col0\" class=\"data row1 col0\" >7,507</td>\n",
       "      <td id=\"T_708c1_row1_col1\" class=\"data row1 col1\" >0</td>\n",
       "      <td id=\"T_708c1_row1_col2\" class=\"data row1 col2\" >0.0%</td>\n",
       "      <td id=\"T_708c1_row1_col3\" class=\"data row1 col3\" >0</td>\n",
       "      <td id=\"T_708c1_row1_col4\" class=\"data row1 col4\" >0.0%</td>\n",
       "      <td id=\"T_708c1_row1_col5\" class=\"data row1 col5\" >1,994.6</td>\n",
       "      <td id=\"T_708c1_row1_col6\" class=\"data row1 col6\" >12.9</td>\n",
       "      <td id=\"T_708c1_row1_col7\" class=\"data row1 col7\" >0.0</td>\n",
       "      <td id=\"T_708c1_row1_col8\" class=\"data row1 col8\" >-0.2</td>\n",
       "      <td id=\"T_708c1_row1_col9\" class=\"data row1 col9\" >-1.1</td>\n",
       "      <td id=\"T_708c1_row1_col10\" class=\"data row1 col10\" >1,970</td>\n",
       "      <td id=\"T_708c1_row1_col11\" class=\"data row1 col11\" >1,976.0</td>\n",
       "      <td id=\"T_708c1_row1_col12\" class=\"data row1 col12\" >1,984.0</td>\n",
       "      <td id=\"T_708c1_row1_col13\" class=\"data row1 col13\" >1,996.0</td>\n",
       "      <td id=\"T_708c1_row1_col14\" class=\"data row1 col14\" >2,006.0</td>\n",
       "      <td id=\"T_708c1_row1_col15\" class=\"data row1 col15\" >2,012.0</td>\n",
       "      <td id=\"T_708c1_row1_col16\" class=\"data row1 col16\" >2,015</td>\n",
       "    </tr>\n",
       "    <tr>\n",
       "      <th id=\"T_708c1_level0_row2\" class=\"row_heading level0 row2\" >text_length</th>\n",
       "      <td id=\"T_708c1_row2_col0\" class=\"data row2 col0\" >7,507</td>\n",
       "      <td id=\"T_708c1_row2_col1\" class=\"data row2 col1\" >0</td>\n",
       "      <td id=\"T_708c1_row2_col2\" class=\"data row2 col2\" >0.0%</td>\n",
       "      <td id=\"T_708c1_row2_col3\" class=\"data row2 col3\" >0</td>\n",
       "      <td id=\"T_708c1_row2_col4\" class=\"data row2 col4\" >0.0%</td>\n",
       "      <td id=\"T_708c1_row2_col5\" class=\"data row2 col5\" >17,967.3</td>\n",
       "      <td id=\"T_708c1_row2_col6\" class=\"data row2 col6\" >7,860.0</td>\n",
       "      <td id=\"T_708c1_row2_col7\" class=\"data row2 col7\" >0.4</td>\n",
       "      <td id=\"T_708c1_row2_col8\" class=\"data row2 col8\" >1.1</td>\n",
       "      <td id=\"T_708c1_row2_col9\" class=\"data row2 col9\" >1.8</td>\n",
       "      <td id=\"T_708c1_row2_col10\" class=\"data row2 col10\" >2,362</td>\n",
       "      <td id=\"T_708c1_row2_col11\" class=\"data row2 col11\" >9,553.8</td>\n",
       "      <td id=\"T_708c1_row2_col12\" class=\"data row2 col12\" >12,077.0</td>\n",
       "      <td id=\"T_708c1_row2_col13\" class=\"data row2 col13\" >16,424.0</td>\n",
       "      <td id=\"T_708c1_row2_col14\" class=\"data row2 col14\" >22,479.5</td>\n",
       "      <td id=\"T_708c1_row2_col15\" class=\"data row2 col15\" >28,658.2</td>\n",
       "      <td id=\"T_708c1_row2_col16\" class=\"data row2 col16\" >72,041</td>\n",
       "    </tr>\n",
       "    <tr>\n",
       "      <th id=\"T_708c1_level0_row3\" class=\"row_heading level0 row3\" >num_tokens</th>\n",
       "      <td id=\"T_708c1_row3_col0\" class=\"data row3 col0\" >7,507</td>\n",
       "      <td id=\"T_708c1_row3_col1\" class=\"data row3 col1\" >0</td>\n",
       "      <td id=\"T_708c1_row3_col2\" class=\"data row3 col2\" >0.0%</td>\n",
       "      <td id=\"T_708c1_row3_col3\" class=\"data row3 col3\" >0</td>\n",
       "      <td id=\"T_708c1_row3_col4\" class=\"data row3 col4\" >0.0%</td>\n",
       "      <td id=\"T_708c1_row3_col5\" class=\"data row3 col5\" >1,480.3</td>\n",
       "      <td id=\"T_708c1_row3_col6\" class=\"data row3 col6\" >635.2</td>\n",
       "      <td id=\"T_708c1_row3_col7\" class=\"data row3 col7\" >0.4</td>\n",
       "      <td id=\"T_708c1_row3_col8\" class=\"data row3 col8\" >1.1</td>\n",
       "      <td id=\"T_708c1_row3_col9\" class=\"data row3 col9\" >1.7</td>\n",
       "      <td id=\"T_708c1_row3_col10\" class=\"data row3 col10\" >187</td>\n",
       "      <td id=\"T_708c1_row3_col11\" class=\"data row3 col11\" >793.6</td>\n",
       "      <td id=\"T_708c1_row3_col12\" class=\"data row3 col12\" >1,005.5</td>\n",
       "      <td id=\"T_708c1_row3_col13\" class=\"data row3 col13\" >1,358.0</td>\n",
       "      <td id=\"T_708c1_row3_col14\" class=\"data row3 col14\" >1,848.0</td>\n",
       "      <td id=\"T_708c1_row3_col15\" class=\"data row3 col15\" >2,336.4</td>\n",
       "      <td id=\"T_708c1_row3_col16\" class=\"data row3 col16\" >5,688</td>\n",
       "    </tr>\n",
       "    <tr>\n",
       "      <th id=\"T_708c1_level0_row4\" class=\"row_heading level0 row4\" >num_bi_grams</th>\n",
       "      <td id=\"T_708c1_row4_col0\" class=\"data row4 col0\" >7,507</td>\n",
       "      <td id=\"T_708c1_row4_col1\" class=\"data row4 col1\" >0</td>\n",
       "      <td id=\"T_708c1_row4_col2\" class=\"data row4 col2\" >0.0%</td>\n",
       "      <td id=\"T_708c1_row4_col3\" class=\"data row4 col3\" >0</td>\n",
       "      <td id=\"T_708c1_row4_col4\" class=\"data row4 col4\" >0.0%</td>\n",
       "      <td id=\"T_708c1_row4_col5\" class=\"data row4 col5\" >588.5</td>\n",
       "      <td id=\"T_708c1_row4_col6\" class=\"data row4 col6\" >243.6</td>\n",
       "      <td id=\"T_708c1_row4_col7\" class=\"data row4 col7\" >0.4</td>\n",
       "      <td id=\"T_708c1_row4_col8\" class=\"data row4 col8\" >1.0</td>\n",
       "      <td id=\"T_708c1_row4_col9\" class=\"data row4 col9\" >1.6</td>\n",
       "      <td id=\"T_708c1_row4_col10\" class=\"data row4 col10\" >58</td>\n",
       "      <td id=\"T_708c1_row4_col11\" class=\"data row4 col11\" >321.0</td>\n",
       "      <td id=\"T_708c1_row4_col12\" class=\"data row4 col12\" >408.0</td>\n",
       "      <td id=\"T_708c1_row4_col13\" class=\"data row4 col13\" >544.0</td>\n",
       "      <td id=\"T_708c1_row4_col14\" class=\"data row4 col14\" >726.0</td>\n",
       "      <td id=\"T_708c1_row4_col15\" class=\"data row4 col15\" >912.0</td>\n",
       "      <td id=\"T_708c1_row4_col16\" class=\"data row4 col16\" >2,185</td>\n",
       "    </tr>\n",
       "  </tbody>\n",
       "</table>\n"
      ],
      "text/plain": [
       "<pandas.io.formats.style.Styler at 0x1055cba30>"
      ]
     },
     "execution_count": 3,
     "metadata": {},
     "output_type": "execute_result"
    }
   ],
   "source": [
    "hlp.pandas.numeric_summary(df)"
   ]
  },
  {
   "cell_type": "code",
   "execution_count": 4,
   "id": "81c892b0",
   "metadata": {
    "pycharm": {
     "name": "#%%\n"
    },
    "scrolled": false
   },
   "outputs": [
    {
     "data": {
      "text/html": [
       "<style type=\"text/css\">\n",
       "#T_74633_row0_col2, #T_74633_row1_col2, #T_74633_row2_col2, #T_74633_row3_col2, #T_74633_row4_col2, #T_74633_row5_col2, #T_74633_row6_col2 {\n",
       "  width: 10em;\n",
       "}\n",
       "#T_74633_row0_col5, #T_74633_row1_col5 {\n",
       "  width: 10em;\n",
       "  background: linear-gradient(90deg, #B4B7B9 2.7%, transparent 2.7%);\n",
       "}\n",
       "#T_74633_row2_col5 {\n",
       "  width: 10em;\n",
       "  background: linear-gradient(90deg, #B4B7B9 72.3%, transparent 72.3%);\n",
       "}\n",
       "#T_74633_row3_col5 {\n",
       "  width: 10em;\n",
       "  background: linear-gradient(90deg, #B4B7B9 1.5%, transparent 1.5%);\n",
       "}\n",
       "#T_74633_row4_col5, #T_74633_row5_col5, #T_74633_row6_col5 {\n",
       "  width: 10em;\n",
       "  background: linear-gradient(90deg, #B4B7B9 100.0%, transparent 100.0%);\n",
       "}\n",
       "</style>\n",
       "<table id=\"T_74633\">\n",
       "  <thead>\n",
       "    <tr>\n",
       "      <th class=\"blank level0\" >&nbsp;</th>\n",
       "      <th id=\"T_74633_level0_col0\" class=\"col_heading level0 col0\" ># of Non-Nulls</th>\n",
       "      <th id=\"T_74633_level0_col1\" class=\"col_heading level0 col1\" ># of Nulls</th>\n",
       "      <th id=\"T_74633_level0_col2\" class=\"col_heading level0 col2\" >% Nulls</th>\n",
       "      <th id=\"T_74633_level0_col3\" class=\"col_heading level0 col3\" >Most Freq. Value</th>\n",
       "      <th id=\"T_74633_level0_col4\" class=\"col_heading level0 col4\" ># of Unique</th>\n",
       "      <th id=\"T_74633_level0_col5\" class=\"col_heading level0 col5\" >% Unique</th>\n",
       "    </tr>\n",
       "  </thead>\n",
       "  <tbody>\n",
       "    <tr>\n",
       "      <th id=\"T_74633_level0_row0\" class=\"row_heading level0 row0\" >country</th>\n",
       "      <td id=\"T_74633_row0_col0\" class=\"data row0 col0\" >7,507</td>\n",
       "      <td id=\"T_74633_row0_col1\" class=\"data row0 col1\" >0</td>\n",
       "      <td id=\"T_74633_row0_col2\" class=\"data row0 col2\" >0.0%</td>\n",
       "      <td id=\"T_74633_row0_col3\" class=\"data row0 col3\" >ALB</td>\n",
       "      <td id=\"T_74633_row0_col4\" class=\"data row0 col4\" >199</td>\n",
       "      <td id=\"T_74633_row0_col5\" class=\"data row0 col5\" >2.7%</td>\n",
       "    </tr>\n",
       "    <tr>\n",
       "      <th id=\"T_74633_level0_row1\" class=\"row_heading level0 row1\" >country_name</th>\n",
       "      <td id=\"T_74633_row1_col0\" class=\"data row1 col0\" >7,507</td>\n",
       "      <td id=\"T_74633_row1_col1\" class=\"data row1 col1\" >0</td>\n",
       "      <td id=\"T_74633_row1_col2\" class=\"data row1 col2\" >0.0%</td>\n",
       "      <td id=\"T_74633_row1_col3\" class=\"data row1 col3\" >Albania</td>\n",
       "      <td id=\"T_74633_row1_col4\" class=\"data row1 col4\" >199</td>\n",
       "      <td id=\"T_74633_row1_col5\" class=\"data row1 col5\" >2.7%</td>\n",
       "    </tr>\n",
       "    <tr>\n",
       "      <th id=\"T_74633_level0_row2\" class=\"row_heading level0 row2\" >speaker</th>\n",
       "      <td id=\"T_74633_row2_col0\" class=\"data row2 col0\" >7,507</td>\n",
       "      <td id=\"T_74633_row2_col1\" class=\"data row2 col1\" >0</td>\n",
       "      <td id=\"T_74633_row2_col2\" class=\"data row2 col2\" >0.0%</td>\n",
       "      <td id=\"T_74633_row2_col3\" class=\"data row2 col3\" >&lt;unknown&gt;</td>\n",
       "      <td id=\"T_74633_row2_col4\" class=\"data row2 col4\" >5,429</td>\n",
       "      <td id=\"T_74633_row2_col5\" class=\"data row2 col5\" >72.3%</td>\n",
       "    </tr>\n",
       "    <tr>\n",
       "      <th id=\"T_74633_level0_row3\" class=\"row_heading level0 row3\" >position</th>\n",
       "      <td id=\"T_74633_row3_col0\" class=\"data row3 col0\" >7,507</td>\n",
       "      <td id=\"T_74633_row3_col1\" class=\"data row3 col1\" >0</td>\n",
       "      <td id=\"T_74633_row3_col2\" class=\"data row3 col2\" >0.0%</td>\n",
       "      <td id=\"T_74633_row3_col3\" class=\"data row3 col3\" >&lt;unknown&gt;</td>\n",
       "      <td id=\"T_74633_row3_col4\" class=\"data row3 col4\" >114</td>\n",
       "      <td id=\"T_74633_row3_col5\" class=\"data row3 col5\" >1.5%</td>\n",
       "    </tr>\n",
       "    <tr>\n",
       "      <th id=\"T_74633_level0_row4\" class=\"row_heading level0 row4\" >text</th>\n",
       "      <td id=\"T_74633_row4_col0\" class=\"data row4 col0\" >7,507</td>\n",
       "      <td id=\"T_74633_row4_col1\" class=\"data row4 col1\" >0</td>\n",
       "      <td id=\"T_74633_row4_col2\" class=\"data row4 col2\" >0.0%</td>\n",
       "      <td id=\"T_74633_row4_col3\" class=\"data row4 col3\" >33: May I first convey to our [...]</td>\n",
       "      <td id=\"T_74633_row4_col4\" class=\"data row4 col4\" >7,507</td>\n",
       "      <td id=\"T_74633_row4_col5\" class=\"data row4 col5\" >100.0%</td>\n",
       "    </tr>\n",
       "    <tr>\n",
       "      <th id=\"T_74633_level0_row5\" class=\"row_heading level0 row5\" >tokens</th>\n",
       "      <td id=\"T_74633_row5_col0\" class=\"data row5 col0\" >7,507</td>\n",
       "      <td id=\"T_74633_row5_col1\" class=\"data row5 col1\" >0</td>\n",
       "      <td id=\"T_74633_row5_col2\" class=\"data row5 col2\" >0.0%</td>\n",
       "      <td id=\"T_74633_row5_col3\" class=\"data row5 col3\" >[&#x27;may&#x27;, &#x27;first&#x27;, &#x27;convey&#x27;, &#x27;pr[...]</td>\n",
       "      <td id=\"T_74633_row5_col4\" class=\"data row5 col4\" >7,507</td>\n",
       "      <td id=\"T_74633_row5_col5\" class=\"data row5 col5\" >100.0%</td>\n",
       "    </tr>\n",
       "    <tr>\n",
       "      <th id=\"T_74633_level0_row6\" class=\"row_heading level0 row6\" >bi_grams</th>\n",
       "      <td id=\"T_74633_row6_col0\" class=\"data row6 col0\" >7,507</td>\n",
       "      <td id=\"T_74633_row6_col1\" class=\"data row6 col1\" >0</td>\n",
       "      <td id=\"T_74633_row6_col2\" class=\"data row6 col2\" >0.0%</td>\n",
       "      <td id=\"T_74633_row6_col3\" class=\"data row6 col3\" >[&#x27;first convey&#x27;, &#x27;albanian del[...]</td>\n",
       "      <td id=\"T_74633_row6_col4\" class=\"data row6 col4\" >7,507</td>\n",
       "      <td id=\"T_74633_row6_col5\" class=\"data row6 col5\" >100.0%</td>\n",
       "    </tr>\n",
       "  </tbody>\n",
       "</table>\n"
      ],
      "text/plain": [
       "<pandas.io.formats.style.Styler at 0x1055fba60>"
      ]
     },
     "execution_count": 4,
     "metadata": {},
     "output_type": "execute_result"
    }
   ],
   "source": [
    "hlp.pandas.non_numeric_summary(df)"
   ]
  },
  {
   "cell_type": "markdown",
   "id": "a6c9fe64",
   "metadata": {},
   "source": [
    "---"
   ]
  },
  {
   "cell_type": "code",
   "execution_count": 8,
   "id": "cf5332ff",
   "metadata": {},
   "outputs": [
    {
     "data": {
      "text/plain": [
       "'33: May I first convey to our President the congratulations of the Albanian delegation on his election to the Presidency of the twenty-fifth session of the General Assembly?\\n34.\\tIn taking up the work on the agenda of the twenty- fifth session of the General Assembly, which is being held on the eve of the twenty-fifth anniversary of the coming into force of the Charter of the United Nations, the peace-loving Member States would have wished to be in a position to present on this occasion some picture of positive and satisfactory activity on the part of the United Nations. The Albanian delegation, for its part, would have taken great pleasure in drawing up such a balance sheet of activities covering a quarter of a century, which is certainly no short period in the life of an international organization. Unfortunately, this is not the situation. Created on the day after victory had been achieved over the Powers of the Rome BerlinTokyo Axis and conceived in the spirit of the principles which'"
      ]
     },
     "execution_count": 8,
     "metadata": {},
     "output_type": "execute_result"
    }
   ],
   "source": [
    "df['text'].iloc[0][0:1000]"
   ]
  },
  {
   "cell_type": "code",
   "execution_count": 14,
   "id": "95f2edf4",
   "metadata": {},
   "outputs": [
    {
     "data": {
      "text/plain": [
       "'may|first|convey|president|congratulations|albanian|delegation|election|presidency|twenty-fifth|session|general|assembly|taking|work|agenda|twenty-|fifth|session|general|assembly|held|eve|twenty-fifth|anniversary|coming|force|charter|united|nations|peace-loving|member|states|would|wished|position|present|occasion|picture|positive|satisfactory|activity|part|united|nations|albanian|delegation|part|would|taken|great|pleasure|drawing|balance|sheet|activities|covering|quarter|century|certainly|short|period|life|international|organization|unfortunately|situation|created|day|victory|achieved|powers|rome|berlintokyo|axis|conceived|spirit|principles|predominated|war|antifascist|coalition|organization|awakened|whole|progressive|humanity|hope|would|serve|important|factor|creating|better|international|conditions|order|favor|cause|freedom|peace|world|security|activities|number|events|occurred|world|arena|period|disappointed|hopes|peoples|united|nations|far|contributed|required|fundamental|provision'"
      ]
     },
     "execution_count": 14,
     "metadata": {},
     "output_type": "execute_result"
    }
   ],
   "source": [
    "'|'.join(df['tokens'].iloc[0])[0:1000]"
   ]
  },
  {
   "cell_type": "code",
   "execution_count": 12,
   "id": "654d82d8",
   "metadata": {},
   "outputs": [
    {
     "data": {
      "text/plain": [
       "'first convey|albanian delegation|twenty-fifth session|general assembly|twenty- fifth|fifth session|general assembly|twenty-fifth anniversary|united nations|peace-loving member|member states|states would|satisfactory activity|united nations|albanian delegation|part would|taken great|great pleasure|balance sheet|activities covering|short period|international organization|organization unfortunately|situation created|rome berlintokyo|berlintokyo axis|antifascist coalition|organization awakened|progressive humanity|would serve|important factor|creating better|better international|international conditions|freedom peace|world security|world arena|period disappointed|united nations|nations far|fundamental provisions|international peace|liberation struggle|imperialist powers|united states|america foremost|foremost among|path diametrically|diametrically opposed|instrument favoring|pillage oppression|peace-loving peoples|united nations|committing aggression|many parts|frequently helped|direction '"
      ]
     },
     "execution_count": 12,
     "metadata": {},
     "output_type": "execute_result"
    }
   ],
   "source": [
    "'|'.join(df['bi_grams'].iloc[0])[0:1000]"
   ]
  },
  {
   "cell_type": "markdown",
   "id": "3042cf6f",
   "metadata": {},
   "source": [
    "## Explore Non-Text Columns"
   ]
  },
  {
   "cell_type": "markdown",
   "id": "bfea5123",
   "metadata": {},
   "source": [
    "Explore idiosyncrasies of various columns, e.g. same speaker represented multiple ways."
   ]
  },
  {
   "cell_type": "code",
   "execution_count": null,
   "id": "1a5cd8ba",
   "metadata": {},
   "outputs": [],
   "source": [
    "df[df['speaker'].str.contains('Bush')]['speaker'].value_counts()"
   ]
  },
  {
   "cell_type": "markdown",
   "id": "39806fcc",
   "metadata": {},
   "source": [
    "---"
   ]
  },
  {
   "cell_type": "markdown",
   "id": "59ddcf01",
   "metadata": {},
   "source": [
    "## Explore Text Column|"
   ]
  },
  {
   "cell_type": "markdown",
   "id": "ad589f46",
   "metadata": {},
   "source": [
    "### Top Words Used"
   ]
  },
  {
   "cell_type": "code",
   "execution_count": null,
   "id": "98cc2235",
   "metadata": {},
   "outputs": [],
   "source": [
    "count_tokens(df['tokens']).head(20)"
   ]
  },
  {
   "cell_type": "markdown",
   "id": "79304967",
   "metadata": {},
   "source": [
    "---"
   ]
  },
  {
   "cell_type": "markdown",
   "id": "470c14d1",
   "metadata": {},
   "source": [
    "### Distribution of Text Length"
   ]
  },
  {
   "cell_type": "code",
   "execution_count": null,
   "id": "0951cab8",
   "metadata": {},
   "outputs": [],
   "source": [
    "ax = df['text_length'].plot(kind='box', vert=False, figsize=(10, 1))\n",
    "ax.set_title(\"Distribution of Text Length\")\n",
    "ax.set_xlabel(\"# of Characters\")\n",
    "ax.set_yticklabels([])\n",
    "ax;"
   ]
  },
  {
   "cell_type": "code",
   "execution_count": null,
   "id": "fbdf39cd",
   "metadata": {},
   "outputs": [],
   "source": [
    "ax = df['text_length'].plot(kind='hist', bins=60, figsize=(10, 2));\n",
    "ax.set_title(\"Distribution of Text Length\")\n",
    "ax.set_xlabel(\"# of Characters\")\n",
    "ax;"
   ]
  },
  {
   "cell_type": "code",
   "execution_count": null,
   "id": "174ccd0c",
   "metadata": {},
   "outputs": [],
   "source": [
    "import seaborn as sns\n",
    "sns.displot(df['text_length'], bins=60, kde=True, height=3, aspect=3);"
   ]
  },
  {
   "cell_type": "code",
   "execution_count": null,
   "id": "01f92ecf",
   "metadata": {},
   "outputs": [],
   "source": [
    "where = df['country'].isin(['USA', 'FRA', 'GBR', 'CHN', 'RUS'])\n",
    "g = sns.catplot(data=df[where], x=\"country\", y=\"text_length\", kind='box')\n",
    "g.fig.set_size_inches(6, 3)\n",
    "g.fig.set_dpi(100)\n",
    "g = sns.catplot(data=df[where], x=\"country\", y=\"text_length\", kind='violin')\n",
    "g.fig.set_size_inches(6, 3)\n",
    "g.fig.set_dpi(100)"
   ]
  },
  {
   "cell_type": "code",
   "execution_count": null,
   "id": "a2060791",
   "metadata": {},
   "outputs": [],
   "source": [
    "assert not df[['year', 'country']].duplicated().any()\n",
    "df.groupby('year').size().plot(title=\"Number of Countries\");"
   ]
  },
  {
   "cell_type": "code",
   "execution_count": null,
   "id": "063a74b8",
   "metadata": {},
   "outputs": [],
   "source": [
    "df.groupby('year').agg({'text_length': 'mean'}) \\\n",
    "  .plot(title=\"Avg. Speech Length\", ylim=(0,30000));"
   ]
  },
  {
   "cell_type": "markdown",
   "id": "115e8fee",
   "metadata": {},
   "source": [
    "### Word Frequency"
   ]
  },
  {
   "cell_type": "code",
   "execution_count": null,
   "id": "9da159b0",
   "metadata": {},
   "outputs": [],
   "source": [
    "counts_df = count_tokens(df['tokens'])"
   ]
  },
  {
   "cell_type": "code",
   "execution_count": null,
   "id": "15d4b96e",
   "metadata": {},
   "outputs": [],
   "source": [
    "counts_df.head()"
   ]
  },
  {
   "cell_type": "code",
   "execution_count": null,
   "id": "ff9c2fc8",
   "metadata": {},
   "outputs": [],
   "source": [
    "def plot_wordcloud(frequency_dict):\n",
    "    wc = wordcloud.WordCloud(background_color='white',\n",
    "        #colormap='RdYlGn',\n",
    "        colormap='tab20b',\n",
    "        width=round(hlp.plot.STANDARD_WIDTH*100),\n",
    "        height=round(hlp.plot.STANDARD_HEIGHT*100),\n",
    "        max_words = 200, max_font_size=150,\n",
    "        random_state=42\n",
    "    )\n",
    "    wc.generate_from_frequencies(frequency_dict)\n",
    "\n",
    "    fig, ax = plt.subplots(figsize=(hlp.plot.STANDARD_WIDTH, hlp.plot.STANDARD_HEIGHT))\n",
    "    ax.imshow(wc, interpolation='bilinear')\n",
    "    #plt.title(\"XXX\")\n",
    "    plt.axis('off')"
   ]
  },
  {
   "cell_type": "code",
   "execution_count": null,
   "id": "8f9d6d2f",
   "metadata": {},
   "outputs": [],
   "source": [
    "plot_wordcloud(counts_df.to_dict()['frequency']);"
   ]
  },
  {
   "cell_type": "markdown",
   "id": "d94f32c1",
   "metadata": {},
   "source": [
    "### TF-IDF"
   ]
  },
  {
   "cell_type": "code",
   "execution_count": null,
   "id": "cb36ef18",
   "metadata": {},
   "outputs": [],
   "source": [
    "tf_idf_df = tf_idf(\n",
    "    df=df,\n",
    "    tokens_column='tokens',\n",
    "    segment_columns = None,\n",
    "    min_frequency_corpus=20,\n",
    "    min_frequency_document=20,\n",
    ")"
   ]
  },
  {
   "cell_type": "code",
   "execution_count": null,
   "id": "828e7896",
   "metadata": {},
   "outputs": [],
   "source": [
    "ax = tf_idf_df.head(30)[['tf-idf']].plot(kind='barh', width=0.99)\n",
    "ax.invert_yaxis();"
   ]
  },
  {
   "cell_type": "code",
   "execution_count": null,
   "id": "de9a5a92",
   "metadata": {},
   "outputs": [],
   "source": [
    "plot_wordcloud(tf_idf_df.to_dict()['tf-idf']);"
   ]
  },
  {
   "cell_type": "markdown",
   "id": "1b1f7aa0",
   "metadata": {},
   "source": [
    "#### Per Year - 1970"
   ]
  },
  {
   "cell_type": "code",
   "execution_count": null,
   "id": "7d6e0ed0",
   "metadata": {},
   "outputs": [],
   "source": [
    "tf_idf_per_year = tf_idf(\n",
    "    df=df,\n",
    "    tokens_column='tokens',\n",
    "    segment_columns = 'year',\n",
    "    min_frequency_corpus=10,\n",
    "    min_frequency_document=10,\n",
    ")"
   ]
  },
  {
   "cell_type": "code",
   "execution_count": null,
   "id": "71939566",
   "metadata": {},
   "outputs": [],
   "source": [
    "stop_words = ['twenty-fifth', 'twenty-five', 'twenty', 'fifth']\n",
    "tokens_to_show = tf_idf_per_year.query('year == 1970').reset_index()\n",
    "tokens_to_show = tokens_to_show[~tokens_to_show.token.isin(stop_words)]"
   ]
  },
  {
   "cell_type": "code",
   "execution_count": null,
   "id": "4861110b",
   "metadata": {},
   "outputs": [],
   "source": [
    "ax = tokens_to_show.head(30).set_index('token')[['tf-idf']].plot(kind='barh', width=0.99)\n",
    "ax.invert_yaxis();"
   ]
  },
  {
   "cell_type": "code",
   "execution_count": null,
   "id": "4b9b4f3d",
   "metadata": {},
   "outputs": [],
   "source": [
    "tokens_to_show = tokens_to_show[['token', 'tf-idf']].set_index('token')\n",
    "tokens_to_show = tokens_to_show.to_dict()['tf-idf']"
   ]
  },
  {
   "cell_type": "code",
   "execution_count": null,
   "id": "171517f6",
   "metadata": {},
   "outputs": [],
   "source": [
    "plot_wordcloud(tokens_to_show);"
   ]
  },
  {
   "cell_type": "markdown",
   "id": "b228631b",
   "metadata": {},
   "source": [
    "#### Per Year - 2015"
   ]
  },
  {
   "cell_type": "code",
   "execution_count": null,
   "id": "42eb6a37",
   "metadata": {},
   "outputs": [],
   "source": [
    "stop_words = ['seventieth']\n",
    "tokens_to_show = tf_idf_per_year.query('year == 2015').reset_index()\n",
    "tokens_to_show = tokens_to_show[~tokens_to_show.token.isin(stop_words)]"
   ]
  },
  {
   "cell_type": "code",
   "execution_count": null,
   "id": "53929f22",
   "metadata": {},
   "outputs": [],
   "source": [
    "ax = tokens_to_show.head(30).set_index('token')[['tf-idf']].plot(kind='barh', width=0.99)\n",
    "ax.invert_yaxis();"
   ]
  },
  {
   "cell_type": "code",
   "execution_count": null,
   "id": "9443f923",
   "metadata": {},
   "outputs": [],
   "source": [
    "tokens_to_show = tokens_to_show[['token', 'tf-idf']].set_index('token')\n",
    "tokens_to_show = tokens_to_show.to_dict()['tf-idf']"
   ]
  },
  {
   "cell_type": "code",
   "execution_count": null,
   "id": "a767c4f3",
   "metadata": {},
   "outputs": [],
   "source": [
    "plot_wordcloud(tokens_to_show);"
   ]
  },
  {
   "cell_type": "markdown",
   "id": "d375ea2f",
   "metadata": {},
   "source": [
    "### Keywords in Context"
   ]
  },
  {
   "cell_type": "code",
   "execution_count": null,
   "id": "f7455ee7",
   "metadata": {},
   "outputs": [],
   "source": [
    "contexts = get_context_from_keyword(\n",
    "    documents=df[df['year'] == 2015]['text'],\n",
    "    window_width=50,\n",
    "    keyword='sdgs', random_seed=42\n",
    ")\n",
    "for x in contexts:\n",
    "    print(x)"
   ]
  },
  {
   "cell_type": "code",
   "execution_count": null,
   "id": "30ea9961",
   "metadata": {},
   "outputs": [],
   "source": [
    "contexts = get_context_from_keyword(\n",
    "    documents=df[df['year'] == 2015]['text'],\n",
    "    window_width=50,\n",
    "    keyword='sids', random_seed=42\n",
    ")\n",
    "for x in contexts:\n",
    "    print(x)"
   ]
  },
  {
   "cell_type": "code",
   "execution_count": null,
   "id": "74847c5b",
   "metadata": {},
   "outputs": [],
   "source": [
    "contexts = get_context_from_keyword(\n",
    "    documents=df[df['year'] == 2015]['text'],\n",
    "    window_width=50,\n",
    "    keyword='pv', random_seed=42\n",
    ")\n",
    "for x in contexts:\n",
    "    print(x)"
   ]
  },
  {
   "cell_type": "markdown",
   "id": "8d190fb5",
   "metadata": {},
   "source": [
    "---"
   ]
  },
  {
   "cell_type": "code",
   "execution_count": null,
   "id": "4b3bf21e",
   "metadata": {},
   "outputs": [],
   "source": []
  },
  {
   "cell_type": "code",
   "execution_count": null,
   "id": "d9e2f4e1",
   "metadata": {},
   "outputs": [],
   "source": []
  },
  {
   "cell_type": "code",
   "execution_count": null,
   "id": "7492bdc0",
   "metadata": {},
   "outputs": [],
   "source": []
  },
  {
   "cell_type": "code",
   "execution_count": null,
   "id": "403c01c6",
   "metadata": {},
   "outputs": [],
   "source": []
  },
  {
   "cell_type": "code",
   "execution_count": null,
   "id": "3a38c433",
   "metadata": {},
   "outputs": [],
   "source": []
  },
  {
   "cell_type": "code",
   "execution_count": null,
   "id": "72042448",
   "metadata": {},
   "outputs": [],
   "source": []
  },
  {
   "cell_type": "code",
   "execution_count": null,
   "id": "8bef733f",
   "metadata": {},
   "outputs": [],
   "source": []
  },
  {
   "cell_type": "code",
   "execution_count": null,
   "id": "1f650d3d",
   "metadata": {},
   "outputs": [],
   "source": []
  },
  {
   "cell_type": "code",
   "execution_count": null,
   "id": "34c3924b",
   "metadata": {},
   "outputs": [],
   "source": []
  },
  {
   "cell_type": "code",
   "execution_count": null,
   "id": "699550dc",
   "metadata": {},
   "outputs": [],
   "source": []
  },
  {
   "cell_type": "code",
   "execution_count": null,
   "id": "d249e12f",
   "metadata": {},
   "outputs": [],
   "source": []
  },
  {
   "cell_type": "code",
   "execution_count": null,
   "id": "13a74a16",
   "metadata": {},
   "outputs": [],
   "source": []
  },
  {
   "cell_type": "code",
   "execution_count": null,
   "id": "304c4147",
   "metadata": {},
   "outputs": [],
   "source": []
  },
  {
   "cell_type": "code",
   "execution_count": null,
   "id": "8f063a96",
   "metadata": {},
   "outputs": [],
   "source": []
  },
  {
   "cell_type": "code",
   "execution_count": null,
   "id": "40307605",
   "metadata": {},
   "outputs": [],
   "source": []
  },
  {
   "cell_type": "code",
   "execution_count": null,
   "id": "6c5907cc",
   "metadata": {},
   "outputs": [],
   "source": []
  }
 ],
 "metadata": {
  "kernelspec": {
   "display_name": "Python 3 (ipykernel)",
   "language": "python",
   "name": "python3"
  },
  "language_info": {
   "codemirror_mode": {
    "name": "ipython",
    "version": 3
   },
   "file_extension": ".py",
   "mimetype": "text/x-python",
   "name": "python",
   "nbconvert_exporter": "python",
   "pygments_lexer": "ipython3",
   "version": "3.9.10"
  },
  "toc": {
   "base_numbering": 1,
   "nav_menu": {},
   "number_sections": false,
   "sideBar": true,
   "skip_h1_title": false,
   "title_cell": "Table of Contents",
   "title_sidebar": "Contents",
   "toc_cell": false,
   "toc_position": {
    "height": "calc(100% - 180px)",
    "left": "10px",
    "top": "150px",
    "width": "235px"
   },
   "toc_section_display": true,
   "toc_window_display": true
  }
 },
 "nbformat": 4,
 "nbformat_minor": 5
}
