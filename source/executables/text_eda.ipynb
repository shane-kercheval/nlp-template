{
 "cells": [
  {
   "cell_type": "markdown",
   "id": "564aa887",
   "metadata": {
    "pycharm": {
     "name": "#%% md\n"
    }
   },
   "source": [
    "# Citation\n",
    "\n",
    "Much of the code and examples are copied/modified from \n",
    "\n",
    "> Blueprints for Text Analytics Using Python by Jens Albrecht, Sidharth Ramachandran, and Christian Winkler (O'Reilly, 2021), 978-1-492-07408-3.\n",
    ">\n",
    "\n",
    "- https://github.com/blueprints-for-text-analytics-python/blueprints-text\n",
    "- https://github.com/blueprints-for-text-analytics-python/blueprints-text/blob/master/ch01/First_Insights.ipynb"
   ]
  },
  {
   "cell_type": "markdown",
   "id": "2a967948",
   "metadata": {},
   "source": [
    "---"
   ]
  },
  {
   "cell_type": "markdown",
   "id": "35ae0c59",
   "metadata": {},
   "source": [
    "# Setup"
   ]
  },
  {
   "cell_type": "code",
   "execution_count": 46,
   "id": "ec01c1ce",
   "metadata": {
    "pycharm": {
     "name": "#%%\n"
    }
   },
   "outputs": [
    {
     "name": "stdout",
     "output_type": "stream",
     "text": [
      "/Users/shanekercheval/repos/nlp-template\n"
     ]
    }
   ],
   "source": [
    "%matplotlib inline\n",
    "\n",
    "import os\n",
    "from pathlib import Path\n",
    "import helpsk as hlp\n",
    "import numpy as np\n",
    "import pandas as pd\n",
    "from matplotlib import pyplot as plt\n",
    "\n",
    "from helpers.utilities import Timer, get_logger\n",
    "from helpers.text_processing import count_tokens\n",
    "\n",
    "def get_project_directory():\n",
    "    return os.getcwd().replace('/source/executables', '')\n",
    "\n",
    "standard_fig_size = (hlp.plot.STANDARD_WIDTH, hlp.plot.STANDARD_HEIGHT)\n",
    "\n",
    "print(get_project_directory())"
   ]
  },
  {
   "cell_type": "markdown",
   "id": "71e4bfed",
   "metadata": {},
   "source": [
    "---"
   ]
  },
  {
   "cell_type": "markdown",
   "id": "f055efe1",
   "metadata": {},
   "source": [
    "# Exploratory Data Analysis\n",
    "\n",
    "This section provides a basic exploration of the text and dataset."
   ]
  },
  {
   "cell_type": "code",
   "execution_count": 2,
   "id": "624dedbc",
   "metadata": {},
   "outputs": [
    {
     "name": "stdout",
     "output_type": "stream",
     "text": [
      "Started: Loading Data\n",
      "Finished (0.80 seconds)\n"
     ]
    }
   ],
   "source": [
    "with Timer(\"Loading Data\"):\n",
    "    path = os.path.join(get_project_directory(), 'artifacts/data/processed/un-general-debates-blueprint.pkl')\n",
    "    df = pd.read_pickle(path)"
   ]
  },
  {
   "cell_type": "markdown",
   "id": "985e2fad",
   "metadata": {},
   "source": [
    "---"
   ]
  },
  {
   "cell_type": "code",
   "execution_count": 4,
   "id": "ebea0c53",
   "metadata": {
    "pycharm": {
     "name": "#%%\n"
    }
   },
   "outputs": [
    {
     "data": {
      "text/html": [
       "<style type=\"text/css\">\n",
       "#T_a013e_row0_col2, #T_a013e_row0_col4, #T_a013e_row1_col2, #T_a013e_row1_col4, #T_a013e_row2_col2, #T_a013e_row2_col4, #T_a013e_row3_col2, #T_a013e_row3_col4 {\n",
       "  width: 10em;\n",
       "}\n",
       "#T_a013e_row0_col7 {\n",
       "  width: 10em;\n",
       "  background: linear-gradient(90deg, #B4B7B9 26.0%, transparent 26.0%);\n",
       "}\n",
       "#T_a013e_row0_col8, #T_a013e_row1_col8 {\n",
       "  width: 10em;\n",
       "  background: linear-gradient(90deg, transparent 45.5%, #B4B7B9 45.5%, #B4B7B9 50.0%, transparent 50.0%);\n",
       "}\n",
       "#T_a013e_row1_col7 {\n",
       "  width: 10em;\n",
       "  background: linear-gradient(90deg, #B4B7B9 1.0%, transparent 1.0%);\n",
       "}\n",
       "#T_a013e_row2_col7 {\n",
       "  width: 10em;\n",
       "  background: linear-gradient(90deg, #B4B7B9 43.0%, transparent 43.0%);\n",
       "}\n",
       "#T_a013e_row2_col8 {\n",
       "  width: 10em;\n",
       "  background: linear-gradient(90deg, transparent 50.0%, #B4B7B9 50.0%, #B4B7B9 76.5%, transparent 76.5%);\n",
       "}\n",
       "#T_a013e_row3_col7 {\n",
       "  width: 10em;\n",
       "  background: linear-gradient(90deg, #B4B7B9 44.0%, transparent 44.0%);\n",
       "}\n",
       "#T_a013e_row3_col8 {\n",
       "  width: 10em;\n",
       "  background: linear-gradient(90deg, transparent 50.0%, #B4B7B9 50.0%, #B4B7B9 77.2%, transparent 77.2%);\n",
       "}\n",
       "</style>\n",
       "<table id=\"T_a013e\">\n",
       "  <thead>\n",
       "    <tr>\n",
       "      <th class=\"blank level0\" >&nbsp;</th>\n",
       "      <th id=\"T_a013e_level0_col0\" class=\"col_heading level0 col0\" ># of Non-Nulls</th>\n",
       "      <th id=\"T_a013e_level0_col1\" class=\"col_heading level0 col1\" ># of Nulls</th>\n",
       "      <th id=\"T_a013e_level0_col2\" class=\"col_heading level0 col2\" >% Nulls</th>\n",
       "      <th id=\"T_a013e_level0_col3\" class=\"col_heading level0 col3\" ># of Zeros</th>\n",
       "      <th id=\"T_a013e_level0_col4\" class=\"col_heading level0 col4\" >% Zeros</th>\n",
       "      <th id=\"T_a013e_level0_col5\" class=\"col_heading level0 col5\" >Mean</th>\n",
       "      <th id=\"T_a013e_level0_col6\" class=\"col_heading level0 col6\" >St Dev.</th>\n",
       "      <th id=\"T_a013e_level0_col7\" class=\"col_heading level0 col7\" >Coef of Var</th>\n",
       "      <th id=\"T_a013e_level0_col8\" class=\"col_heading level0 col8\" >Skewness</th>\n",
       "      <th id=\"T_a013e_level0_col9\" class=\"col_heading level0 col9\" >Kurtosis</th>\n",
       "      <th id=\"T_a013e_level0_col10\" class=\"col_heading level0 col10\" >Min</th>\n",
       "      <th id=\"T_a013e_level0_col11\" class=\"col_heading level0 col11\" >10%</th>\n",
       "      <th id=\"T_a013e_level0_col12\" class=\"col_heading level0 col12\" >25%</th>\n",
       "      <th id=\"T_a013e_level0_col13\" class=\"col_heading level0 col13\" >50%</th>\n",
       "      <th id=\"T_a013e_level0_col14\" class=\"col_heading level0 col14\" >75%</th>\n",
       "      <th id=\"T_a013e_level0_col15\" class=\"col_heading level0 col15\" >90%</th>\n",
       "      <th id=\"T_a013e_level0_col16\" class=\"col_heading level0 col16\" >Max</th>\n",
       "    </tr>\n",
       "  </thead>\n",
       "  <tbody>\n",
       "    <tr>\n",
       "      <th id=\"T_a013e_level0_row0\" class=\"row_heading level0 row0\" >session</th>\n",
       "      <td id=\"T_a013e_row0_col0\" class=\"data row0 col0\" >7,507</td>\n",
       "      <td id=\"T_a013e_row0_col1\" class=\"data row0 col1\" >0</td>\n",
       "      <td id=\"T_a013e_row0_col2\" class=\"data row0 col2\" >0.0%</td>\n",
       "      <td id=\"T_a013e_row0_col3\" class=\"data row0 col3\" >0</td>\n",
       "      <td id=\"T_a013e_row0_col4\" class=\"data row0 col4\" >0.0%</td>\n",
       "      <td id=\"T_a013e_row0_col5\" class=\"data row0 col5\" >49.6</td>\n",
       "      <td id=\"T_a013e_row0_col6\" class=\"data row0 col6\" >12.9</td>\n",
       "      <td id=\"T_a013e_row0_col7\" class=\"data row0 col7\" >0.3</td>\n",
       "      <td id=\"T_a013e_row0_col8\" class=\"data row0 col8\" >-0.2</td>\n",
       "      <td id=\"T_a013e_row0_col9\" class=\"data row0 col9\" >-1.1</td>\n",
       "      <td id=\"T_a013e_row0_col10\" class=\"data row0 col10\" >25</td>\n",
       "      <td id=\"T_a013e_row0_col11\" class=\"data row0 col11\" >31.0</td>\n",
       "      <td id=\"T_a013e_row0_col12\" class=\"data row0 col12\" >39.0</td>\n",
       "      <td id=\"T_a013e_row0_col13\" class=\"data row0 col13\" >51.0</td>\n",
       "      <td id=\"T_a013e_row0_col14\" class=\"data row0 col14\" >61.0</td>\n",
       "      <td id=\"T_a013e_row0_col15\" class=\"data row0 col15\" >67.0</td>\n",
       "      <td id=\"T_a013e_row0_col16\" class=\"data row0 col16\" >70</td>\n",
       "    </tr>\n",
       "    <tr>\n",
       "      <th id=\"T_a013e_level0_row1\" class=\"row_heading level0 row1\" >year</th>\n",
       "      <td id=\"T_a013e_row1_col0\" class=\"data row1 col0\" >7,507</td>\n",
       "      <td id=\"T_a013e_row1_col1\" class=\"data row1 col1\" >0</td>\n",
       "      <td id=\"T_a013e_row1_col2\" class=\"data row1 col2\" >0.0%</td>\n",
       "      <td id=\"T_a013e_row1_col3\" class=\"data row1 col3\" >0</td>\n",
       "      <td id=\"T_a013e_row1_col4\" class=\"data row1 col4\" >0.0%</td>\n",
       "      <td id=\"T_a013e_row1_col5\" class=\"data row1 col5\" >1,994.6</td>\n",
       "      <td id=\"T_a013e_row1_col6\" class=\"data row1 col6\" >12.9</td>\n",
       "      <td id=\"T_a013e_row1_col7\" class=\"data row1 col7\" >0.0</td>\n",
       "      <td id=\"T_a013e_row1_col8\" class=\"data row1 col8\" >-0.2</td>\n",
       "      <td id=\"T_a013e_row1_col9\" class=\"data row1 col9\" >-1.1</td>\n",
       "      <td id=\"T_a013e_row1_col10\" class=\"data row1 col10\" >1,970</td>\n",
       "      <td id=\"T_a013e_row1_col11\" class=\"data row1 col11\" >1,976.0</td>\n",
       "      <td id=\"T_a013e_row1_col12\" class=\"data row1 col12\" >1,984.0</td>\n",
       "      <td id=\"T_a013e_row1_col13\" class=\"data row1 col13\" >1,996.0</td>\n",
       "      <td id=\"T_a013e_row1_col14\" class=\"data row1 col14\" >2,006.0</td>\n",
       "      <td id=\"T_a013e_row1_col15\" class=\"data row1 col15\" >2,012.0</td>\n",
       "      <td id=\"T_a013e_row1_col16\" class=\"data row1 col16\" >2,015</td>\n",
       "    </tr>\n",
       "    <tr>\n",
       "      <th id=\"T_a013e_level0_row2\" class=\"row_heading level0 row2\" >num_tokens</th>\n",
       "      <td id=\"T_a013e_row2_col0\" class=\"data row2 col0\" >7,507</td>\n",
       "      <td id=\"T_a013e_row2_col1\" class=\"data row2 col1\" >0</td>\n",
       "      <td id=\"T_a013e_row2_col2\" class=\"data row2 col2\" >0.0%</td>\n",
       "      <td id=\"T_a013e_row2_col3\" class=\"data row2 col3\" >0</td>\n",
       "      <td id=\"T_a013e_row2_col4\" class=\"data row2 col4\" >0.0%</td>\n",
       "      <td id=\"T_a013e_row2_col5\" class=\"data row2 col5\" >1,480.3</td>\n",
       "      <td id=\"T_a013e_row2_col6\" class=\"data row2 col6\" >635.2</td>\n",
       "      <td id=\"T_a013e_row2_col7\" class=\"data row2 col7\" >0.4</td>\n",
       "      <td id=\"T_a013e_row2_col8\" class=\"data row2 col8\" >1.1</td>\n",
       "      <td id=\"T_a013e_row2_col9\" class=\"data row2 col9\" >1.7</td>\n",
       "      <td id=\"T_a013e_row2_col10\" class=\"data row2 col10\" >187</td>\n",
       "      <td id=\"T_a013e_row2_col11\" class=\"data row2 col11\" >793.6</td>\n",
       "      <td id=\"T_a013e_row2_col12\" class=\"data row2 col12\" >1,005.5</td>\n",
       "      <td id=\"T_a013e_row2_col13\" class=\"data row2 col13\" >1,358.0</td>\n",
       "      <td id=\"T_a013e_row2_col14\" class=\"data row2 col14\" >1,848.0</td>\n",
       "      <td id=\"T_a013e_row2_col15\" class=\"data row2 col15\" >2,336.4</td>\n",
       "      <td id=\"T_a013e_row2_col16\" class=\"data row2 col16\" >5,688</td>\n",
       "    </tr>\n",
       "    <tr>\n",
       "      <th id=\"T_a013e_level0_row3\" class=\"row_heading level0 row3\" >text_length</th>\n",
       "      <td id=\"T_a013e_row3_col0\" class=\"data row3 col0\" >7,507</td>\n",
       "      <td id=\"T_a013e_row3_col1\" class=\"data row3 col1\" >0</td>\n",
       "      <td id=\"T_a013e_row3_col2\" class=\"data row3 col2\" >0.0%</td>\n",
       "      <td id=\"T_a013e_row3_col3\" class=\"data row3 col3\" >0</td>\n",
       "      <td id=\"T_a013e_row3_col4\" class=\"data row3 col4\" >0.0%</td>\n",
       "      <td id=\"T_a013e_row3_col5\" class=\"data row3 col5\" >17,967.3</td>\n",
       "      <td id=\"T_a013e_row3_col6\" class=\"data row3 col6\" >7,860.0</td>\n",
       "      <td id=\"T_a013e_row3_col7\" class=\"data row3 col7\" >0.4</td>\n",
       "      <td id=\"T_a013e_row3_col8\" class=\"data row3 col8\" >1.1</td>\n",
       "      <td id=\"T_a013e_row3_col9\" class=\"data row3 col9\" >1.8</td>\n",
       "      <td id=\"T_a013e_row3_col10\" class=\"data row3 col10\" >2,362</td>\n",
       "      <td id=\"T_a013e_row3_col11\" class=\"data row3 col11\" >9,553.8</td>\n",
       "      <td id=\"T_a013e_row3_col12\" class=\"data row3 col12\" >12,077.0</td>\n",
       "      <td id=\"T_a013e_row3_col13\" class=\"data row3 col13\" >16,424.0</td>\n",
       "      <td id=\"T_a013e_row3_col14\" class=\"data row3 col14\" >22,479.5</td>\n",
       "      <td id=\"T_a013e_row3_col15\" class=\"data row3 col15\" >28,658.2</td>\n",
       "      <td id=\"T_a013e_row3_col16\" class=\"data row3 col16\" >72,041</td>\n",
       "    </tr>\n",
       "  </tbody>\n",
       "</table>\n"
      ],
      "text/plain": [
       "<pandas.io.formats.style.Styler at 0x2cecc8970>"
      ]
     },
     "execution_count": 4,
     "metadata": {},
     "output_type": "execute_result"
    }
   ],
   "source": [
    "hlp.pandas.numeric_summary(df)"
   ]
  },
  {
   "cell_type": "code",
   "execution_count": 5,
   "id": "81c892b0",
   "metadata": {
    "pycharm": {
     "name": "#%%\n"
    },
    "scrolled": false
   },
   "outputs": [
    {
     "data": {
      "text/html": [
       "<style type=\"text/css\">\n",
       "#T_db860_row0_col2, #T_db860_row1_col2, #T_db860_row2_col2, #T_db860_row3_col2, #T_db860_row4_col2, #T_db860_row5_col2 {\n",
       "  width: 10em;\n",
       "}\n",
       "#T_db860_row0_col5, #T_db860_row1_col5 {\n",
       "  width: 10em;\n",
       "  background: linear-gradient(90deg, #B4B7B9 2.7%, transparent 2.7%);\n",
       "}\n",
       "#T_db860_row2_col5 {\n",
       "  width: 10em;\n",
       "  background: linear-gradient(90deg, #B4B7B9 72.3%, transparent 72.3%);\n",
       "}\n",
       "#T_db860_row3_col5 {\n",
       "  width: 10em;\n",
       "  background: linear-gradient(90deg, #B4B7B9 1.5%, transparent 1.5%);\n",
       "}\n",
       "#T_db860_row4_col5, #T_db860_row5_col5 {\n",
       "  width: 10em;\n",
       "  background: linear-gradient(90deg, #B4B7B9 100.0%, transparent 100.0%);\n",
       "}\n",
       "</style>\n",
       "<table id=\"T_db860\">\n",
       "  <thead>\n",
       "    <tr>\n",
       "      <th class=\"blank level0\" >&nbsp;</th>\n",
       "      <th id=\"T_db860_level0_col0\" class=\"col_heading level0 col0\" ># of Non-Nulls</th>\n",
       "      <th id=\"T_db860_level0_col1\" class=\"col_heading level0 col1\" ># of Nulls</th>\n",
       "      <th id=\"T_db860_level0_col2\" class=\"col_heading level0 col2\" >% Nulls</th>\n",
       "      <th id=\"T_db860_level0_col3\" class=\"col_heading level0 col3\" >Most Freq. Value</th>\n",
       "      <th id=\"T_db860_level0_col4\" class=\"col_heading level0 col4\" ># of Unique</th>\n",
       "      <th id=\"T_db860_level0_col5\" class=\"col_heading level0 col5\" >% Unique</th>\n",
       "    </tr>\n",
       "  </thead>\n",
       "  <tbody>\n",
       "    <tr>\n",
       "      <th id=\"T_db860_level0_row0\" class=\"row_heading level0 row0\" >country</th>\n",
       "      <td id=\"T_db860_row0_col0\" class=\"data row0 col0\" >7,507</td>\n",
       "      <td id=\"T_db860_row0_col1\" class=\"data row0 col1\" >0</td>\n",
       "      <td id=\"T_db860_row0_col2\" class=\"data row0 col2\" >0.0%</td>\n",
       "      <td id=\"T_db860_row0_col3\" class=\"data row0 col3\" >ALB</td>\n",
       "      <td id=\"T_db860_row0_col4\" class=\"data row0 col4\" >199</td>\n",
       "      <td id=\"T_db860_row0_col5\" class=\"data row0 col5\" >2.7%</td>\n",
       "    </tr>\n",
       "    <tr>\n",
       "      <th id=\"T_db860_level0_row1\" class=\"row_heading level0 row1\" >country_name</th>\n",
       "      <td id=\"T_db860_row1_col0\" class=\"data row1 col0\" >7,507</td>\n",
       "      <td id=\"T_db860_row1_col1\" class=\"data row1 col1\" >0</td>\n",
       "      <td id=\"T_db860_row1_col2\" class=\"data row1 col2\" >0.0%</td>\n",
       "      <td id=\"T_db860_row1_col3\" class=\"data row1 col3\" >Albania</td>\n",
       "      <td id=\"T_db860_row1_col4\" class=\"data row1 col4\" >199</td>\n",
       "      <td id=\"T_db860_row1_col5\" class=\"data row1 col5\" >2.7%</td>\n",
       "    </tr>\n",
       "    <tr>\n",
       "      <th id=\"T_db860_level0_row2\" class=\"row_heading level0 row2\" >speaker</th>\n",
       "      <td id=\"T_db860_row2_col0\" class=\"data row2 col0\" >7,507</td>\n",
       "      <td id=\"T_db860_row2_col1\" class=\"data row2 col1\" >0</td>\n",
       "      <td id=\"T_db860_row2_col2\" class=\"data row2 col2\" >0.0%</td>\n",
       "      <td id=\"T_db860_row2_col3\" class=\"data row2 col3\" >&lt;unknown&gt;</td>\n",
       "      <td id=\"T_db860_row2_col4\" class=\"data row2 col4\" >5,429</td>\n",
       "      <td id=\"T_db860_row2_col5\" class=\"data row2 col5\" >72.3%</td>\n",
       "    </tr>\n",
       "    <tr>\n",
       "      <th id=\"T_db860_level0_row3\" class=\"row_heading level0 row3\" >position</th>\n",
       "      <td id=\"T_db860_row3_col0\" class=\"data row3 col0\" >7,507</td>\n",
       "      <td id=\"T_db860_row3_col1\" class=\"data row3 col1\" >0</td>\n",
       "      <td id=\"T_db860_row3_col2\" class=\"data row3 col2\" >0.0%</td>\n",
       "      <td id=\"T_db860_row3_col3\" class=\"data row3 col3\" >&lt;unknown&gt;</td>\n",
       "      <td id=\"T_db860_row3_col4\" class=\"data row3 col4\" >114</td>\n",
       "      <td id=\"T_db860_row3_col5\" class=\"data row3 col5\" >1.5%</td>\n",
       "    </tr>\n",
       "    <tr>\n",
       "      <th id=\"T_db860_level0_row4\" class=\"row_heading level0 row4\" >text</th>\n",
       "      <td id=\"T_db860_row4_col0\" class=\"data row4 col0\" >7,507</td>\n",
       "      <td id=\"T_db860_row4_col1\" class=\"data row4 col1\" >0</td>\n",
       "      <td id=\"T_db860_row4_col2\" class=\"data row4 col2\" >0.0%</td>\n",
       "      <td id=\"T_db860_row4_col3\" class=\"data row4 col3\" >33: May I first convey to our [...]</td>\n",
       "      <td id=\"T_db860_row4_col4\" class=\"data row4 col4\" >7,507</td>\n",
       "      <td id=\"T_db860_row4_col5\" class=\"data row4 col5\" >100.0%</td>\n",
       "    </tr>\n",
       "    <tr>\n",
       "      <th id=\"T_db860_level0_row5\" class=\"row_heading level0 row5\" >tokens</th>\n",
       "      <td id=\"T_db860_row5_col0\" class=\"data row5 col0\" >7,507</td>\n",
       "      <td id=\"T_db860_row5_col1\" class=\"data row5 col1\" >0</td>\n",
       "      <td id=\"T_db860_row5_col2\" class=\"data row5 col2\" >0.0%</td>\n",
       "      <td id=\"T_db860_row5_col3\" class=\"data row5 col3\" >[&#x27;may&#x27;, &#x27;first&#x27;, &#x27;convey&#x27;, &#x27;pr[...]</td>\n",
       "      <td id=\"T_db860_row5_col4\" class=\"data row5 col4\" >7,507</td>\n",
       "      <td id=\"T_db860_row5_col5\" class=\"data row5 col5\" >100.0%</td>\n",
       "    </tr>\n",
       "  </tbody>\n",
       "</table>\n"
      ],
      "text/plain": [
       "<pandas.io.formats.style.Styler at 0x2cec3c8e0>"
      ]
     },
     "execution_count": 5,
     "metadata": {},
     "output_type": "execute_result"
    }
   ],
   "source": [
    "hlp.pandas.non_numeric_summary(df)"
   ]
  },
  {
   "cell_type": "markdown",
   "id": "a6c9fe64",
   "metadata": {},
   "source": [
    "---"
   ]
  },
  {
   "cell_type": "code",
   "execution_count": 6,
   "id": "1a5cd8ba",
   "metadata": {},
   "outputs": [
    {
     "data": {
      "text/plain": [
       "George W. Bush        4\n",
       "Mr. George W. Bush    2\n",
       "Bush                  1\n",
       "George Bush           1\n",
       "Mr. George W Bush     1\n",
       "Name: speaker, dtype: int64"
      ]
     },
     "execution_count": 6,
     "metadata": {},
     "output_type": "execute_result"
    }
   ],
   "source": [
    "df[df['speaker'].str.contains('Bush')]['speaker'].value_counts()"
   ]
  },
  {
   "cell_type": "markdown",
   "id": "39806fcc",
   "metadata": {},
   "source": [
    "---"
   ]
  },
  {
   "cell_type": "code",
   "execution_count": 7,
   "id": "98cc2235",
   "metadata": {},
   "outputs": [
    {
     "data": {
      "text/html": [
       "<div>\n",
       "<style scoped>\n",
       "    .dataframe tbody tr th:only-of-type {\n",
       "        vertical-align: middle;\n",
       "    }\n",
       "\n",
       "    .dataframe tbody tr th {\n",
       "        vertical-align: top;\n",
       "    }\n",
       "\n",
       "    .dataframe thead th {\n",
       "        text-align: right;\n",
       "    }\n",
       "</style>\n",
       "<table border=\"1\" class=\"dataframe\">\n",
       "  <thead>\n",
       "    <tr style=\"text-align: right;\">\n",
       "      <th></th>\n",
       "      <th>frequency</th>\n",
       "    </tr>\n",
       "    <tr>\n",
       "      <th>token</th>\n",
       "      <th></th>\n",
       "    </tr>\n",
       "  </thead>\n",
       "  <tbody>\n",
       "    <tr>\n",
       "      <th>nations</th>\n",
       "      <td>124508</td>\n",
       "    </tr>\n",
       "    <tr>\n",
       "      <th>united</th>\n",
       "      <td>120763</td>\n",
       "    </tr>\n",
       "    <tr>\n",
       "      <th>international</th>\n",
       "      <td>117223</td>\n",
       "    </tr>\n",
       "    <tr>\n",
       "      <th>world</th>\n",
       "      <td>89421</td>\n",
       "    </tr>\n",
       "    <tr>\n",
       "      <th>countries</th>\n",
       "      <td>85734</td>\n",
       "    </tr>\n",
       "    <tr>\n",
       "      <th>peace</th>\n",
       "      <td>72625</td>\n",
       "    </tr>\n",
       "    <tr>\n",
       "      <th>development</th>\n",
       "      <td>62632</td>\n",
       "    </tr>\n",
       "    <tr>\n",
       "      <th>states</th>\n",
       "      <td>59713</td>\n",
       "    </tr>\n",
       "    <tr>\n",
       "      <th>people</th>\n",
       "      <td>59338</td>\n",
       "    </tr>\n",
       "    <tr>\n",
       "      <th>security</th>\n",
       "      <td>58425</td>\n",
       "    </tr>\n",
       "    <tr>\n",
       "      <th>economic</th>\n",
       "      <td>53833</td>\n",
       "    </tr>\n",
       "    <tr>\n",
       "      <th>must</th>\n",
       "      <td>51880</td>\n",
       "    </tr>\n",
       "    <tr>\n",
       "      <th>also</th>\n",
       "      <td>47403</td>\n",
       "    </tr>\n",
       "    <tr>\n",
       "      <th>new</th>\n",
       "      <td>44453</td>\n",
       "    </tr>\n",
       "    <tr>\n",
       "      <th>country</th>\n",
       "      <td>40878</td>\n",
       "    </tr>\n",
       "    <tr>\n",
       "      <th>assembly</th>\n",
       "      <td>40413</td>\n",
       "    </tr>\n",
       "    <tr>\n",
       "      <th>community</th>\n",
       "      <td>38294</td>\n",
       "    </tr>\n",
       "    <tr>\n",
       "      <th>government</th>\n",
       "      <td>37430</td>\n",
       "    </tr>\n",
       "    <tr>\n",
       "      <th>general</th>\n",
       "      <td>37138</td>\n",
       "    </tr>\n",
       "    <tr>\n",
       "      <th>organization</th>\n",
       "      <td>36434</td>\n",
       "    </tr>\n",
       "  </tbody>\n",
       "</table>\n",
       "</div>"
      ],
      "text/plain": [
       "               frequency\n",
       "token                   \n",
       "nations           124508\n",
       "united            120763\n",
       "international     117223\n",
       "world              89421\n",
       "countries          85734\n",
       "peace              72625\n",
       "development        62632\n",
       "states             59713\n",
       "people             59338\n",
       "security           58425\n",
       "economic           53833\n",
       "must               51880\n",
       "also               47403\n",
       "new                44453\n",
       "country            40878\n",
       "assembly           40413\n",
       "community          38294\n",
       "government         37430\n",
       "general            37138\n",
       "organization       36434"
      ]
     },
     "execution_count": 7,
     "metadata": {},
     "output_type": "execute_result"
    }
   ],
   "source": [
    "count_tokens(df['tokens']).head(20)"
   ]
  },
  {
   "cell_type": "markdown",
   "id": "79304967",
   "metadata": {},
   "source": [
    "---"
   ]
  },
  {
   "cell_type": "code",
   "execution_count": 37,
   "id": "0951cab8",
   "metadata": {},
   "outputs": [
    {
     "data": {
      "image/png": "[encoded data removed]",
      "text/plain": [
       "<Figure size 648x72 with 1 Axes>"
      ]
     },
     "metadata": {
      "needs_background": "light"
     },
     "output_type": "display_data"
    }
   ],
   "source": [
    "df['text_length'].plot(kind='box', vert=False, figsize=(9, 1));"
   ]
  },
  {
   "cell_type": "code",
   "execution_count": 38,
   "id": "4cd55cc6",
   "metadata": {},
   "outputs": [
    {
     "data": {
      "image/png": "[encoded data removed]",
      "text/plain": [
       "<Figure size 648x144 with 1 Axes>"
      ]
     },
     "metadata": {
      "needs_background": "light"
     },
     "output_type": "display_data"
    }
   ],
   "source": [
    "df['text_length'].plot(kind='hist', bins=60, figsize=(9, 2));"
   ]
  },
  {
   "cell_type": "markdown",
   "id": "223fdbd3",
   "metadata": {},
   "source": [
    "---"
   ]
  },
  {
   "cell_type": "code",
   "execution_count": 29,
   "id": "174ccd0c",
   "metadata": {},
   "outputs": [
    {
     "data": {
      "image/png": "[encoded data removed]",
      "text/plain": [
       "<Figure size 360x360 with 1 Axes>"
      ]
     },
     "metadata": {
      "needs_background": "light"
     },
     "output_type": "display_data"
    }
   ],
   "source": [
    "import seaborn as sns\n",
    "\n",
    "#plt.figure(figsize=(9, 1))\n",
    "sns.displot(df['text_length'], bins=30, kde=True);"
   ]
  },
  {
   "cell_type": "code",
   "execution_count": 39,
   "id": "01f92ecf",
   "metadata": {},
   "outputs": [
    {
     "data": {
      "image/png": "[encoded data removed]",
      "text/plain": [
       "<Figure size 400x300 with 1 Axes>"
      ]
     },
     "metadata": {
      "needs_background": "light"
     },
     "output_type": "display_data"
    },
    {
     "data": {
      "image/png": "[encoded data removed]",
      "text/plain": [
       "<Figure size 400x300 with 1 Axes>"
      ]
     },
     "metadata": {
      "needs_background": "light"
     },
     "output_type": "display_data"
    }
   ],
   "source": [
    "where = df['country'].isin(['USA', 'FRA', 'GBR', 'CHN', 'RUS'])\n",
    "g = sns.catplot(data=df[where], x=\"country\", y=\"text_length\", kind='box')\n",
    "g.fig.set_size_inches(4, 3)\n",
    "g.fig.set_dpi(100)\n",
    "g = sns.catplot(data=df[where], x=\"country\", y=\"text_length\", kind='violin')\n",
    "g.fig.set_size_inches(4, 3)\n",
    "g.fig.set_dpi(100)"
   ]
  },
  {
   "cell_type": "code",
   "execution_count": 55,
   "id": "a2060791",
   "metadata": {},
   "outputs": [
    {
     "data": {
      "image/png": "[encoded data removed]",
      "text/plain": [
       "<Figure size 720x444.984 with 1 Axes>"
      ]
     },
     "metadata": {
      "needs_background": "light"
     },
     "output_type": "display_data"
    }
   ],
   "source": [
    "assert not df[['year', 'country']].duplicated().any()\n",
    "df.groupby('year').size().plot(title=\"Number of Countries\", figsize=hlp.plot.STANDARD_WIDTH_HEIGHT);"
   ]
  },
  {
   "cell_type": "code",
   "execution_count": 50,
   "id": "063a74b8",
   "metadata": {},
   "outputs": [
    {
     "data": {
      "image/png": "[encoded data removed]",
      "text/plain": [
       "<Figure size 720x444.984 with 1 Axes>"
      ]
     },
     "metadata": {
      "needs_background": "light"
     },
     "output_type": "display_data"
    }
   ],
   "source": [
    "df.groupby('year').agg({'text_length': 'mean'}) \\\n",
    "  .plot(title=\"Avg. Speech Length\", ylim=(0,30000), figsize=hlp.plot.STANDARD_WIDTH_HEIGHT);"
   ]
  },
  {
   "cell_type": "code",
   "execution_count": null,
   "id": "ff9c2fc8",
   "metadata": {},
   "outputs": [],
   "source": []
  },
  {
   "cell_type": "code",
   "execution_count": null,
   "id": "cb36ef18",
   "metadata": {},
   "outputs": [],
   "source": []
  },
  {
   "cell_type": "code",
   "execution_count": null,
   "id": "b43129ce",
   "metadata": {},
   "outputs": [],
   "source": []
  },
  {
   "cell_type": "code",
   "execution_count": null,
   "id": "de9a5a92",
   "metadata": {},
   "outputs": [],
   "source": []
  },
  {
   "cell_type": "code",
   "execution_count": null,
   "id": "d45210d9",
   "metadata": {},
   "outputs": [],
   "source": []
  },
  {
   "cell_type": "code",
   "execution_count": null,
   "id": "7d6e0ed0",
   "metadata": {},
   "outputs": [],
   "source": []
  },
  {
   "cell_type": "code",
   "execution_count": null,
   "id": "171517f6",
   "metadata": {},
   "outputs": [],
   "source": []
  },
  {
   "cell_type": "code",
   "execution_count": null,
   "id": "fdcd18bb",
   "metadata": {},
   "outputs": [],
   "source": []
  },
  {
   "cell_type": "code",
   "execution_count": null,
   "id": "42eb6a37",
   "metadata": {},
   "outputs": [],
   "source": []
  }
 ],
 "metadata": {
  "kernelspec": {
   "display_name": "Python 3 (ipykernel)",
   "language": "python",
   "name": "python3"
  },
  "language_info": {
   "codemirror_mode": {
    "name": "ipython",
    "version": 3
   },
   "file_extension": ".py",
   "mimetype": "text/x-python",
   "name": "python",
   "nbconvert_exporter": "python",
   "pygments_lexer": "ipython3",
   "version": "3.9.10"
  },
  "toc": {
   "base_numbering": 1,
   "nav_menu": {},
   "number_sections": false,
   "sideBar": true,
   "skip_h1_title": false,
   "title_cell": "Table of Contents",
   "title_sidebar": "Contents",
   "toc_cell": false,
   "toc_position": {
    "height": "calc(100% - 180px)",
    "left": "10px",
    "top": "150px",
    "width": "298px"
   },
   "toc_section_display": true,
   "toc_window_display": true
  }
 },
 "nbformat": 4,
 "nbformat_minor": 5
}
