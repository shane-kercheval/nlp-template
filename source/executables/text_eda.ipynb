{
 "cells": [
  {
   "cell_type": "markdown",
   "id": "564aa887",
   "metadata": {
    "pycharm": {
     "name": "#%% md\n"
    }
   },
   "source": [
    "# Citation\n",
    "\n",
    "Much of the code and examples are copied/modified from \n",
    "\n",
    "> Blueprints for Text Analytics Using Python by Jens Albrecht, Sidharth Ramachandran, and Christian Winkler (O'Reilly, 2021), 978-1-492-07408-3.\n",
    ">\n",
    "\n",
    "- https://github.com/blueprints-for-text-analytics-python/blueprints-text\n",
    "- https://github.com/blueprints-for-text-analytics-python/blueprints-text/blob/master/ch01/First_Insights.ipynb"
   ]
  },
  {
   "cell_type": "markdown",
   "id": "595daa98",
   "metadata": {},
   "source": [
    "---"
   ]
  },
  {
   "cell_type": "markdown",
   "id": "fc0bda8d",
   "metadata": {},
   "source": [
    "# Setup"
   ]
  },
  {
   "cell_type": "code",
   "execution_count": 1,
   "id": "ec01c1ce",
   "metadata": {
    "pycharm": {
     "name": "#%%\n"
    }
   },
   "outputs": [
    {
     "name": "stdout",
     "output_type": "stream",
     "text": [
      "/Users/shanekercheval/repos/nlp-template\n"
     ]
    }
   ],
   "source": [
    "%matplotlib inline\n",
    "\n",
    "import os\n",
    "from pathlib import Path\n",
    "import helpsk as hlp\n",
    "import numpy as np\n",
    "import pandas as pd\n",
    "\n",
    "from helpers.utilities import Timer, get_logger\n",
    "\n",
    "def get_project_directory():\n",
    "    return os.getcwd().replace('/source/executables', '')\n",
    "\n",
    "print(get_project_directory())"
   ]
  },
  {
   "cell_type": "markdown",
   "id": "8ef8cd1e",
   "metadata": {},
   "source": [
    "---"
   ]
  },
  {
   "cell_type": "markdown",
   "id": "f055efe1",
   "metadata": {},
   "source": [
    "# Exploratory Data Analysis\n",
    "\n",
    "This section provides a basic exploration of the text and dataset."
   ]
  },
  {
   "cell_type": "code",
   "execution_count": 2,
   "id": "624dedbc",
   "metadata": {},
   "outputs": [
    {
     "name": "stdout",
     "output_type": "stream",
     "text": [
      "Started: Loading Data\n",
      "Finished (1.00 seconds)\n"
     ]
    }
   ],
   "source": [
    "with Timer(\"Loading Data\"):\n",
    "    path = os.path.join(get_project_directory(), 'artifacts/data/processed/un-general-debates-blueprint.pkl')\n",
    "    un_debates = pd.read_pickle(path)"
   ]
  },
  {
   "cell_type": "markdown",
   "id": "8685c565",
   "metadata": {},
   "source": [
    "---"
   ]
  },
  {
   "cell_type": "code",
   "execution_count": 3,
   "id": "ebea0c53",
   "metadata": {
    "pycharm": {
     "name": "#%%\n"
    }
   },
   "outputs": [
    {
     "data": {
      "text/html": [
       "<style type=\"text/css\">\n",
       "#T_55441_row0_col2, #T_55441_row0_col4, #T_55441_row1_col2, #T_55441_row1_col4, #T_55441_row2_col2, #T_55441_row2_col4, #T_55441_row3_col2, #T_55441_row3_col4 {\n",
       "  width: 10em;\n",
       "}\n",
       "#T_55441_row0_col7 {\n",
       "  width: 10em;\n",
       "  background: linear-gradient(90deg, #B4B7B9 26.0%, transparent 26.0%);\n",
       "}\n",
       "#T_55441_row0_col8, #T_55441_row1_col8 {\n",
       "  width: 10em;\n",
       "  background: linear-gradient(90deg, transparent 45.5%, #B4B7B9 45.5%, #B4B7B9 50.0%, transparent 50.0%);\n",
       "}\n",
       "#T_55441_row1_col7 {\n",
       "  width: 10em;\n",
       "  background: linear-gradient(90deg, #B4B7B9 1.0%, transparent 1.0%);\n",
       "}\n",
       "#T_55441_row2_col7 {\n",
       "  width: 10em;\n",
       "  background: linear-gradient(90deg, #B4B7B9 43.0%, transparent 43.0%);\n",
       "}\n",
       "#T_55441_row2_col8 {\n",
       "  width: 10em;\n",
       "  background: linear-gradient(90deg, transparent 50.0%, #B4B7B9 50.0%, #B4B7B9 76.5%, transparent 76.5%);\n",
       "}\n",
       "#T_55441_row3_col7 {\n",
       "  width: 10em;\n",
       "  background: linear-gradient(90deg, #B4B7B9 44.0%, transparent 44.0%);\n",
       "}\n",
       "#T_55441_row3_col8 {\n",
       "  width: 10em;\n",
       "  background: linear-gradient(90deg, transparent 50.0%, #B4B7B9 50.0%, #B4B7B9 77.2%, transparent 77.2%);\n",
       "}\n",
       "</style>\n",
       "<table id=\"T_55441\">\n",
       "  <thead>\n",
       "    <tr>\n",
       "      <th class=\"blank level0\" >&nbsp;</th>\n",
       "      <th id=\"T_55441_level0_col0\" class=\"col_heading level0 col0\" ># of Non-Nulls</th>\n",
       "      <th id=\"T_55441_level0_col1\" class=\"col_heading level0 col1\" ># of Nulls</th>\n",
       "      <th id=\"T_55441_level0_col2\" class=\"col_heading level0 col2\" >% Nulls</th>\n",
       "      <th id=\"T_55441_level0_col3\" class=\"col_heading level0 col3\" ># of Zeros</th>\n",
       "      <th id=\"T_55441_level0_col4\" class=\"col_heading level0 col4\" >% Zeros</th>\n",
       "      <th id=\"T_55441_level0_col5\" class=\"col_heading level0 col5\" >Mean</th>\n",
       "      <th id=\"T_55441_level0_col6\" class=\"col_heading level0 col6\" >St Dev.</th>\n",
       "      <th id=\"T_55441_level0_col7\" class=\"col_heading level0 col7\" >Coef of Var</th>\n",
       "      <th id=\"T_55441_level0_col8\" class=\"col_heading level0 col8\" >Skewness</th>\n",
       "      <th id=\"T_55441_level0_col9\" class=\"col_heading level0 col9\" >Kurtosis</th>\n",
       "      <th id=\"T_55441_level0_col10\" class=\"col_heading level0 col10\" >Min</th>\n",
       "      <th id=\"T_55441_level0_col11\" class=\"col_heading level0 col11\" >10%</th>\n",
       "      <th id=\"T_55441_level0_col12\" class=\"col_heading level0 col12\" >25%</th>\n",
       "      <th id=\"T_55441_level0_col13\" class=\"col_heading level0 col13\" >50%</th>\n",
       "      <th id=\"T_55441_level0_col14\" class=\"col_heading level0 col14\" >75%</th>\n",
       "      <th id=\"T_55441_level0_col15\" class=\"col_heading level0 col15\" >90%</th>\n",
       "      <th id=\"T_55441_level0_col16\" class=\"col_heading level0 col16\" >Max</th>\n",
       "    </tr>\n",
       "  </thead>\n",
       "  <tbody>\n",
       "    <tr>\n",
       "      <th id=\"T_55441_level0_row0\" class=\"row_heading level0 row0\" >session</th>\n",
       "      <td id=\"T_55441_row0_col0\" class=\"data row0 col0\" >7,507</td>\n",
       "      <td id=\"T_55441_row0_col1\" class=\"data row0 col1\" >0</td>\n",
       "      <td id=\"T_55441_row0_col2\" class=\"data row0 col2\" >0.0%</td>\n",
       "      <td id=\"T_55441_row0_col3\" class=\"data row0 col3\" >0</td>\n",
       "      <td id=\"T_55441_row0_col4\" class=\"data row0 col4\" >0.0%</td>\n",
       "      <td id=\"T_55441_row0_col5\" class=\"data row0 col5\" >49.6</td>\n",
       "      <td id=\"T_55441_row0_col6\" class=\"data row0 col6\" >12.9</td>\n",
       "      <td id=\"T_55441_row0_col7\" class=\"data row0 col7\" >0.3</td>\n",
       "      <td id=\"T_55441_row0_col8\" class=\"data row0 col8\" >-0.2</td>\n",
       "      <td id=\"T_55441_row0_col9\" class=\"data row0 col9\" >-1.1</td>\n",
       "      <td id=\"T_55441_row0_col10\" class=\"data row0 col10\" >25</td>\n",
       "      <td id=\"T_55441_row0_col11\" class=\"data row0 col11\" >31.0</td>\n",
       "      <td id=\"T_55441_row0_col12\" class=\"data row0 col12\" >39.0</td>\n",
       "      <td id=\"T_55441_row0_col13\" class=\"data row0 col13\" >51.0</td>\n",
       "      <td id=\"T_55441_row0_col14\" class=\"data row0 col14\" >61.0</td>\n",
       "      <td id=\"T_55441_row0_col15\" class=\"data row0 col15\" >67.0</td>\n",
       "      <td id=\"T_55441_row0_col16\" class=\"data row0 col16\" >70</td>\n",
       "    </tr>\n",
       "    <tr>\n",
       "      <th id=\"T_55441_level0_row1\" class=\"row_heading level0 row1\" >year</th>\n",
       "      <td id=\"T_55441_row1_col0\" class=\"data row1 col0\" >7,507</td>\n",
       "      <td id=\"T_55441_row1_col1\" class=\"data row1 col1\" >0</td>\n",
       "      <td id=\"T_55441_row1_col2\" class=\"data row1 col2\" >0.0%</td>\n",
       "      <td id=\"T_55441_row1_col3\" class=\"data row1 col3\" >0</td>\n",
       "      <td id=\"T_55441_row1_col4\" class=\"data row1 col4\" >0.0%</td>\n",
       "      <td id=\"T_55441_row1_col5\" class=\"data row1 col5\" >1,994.6</td>\n",
       "      <td id=\"T_55441_row1_col6\" class=\"data row1 col6\" >12.9</td>\n",
       "      <td id=\"T_55441_row1_col7\" class=\"data row1 col7\" >0.0</td>\n",
       "      <td id=\"T_55441_row1_col8\" class=\"data row1 col8\" >-0.2</td>\n",
       "      <td id=\"T_55441_row1_col9\" class=\"data row1 col9\" >-1.1</td>\n",
       "      <td id=\"T_55441_row1_col10\" class=\"data row1 col10\" >1,970</td>\n",
       "      <td id=\"T_55441_row1_col11\" class=\"data row1 col11\" >1,976.0</td>\n",
       "      <td id=\"T_55441_row1_col12\" class=\"data row1 col12\" >1,984.0</td>\n",
       "      <td id=\"T_55441_row1_col13\" class=\"data row1 col13\" >1,996.0</td>\n",
       "      <td id=\"T_55441_row1_col14\" class=\"data row1 col14\" >2,006.0</td>\n",
       "      <td id=\"T_55441_row1_col15\" class=\"data row1 col15\" >2,012.0</td>\n",
       "      <td id=\"T_55441_row1_col16\" class=\"data row1 col16\" >2,015</td>\n",
       "    </tr>\n",
       "    <tr>\n",
       "      <th id=\"T_55441_level0_row2\" class=\"row_heading level0 row2\" >num_tokens</th>\n",
       "      <td id=\"T_55441_row2_col0\" class=\"data row2 col0\" >7,507</td>\n",
       "      <td id=\"T_55441_row2_col1\" class=\"data row2 col1\" >0</td>\n",
       "      <td id=\"T_55441_row2_col2\" class=\"data row2 col2\" >0.0%</td>\n",
       "      <td id=\"T_55441_row2_col3\" class=\"data row2 col3\" >0</td>\n",
       "      <td id=\"T_55441_row2_col4\" class=\"data row2 col4\" >0.0%</td>\n",
       "      <td id=\"T_55441_row2_col5\" class=\"data row2 col5\" >1,480.3</td>\n",
       "      <td id=\"T_55441_row2_col6\" class=\"data row2 col6\" >635.2</td>\n",
       "      <td id=\"T_55441_row2_col7\" class=\"data row2 col7\" >0.4</td>\n",
       "      <td id=\"T_55441_row2_col8\" class=\"data row2 col8\" >1.1</td>\n",
       "      <td id=\"T_55441_row2_col9\" class=\"data row2 col9\" >1.7</td>\n",
       "      <td id=\"T_55441_row2_col10\" class=\"data row2 col10\" >187</td>\n",
       "      <td id=\"T_55441_row2_col11\" class=\"data row2 col11\" >793.6</td>\n",
       "      <td id=\"T_55441_row2_col12\" class=\"data row2 col12\" >1,005.5</td>\n",
       "      <td id=\"T_55441_row2_col13\" class=\"data row2 col13\" >1,358.0</td>\n",
       "      <td id=\"T_55441_row2_col14\" class=\"data row2 col14\" >1,848.0</td>\n",
       "      <td id=\"T_55441_row2_col15\" class=\"data row2 col15\" >2,336.4</td>\n",
       "      <td id=\"T_55441_row2_col16\" class=\"data row2 col16\" >5,688</td>\n",
       "    </tr>\n",
       "    <tr>\n",
       "      <th id=\"T_55441_level0_row3\" class=\"row_heading level0 row3\" >text_length</th>\n",
       "      <td id=\"T_55441_row3_col0\" class=\"data row3 col0\" >7,507</td>\n",
       "      <td id=\"T_55441_row3_col1\" class=\"data row3 col1\" >0</td>\n",
       "      <td id=\"T_55441_row3_col2\" class=\"data row3 col2\" >0.0%</td>\n",
       "      <td id=\"T_55441_row3_col3\" class=\"data row3 col3\" >0</td>\n",
       "      <td id=\"T_55441_row3_col4\" class=\"data row3 col4\" >0.0%</td>\n",
       "      <td id=\"T_55441_row3_col5\" class=\"data row3 col5\" >17,967.3</td>\n",
       "      <td id=\"T_55441_row3_col6\" class=\"data row3 col6\" >7,860.0</td>\n",
       "      <td id=\"T_55441_row3_col7\" class=\"data row3 col7\" >0.4</td>\n",
       "      <td id=\"T_55441_row3_col8\" class=\"data row3 col8\" >1.1</td>\n",
       "      <td id=\"T_55441_row3_col9\" class=\"data row3 col9\" >1.8</td>\n",
       "      <td id=\"T_55441_row3_col10\" class=\"data row3 col10\" >2,362</td>\n",
       "      <td id=\"T_55441_row3_col11\" class=\"data row3 col11\" >9,553.8</td>\n",
       "      <td id=\"T_55441_row3_col12\" class=\"data row3 col12\" >12,077.0</td>\n",
       "      <td id=\"T_55441_row3_col13\" class=\"data row3 col13\" >16,424.0</td>\n",
       "      <td id=\"T_55441_row3_col14\" class=\"data row3 col14\" >22,479.5</td>\n",
       "      <td id=\"T_55441_row3_col15\" class=\"data row3 col15\" >28,658.2</td>\n",
       "      <td id=\"T_55441_row3_col16\" class=\"data row3 col16\" >72,041</td>\n",
       "    </tr>\n",
       "  </tbody>\n",
       "</table>\n"
      ],
      "text/plain": [
       "<pandas.io.formats.style.Styler at 0x107a85fd0>"
      ]
     },
     "execution_count": 3,
     "metadata": {},
     "output_type": "execute_result"
    }
   ],
   "source": [
    "hlp.pandas.numeric_summary(un_debates)"
   ]
  },
  {
   "cell_type": "code",
   "execution_count": 4,
   "id": "81c892b0",
   "metadata": {
    "pycharm": {
     "name": "#%%\n"
    },
    "scrolled": false
   },
   "outputs": [
    {
     "data": {
      "text/html": [
       "<style type=\"text/css\">\n",
       "#T_d94c5_row0_col2, #T_d94c5_row1_col2, #T_d94c5_row2_col2, #T_d94c5_row3_col2, #T_d94c5_row4_col2, #T_d94c5_row5_col2 {\n",
       "  width: 10em;\n",
       "}\n",
       "#T_d94c5_row0_col5, #T_d94c5_row1_col5 {\n",
       "  width: 10em;\n",
       "  background: linear-gradient(90deg, #B4B7B9 2.7%, transparent 2.7%);\n",
       "}\n",
       "#T_d94c5_row2_col5 {\n",
       "  width: 10em;\n",
       "  background: linear-gradient(90deg, #B4B7B9 72.3%, transparent 72.3%);\n",
       "}\n",
       "#T_d94c5_row3_col5 {\n",
       "  width: 10em;\n",
       "  background: linear-gradient(90deg, #B4B7B9 1.5%, transparent 1.5%);\n",
       "}\n",
       "#T_d94c5_row4_col5, #T_d94c5_row5_col5 {\n",
       "  width: 10em;\n",
       "  background: linear-gradient(90deg, #B4B7B9 100.0%, transparent 100.0%);\n",
       "}\n",
       "</style>\n",
       "<table id=\"T_d94c5\">\n",
       "  <thead>\n",
       "    <tr>\n",
       "      <th class=\"blank level0\" >&nbsp;</th>\n",
       "      <th id=\"T_d94c5_level0_col0\" class=\"col_heading level0 col0\" ># of Non-Nulls</th>\n",
       "      <th id=\"T_d94c5_level0_col1\" class=\"col_heading level0 col1\" ># of Nulls</th>\n",
       "      <th id=\"T_d94c5_level0_col2\" class=\"col_heading level0 col2\" >% Nulls</th>\n",
       "      <th id=\"T_d94c5_level0_col3\" class=\"col_heading level0 col3\" >Most Freq. Value</th>\n",
       "      <th id=\"T_d94c5_level0_col4\" class=\"col_heading level0 col4\" ># of Unique</th>\n",
       "      <th id=\"T_d94c5_level0_col5\" class=\"col_heading level0 col5\" >% Unique</th>\n",
       "    </tr>\n",
       "  </thead>\n",
       "  <tbody>\n",
       "    <tr>\n",
       "      <th id=\"T_d94c5_level0_row0\" class=\"row_heading level0 row0\" >country</th>\n",
       "      <td id=\"T_d94c5_row0_col0\" class=\"data row0 col0\" >7,507</td>\n",
       "      <td id=\"T_d94c5_row0_col1\" class=\"data row0 col1\" >0</td>\n",
       "      <td id=\"T_d94c5_row0_col2\" class=\"data row0 col2\" >0.0%</td>\n",
       "      <td id=\"T_d94c5_row0_col3\" class=\"data row0 col3\" >ALB</td>\n",
       "      <td id=\"T_d94c5_row0_col4\" class=\"data row0 col4\" >199</td>\n",
       "      <td id=\"T_d94c5_row0_col5\" class=\"data row0 col5\" >2.7%</td>\n",
       "    </tr>\n",
       "    <tr>\n",
       "      <th id=\"T_d94c5_level0_row1\" class=\"row_heading level0 row1\" >country_name</th>\n",
       "      <td id=\"T_d94c5_row1_col0\" class=\"data row1 col0\" >7,507</td>\n",
       "      <td id=\"T_d94c5_row1_col1\" class=\"data row1 col1\" >0</td>\n",
       "      <td id=\"T_d94c5_row1_col2\" class=\"data row1 col2\" >0.0%</td>\n",
       "      <td id=\"T_d94c5_row1_col3\" class=\"data row1 col3\" >Albania</td>\n",
       "      <td id=\"T_d94c5_row1_col4\" class=\"data row1 col4\" >199</td>\n",
       "      <td id=\"T_d94c5_row1_col5\" class=\"data row1 col5\" >2.7%</td>\n",
       "    </tr>\n",
       "    <tr>\n",
       "      <th id=\"T_d94c5_level0_row2\" class=\"row_heading level0 row2\" >speaker</th>\n",
       "      <td id=\"T_d94c5_row2_col0\" class=\"data row2 col0\" >7,507</td>\n",
       "      <td id=\"T_d94c5_row2_col1\" class=\"data row2 col1\" >0</td>\n",
       "      <td id=\"T_d94c5_row2_col2\" class=\"data row2 col2\" >0.0%</td>\n",
       "      <td id=\"T_d94c5_row2_col3\" class=\"data row2 col3\" >&lt;unknown&gt;</td>\n",
       "      <td id=\"T_d94c5_row2_col4\" class=\"data row2 col4\" >5,429</td>\n",
       "      <td id=\"T_d94c5_row2_col5\" class=\"data row2 col5\" >72.3%</td>\n",
       "    </tr>\n",
       "    <tr>\n",
       "      <th id=\"T_d94c5_level0_row3\" class=\"row_heading level0 row3\" >position</th>\n",
       "      <td id=\"T_d94c5_row3_col0\" class=\"data row3 col0\" >7,507</td>\n",
       "      <td id=\"T_d94c5_row3_col1\" class=\"data row3 col1\" >0</td>\n",
       "      <td id=\"T_d94c5_row3_col2\" class=\"data row3 col2\" >0.0%</td>\n",
       "      <td id=\"T_d94c5_row3_col3\" class=\"data row3 col3\" >&lt;unknown&gt;</td>\n",
       "      <td id=\"T_d94c5_row3_col4\" class=\"data row3 col4\" >114</td>\n",
       "      <td id=\"T_d94c5_row3_col5\" class=\"data row3 col5\" >1.5%</td>\n",
       "    </tr>\n",
       "    <tr>\n",
       "      <th id=\"T_d94c5_level0_row4\" class=\"row_heading level0 row4\" >text</th>\n",
       "      <td id=\"T_d94c5_row4_col0\" class=\"data row4 col0\" >7,507</td>\n",
       "      <td id=\"T_d94c5_row4_col1\" class=\"data row4 col1\" >0</td>\n",
       "      <td id=\"T_d94c5_row4_col2\" class=\"data row4 col2\" >0.0%</td>\n",
       "      <td id=\"T_d94c5_row4_col3\" class=\"data row4 col3\" >33: May I first convey to our [...]</td>\n",
       "      <td id=\"T_d94c5_row4_col4\" class=\"data row4 col4\" >7,507</td>\n",
       "      <td id=\"T_d94c5_row4_col5\" class=\"data row4 col5\" >100.0%</td>\n",
       "    </tr>\n",
       "    <tr>\n",
       "      <th id=\"T_d94c5_level0_row5\" class=\"row_heading level0 row5\" >tokens</th>\n",
       "      <td id=\"T_d94c5_row5_col0\" class=\"data row5 col0\" >7,507</td>\n",
       "      <td id=\"T_d94c5_row5_col1\" class=\"data row5 col1\" >0</td>\n",
       "      <td id=\"T_d94c5_row5_col2\" class=\"data row5 col2\" >0.0%</td>\n",
       "      <td id=\"T_d94c5_row5_col3\" class=\"data row5 col3\" >[&#x27;may&#x27;, &#x27;first&#x27;, &#x27;convey&#x27;, &#x27;pr[...]</td>\n",
       "      <td id=\"T_d94c5_row5_col4\" class=\"data row5 col4\" >7,507</td>\n",
       "      <td id=\"T_d94c5_row5_col5\" class=\"data row5 col5\" >100.0%</td>\n",
       "    </tr>\n",
       "  </tbody>\n",
       "</table>\n"
      ],
      "text/plain": [
       "<pandas.io.formats.style.Styler at 0x107a64af0>"
      ]
     },
     "execution_count": 4,
     "metadata": {},
     "output_type": "execute_result"
    }
   ],
   "source": [
    "hlp.pandas.non_numeric_summary(un_debates)"
   ]
  },
  {
   "cell_type": "markdown",
   "id": "004a3ed3",
   "metadata": {},
   "source": [
    "---"
   ]
  },
  {
   "cell_type": "code",
   "execution_count": null,
   "id": "2a818e66",
   "metadata": {},
   "outputs": [],
   "source": [
    "un_debates[un_debates['speaker'].str.contains('Bush')]['speaker'].value_counts()"
   ]
  },
  {
   "cell_type": "code",
   "execution_count": null,
   "id": "d7ab8993",
   "metadata": {},
   "outputs": [],
   "source": []
  },
  {
   "cell_type": "code",
   "execution_count": null,
   "id": "8517dbfc",
   "metadata": {},
   "outputs": [],
   "source": []
  },
  {
   "cell_type": "code",
   "execution_count": null,
   "id": "3b948a56",
   "metadata": {},
   "outputs": [],
   "source": []
  },
  {
   "cell_type": "code",
   "execution_count": null,
   "id": "0db055c0",
   "metadata": {},
   "outputs": [],
   "source": []
  }
 ],
 "metadata": {
  "kernelspec": {
   "display_name": "Python 3 (ipykernel)",
   "language": "python",
   "name": "python3"
  },
  "language_info": {
   "codemirror_mode": {
    "name": "ipython",
    "version": 3
   },
   "file_extension": ".py",
   "mimetype": "text/x-python",
   "name": "python",
   "nbconvert_exporter": "python",
   "pygments_lexer": "ipython3",
   "version": "3.9.10"
  },
  "toc": {
   "base_numbering": 1,
   "nav_menu": {},
   "number_sections": false,
   "sideBar": true,
   "skip_h1_title": false,
   "title_cell": "Table of Contents",
   "title_sidebar": "Contents",
   "toc_cell": false,
   "toc_position": {
    "height": "calc(100% - 180px)",
    "left": "10px",
    "top": "150px",
    "width": "298px"
   },
   "toc_section_display": true,
   "toc_window_display": true
  }
 },
 "nbformat": 4,
 "nbformat_minor": 5
}
