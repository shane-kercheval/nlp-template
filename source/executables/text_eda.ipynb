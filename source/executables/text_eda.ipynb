{
 "cells": [
  {
   "cell_type": "markdown",
   "id": "564aa887",
   "metadata": {
    "pycharm": {
     "name": "#%% md\n"
    }
   },
   "source": [
    "# Citation\n",
    "\n",
    "Much of the code and examples are copied/modified from \n",
    "\n",
    "> Blueprints for Text Analytics Using Python by Jens Albrecht, Sidharth Ramachandran, and Christian Winkler (O'Reilly, 2021), 978-1-492-07408-3.\n",
    ">\n",
    "\n",
    "- https://github.com/blueprints-for-text-analytics-python/blueprints-text\n",
    "- https://github.com/blueprints-for-text-analytics-python/blueprints-text/blob/master/ch01/First_Insights.ipynb"
   ]
  },
  {
   "cell_type": "markdown",
   "id": "43f83847",
   "metadata": {},
   "source": [
    "---"
   ]
  },
  {
   "cell_type": "markdown",
   "id": "6640db77",
   "metadata": {},
   "source": [
    "# Setup"
   ]
  },
  {
   "cell_type": "code",
   "execution_count": 2,
   "id": "ec01c1ce",
   "metadata": {
    "pycharm": {
     "name": "#%%\n"
    }
   },
   "outputs": [
    {
     "name": "stdout",
     "output_type": "stream",
     "text": [
      "/Users/shanekercheval/repos/nlp-template\n"
     ]
    }
   ],
   "source": [
    "%matplotlib inline\n",
    "\n",
    "import os\n",
    "from pathlib import Path\n",
    "import helpsk as hlp\n",
    "import numpy as np\n",
    "import pandas as pd\n",
    "\n",
    "from helpers.utilities import Timer, get_logger\n",
    "\n",
    "def get_project_directory():\n",
    "    return os.getcwd().replace('/source/executables', '')\n",
    "\n",
    "print(get_project_directory())"
   ]
  },
  {
   "cell_type": "markdown",
   "id": "30aacf1f",
   "metadata": {},
   "source": [
    "---"
   ]
  },
  {
   "cell_type": "markdown",
   "id": "f055efe1",
   "metadata": {},
   "source": [
    "# Exploratory Data Analysis\n",
    "\n",
    "This section provides a basic exploration of the text and dataset."
   ]
  },
  {
   "cell_type": "code",
   "execution_count": 7,
   "id": "624dedbc",
   "metadata": {},
   "outputs": [
    {
     "name": "stdout",
     "output_type": "stream",
     "text": [
      "Started: Loading Data\n",
      "Finished (0.45 seconds)\n"
     ]
    }
   ],
   "source": [
    "with Timer(\"Loading Data\"):\n",
    "    path = os.path.join(get_project_directory(), 'artifacts/data/processed/un-general-debates-blueprint.pkl')\n",
    "    un_debates = pd.read_pickle(path)"
   ]
  },
  {
   "cell_type": "markdown",
   "id": "b83da9f0",
   "metadata": {},
   "source": [
    "---"
   ]
  },
  {
   "cell_type": "code",
   "execution_count": 8,
   "id": "ebea0c53",
   "metadata": {
    "pycharm": {
     "name": "#%%\n"
    }
   },
   "outputs": [
    {
     "data": {
      "text/html": [
       "<style type=\"text/css\">\n",
       "#T_70932_row0_col2, #T_70932_row0_col4, #T_70932_row1_col2, #T_70932_row1_col4, #T_70932_row2_col2, #T_70932_row2_col4 {\n",
       "  width: 10em;\n",
       "}\n",
       "#T_70932_row0_col7 {\n",
       "  width: 10em;\n",
       "  background: linear-gradient(90deg, #B4B7B9 26.0%, transparent 26.0%);\n",
       "}\n",
       "#T_70932_row0_col8, #T_70932_row1_col8 {\n",
       "  width: 10em;\n",
       "  background: linear-gradient(90deg, transparent 45.5%, #B4B7B9 45.5%, #B4B7B9 50.0%, transparent 50.0%);\n",
       "}\n",
       "#T_70932_row1_col7 {\n",
       "  width: 10em;\n",
       "  background: linear-gradient(90deg, #B4B7B9 1.0%, transparent 1.0%);\n",
       "}\n",
       "#T_70932_row2_col7 {\n",
       "  width: 10em;\n",
       "  background: linear-gradient(90deg, #B4B7B9 44.0%, transparent 44.0%);\n",
       "}\n",
       "#T_70932_row2_col8 {\n",
       "  width: 10em;\n",
       "  background: linear-gradient(90deg, transparent 50.0%, #B4B7B9 50.0%, #B4B7B9 77.2%, transparent 77.2%);\n",
       "}\n",
       "</style>\n",
       "<table id=\"T_70932\">\n",
       "  <thead>\n",
       "    <tr>\n",
       "      <th class=\"blank level0\" >&nbsp;</th>\n",
       "      <th id=\"T_70932_level0_col0\" class=\"col_heading level0 col0\" ># of Non-Nulls</th>\n",
       "      <th id=\"T_70932_level0_col1\" class=\"col_heading level0 col1\" ># of Nulls</th>\n",
       "      <th id=\"T_70932_level0_col2\" class=\"col_heading level0 col2\" >% Nulls</th>\n",
       "      <th id=\"T_70932_level0_col3\" class=\"col_heading level0 col3\" ># of Zeros</th>\n",
       "      <th id=\"T_70932_level0_col4\" class=\"col_heading level0 col4\" >% Zeros</th>\n",
       "      <th id=\"T_70932_level0_col5\" class=\"col_heading level0 col5\" >Mean</th>\n",
       "      <th id=\"T_70932_level0_col6\" class=\"col_heading level0 col6\" >St Dev.</th>\n",
       "      <th id=\"T_70932_level0_col7\" class=\"col_heading level0 col7\" >Coef of Var</th>\n",
       "      <th id=\"T_70932_level0_col8\" class=\"col_heading level0 col8\" >Skewness</th>\n",
       "      <th id=\"T_70932_level0_col9\" class=\"col_heading level0 col9\" >Kurtosis</th>\n",
       "      <th id=\"T_70932_level0_col10\" class=\"col_heading level0 col10\" >Min</th>\n",
       "      <th id=\"T_70932_level0_col11\" class=\"col_heading level0 col11\" >10%</th>\n",
       "      <th id=\"T_70932_level0_col12\" class=\"col_heading level0 col12\" >25%</th>\n",
       "      <th id=\"T_70932_level0_col13\" class=\"col_heading level0 col13\" >50%</th>\n",
       "      <th id=\"T_70932_level0_col14\" class=\"col_heading level0 col14\" >75%</th>\n",
       "      <th id=\"T_70932_level0_col15\" class=\"col_heading level0 col15\" >90%</th>\n",
       "      <th id=\"T_70932_level0_col16\" class=\"col_heading level0 col16\" >Max</th>\n",
       "    </tr>\n",
       "  </thead>\n",
       "  <tbody>\n",
       "    <tr>\n",
       "      <th id=\"T_70932_level0_row0\" class=\"row_heading level0 row0\" >session</th>\n",
       "      <td id=\"T_70932_row0_col0\" class=\"data row0 col0\" >7,507</td>\n",
       "      <td id=\"T_70932_row0_col1\" class=\"data row0 col1\" >0</td>\n",
       "      <td id=\"T_70932_row0_col2\" class=\"data row0 col2\" >0.0%</td>\n",
       "      <td id=\"T_70932_row0_col3\" class=\"data row0 col3\" >0</td>\n",
       "      <td id=\"T_70932_row0_col4\" class=\"data row0 col4\" >0.0%</td>\n",
       "      <td id=\"T_70932_row0_col5\" class=\"data row0 col5\" >49.6</td>\n",
       "      <td id=\"T_70932_row0_col6\" class=\"data row0 col6\" >12.9</td>\n",
       "      <td id=\"T_70932_row0_col7\" class=\"data row0 col7\" >0.3</td>\n",
       "      <td id=\"T_70932_row0_col8\" class=\"data row0 col8\" >-0.2</td>\n",
       "      <td id=\"T_70932_row0_col9\" class=\"data row0 col9\" >-1.1</td>\n",
       "      <td id=\"T_70932_row0_col10\" class=\"data row0 col10\" >25</td>\n",
       "      <td id=\"T_70932_row0_col11\" class=\"data row0 col11\" >31.0</td>\n",
       "      <td id=\"T_70932_row0_col12\" class=\"data row0 col12\" >39.0</td>\n",
       "      <td id=\"T_70932_row0_col13\" class=\"data row0 col13\" >51.0</td>\n",
       "      <td id=\"T_70932_row0_col14\" class=\"data row0 col14\" >61.0</td>\n",
       "      <td id=\"T_70932_row0_col15\" class=\"data row0 col15\" >67.0</td>\n",
       "      <td id=\"T_70932_row0_col16\" class=\"data row0 col16\" >70</td>\n",
       "    </tr>\n",
       "    <tr>\n",
       "      <th id=\"T_70932_level0_row1\" class=\"row_heading level0 row1\" >year</th>\n",
       "      <td id=\"T_70932_row1_col0\" class=\"data row1 col0\" >7,507</td>\n",
       "      <td id=\"T_70932_row1_col1\" class=\"data row1 col1\" >0</td>\n",
       "      <td id=\"T_70932_row1_col2\" class=\"data row1 col2\" >0.0%</td>\n",
       "      <td id=\"T_70932_row1_col3\" class=\"data row1 col3\" >0</td>\n",
       "      <td id=\"T_70932_row1_col4\" class=\"data row1 col4\" >0.0%</td>\n",
       "      <td id=\"T_70932_row1_col5\" class=\"data row1 col5\" >1,994.6</td>\n",
       "      <td id=\"T_70932_row1_col6\" class=\"data row1 col6\" >12.9</td>\n",
       "      <td id=\"T_70932_row1_col7\" class=\"data row1 col7\" >0.0</td>\n",
       "      <td id=\"T_70932_row1_col8\" class=\"data row1 col8\" >-0.2</td>\n",
       "      <td id=\"T_70932_row1_col9\" class=\"data row1 col9\" >-1.1</td>\n",
       "      <td id=\"T_70932_row1_col10\" class=\"data row1 col10\" >1,970</td>\n",
       "      <td id=\"T_70932_row1_col11\" class=\"data row1 col11\" >1,976.0</td>\n",
       "      <td id=\"T_70932_row1_col12\" class=\"data row1 col12\" >1,984.0</td>\n",
       "      <td id=\"T_70932_row1_col13\" class=\"data row1 col13\" >1,996.0</td>\n",
       "      <td id=\"T_70932_row1_col14\" class=\"data row1 col14\" >2,006.0</td>\n",
       "      <td id=\"T_70932_row1_col15\" class=\"data row1 col15\" >2,012.0</td>\n",
       "      <td id=\"T_70932_row1_col16\" class=\"data row1 col16\" >2,015</td>\n",
       "    </tr>\n",
       "    <tr>\n",
       "      <th id=\"T_70932_level0_row2\" class=\"row_heading level0 row2\" >text_length</th>\n",
       "      <td id=\"T_70932_row2_col0\" class=\"data row2 col0\" >7,507</td>\n",
       "      <td id=\"T_70932_row2_col1\" class=\"data row2 col1\" >0</td>\n",
       "      <td id=\"T_70932_row2_col2\" class=\"data row2 col2\" >0.0%</td>\n",
       "      <td id=\"T_70932_row2_col3\" class=\"data row2 col3\" >0</td>\n",
       "      <td id=\"T_70932_row2_col4\" class=\"data row2 col4\" >0.0%</td>\n",
       "      <td id=\"T_70932_row2_col5\" class=\"data row2 col5\" >17,967.3</td>\n",
       "      <td id=\"T_70932_row2_col6\" class=\"data row2 col6\" >7,860.0</td>\n",
       "      <td id=\"T_70932_row2_col7\" class=\"data row2 col7\" >0.4</td>\n",
       "      <td id=\"T_70932_row2_col8\" class=\"data row2 col8\" >1.1</td>\n",
       "      <td id=\"T_70932_row2_col9\" class=\"data row2 col9\" >1.8</td>\n",
       "      <td id=\"T_70932_row2_col10\" class=\"data row2 col10\" >2,362</td>\n",
       "      <td id=\"T_70932_row2_col11\" class=\"data row2 col11\" >9,553.8</td>\n",
       "      <td id=\"T_70932_row2_col12\" class=\"data row2 col12\" >12,077.0</td>\n",
       "      <td id=\"T_70932_row2_col13\" class=\"data row2 col13\" >16,424.0</td>\n",
       "      <td id=\"T_70932_row2_col14\" class=\"data row2 col14\" >22,479.5</td>\n",
       "      <td id=\"T_70932_row2_col15\" class=\"data row2 col15\" >28,658.2</td>\n",
       "      <td id=\"T_70932_row2_col16\" class=\"data row2 col16\" >72,041</td>\n",
       "    </tr>\n",
       "  </tbody>\n",
       "</table>\n"
      ],
      "text/plain": [
       "<pandas.io.formats.style.Styler at 0x10a4b4700>"
      ]
     },
     "execution_count": 8,
     "metadata": {},
     "output_type": "execute_result"
    }
   ],
   "source": [
    "hlp.pandas.numeric_summary(un_debates)"
   ]
  },
  {
   "cell_type": "code",
   "execution_count": 9,
   "id": "81c892b0",
   "metadata": {
    "pycharm": {
     "name": "#%%\n"
    }
   },
   "outputs": [
    {
     "data": {
      "text/html": [
       "<style type=\"text/css\">\n",
       "#T_145f8_row0_col2, #T_145f8_row1_col2, #T_145f8_row2_col2, #T_145f8_row3_col2, #T_145f8_row4_col2 {\n",
       "  width: 10em;\n",
       "}\n",
       "#T_145f8_row0_col5, #T_145f8_row1_col5 {\n",
       "  width: 10em;\n",
       "  background: linear-gradient(90deg, #B4B7B9 2.7%, transparent 2.7%);\n",
       "}\n",
       "#T_145f8_row2_col5 {\n",
       "  width: 10em;\n",
       "  background: linear-gradient(90deg, #B4B7B9 72.3%, transparent 72.3%);\n",
       "}\n",
       "#T_145f8_row3_col5 {\n",
       "  width: 10em;\n",
       "  background: linear-gradient(90deg, #B4B7B9 1.5%, transparent 1.5%);\n",
       "}\n",
       "#T_145f8_row4_col5 {\n",
       "  width: 10em;\n",
       "  background: linear-gradient(90deg, #B4B7B9 100.0%, transparent 100.0%);\n",
       "}\n",
       "</style>\n",
       "<table id=\"T_145f8\">\n",
       "  <thead>\n",
       "    <tr>\n",
       "      <th class=\"blank level0\" >&nbsp;</th>\n",
       "      <th id=\"T_145f8_level0_col0\" class=\"col_heading level0 col0\" ># of Non-Nulls</th>\n",
       "      <th id=\"T_145f8_level0_col1\" class=\"col_heading level0 col1\" ># of Nulls</th>\n",
       "      <th id=\"T_145f8_level0_col2\" class=\"col_heading level0 col2\" >% Nulls</th>\n",
       "      <th id=\"T_145f8_level0_col3\" class=\"col_heading level0 col3\" >Most Freq. Value</th>\n",
       "      <th id=\"T_145f8_level0_col4\" class=\"col_heading level0 col4\" ># of Unique</th>\n",
       "      <th id=\"T_145f8_level0_col5\" class=\"col_heading level0 col5\" >% Unique</th>\n",
       "    </tr>\n",
       "  </thead>\n",
       "  <tbody>\n",
       "    <tr>\n",
       "      <th id=\"T_145f8_level0_row0\" class=\"row_heading level0 row0\" >country</th>\n",
       "      <td id=\"T_145f8_row0_col0\" class=\"data row0 col0\" >7,507</td>\n",
       "      <td id=\"T_145f8_row0_col1\" class=\"data row0 col1\" >0</td>\n",
       "      <td id=\"T_145f8_row0_col2\" class=\"data row0 col2\" >0.0%</td>\n",
       "      <td id=\"T_145f8_row0_col3\" class=\"data row0 col3\" >ALB</td>\n",
       "      <td id=\"T_145f8_row0_col4\" class=\"data row0 col4\" >199</td>\n",
       "      <td id=\"T_145f8_row0_col5\" class=\"data row0 col5\" >2.7%</td>\n",
       "    </tr>\n",
       "    <tr>\n",
       "      <th id=\"T_145f8_level0_row1\" class=\"row_heading level0 row1\" >country_name</th>\n",
       "      <td id=\"T_145f8_row1_col0\" class=\"data row1 col0\" >7,507</td>\n",
       "      <td id=\"T_145f8_row1_col1\" class=\"data row1 col1\" >0</td>\n",
       "      <td id=\"T_145f8_row1_col2\" class=\"data row1 col2\" >0.0%</td>\n",
       "      <td id=\"T_145f8_row1_col3\" class=\"data row1 col3\" >Albania</td>\n",
       "      <td id=\"T_145f8_row1_col4\" class=\"data row1 col4\" >199</td>\n",
       "      <td id=\"T_145f8_row1_col5\" class=\"data row1 col5\" >2.7%</td>\n",
       "    </tr>\n",
       "    <tr>\n",
       "      <th id=\"T_145f8_level0_row2\" class=\"row_heading level0 row2\" >speaker</th>\n",
       "      <td id=\"T_145f8_row2_col0\" class=\"data row2 col0\" >7,507</td>\n",
       "      <td id=\"T_145f8_row2_col1\" class=\"data row2 col1\" >0</td>\n",
       "      <td id=\"T_145f8_row2_col2\" class=\"data row2 col2\" >0.0%</td>\n",
       "      <td id=\"T_145f8_row2_col3\" class=\"data row2 col3\" >&lt;unknown&gt;</td>\n",
       "      <td id=\"T_145f8_row2_col4\" class=\"data row2 col4\" >5,429</td>\n",
       "      <td id=\"T_145f8_row2_col5\" class=\"data row2 col5\" >72.3%</td>\n",
       "    </tr>\n",
       "    <tr>\n",
       "      <th id=\"T_145f8_level0_row3\" class=\"row_heading level0 row3\" >position</th>\n",
       "      <td id=\"T_145f8_row3_col0\" class=\"data row3 col0\" >7,507</td>\n",
       "      <td id=\"T_145f8_row3_col1\" class=\"data row3 col1\" >0</td>\n",
       "      <td id=\"T_145f8_row3_col2\" class=\"data row3 col2\" >0.0%</td>\n",
       "      <td id=\"T_145f8_row3_col3\" class=\"data row3 col3\" >&lt;unknown&gt;</td>\n",
       "      <td id=\"T_145f8_row3_col4\" class=\"data row3 col4\" >114</td>\n",
       "      <td id=\"T_145f8_row3_col5\" class=\"data row3 col5\" >1.5%</td>\n",
       "    </tr>\n",
       "    <tr>\n",
       "      <th id=\"T_145f8_level0_row4\" class=\"row_heading level0 row4\" >text</th>\n",
       "      <td id=\"T_145f8_row4_col0\" class=\"data row4 col0\" >7,507</td>\n",
       "      <td id=\"T_145f8_row4_col1\" class=\"data row4 col1\" >0</td>\n",
       "      <td id=\"T_145f8_row4_col2\" class=\"data row4 col2\" >0.0%</td>\n",
       "      <td id=\"T_145f8_row4_col3\" class=\"data row4 col3\" >33: May I first convey to our [...]</td>\n",
       "      <td id=\"T_145f8_row4_col4\" class=\"data row4 col4\" >7,507</td>\n",
       "      <td id=\"T_145f8_row4_col5\" class=\"data row4 col5\" >100.0%</td>\n",
       "    </tr>\n",
       "  </tbody>\n",
       "</table>\n"
      ],
      "text/plain": [
       "<pandas.io.formats.style.Styler at 0x10a4bc130>"
      ]
     },
     "execution_count": 9,
     "metadata": {},
     "output_type": "execute_result"
    }
   ],
   "source": [
    "hlp.pandas.non_numeric_summary(un_debates)"
   ]
  },
  {
   "cell_type": "markdown",
   "id": "7f786938",
   "metadata": {},
   "source": [
    "---"
   ]
  },
  {
   "cell_type": "code",
   "execution_count": 10,
   "id": "8568f72c",
   "metadata": {},
   "outputs": [
    {
     "data": {
      "text/plain": [
       "George W. Bush        4\n",
       "Mr. George W. Bush    2\n",
       "Bush                  1\n",
       "George Bush           1\n",
       "Mr. George W Bush     1\n",
       "Name: speaker, dtype: int64"
      ]
     },
     "execution_count": 10,
     "metadata": {},
     "output_type": "execute_result"
    }
   ],
   "source": [
    "un_debates[un_debates['speaker'].str.contains('Bush')]['speaker'].value_counts()"
   ]
  },
  {
   "cell_type": "code",
   "execution_count": null,
   "id": "15fa1ad1",
   "metadata": {},
   "outputs": [],
   "source": []
  },
  {
   "cell_type": "code",
   "execution_count": null,
   "id": "ce6895c1",
   "metadata": {},
   "outputs": [],
   "source": []
  },
  {
   "cell_type": "code",
   "execution_count": null,
   "id": "d0e608c4",
   "metadata": {},
   "outputs": [],
   "source": []
  },
  {
   "cell_type": "code",
   "execution_count": 3,
   "id": "2afab18e",
   "metadata": {},
   "outputs": [],
   "source": [
    "import nltk\n"
   ]
  },
  {
   "cell_type": "code",
   "execution_count": 5,
   "id": "e37c2688",
   "metadata": {},
   "outputs": [
    {
     "data": {
      "text/plain": [
       "['i',\n",
       " 'me',\n",
       " 'my',\n",
       " 'myself',\n",
       " 'we',\n",
       " 'our',\n",
       " 'ours',\n",
       " 'ourselves',\n",
       " 'you',\n",
       " \"you're\",\n",
       " \"you've\",\n",
       " \"you'll\",\n",
       " \"you'd\",\n",
       " 'your',\n",
       " 'yours',\n",
       " 'yourself',\n",
       " 'yourselves',\n",
       " 'he',\n",
       " 'him',\n",
       " 'his',\n",
       " 'himself',\n",
       " 'she',\n",
       " \"she's\",\n",
       " 'her',\n",
       " 'hers',\n",
       " 'herself',\n",
       " 'it',\n",
       " \"it's\",\n",
       " 'its',\n",
       " 'itself',\n",
       " 'they',\n",
       " 'them',\n",
       " 'their',\n",
       " 'theirs',\n",
       " 'themselves',\n",
       " 'what',\n",
       " 'which',\n",
       " 'who',\n",
       " 'whom',\n",
       " 'this',\n",
       " 'that',\n",
       " \"that'll\",\n",
       " 'these',\n",
       " 'those',\n",
       " 'am',\n",
       " 'is',\n",
       " 'are',\n",
       " 'was',\n",
       " 'were',\n",
       " 'be',\n",
       " 'been',\n",
       " 'being',\n",
       " 'have',\n",
       " 'has',\n",
       " 'had',\n",
       " 'having',\n",
       " 'do',\n",
       " 'does',\n",
       " 'did',\n",
       " 'doing',\n",
       " 'a',\n",
       " 'an',\n",
       " 'the',\n",
       " 'and',\n",
       " 'but',\n",
       " 'if',\n",
       " 'or',\n",
       " 'because',\n",
       " 'as',\n",
       " 'until',\n",
       " 'while',\n",
       " 'of',\n",
       " 'at',\n",
       " 'by',\n",
       " 'for',\n",
       " 'with',\n",
       " 'about',\n",
       " 'against',\n",
       " 'between',\n",
       " 'into',\n",
       " 'through',\n",
       " 'during',\n",
       " 'before',\n",
       " 'after',\n",
       " 'above',\n",
       " 'below',\n",
       " 'to',\n",
       " 'from',\n",
       " 'up',\n",
       " 'down',\n",
       " 'in',\n",
       " 'out',\n",
       " 'on',\n",
       " 'off',\n",
       " 'over',\n",
       " 'under',\n",
       " 'again',\n",
       " 'further',\n",
       " 'then',\n",
       " 'once',\n",
       " 'here',\n",
       " 'there',\n",
       " 'when',\n",
       " 'where',\n",
       " 'why',\n",
       " 'how',\n",
       " 'all',\n",
       " 'any',\n",
       " 'both',\n",
       " 'each',\n",
       " 'few',\n",
       " 'more',\n",
       " 'most',\n",
       " 'other',\n",
       " 'some',\n",
       " 'such',\n",
       " 'no',\n",
       " 'nor',\n",
       " 'not',\n",
       " 'only',\n",
       " 'own',\n",
       " 'same',\n",
       " 'so',\n",
       " 'than',\n",
       " 'too',\n",
       " 'very',\n",
       " 's',\n",
       " 't',\n",
       " 'can',\n",
       " 'will',\n",
       " 'just',\n",
       " 'don',\n",
       " \"don't\",\n",
       " 'should',\n",
       " \"should've\",\n",
       " 'now',\n",
       " 'd',\n",
       " 'll',\n",
       " 'm',\n",
       " 'o',\n",
       " 're',\n",
       " 've',\n",
       " 'y',\n",
       " 'ain',\n",
       " 'aren',\n",
       " \"aren't\",\n",
       " 'couldn',\n",
       " \"couldn't\",\n",
       " 'didn',\n",
       " \"didn't\",\n",
       " 'doesn',\n",
       " \"doesn't\",\n",
       " 'hadn',\n",
       " \"hadn't\",\n",
       " 'hasn',\n",
       " \"hasn't\",\n",
       " 'haven',\n",
       " \"haven't\",\n",
       " 'isn',\n",
       " \"isn't\",\n",
       " 'ma',\n",
       " 'mightn',\n",
       " \"mightn't\",\n",
       " 'mustn',\n",
       " \"mustn't\",\n",
       " 'needn',\n",
       " \"needn't\",\n",
       " 'shan',\n",
       " \"shan't\",\n",
       " 'shouldn',\n",
       " \"shouldn't\",\n",
       " 'wasn',\n",
       " \"wasn't\",\n",
       " 'weren',\n",
       " \"weren't\",\n",
       " 'won',\n",
       " \"won't\",\n",
       " 'wouldn',\n",
       " \"wouldn't\"]"
      ]
     },
     "execution_count": 5,
     "metadata": {},
     "output_type": "execute_result"
    }
   ],
   "source": [
    "#nltk.download('stopwords')\n",
    "nltk.corpus.stopwords.words('english')"
   ]
  },
  {
   "cell_type": "code",
   "execution_count": null,
   "id": "dcbc3a45",
   "metadata": {},
   "outputs": [],
   "source": []
  }
 ],
 "metadata": {
  "kernelspec": {
   "display_name": "Python 3 (ipykernel)",
   "language": "python",
   "name": "python3"
  },
  "language_info": {
   "codemirror_mode": {
    "name": "ipython",
    "version": 3
   },
   "file_extension": ".py",
   "mimetype": "text/x-python",
   "name": "python",
   "nbconvert_exporter": "python",
   "pygments_lexer": "ipython3",
   "version": "3.9.10"
  },
  "toc": {
   "base_numbering": 1,
   "nav_menu": {},
   "number_sections": false,
   "sideBar": true,
   "skip_h1_title": false,
   "title_cell": "Table of Contents",
   "title_sidebar": "Contents",
   "toc_cell": false,
   "toc_position": {
    "height": "calc(100% - 180px)",
    "left": "10px",
    "top": "150px",
    "width": "298px"
   },
   "toc_section_display": true,
   "toc_window_display": true
  }
 },
 "nbformat": 4,
 "nbformat_minor": 5
}
