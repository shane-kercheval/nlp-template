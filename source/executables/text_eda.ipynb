{
 "cells": [
  {
   "cell_type": "markdown",
   "id": "564aa887",
   "metadata": {
    "pycharm": {
     "name": "#%% md\n"
    }
   },
   "source": [
    "# Citation\n",
    "\n",
    "Much of the code and examples are copied/modified from \n",
    "\n",
    "> Blueprints for Text Analytics Using Python by Jens Albrecht, Sidharth Ramachandran, and Christian Winkler (O'Reilly, 2021), 978-1-492-07408-3.\n",
    ">\n",
    "\n",
    "- https://github.com/blueprints-for-text-analytics-python/blueprints-text\n",
    "- https://github.com/blueprints-for-text-analytics-python/blueprints-text/blob/master/ch01/First_Insights.ipynb"
   ]
  },
  {
   "cell_type": "markdown",
   "id": "2a967948",
   "metadata": {},
   "source": [
    "---"
   ]
  },
  {
   "cell_type": "markdown",
   "id": "35ae0c59",
   "metadata": {},
   "source": [
    "# Setup"
   ]
  },
  {
   "cell_type": "code",
   "execution_count": null,
   "id": "ec01c1ce",
   "metadata": {
    "pycharm": {
     "name": "#%%\n"
    }
   },
   "outputs": [],
   "source": [
    "%run \"../config/notebook_settings.py\"\n",
    "\n",
    "from helpers.utilities import Timer, get_logger\n",
    "from helpers.text_processing import count_tokens, tf_idf\n",
    "\n",
    "def get_project_directory():\n",
    "    return os.getcwd().replace('/source/executables', '')\n",
    "\n",
    "print(get_project_directory())"
   ]
  },
  {
   "cell_type": "code",
   "execution_count": null,
   "id": "624dedbc",
   "metadata": {},
   "outputs": [],
   "source": [
    "with Timer(\"Loading Data\"):\n",
    "    path = os.path.join(get_project_directory(), 'artifacts/data/processed/un-general-debates-blueprint.pkl')\n",
    "    df = pd.read_pickle(path)"
   ]
  },
  {
   "cell_type": "markdown",
   "id": "71e4bfed",
   "metadata": {},
   "source": [
    "---"
   ]
  },
  {
   "cell_type": "markdown",
   "id": "f055efe1",
   "metadata": {},
   "source": [
    "# Exploratory Data Analysis\n",
    "\n",
    "This section provides a basic exploration of the text and dataset."
   ]
  },
  {
   "cell_type": "markdown",
   "id": "08db1a7f",
   "metadata": {},
   "source": [
    "## Dataset Summary"
   ]
  },
  {
   "cell_type": "code",
   "execution_count": null,
   "id": "ebea0c53",
   "metadata": {
    "pycharm": {
     "name": "#%%\n"
    }
   },
   "outputs": [],
   "source": [
    "hlp.pandas.numeric_summary(df)"
   ]
  },
  {
   "cell_type": "code",
   "execution_count": null,
   "id": "81c892b0",
   "metadata": {
    "pycharm": {
     "name": "#%%\n"
    },
    "scrolled": false
   },
   "outputs": [],
   "source": [
    "hlp.pandas.non_numeric_summary(df)"
   ]
  },
  {
   "cell_type": "markdown",
   "id": "a6c9fe64",
   "metadata": {},
   "source": [
    "---"
   ]
  },
  {
   "cell_type": "markdown",
   "id": "3042cf6f",
   "metadata": {},
   "source": [
    "## Explore Non-Text Columns"
   ]
  },
  {
   "cell_type": "markdown",
   "id": "bfea5123",
   "metadata": {},
   "source": [
    "Explore idiosyncrasies of various columns, e.g. same speaker represented multiple ways."
   ]
  },
  {
   "cell_type": "code",
   "execution_count": null,
   "id": "1a5cd8ba",
   "metadata": {},
   "outputs": [],
   "source": [
    "df[df['speaker'].str.contains('Bush')]['speaker'].value_counts()"
   ]
  },
  {
   "cell_type": "markdown",
   "id": "39806fcc",
   "metadata": {},
   "source": [
    "---"
   ]
  },
  {
   "cell_type": "markdown",
   "id": "59ddcf01",
   "metadata": {},
   "source": [
    "## Explore Text Column|"
   ]
  },
  {
   "cell_type": "markdown",
   "id": "ad589f46",
   "metadata": {},
   "source": [
    "### Top Words Used"
   ]
  },
  {
   "cell_type": "code",
   "execution_count": null,
   "id": "98cc2235",
   "metadata": {},
   "outputs": [],
   "source": [
    "count_tokens(df['tokens']).head(20)"
   ]
  },
  {
   "cell_type": "markdown",
   "id": "79304967",
   "metadata": {},
   "source": [
    "---"
   ]
  },
  {
   "cell_type": "markdown",
   "id": "470c14d1",
   "metadata": {},
   "source": [
    "### Distribution of Text Length"
   ]
  },
  {
   "cell_type": "code",
   "execution_count": null,
   "id": "0951cab8",
   "metadata": {},
   "outputs": [],
   "source": [
    "ax = df['text_length'].plot(kind='box', vert=False, figsize=(10, 1))\n",
    "ax.set_title(\"Distribution of Text Length\")\n",
    "ax.set_xlabel(\"# of Characters\")\n",
    "ax.set_yticklabels([])\n",
    "ax;"
   ]
  },
  {
   "cell_type": "code",
   "execution_count": null,
   "id": "fbdf39cd",
   "metadata": {},
   "outputs": [],
   "source": [
    "ax = df['text_length'].plot(kind='hist', bins=60, figsize=(10, 2));\n",
    "ax.set_title(\"Distribution of Text Length\")\n",
    "ax.set_xlabel(\"# of Characters\")\n",
    "ax;"
   ]
  },
  {
   "cell_type": "code",
   "execution_count": null,
   "id": "174ccd0c",
   "metadata": {},
   "outputs": [],
   "source": [
    "import seaborn as sns\n",
    "sns.displot(df['text_length'], bins=60, kde=True, height=3, aspect=3);"
   ]
  },
  {
   "cell_type": "code",
   "execution_count": null,
   "id": "01f92ecf",
   "metadata": {},
   "outputs": [],
   "source": [
    "where = df['country'].isin(['USA', 'FRA', 'GBR', 'CHN', 'RUS'])\n",
    "g = sns.catplot(data=df[where], x=\"country\", y=\"text_length\", kind='box')\n",
    "g.fig.set_size_inches(6, 3)\n",
    "g.fig.set_dpi(100)\n",
    "g = sns.catplot(data=df[where], x=\"country\", y=\"text_length\", kind='violin')\n",
    "g.fig.set_size_inches(6, 3)\n",
    "g.fig.set_dpi(100)"
   ]
  },
  {
   "cell_type": "code",
   "execution_count": null,
   "id": "a2060791",
   "metadata": {},
   "outputs": [],
   "source": [
    "assert not df[['year', 'country']].duplicated().any()\n",
    "df.groupby('year').size().plot(title=\"Number of Countries\");"
   ]
  },
  {
   "cell_type": "code",
   "execution_count": null,
   "id": "063a74b8",
   "metadata": {},
   "outputs": [],
   "source": [
    "df.groupby('year').agg({'text_length': 'mean'}) \\\n",
    "  .plot(title=\"Avg. Speech Length\", ylim=(0,30000));"
   ]
  },
  {
   "cell_type": "markdown",
   "id": "66fe5957",
   "metadata": {},
   "source": [
    "### Word Frequency"
   ]
  },
  {
   "cell_type": "code",
   "execution_count": null,
   "id": "9da159b0",
   "metadata": {},
   "outputs": [],
   "source": [
    "counts_df = count_tokens(df['tokens'])"
   ]
  },
  {
   "cell_type": "code",
   "execution_count": null,
   "id": "15d4b96e",
   "metadata": {},
   "outputs": [],
   "source": [
    "counts_df.head()"
   ]
  },
  {
   "cell_type": "code",
   "execution_count": null,
   "id": "ff9c2fc8",
   "metadata": {},
   "outputs": [],
   "source": [
    "def plot_wordcloud(frequency_dict):\n",
    "    wc = wordcloud.WordCloud(background_color='white',\n",
    "        #colormap='RdYlGn',\n",
    "        colormap='tab20b',\n",
    "        width=round(hlp.plot.STANDARD_WIDTH*100),\n",
    "        height=round(hlp.plot.STANDARD_HEIGHT*100),\n",
    "        max_words = 200, max_font_size=150,\n",
    "        random_state=42\n",
    "    )\n",
    "    wc.generate_from_frequencies(frequency_dict)\n",
    "\n",
    "    fig, ax = plt.subplots(figsize=(hlp.plot.STANDARD_WIDTH, hlp.plot.STANDARD_HEIGHT))\n",
    "    ax.imshow(wc, interpolation='bilinear')\n",
    "    #plt.title(\"XXX\")\n",
    "    plt.axis('off')"
   ]
  },
  {
   "cell_type": "code",
   "execution_count": null,
   "id": "8b24c489",
   "metadata": {},
   "outputs": [],
   "source": [
    "plot_wordcloud(counts_df.to_dict()['frequency']);"
   ]
  },
  {
   "cell_type": "markdown",
   "id": "5a89309e",
   "metadata": {},
   "source": [
    "### TF-IDF"
   ]
  },
  {
   "cell_type": "code",
   "execution_count": null,
   "id": "cb36ef18",
   "metadata": {},
   "outputs": [],
   "source": [
    "tf_idf_df = tf_idf(\n",
    "    df=df,\n",
    "    tokens_column='tokens',\n",
    "    segment_columns = None,\n",
    "    min_frequency_corpus=20,\n",
    "    min_frequency_document=20,\n",
    ")"
   ]
  },
  {
   "cell_type": "code",
   "execution_count": null,
   "id": "27f1836b",
   "metadata": {},
   "outputs": [],
   "source": [
    "ax = tf_idf_df.head(30)[['tf-idf']].plot(kind='barh', width=0.99)\n",
    "ax.invert_yaxis();"
   ]
  },
  {
   "cell_type": "code",
   "execution_count": null,
   "id": "de9a5a92",
   "metadata": {},
   "outputs": [],
   "source": [
    "plot_wordcloud(tf_idf_df.to_dict()['tf-idf']);"
   ]
  },
  {
   "cell_type": "markdown",
   "id": "1a21605b",
   "metadata": {},
   "source": [
    "#### Per Year - 1970"
   ]
  },
  {
   "cell_type": "code",
   "execution_count": null,
   "id": "7d6e0ed0",
   "metadata": {},
   "outputs": [],
   "source": [
    "tf_idf_per_year = tf_idf(\n",
    "    df=df,\n",
    "    tokens_column='tokens',\n",
    "    segment_columns = 'year',\n",
    "    min_frequency_corpus=10,\n",
    "    min_frequency_document=10,\n",
    ")"
   ]
  },
  {
   "cell_type": "code",
   "execution_count": null,
   "id": "be3e08ce",
   "metadata": {},
   "outputs": [],
   "source": [
    "stop_words = ['twenty-fifth', 'twenty-five', 'twenty', 'fifth']\n",
    "tokens_to_show = tf_idf_per_year.query('year == 1970').reset_index()\n",
    "tokens_to_show = tokens_to_show[~tokens_to_show.token.isin(stop_words)]"
   ]
  },
  {
   "cell_type": "code",
   "execution_count": null,
   "id": "5c8f58de",
   "metadata": {},
   "outputs": [],
   "source": [
    "ax = tokens_to_show.head(30).set_index('token')[['tf-idf']].plot(kind='barh', width=0.99)\n",
    "ax.invert_yaxis();"
   ]
  },
  {
   "cell_type": "code",
   "execution_count": null,
   "id": "7e942f45",
   "metadata": {},
   "outputs": [],
   "source": [
    "tokens_to_show = tokens_to_show[['token', 'tf-idf']].set_index('token')\n",
    "tokens_to_show = tokens_to_show.to_dict()['tf-idf']"
   ]
  },
  {
   "cell_type": "code",
   "execution_count": null,
   "id": "171517f6",
   "metadata": {},
   "outputs": [],
   "source": [
    "plot_wordcloud(tokens_to_show);"
   ]
  },
  {
   "cell_type": "markdown",
   "id": "89aad948",
   "metadata": {},
   "source": [
    "#### Per Year - 2015"
   ]
  },
  {
   "cell_type": "code",
   "execution_count": null,
   "id": "42eb6a37",
   "metadata": {},
   "outputs": [],
   "source": [
    "stop_words = ['seventieth']\n",
    "tokens_to_show = tf_idf_per_year.query('year == 2015').reset_index()\n",
    "tokens_to_show = tokens_to_show[~tokens_to_show.token.isin(stop_words)]"
   ]
  },
  {
   "cell_type": "code",
   "execution_count": null,
   "id": "28d5a87b",
   "metadata": {},
   "outputs": [],
   "source": [
    "ax = tokens_to_show.head(30).set_index('token')[['tf-idf']].plot(kind='barh', width=0.99)\n",
    "ax.invert_yaxis();"
   ]
  },
  {
   "cell_type": "code",
   "execution_count": null,
   "id": "ea00ef6d",
   "metadata": {},
   "outputs": [],
   "source": [
    "tokens_to_show = tokens_to_show[['token', 'tf-idf']].set_index('token')\n",
    "tokens_to_show = tokens_to_show.to_dict()['tf-idf']"
   ]
  },
  {
   "cell_type": "code",
   "execution_count": null,
   "id": "efc71b61",
   "metadata": {},
   "outputs": [],
   "source": [
    "plot_wordcloud(tokens_to_show);"
   ]
  },
  {
   "cell_type": "code",
   "execution_count": null,
   "id": "fab10f76",
   "metadata": {},
   "outputs": [],
   "source": []
  }
 ],
 "metadata": {
  "kernelspec": {
   "display_name": "Python 3 (ipykernel)",
   "language": "python",
   "name": "python3"
  },
  "language_info": {
   "codemirror_mode": {
    "name": "ipython",
    "version": 3
   },
   "file_extension": ".py",
   "mimetype": "text/x-python",
   "name": "python",
   "nbconvert_exporter": "python",
   "pygments_lexer": "ipython3",
   "version": "3.9.10"
  },
  "toc": {
   "base_numbering": 1,
   "nav_menu": {},
   "number_sections": false,
   "sideBar": true,
   "skip_h1_title": false,
   "title_cell": "Table of Contents",
   "title_sidebar": "Contents",
   "toc_cell": false,
   "toc_position": {
    "height": "calc(100% - 180px)",
    "left": "10px",
    "top": "150px",
    "width": "194px"
   },
   "toc_section_display": true,
   "toc_window_display": true
  }
 },
 "nbformat": 4,
 "nbformat_minor": 5
}
